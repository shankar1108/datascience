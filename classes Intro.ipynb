{
  "cells": [
    {
      "cell_type": "code",
      "execution_count": null,
      "id": "34184d97",
      "metadata": {
        "id": "34184d97"
      },
      "outputs": [],
      "source": [
        "# data types, operators, loops, collections, strings, conditions\n",
        "# functions"
      ]
    },
    {
      "cell_type": "code",
      "execution_count": null,
      "id": "f65d57ea",
      "metadata": {
        "id": "f65d57ea"
      },
      "outputs": [],
      "source": [
        "# paradigms -> way of writing the code\n",
        "# procedural programming\n",
        "# functional programming\n",
        "# Object oriented programming structure"
      ]
    },
    {
      "cell_type": "markdown",
      "source": [],
      "metadata": {
        "id": "Fs337irvmV7i"
      },
      "id": "Fs337irvmV7i"
    },
    {
      "cell_type": "code",
      "execution_count": null,
      "id": "db4b0459",
      "metadata": {
        "id": "db4b0459",
        "outputId": "1a6811f5-fb58-4ca4-f641-c2fd1fefd9d3"
      },
      "outputs": [
        {
          "name": "stdout",
          "output_type": "stream",
          "text": [
            "Enter the username: ajai\n",
            "Enter the password: 2345\n",
            "Invalid username or password\n",
            "Enter the username: aryan\n",
            "Enter the password: 1234\n",
            "Invalid username or password\n"
          ]
        }
      ],
      "source": [
        "# procedural programming -> step by step\n",
        "\n",
        "username = input('Enter the username: ')\n",
        "password = input('Enter the password: ')\n",
        "\n",
        "# API -> Application Programming Interface\n",
        "original_username = 'shipra'\n",
        "original_password = '1234'\n",
        "\n",
        "# login\n",
        "if(username == original_username and password == original_password):\n",
        "    print('Welcome to Shaish')\n",
        "else:\n",
        "    print('Invalid username or password')\n",
        "\n",
        "# lines of code\n",
        "\n",
        "username = input('Enter the username: ')\n",
        "password = input('Enter the password: ')\n",
        "\n",
        "# API -> Application Programming Interface\n",
        "original_username = 'shipra'\n",
        "original_password = '1234'\n",
        "\n",
        "# login\n",
        "if(username == original_username and password == original_password):\n",
        "    print('Welcome to Intellipaat')\n",
        "else:\n",
        "    print('Invalid username or password')\n"
      ]
    },
    {
      "cell_type": "code",
      "execution_count": null,
      "id": "70d40cb9",
      "metadata": {
        "id": "70d40cb9",
        "outputId": "a0469e8b-838b-4664-96cc-163ce4878756"
      },
      "outputs": [
        {
          "name": "stdout",
          "output_type": "stream",
          "text": [
            "Enter the username: shipra\n",
            "Enter the password: 123\n",
            "False\n"
          ]
        }
      ],
      "source": [
        "# functional programming\n",
        "'''In functional programming, the program is divided into functions, each performing a specific task'''\n",
        "def validate(username, password):\n",
        "    # API -> Application Programming Interface\n",
        "    original_username = 'shipra'\n",
        "    original_password = '1234'\n",
        "\n",
        "    # login\n",
        "    if(username == original_username and password == original_password):\n",
        "        return True\n",
        "    return False\n",
        "\n",
        "def get_user_input():\n",
        "    username = input('Enter the username: ')\n",
        "    password = input('Enter the password: ')\n",
        "    is_valid = validate(username, password)\n",
        "    return is_valid\n",
        "\n",
        "for i in range(1):\n",
        "    print(get_user_input())"
      ]
    },
    {
      "cell_type": "code",
      "execution_count": null,
      "id": "c68d77fc",
      "metadata": {
        "id": "c68d77fc",
        "outputId": "369eab5c-e003-496d-cc5f-aaaa45d9fe03"
      },
      "outputs": [
        {
          "name": "stdout",
          "output_type": "stream",
          "text": [
            "charger 5000 1 5000\n"
          ]
        }
      ],
      "source": [
        "# Object Oriented Programming?\n",
        "# shopping cart (checkout)\n",
        "item = 'Iphone14'\n",
        "item_price = 70000\n",
        "item_quantity = 2\n",
        "item_total_price = item_price * item_quantity\n",
        "\n",
        "# print(item, item_price, item_quantity, item_total_price)\n",
        "\n",
        "item2 = 'charger'\n",
        "item2_price = 5000\n",
        "item2_quantity = 1\n",
        "item2_total_price = item2_price * item2_quantity\n",
        "print(item2, item2_price, item2_quantity, item2_total_price)"
      ]
    },
    {
      "cell_type": "code",
      "execution_count": null,
      "id": "a00e546d",
      "metadata": {
        "id": "a00e546d",
        "colab": {
          "base_uri": "https://localhost:8080/"
        },
        "outputId": "5e3934ca-bdaa-472f-8f31-e9fd12ba1c53"
      },
      "outputs": [
        {
          "output_type": "stream",
          "name": "stdout",
          "text": [
            "vasanth 10 male\n",
            "eating\n",
            "singing\n"
          ]
        }
      ],
      "source": [
        "# OOPs -> Object Oriented Programming structure\n",
        "# class -> blueprint(tell how the object is gonna look like and behave)\n",
        "# object -> instance(real time example)\n",
        "# attribute / property -> variables written in a class\n",
        "# behaviour / method -> functions written in a class\n",
        "\n",
        "class Human:\n",
        "    name = 'vasanth' # attribute / property\n",
        "    age = 10\n",
        "    gender = 'male'\n",
        "\n",
        "    def eat(): # behaviour / method\n",
        "        print('eating')\n",
        "\n",
        "    def sing():\n",
        "        print('singing')\n",
        "a=Human()\n",
        "print(a.name, a.age, a.gender)\n",
        "a.eat()\n",
        "a.sing()"
      ]
    },
    {
      "cell_type": "markdown",
      "source": [
        "The self ![Encapsulation-in-Python-1.webp](data:image/webp;base64,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) in Python is used within a class to refer to the instance of the class. It allows you to access the attributes and methods of the class in Python\n",
        "\n",
        " It allows you to access and modify the attributes and methods of the class instance.\n",
        "\n",
        " First Parameter: It must be the first parameter of any method in the class, including the __init__ method (the constructor)\n",
        "\n",
        "  While self is not a keyword in Python, it is a strong convention. You can technically use any name instead of self, but it is highly discouraged and would make your code less readable.\n"
      ],
      "metadata": {
        "id": "UORY75OUsWYk"
      },
      "id": "UORY75OUsWYk"
    },
    {
      "cell_type": "code",
      "execution_count": null,
      "id": "ed5acedc",
      "metadata": {
        "id": "ed5acedc",
        "outputId": "dcb757f7-a9a5-4865-c948-b78e98d33e4d",
        "colab": {
          "base_uri": "https://localhost:8080/"
        }
      },
      "outputs": [
        {
          "output_type": "stream",
          "name": "stdout",
          "text": [
            "phone <__main__.Item object at 0x7fe2f662efe0> <class '__main__.Item'>\n",
            "{'name': 'Iphone14', 'price': 70000, 'quantity': 2}\n",
            "140000\n",
            "{'name': 'Charger', 'price': 5000, 'quantity': 2}\n",
            "10000\n"
          ]
        }
      ],
      "source": [
        "class Item:\n",
        "    def calculate_total_price(self):\n",
        "#         print('self ', self, type(self))\n",
        "#         print(self.__dict__)\n",
        "          return self.price * self.quantity\n",
        "\n",
        "phone = Item() #object1\n",
        "# print('phone', phone, type(phone))\n",
        "phone.name = 'Iphone14'\n",
        "phone.price = 70000\n",
        "phone.quantity = 2\n",
        "\n",
        "# dunder method (double underscore)\n",
        "# print(phone.__dict__)\n",
        "# print(phone.name, phone.price, phone.quantity)\n",
        "\n",
        "# whenever a method is called, the calling object itself is passed as a first parameter by default\n",
        "total_price = phone.calculate_total_price()\n",
        "print(total_price)\n",
        "\n",
        "charger = Item() #Object2\n",
        "charger.name = 'Charger'\n",
        "charger.price = 5000\n",
        "charger.quantity = 2\n",
        "\n",
        "# print(charger.__dict__)\n",
        "print(charger.calculate_total_price())\n"
      ]
    },
    {
      "cell_type": "code",
      "execution_count": null,
      "id": "5e7edf6b",
      "metadata": {
        "id": "5e7edf6b",
        "outputId": "43f5c1f8-c7c9-4495-f8a3-ccae8ef44791",
        "colab": {
          "base_uri": "https://localhost:8080/"
        }
      },
      "outputs": [
        {
          "output_type": "stream",
          "name": "stdout",
          "text": [
            "<class 'int'> <class 'str'> 10 10\n"
          ]
        }
      ],
      "source": [
        "num = int(\"10\")\n",
        "num1 = int(10)\n",
        "name = str('vasabth')\n",
        "print(type(num), type(name), num, num1)"
      ]
    },
    {
      "cell_type": "code",
      "execution_count": null,
      "id": "4b587d04",
      "metadata": {
        "id": "4b587d04",
        "outputId": "98268b20-99e5-46f3-97cf-0eb78e7ff12c",
        "colab": {
          "base_uri": "https://localhost:8080/"
        }
      },
      "outputs": [
        {
          "output_type": "stream",
          "name": "stdout",
          "text": [
            "True\n",
            "True\n"
          ]
        }
      ],
      "source": [
        "#dunder method\n",
        "num = 10\n",
        "print(num >= 10)\n",
        "print(num.__ge__(10))"
      ]
    },
    {
      "cell_type": "code",
      "execution_count": null,
      "id": "58dfed83",
      "metadata": {
        "id": "58dfed83"
      },
      "outputs": [],
      "source": [
        "# constructor -> is a place where memory is created and it is called automatically\n",
        "# whenever an object is created\n",
        "\n",
        "class Item:\n",
        "\n",
        "    def __init__(self, name, price, quantity): # initialise -> constructor\n",
        "        #print('constructor', self)\n",
        "        self.name = name\n",
        "        self.price = price\n",
        "        self.quantity = quantity\n",
        "        #print(self.__dict__)\n",
        "\n",
        "    def calculate_total_price(self):\n",
        "        return self.price * self.quantity\n",
        "\n",
        "phone = Item('Iphone14', 70000, 1)\n",
        "\n",
        "#charger = Item('charger', 5000, 1)\n",
        "#tomato = Item('tomato', 20, 1)"
      ]
    },
    {
      "cell_type": "markdown",
      "source": [
        "The assert statement in Python is used as a debugging aid that tests a condition as an expression. If the condition evaluates to True, the program continues to execute. If the condition evaluates to False, the program stops executing and raises an AssertionError with an optional error message."
      ],
      "metadata": {
        "id": "vdClcboF4YdJ"
      },
      "id": "vdClcboF4YdJ"
    },
    {
      "cell_type": "code",
      "execution_count": null,
      "id": "e1657358",
      "metadata": {
        "id": "e1657358",
        "outputId": "edb7aee4-817b-4e17-ec8a-62a9bb21ee27"
      },
      "outputs": [
        {
          "name": "stdout",
          "output_type": "stream",
          "text": [
            "{'name': 'Iphone14', 'price': 70000, 'quantity': 2, 'is_backcase_present': False}\n",
            "{'name': 'Oppo reno8', 'price': 60000, 'quantity': 1, 'is_backcase_present': True}\n",
            "{'name': 'tomato', 'price': 20, 'quantity': 2, 'is_backcase_present': False}\n",
            "{'name': 'good day', 'price': 10, 'quantity': 1, 'is_backcase_present': False}\n"
          ]
        }
      ],
      "source": [
        "class Item:\n",
        "\n",
        "    def __init__(self, name, price = 0, quantity = 1, is_backcase_present = False): # initialise -> constructor\n",
        "#         print('constructor', self)\n",
        "\n",
        "        assert price >= 0, 'Invalid price. Price should be greater than or equal to 0'\n",
        "        assert quantity > 0, 'Invalid quantity. Quantity should be greater than 0'\n",
        "\n",
        "        self.name = name\n",
        "        self.price = price\n",
        "        self.quantity = quantity\n",
        "        self.is_backcase_present = is_backcase_present\n",
        "\n",
        "    def calculate_total_price(self):\n",
        "        return self.price * self.quantity\n",
        "\n",
        "Iphone = Item('Iphone14', 70000, 2)\n",
        "print(Iphone.__dict__)\n",
        "# print(Iphone.calculate_total_price())\n",
        "\n",
        "oppo_reno = Item('Oppo reno8', 60000, 1, True)\n",
        "print(oppo_reno.__dict__)\n",
        "\n",
        "tomato = Item('tomato', 20, 2)\n",
        "print(tomato.__dict__)\n",
        "\n",
        "goodday = Item('good day', 10, 1)\n",
        "print(goodday.__dict__)"
      ]
    },
    {
      "cell_type": "code",
      "execution_count": null,
      "id": "62986e33",
      "metadata": {
        "id": "62986e33",
        "outputId": "75ac9798-11f9-4562-abeb-5e5ffe0bde22"
      },
      "outputs": [
        {
          "name": "stdout",
          "output_type": "stream",
          "text": [
            "{'name': 'Iphone14', 'price': 70000, 'quantity': 2, 'is_backcase_present': False}\n",
            "{'name': 'Oppo reno8', 'price': 60000, 'quantity': 1, 'is_backcase_present': True}\n",
            "{'name': 'tomato', 'price': 20, 'quantity': 2}\n",
            "{'name': 'good day', 'price': 10, 'quantity': 1}\n"
          ]
        }
      ],
      "source": [
        "class Item:\n",
        "\n",
        "    def __init__(self, name, price = 0, quantity = 1): # initialise -> constructor\n",
        "#         print('constructor', self)\n",
        "\n",
        "        assert price >= 0, 'Invalid price. Price should be greater than or equal to 0'\n",
        "        assert quantity > 0, 'Invalid quantity. Quantity should be greater than 0'\n",
        "\n",
        "        self.name = name\n",
        "        self.price = price\n",
        "        self.quantity = quantity\n",
        "\n",
        "    def calculate_total_price(self):\n",
        "        return self.price * self.quantity\n",
        "\n",
        "Iphone = Item('Iphone14', 70000, 2)\n",
        "Iphone.is_backcase_present = False\n",
        "print(Iphone.__dict__)\n",
        "# print(Iphone.calculate_total_price())\n",
        "\n",
        "oppo_reno = Item('Oppo reno8', 60000, 1)\n",
        "oppo_reno.is_backcase_present = True\n",
        "print(oppo_reno.__dict__)\n",
        "\n",
        "tomato = Item('tomato', 20, 2)\n",
        "print(tomato.__dict__)\n",
        "\n",
        "goodday = Item('good day', 10, 1)\n",
        "print(goodday.__dict__)"
      ]
    },
    {
      "cell_type": "code",
      "execution_count": null,
      "id": "407e32d1",
      "metadata": {
        "id": "407e32d1",
        "outputId": "fae0b5b3-2ddd-4bd0-8baf-ac3df2044d47",
        "colab": {
          "base_uri": "https://localhost:8080/"
        }
      },
      "outputs": [
        {
          "output_type": "stream",
          "name": "stdout",
          "text": [
            "70000\n",
            "35000.0\n",
            "5000\n",
            "500.0\n",
            "70000\n",
            "56000.0\n"
          ]
        }
      ],
      "source": [
        "class Item:\n",
        "#     class property -> class property is same for all the objects\n",
        "#     If self(object) is changing, the class property is not changing\n",
        "#     If self(object) is not available, my class property is gonna override the self property\n",
        "    discount = 0.2 # 20%\n",
        "\n",
        "    def __init__(self, name, price = 0, quantity = 1):\n",
        "\n",
        "        assert price >= 0, 'Invalid price. Price should be greater than or equal to 0'\n",
        "        assert quantity > 0, 'Invalid quantity. Quantity should be greater than 0'\n",
        "\n",
        "        self.name = name\n",
        "        self.price = price\n",
        "        self.quantity = quantity\n",
        "\n",
        "    def calculate_total_price(self):\n",
        "        return self.price * self.quantity\n",
        "\n",
        "    def apply_discount(self):\n",
        "        self.price = self.price - (self.price * self.discount)\n",
        "\n",
        "Iphone = Item('Iphone 14', 70000, 1)\n",
        "print(Iphone.calculate_total_price())\n",
        "Iphone.discount = 0.5 # object or self property\n",
        "Iphone.apply_discount()\n",
        "print(Iphone.calculate_total_price())\n",
        "\n",
        "charger = Item('charger', 5000, 1)\n",
        "print(charger.calculate_total_price())\n",
        "charger.discount = 0.9\n",
        "charger.apply_discount()\n",
        "print(charger.calculate_total_price())\n",
        "\n",
        "laptop=Item('Laptop',70000,1)\n",
        "print(laptop.calculate_total_price())\n",
        "laptop.apply_discount()\n",
        "print(laptop.calculate_total_price())"
      ]
    },
    {
      "cell_type": "code",
      "execution_count": null,
      "id": "a3164510",
      "metadata": {
        "id": "a3164510",
        "outputId": "20c5130e-ac9a-4fd4-bf81-6630277d23ae"
      },
      "outputs": [
        {
          "name": "stdout",
          "output_type": "stream",
          "text": [
            "Aryan 1234\n",
            "False\n"
          ]
        }
      ],
      "source": [
        "class ATM:\n",
        "    original_username = 'Aryan'\n",
        "    original_password = '1234'\n",
        "\n",
        "    def __init__(self, username, password):\n",
        "        self.username = username\n",
        "        self.password = password\n",
        "\n",
        "    def validate(self):\n",
        "        if(self.username == ATM.original_username and self.password == ATM.original_password):\n",
        "            return True\n",
        "        return False\n",
        "\n",
        "# Aryan = ATM('Aryan', '1234')\n",
        "# print(Aryan.validate())\n",
        "\n",
        "Vinodh = ATM('Vinodh', '3456')\n",
        "print(Vinodh.original_username, Vinodh.original_password)\n",
        "# Vinodh.original_username = 'Vinodh'\n",
        "# Vinodh.original_password = '3456'\n",
        "print(Vinodh.validate())"
      ]
    },
    {
      "cell_type": "markdown",
      "source": [],
      "metadata": {
        "id": "HeoSTFO-7Uqo"
      },
      "id": "HeoSTFO-7Uqo"
    },
    {
      "cell_type": "code",
      "execution_count": null,
      "id": "1cc2e2a7",
      "metadata": {
        "id": "1cc2e2a7"
      },
      "outputs": [],
      "source": [
        "# 4 pillars of OOPs\n",
        "# 1. Encapsulation\n",
        "# 2. Inheritance\n",
        "# 3. Polymorphism\n",
        "# 4. Abstraction"
      ]
    },
    {
      "cell_type": "code",
      "source": [
        "class Person:\n",
        "    def __init__(self,name):\n",
        "        self.name = name # public member\n",
        "    def greet(self):\n",
        "        print(\"Hello, my name is \", self.name)\n",
        "\n",
        "# Creating an object of class Person.\n",
        "person = Person(\"Mahi\")\n",
        "\n",
        "# Accessing public attribute.\n",
        "print(person.name) # prints \"Mahi\"\n",
        "\n",
        "# Accessing public method.\n",
        "person.greet() # prints \"Hello, my name is Mahi\""
      ],
      "metadata": {
        "colab": {
          "base_uri": "https://localhost:8080/"
        },
        "id": "bt1AK5HH8rYd",
        "outputId": "05947334-c37a-4aa9-9abd-4ed44af0e8b4"
      },
      "id": "bt1AK5HH8rYd",
      "execution_count": null,
      "outputs": [
        {
          "output_type": "stream",
          "name": "stdout",
          "text": [
            "Mahi\n",
            "Hello, my name is  Mahi\n"
          ]
        }
      ]
    },
    {
      "cell_type": "code",
      "execution_count": 7,
      "id": "7633679d",
      "metadata": {
        "id": "7633679d",
        "outputId": "503c5845-1a0a-4b05-d8fa-66d6d0dfc703",
        "colab": {
          "base_uri": "https://localhost:8080/",
          "height": 372
        }
      },
      "outputs": [
        {
          "output_type": "error",
          "ename": "AttributeError",
          "evalue": "type object 'ATM' has no attribute '_original_username'",
          "traceback": [
            "\u001b[0;31m---------------------------------------------------------------------------\u001b[0m",
            "\u001b[0;31mAttributeError\u001b[0m                            Traceback (most recent call last)",
            "\u001b[0;32m<ipython-input-7-e1921fde4947>\u001b[0m in \u001b[0;36m<cell line: 44>\u001b[0;34m()\u001b[0m\n\u001b[1;32m     42\u001b[0m \u001b[0;31m# print(ATM.__original_username, ATM.__original_password)\u001b[0m\u001b[0;34m\u001b[0m\u001b[0;34m\u001b[0m\u001b[0m\n\u001b[1;32m     43\u001b[0m \u001b[0mVinodh\u001b[0m \u001b[0;34m=\u001b[0m \u001b[0mATM\u001b[0m\u001b[0;34m(\u001b[0m\u001b[0;34m'Vinodh'\u001b[0m\u001b[0;34m,\u001b[0m \u001b[0;34m'3456'\u001b[0m\u001b[0;34m)\u001b[0m\u001b[0;34m\u001b[0m\u001b[0;34m\u001b[0m\u001b[0m\n\u001b[0;32m---> 44\u001b[0;31m \u001b[0mprint\u001b[0m\u001b[0;34m(\u001b[0m\u001b[0mVinodh\u001b[0m\u001b[0;34m.\u001b[0m\u001b[0mget_original_username\u001b[0m\u001b[0;34m(\u001b[0m\u001b[0;34m)\u001b[0m\u001b[0;34m)\u001b[0m\u001b[0;34m\u001b[0m\u001b[0;34m\u001b[0m\u001b[0m\n\u001b[0m\u001b[1;32m     45\u001b[0m \u001b[0mprint\u001b[0m\u001b[0;34m(\u001b[0m\u001b[0mVinodh\u001b[0m\u001b[0;34m.\u001b[0m\u001b[0mget_original_password\u001b[0m\u001b[0;34m(\u001b[0m\u001b[0;34m)\u001b[0m\u001b[0;34m)\u001b[0m\u001b[0;34m\u001b[0m\u001b[0;34m\u001b[0m\u001b[0m\n\u001b[1;32m     46\u001b[0m \u001b[0;34m\u001b[0m\u001b[0m\n",
            "\u001b[0;32m<ipython-input-7-e1921fde4947>\u001b[0m in \u001b[0;36mget_original_username\u001b[0;34m(self)\u001b[0m\n\u001b[1;32m     12\u001b[0m \u001b[0;31m#     getters\u001b[0m\u001b[0;34m\u001b[0m\u001b[0;34m\u001b[0m\u001b[0m\n\u001b[1;32m     13\u001b[0m     \u001b[0;32mdef\u001b[0m \u001b[0mget_original_username\u001b[0m\u001b[0;34m(\u001b[0m\u001b[0mself\u001b[0m\u001b[0;34m)\u001b[0m\u001b[0;34m:\u001b[0m\u001b[0;34m\u001b[0m\u001b[0;34m\u001b[0m\u001b[0m\n\u001b[0;32m---> 14\u001b[0;31m         \u001b[0;32mif\u001b[0m\u001b[0;34m(\u001b[0m\u001b[0mself\u001b[0m\u001b[0;34m.\u001b[0m\u001b[0mvalidate\u001b[0m\u001b[0;34m(\u001b[0m\u001b[0;34m)\u001b[0m \u001b[0;34m==\u001b[0m \u001b[0;32mTrue\u001b[0m\u001b[0;34m)\u001b[0m\u001b[0;34m:\u001b[0m\u001b[0;34m\u001b[0m\u001b[0;34m\u001b[0m\u001b[0m\n\u001b[0m\u001b[1;32m     15\u001b[0m             \u001b[0;32mreturn\u001b[0m \u001b[0mATM\u001b[0m\u001b[0;34m.\u001b[0m\u001b[0m_original_username\u001b[0m\u001b[0;34m\u001b[0m\u001b[0;34m\u001b[0m\u001b[0m\n\u001b[1;32m     16\u001b[0m         \u001b[0;32mreturn\u001b[0m \u001b[0;34m'Unauthorised'\u001b[0m\u001b[0;34m\u001b[0m\u001b[0;34m\u001b[0m\u001b[0m\n",
            "\u001b[0;32m<ipython-input-7-e1921fde4947>\u001b[0m in \u001b[0;36mvalidate\u001b[0;34m(self)\u001b[0m\n\u001b[1;32m     36\u001b[0m \u001b[0;34m\u001b[0m\u001b[0m\n\u001b[1;32m     37\u001b[0m     \u001b[0;32mdef\u001b[0m \u001b[0mvalidate\u001b[0m\u001b[0;34m(\u001b[0m\u001b[0mself\u001b[0m\u001b[0;34m)\u001b[0m\u001b[0;34m:\u001b[0m\u001b[0;34m\u001b[0m\u001b[0;34m\u001b[0m\u001b[0m\n\u001b[0;32m---> 38\u001b[0;31m         \u001b[0;32mif\u001b[0m\u001b[0;34m(\u001b[0m\u001b[0mself\u001b[0m\u001b[0;34m.\u001b[0m\u001b[0musername\u001b[0m \u001b[0;34m==\u001b[0m \u001b[0mATM\u001b[0m\u001b[0;34m.\u001b[0m\u001b[0m_original_username\u001b[0m \u001b[0;32mand\u001b[0m \u001b[0mself\u001b[0m\u001b[0;34m.\u001b[0m\u001b[0mpassword\u001b[0m \u001b[0;34m==\u001b[0m \u001b[0mATM\u001b[0m\u001b[0;34m.\u001b[0m\u001b[0m_original_password\u001b[0m\u001b[0;34m)\u001b[0m\u001b[0;34m:\u001b[0m\u001b[0;34m\u001b[0m\u001b[0;34m\u001b[0m\u001b[0m\n\u001b[0m\u001b[1;32m     39\u001b[0m             \u001b[0;32mreturn\u001b[0m \u001b[0;32mTrue\u001b[0m\u001b[0;34m\u001b[0m\u001b[0;34m\u001b[0m\u001b[0m\n\u001b[1;32m     40\u001b[0m         \u001b[0;32mreturn\u001b[0m \u001b[0;32mFalse\u001b[0m\u001b[0;34m\u001b[0m\u001b[0;34m\u001b[0m\u001b[0m\n",
            "\u001b[0;31mAttributeError\u001b[0m: type object 'ATM' has no attribute '_original_username'"
          ]
        }
      ],
      "source": [
        "# Encapsulation -> public by default\n",
        "# In order to make a property private, add double underscore __property_name\n",
        "\n",
        "class ATM:\n",
        "    __original_username = 'Aryan' # private\n",
        "    __original_password = '1234'\n",
        "\n",
        "    def __init__(self, username, password):\n",
        "        self.username = username\n",
        "        self.password = password\n",
        "\n",
        "#     getters\n",
        "    def get_original_username(self):\n",
        "        if(self.validate() == True):\n",
        "            return ATM._original_username\n",
        "        return 'Unauthorised'\n",
        "\n",
        "    def get_original_password(self):\n",
        "        if(self.validate()):\n",
        "            return ATM._original_password\n",
        "        return 'Unauthorised'\n",
        "\n",
        "#     setters\n",
        "    def set_original_username(self, new_username):\n",
        "        if(self.validate()):\n",
        "            ATM.__original_username = new_username\n",
        "            self.username = new_username # update the current username\n",
        "            print('username changed successfully')\n",
        "        return 'Unauthorised'\n",
        "\n",
        "    def set_original_password(self, new_password):\n",
        "        if(self.validate()):\n",
        "            ATM.__original_password = new_password\n",
        "            self.password = new_password # update the current password\n",
        "        return 'Unauthorised'\n",
        "\n",
        "    def validate(self):\n",
        "        if(self.username == ATM._original_username and self.password == ATM._original_password):\n",
        "            return True\n",
        "        return False\n",
        "\n",
        "# print(ATM.__original_username, ATM.__original_password)\n",
        "Vinodh = ATM('Vinodh', '3456')\n",
        "print(Vinodh.get_original_username())\n",
        "print(Vinodh.get_original_password())\n",
        "\n",
        "print(Vinodh.set_original_username('Vinodh kumar'))\n",
        "#print(Vinodh.__original_username, Vinodh.__original_password)\n",
        "\n",
        "Aryan = ATM('Aryan', '1234')\n",
        "print(Aryan._original_username)\n",
        "print(Aryan.get_original_username())\n",
        "print(Aryan.get_original_password())\n",
        "\n",
        "# Aryan.set_original_username('Aryan anand')\n",
        "# print(Aryan.get_original_username())\n",
        "\n",
        "# Aryan.set_original_password('6789')\n",
        "# print(Aryan.get_original_password())"
      ]
    },
    {
      "cell_type": "code",
      "execution_count": null,
      "id": "00f87722",
      "metadata": {
        "id": "00f87722",
        "outputId": "43c6daa3-9f0a-4ba8-cfa5-80f4a4f870ee"
      },
      "outputs": [
        {
          "name": "stdout",
          "output_type": "stream",
          "text": [
            "k\n",
            "a\n",
            "v\n",
            "y\n",
            "a\n"
          ]
        },
        {
          "ename": "StopIteration",
          "evalue": "",
          "output_type": "error",
          "traceback": [
            "\u001b[1;31m---------------------------------------------------------------------------\u001b[0m",
            "\u001b[1;31mStopIteration\u001b[0m                             Traceback (most recent call last)",
            "Input \u001b[1;32mIn [150]\u001b[0m, in \u001b[0;36m<cell line: 12>\u001b[1;34m()\u001b[0m\n\u001b[0;32m     10\u001b[0m \u001b[38;5;28mprint\u001b[39m(\u001b[38;5;28mnext\u001b[39m(iterable))\n\u001b[0;32m     11\u001b[0m \u001b[38;5;28mprint\u001b[39m(\u001b[38;5;28mnext\u001b[39m(iterable))\n\u001b[1;32m---> 12\u001b[0m \u001b[38;5;28mprint\u001b[39m(\u001b[38;5;28;43mnext\u001b[39;49m\u001b[43m(\u001b[49m\u001b[43miterable\u001b[49m\u001b[43m)\u001b[49m)\n",
            "\u001b[1;31mStopIteration\u001b[0m: "
          ]
        }
      ],
      "source": [
        "name = 'kavya'\n",
        "# for char in name:\n",
        "#     print(char)\n",
        "\n",
        "iterable = iter(name)\n",
        "# print(iterable)\n",
        "print(next(iterable))\n",
        "print(next(iterable))\n",
        "print(next(iterable))\n",
        "print(next(iterable))\n",
        "print(next(iterable))\n",
        "print(next(iterable))"
      ]
    },
    {
      "cell_type": "code",
      "source": [
        "class BaseClass:\n",
        "    def __init__(self, value):\n",
        "        self._protected_member = value  # Protected member\n",
        "\n",
        "    def _protected_method(self):\n",
        "        print(f\"Accessing protected member: {self._protected_member}\")\n",
        "\n",
        "class DerivedClass(BaseClass):\n",
        "    def __init__(self, value, extra_value):\n",
        "        super().__init__(value)\n",
        "        self._extra_value = extra_value  # Additional protected member in subclass\n",
        "\n",
        "    def display(self):\n",
        "        # Accessing protected member from base class\n",
        "        print(f\"Base class protected member: {self._protected_member}\")\n",
        "        # Accessing protected member from derived class\n",
        "        print(f\"Derived class protected member: {self._extra_value}\")\n",
        "        # Calling protected method from base class\n",
        "        self._protected_method()\n",
        "\n",
        "# Create an instance of DerivedClass\n",
        "obj = DerivedClass(10, 20)\n",
        "obj.display()\n",
        "\n",
        "# Direct access to protected members (not recommended)\n",
        "print(obj._protected_member)\n",
        "print(obj._extra_value)"
      ],
      "metadata": {
        "colab": {
          "base_uri": "https://localhost:8080/"
        },
        "id": "YphEQsA1_Ikt",
        "outputId": "3ab3aaf9-9784-413e-f9e2-140d1a8f310d"
      },
      "id": "YphEQsA1_Ikt",
      "execution_count": 8,
      "outputs": [
        {
          "output_type": "stream",
          "name": "stdout",
          "text": [
            "Base class protected member: 10\n",
            "Derived class protected member: 20\n",
            "Accessing protected member: 10\n",
            "10\n",
            "20\n"
          ]
        }
      ]
    },
    {
      "cell_type": "code",
      "source": [
        "class MyClass:\n",
        "    def __init__(self, value):\n",
        "        self.__private_member = value  # Private member\n",
        "        self._protected_member = value  # Protected member\n",
        "\n",
        "    def __private_method(self):\n",
        "        print(f\"Accessing private member: {self.__private_member}\")\n",
        "\n",
        "    def public_method(self):\n",
        "        # Public method that can access the private member and method\n",
        "        self.__private_method()\n",
        "\n",
        "# Create an instance of MyClass\n",
        "obj = MyClass(10)\n",
        "\n",
        "# Trying to access the private member directly will raise an AttributeError\n",
        "try:\n",
        "    print(obj.__private_member)\n",
        "except AttributeError as e:\n",
        "    print(f\"Error: {e}\")\n",
        "\n",
        "# Trying to access the private method directly will raise an AttributeError\n",
        "try:\n",
        "    obj.__private_method()\n",
        "except AttributeError as e:\n",
        "    print(f\"Error: {e}\")\n",
        "\n",
        "# Accessing the private member and method through a public method\n",
        "obj.public_method()\n",
        "#obj.protected_member\n",
        "# Accessing the private member using name mangling (not recommended)\n",
        "print(obj._MyClass__private_member)"
      ],
      "metadata": {
        "colab": {
          "base_uri": "https://localhost:8080/"
        },
        "id": "e8NpikLL_6qK",
        "outputId": "f27c45c6-6338-44fe-b0b0-538bd564a0a7"
      },
      "id": "e8NpikLL_6qK",
      "execution_count": 4,
      "outputs": [
        {
          "output_type": "stream",
          "name": "stdout",
          "text": [
            "Error: 'MyClass' object has no attribute '__private_member'\n",
            "Error: 'MyClass' object has no attribute '__private_method'\n",
            "Accessing private member: 10\n",
            "10\n"
          ]
        }
      ]
    },
    {
      "cell_type": "code",
      "execution_count": null,
      "id": "d5afaef7",
      "metadata": {
        "id": "d5afaef7"
      },
      "outputs": [],
      "source": []
    }
  ],
  "metadata": {
    "kernelspec": {
      "display_name": "Python 3 (ipykernel)",
      "language": "python",
      "name": "python3"
    },
    "language_info": {
      "codemirror_mode": {
        "name": "ipython",
        "version": 3
      },
      "file_extension": ".py",
      "mimetype": "text/x-python",
      "name": "python",
      "nbconvert_exporter": "python",
      "pygments_lexer": "ipython3",
      "version": "3.9.12"
    },
    "colab": {
      "provenance": []
    }
  },
  "nbformat": 4,
  "nbformat_minor": 5
}