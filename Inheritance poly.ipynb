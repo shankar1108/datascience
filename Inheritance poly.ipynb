{
  "cells": [
    {
      "cell_type": "code",
      "execution_count": null,
      "id": "207564b3",
      "metadata": {
        "id": "207564b3",
        "outputId": "f1647993-4417-4afe-cf60-96e5acc1b37e"
      },
      "outputs": [
        {
          "name": "stdout",
          "output_type": "stream",
          "text": [
            "Phone constructor\n",
            "Item constructor\n",
            "{'name': 'Iphone 14', 'price': 70100, 'quantity': 2, 'backcase': False, 'ram': '4gb'}\n",
            "145200\n"
          ]
        }
      ],
      "source": [
        "# Inheritance\n",
        "class Item:\n",
        "    discount = 0.2 # 20%\n",
        "\n",
        "    def __init__(self, name, price = 0, quantity = 1):\n",
        "\n",
        "        assert price >= 0, 'Invalid price. Price should be greater than or equal to 0'\n",
        "        assert quantity > 0, 'Invalid quantity. Quantity should be greater than 0'\n",
        "\n",
        "        print('Item constructor')\n",
        "        self.name = name\n",
        "        self.price = price\n",
        "        self.quantity = quantity\n",
        "\n",
        "    def calculate_total_price(self):\n",
        "        return self.price * self.quantity\n",
        "\n",
        "    def apply_discount(self):\n",
        "        self.price = self.price - (self.price * self.discount)\n",
        "\n",
        "# Inheritance\n",
        "class Phone(Item):\n",
        "    discount = 0.3\n",
        "    def __init__(self, name, price = 0, quantity = 1, backcase = False, ram = '6gb'):\n",
        "        print('Phone constructor')\n",
        "        # super -> parent\n",
        "        super().__init__(name, price, quantity)\n",
        "        self.backcase = backcase\n",
        "        self.ram = ram\n",
        "        self.price = price + 100\n",
        "\n",
        "    def calculate_total_price(self):\n",
        "        return self.price * self.quantity + 5000\n",
        "\n",
        "Iphone = Phone('Iphone 14', 70000, 2, False, '4gb')\n",
        "print(Iphone.__dict__)\n",
        "# methods are inherited automatically\n",
        "# Iphone.apply_discount()\n",
        "print(Iphone.calculate_total_price())"
      ]
    },
    {
      "cell_type": "code",
      "execution_count": null,
      "id": "bf7133d7",
      "metadata": {
        "id": "bf7133d7",
        "outputId": "a03dde4c-d300-416d-a777-ca3b5fb9b8df"
      },
      "outputs": [
        {
          "name": "stdout",
          "output_type": "stream",
          "text": [
            "child\n",
            "parent\n"
          ]
        }
      ],
      "source": [
        "# Types of inheritance -> single, multilevel, multiple, hierarchical\n",
        "# single level\n",
        "class Parent:\n",
        "    def __init__(self):\n",
        "        self.name = 'parent'\n",
        "\n",
        "    def display_name(self):\n",
        "        print(self.name)\n",
        "\n",
        "class Child(Parent):\n",
        "    def __init__(self):\n",
        "        self.name = 'child'\n",
        "\n",
        "poonam = Child()\n",
        "poonam.display_name()\n",
        "\n",
        "parent = Parent()\n",
        "parent.display_name()"
      ]
    },
    {
      "cell_type": "code",
      "execution_count": 5,
      "id": "6eaa29ab",
      "metadata": {
        "colab": {
          "base_uri": "https://localhost:8080/"
        },
        "id": "6eaa29ab",
        "outputId": "f93429ed-50ce-45e2-831e-9e69b6972a5b"
      },
      "outputs": [
        {
          "output_type": "stream",
          "name": "stdout",
          "text": [
            "Own house\n",
            "alto 800 Own house\n",
            "yamaha r3 alto 800 Own house\n"
          ]
        }
      ],
      "source": [
        "# Multilevel inheritance\n",
        "class GrandParent:\n",
        "    def __init__(self):\n",
        "        self.house = 'Own house'\n",
        "\n",
        "class Parent(GrandParent):\n",
        "    def __init__(self):\n",
        "        super().__init__()\n",
        "        self.car = 'alto 800'\n",
        "\n",
        "class Child(Parent):\n",
        "    def __init__(self):\n",
        "        super().__init__()\n",
        "        self.bike = 'yamaha r3'\n",
        "\n",
        "#gp = GrandParent()\n",
        "#print(gp.house)\n",
        "\n",
        "#parent = Parent()\n",
        "#print(parent.car, parent.house)\n",
        "\n",
        "child = Child()\n",
        "print(child.bike, child.car, child.house)"
      ]
    },
    {
      "cell_type": "code",
      "execution_count": 6,
      "id": "7dcecbef",
      "metadata": {
        "colab": {
          "base_uri": "https://localhost:8080/"
        },
        "id": "7dcecbef",
        "outputId": "14fd998b-b74b-46cc-fe96-c8576b40f266"
      },
      "outputs": [
        {
          "output_type": "stream",
          "name": "stdout",
          "text": [
            "{'name': 'Father', 'food': 'love'}\n",
            "playing with father\n"
          ]
        }
      ],
      "source": [
        "# multiple inheritance\n",
        "class Father:\n",
        "    def __init__(self):\n",
        "        self.name = 'Father'\n",
        "\n",
        "    def play(self):\n",
        "        print('playing with father')\n",
        "\n",
        "class Mother:\n",
        "    def __init__(self):\n",
        "        self.name = 'Mother'\n",
        "        self.food = 'love'\n",
        "\n",
        "    def play(self):\n",
        "        print('playing with mother')\n",
        "\n",
        "class Child(Father, Mother):\n",
        "    def __init__(self):\n",
        "        # order matters\n",
        "        Mother.__init__(self)\n",
        "        Father.__init__(self)\n",
        "\n",
        "    def display(self):\n",
        "        print(self.name)\n",
        "\n",
        "child = Child()\n",
        "# child.display()\n",
        "#print(child.__dict__)\n",
        "child.play()"
      ]
    },
    {
      "cell_type": "code",
      "execution_count": null,
      "id": "ee01426f",
      "metadata": {
        "id": "ee01426f",
        "outputId": "7544e9c1-2c37-4bef-b940-5efee57a692b"
      },
      "outputs": [
        {
          "name": "stdout",
          "output_type": "stream",
          "text": [
            "USA parent\n",
            "India parent\n"
          ]
        }
      ],
      "source": [
        "# hierarchical inheritance\n",
        "class Parent:\n",
        "    def __init__(self):\n",
        "        self.name = 'parent'\n",
        "\n",
        "    def display(self):\n",
        "        print(self.country, self.name)\n",
        "\n",
        "\n",
        "class Child1(Parent):\n",
        "    def __init__(self):\n",
        "        super().__init__()\n",
        "        self.country = \"USA\"\n",
        "\n",
        "class Child2(Parent):\n",
        "    def __init__(self):\n",
        "        super().__init__()\n",
        "        self.country = \"India\"\n",
        "\n",
        "child1 = Child1()\n",
        "child1.display()\n",
        "\n",
        "child2 = Child2()\n",
        "child2.display()"
      ]
    },
    {
      "cell_type": "code",
      "execution_count": 7,
      "id": "e2ed0702",
      "metadata": {
        "colab": {
          "base_uri": "https://localhost:8080/",
          "height": 220
        },
        "id": "e2ed0702",
        "outputId": "8923efff-5fd9-478c-f76d-a09b26334494"
      },
      "outputs": [
        {
          "output_type": "error",
          "ename": "TypeError",
          "evalue": "Child.play() takes 1 positional argument but 2 were given",
          "traceback": [
            "\u001b[0;31m---------------------------------------------------------------------------\u001b[0m",
            "\u001b[0;31mTypeError\u001b[0m                                 Traceback (most recent call last)",
            "\u001b[0;32m<ipython-input-7-192ba4aa145a>\u001b[0m in \u001b[0;36m<cell line: 12>\u001b[0;34m()\u001b[0m\n\u001b[1;32m     10\u001b[0m \u001b[0;34m\u001b[0m\u001b[0m\n\u001b[1;32m     11\u001b[0m \u001b[0mchild\u001b[0m \u001b[0;34m=\u001b[0m \u001b[0mChild\u001b[0m\u001b[0;34m(\u001b[0m\u001b[0;34m)\u001b[0m\u001b[0;34m\u001b[0m\u001b[0;34m\u001b[0m\u001b[0m\n\u001b[0;32m---> 12\u001b[0;31m \u001b[0mchild\u001b[0m\u001b[0;34m.\u001b[0m\u001b[0mplay\u001b[0m\u001b[0;34m(\u001b[0m\u001b[0;34m'cricket'\u001b[0m\u001b[0;34m)\u001b[0m\u001b[0;34m\u001b[0m\u001b[0;34m\u001b[0m\u001b[0m\n\u001b[0m\u001b[1;32m     13\u001b[0m \u001b[0;34m\u001b[0m\u001b[0m\n\u001b[1;32m     14\u001b[0m \u001b[0;31m# method overloading -> same name but diff params\u001b[0m\u001b[0;34m\u001b[0m\u001b[0;34m\u001b[0m\u001b[0m\n",
            "\u001b[0;31mTypeError\u001b[0m: Child.play() takes 1 positional argument but 2 were given"
          ]
        }
      ],
      "source": [
        "# Polymorphism -> many forms\n",
        "class Parent:\n",
        "    def play(self, game):\n",
        "        print('parent playing', game)\n",
        "\n",
        "class Child(Parent):\n",
        "    # method overriding of polymorphism\n",
        "    def play(self):\n",
        "        print('child playing')\n",
        "\n",
        "child = Child()\n",
        "child.play('cricket')\n",
        "\n",
        "# method overloading -> same name but diff params\n",
        "# method overloading is not supported in python"
      ]
    },
    {
      "cell_type": "code",
      "execution_count": 4,
      "id": "6789e29c",
      "metadata": {
        "colab": {
          "base_uri": "https://localhost:8080/"
        },
        "id": "6789e29c",
        "outputId": "66abf738-0b04-46ad-a417-af05574bf3de"
      },
      "outputs": [
        {
          "output_type": "stream",
          "name": "stdout",
          "text": [
            "Laptop process\n",
            "playing video\n",
            "writing....\n",
            "analysing some data\n",
            "Laptop process\n"
          ]
        }
      ],
      "source": [
        "# Abstraction\n",
        "# abstract -> cant be instantiated -> object can't be created\n",
        "# ABC -> Abstract Base Class\n",
        "# Atleast 1 abstract method should be present\n",
        "\n",
        "from abc import ABC, abstractmethod\n",
        "\n",
        "class Computer(ABC):\n",
        "\n",
        "    @abstractmethod\n",
        "    def process(self):\n",
        "        print('some process are running')\n",
        "\n",
        "\n",
        "\n",
        "class Laptop(Computer):\n",
        "    def play_video(self):\n",
        "        print('playing video')\n",
        "\n",
        "    def process(self):\n",
        "        print('Laptop process')\n",
        "\n",
        "class WhiteBoard:\n",
        "    def write(self):\n",
        "        print('writing....')\n",
        "\n",
        "class DataScientist:\n",
        "    def work(self, device):\n",
        "        print(f'analysing some data')\n",
        "        device.process()\n",
        "\n",
        "macbook = Laptop()\n",
        "macbook.process()\n",
        "macbook.play_video()\n",
        "#dell = Computer()\n",
        "#dell.process()\n",
        "wb = WhiteBoard()\n",
        "wb.write()\n",
        "\n",
        "vasanth = DataScientist()\n",
        "vasanth.work(macbook)"
      ]
    },
    {
      "cell_type": "code",
      "execution_count": null,
      "id": "0416f02a",
      "metadata": {
        "id": "0416f02a",
        "outputId": "263696f7-7214-47c8-b997-46808050b6d1"
      },
      "outputs": [
        {
          "name": "stdout",
          "output_type": "stream",
          "text": [
            "going to market with 100 rs.\n"
          ]
        }
      ],
      "source": [
        "\n",
        "from abc import ABC, abstractmethod\n",
        "\n",
        "class Market(ABC):\n",
        "    @abstractmethod\n",
        "    def carry_cash(self):\n",
        "        pass\n",
        "\n",
        "class Human(Market):\n",
        "    def __init__(self):\n",
        "        self.amount = 0\n",
        "\n",
        "    def go_to_market(self):\n",
        "        if self.amount > 0:\n",
        "            print(f'going to market with {self.amount} rs.')\n",
        "        else:\n",
        "            print('No money')\n",
        "\n",
        "    def carry_cash(self, amount):\n",
        "        self.amount = amount\n",
        "\n",
        "vasanth = Human()\n",
        "vasanth.carry_cash(100)\n",
        "vasanth.go_to_market()"
      ]
    },
    {
      "cell_type": "code",
      "execution_count": null,
      "id": "1c6c147f",
      "metadata": {
        "scrolled": true,
        "id": "1c6c147f",
        "outputId": "40c57598-37f1-4316-b308-07dba69e3348"
      },
      "outputs": [
        {
          "name": "stdout",
          "output_type": "stream",
          "text": [
            "9\n"
          ]
        }
      ],
      "source": [
        "# hands on\n",
        "# 1. Create a function named ‘factor’ that can only accept 1 argument. The function should\n",
        "# return the factorial of that number.\n",
        "\n",
        "def get_factorial(num):\n",
        "    fact = 1\n",
        "    if (num < 0): return 'Invalid'\n",
        "    if (num < 2): return fact\n",
        "    for i in range(1, num+1):\n",
        "        fact = fact * i\n",
        "    return fact\n",
        "\n",
        "# print(get_factorial(7))\n",
        "\n",
        "# sum of all factorials upto n\n",
        "# 3 -> 1! + 2! + 3! = 1 + 2 + 6 = 9\n",
        "# 4 -> 1! + 2! + 3! + 4! = 1 + 2 + 6 + 24 = 33\n",
        "\n",
        "n = 3\n",
        "total = 0\n",
        "for i in range(1, n+1):\n",
        "    total += get_factorial(i)\n",
        "\n",
        "print(total)"
      ]
    },
    {
      "cell_type": "code",
      "execution_count": null,
      "id": "59006427",
      "metadata": {
        "id": "59006427",
        "outputId": "62f76c69-fde1-4d06-cefb-cb382420e8d6"
      },
      "outputs": [
        {
          "name": "stdout",
          "output_type": "stream",
          "text": [
            "String contains letter S\n",
            "String not contains letter S\n",
            "String contains letter S\n"
          ]
        }
      ],
      "source": [
        "# 2. Create a function named ‘check_string’, the function should accept a string data from the\n",
        "# user and the function should check if the user input contains the letter ‘s’ in it. If it contains\n",
        "# the letter ‘s’ then print- ‘The string is containing the letter ‘s’’, if not then print- ‘The string\n",
        "# doesn’t contain the letter ‘s’’.\n",
        "\n",
        "# def check_string(string):\n",
        "#     if 'S' in string.upper():\n",
        "#         print('String contains letter S')\n",
        "#     else:\n",
        "#         print('String not contains letter S')\n",
        "\n",
        "def check_string(string):\n",
        "    string = string.lower()\n",
        "    is_present = False # assumption\n",
        "    for char in string:\n",
        "        if(char == 's'):\n",
        "            is_present = True\n",
        "            break\n",
        "\n",
        "    if(is_present): print('String contains letter S')\n",
        "    else: print('String not contains letter S')\n",
        "\n",
        "\n",
        "check_string('vasanth')\n",
        "check_string('kavya')\n",
        "check_string('Samrat')"
      ]
    },
    {
      "cell_type": "code",
      "execution_count": null,
      "id": "4a10822d",
      "metadata": {
        "id": "4a10822d",
        "outputId": "d9e76fe3-e3bd-4b2a-e8bf-9ac761462e4c"
      },
      "outputs": [
        {
          "name": "stdout",
          "output_type": "stream",
          "text": [
            "Enter the input: fhnakjnfkasj\n",
            "fhnakjnfkasj\n",
            "fhnakjnfkasj\n"
          ]
        }
      ],
      "source": [
        "# 3. Create a class named ‘student’ and inside the class, create a function named ‘fun1’- this\n",
        "# method should accept the user defined input and return that value.\n",
        "# a. Create another method named- message() and that method should print the user\n",
        "# defined input that we have defined in ‘fun1’.\n",
        "\n",
        "class Student:\n",
        "    def __init__(self):\n",
        "        self.user_input = None\n",
        "\n",
        "    def fun1(self):\n",
        "        self.user_input = input('Enter the input: ')\n",
        "        return self.user_input\n",
        "\n",
        "    def message(self):\n",
        "        print(self.user_input)\n",
        "\n",
        "shipra = Student()\n",
        "print(shipra.fun1())\n",
        "shipra.message()"
      ]
    },
    {
      "cell_type": "code",
      "execution_count": null,
      "id": "7107d2b2",
      "metadata": {
        "id": "7107d2b2",
        "outputId": "6d4cc162-87da-4c54-9d00-eed4625e3d0d"
      },
      "outputs": [
        {
          "name": "stdout",
          "output_type": "stream",
          "text": [
            "30\n"
          ]
        }
      ],
      "source": [
        "# 4. Create a lambda function that should double or multiply the number (that we will be passing\n",
        "# in the lambda function) by 2. Store the lambda function in a variable named ‘double_num’.\n",
        "\n",
        "double_num = lambda num: num * 2\n",
        "print(double_num(15))"
      ]
    },
    {
      "cell_type": "code",
      "execution_count": null,
      "id": "b692489f",
      "metadata": {
        "id": "b692489f",
        "outputId": "8a46f009-414d-4e64-ff3a-fc9a63bec656"
      },
      "outputs": [
        {
          "name": "stdout",
          "output_type": "stream",
          "text": [
            "Enter the string: Madam\n",
            "palindrome\n"
          ]
        }
      ],
      "source": [
        "# 5. Take the user input string and check whether that string is palindrome or not.\n",
        "# MADAM, MAM, MALAYALAM, RACECAR, DAD\n",
        "\n",
        "# forward string == reverse string\n",
        "user_input = input(\"Enter the string: \")\n",
        "user_input = user_input.lower()\n",
        "# if(user_input == user_input[::-1]):\n",
        "#     print('palindrome')\n",
        "# else:\n",
        "#     print('not a palindrome')\n",
        "\n",
        "start = 0\n",
        "end = len(user_input) - 1\n",
        "is_palindrome = True\n",
        "\n",
        "while(start < end):\n",
        "    if(user_input[start] != user_input[end]):\n",
        "        is_palindrome = False\n",
        "        break\n",
        "    start += 1\n",
        "    end -= 1\n",
        "\n",
        "if(is_palindrome): print('palindrome')\n",
        "else: print('not a palindrome')"
      ]
    },
    {
      "cell_type": "code",
      "execution_count": null,
      "id": "ac3a9b6e",
      "metadata": {
        "id": "ac3a9b6e",
        "outputId": "fac35854-d739-4a2e-b927-96ff17032f77"
      },
      "outputs": [
        {
          "name": "stdout",
          "output_type": "stream",
          "text": [
            "This is fn in the super class\n"
          ]
        }
      ],
      "source": [
        "# 6. Create a class named ‘Super’ and inside that class define a user-defined function named\n",
        "# fun1.\n",
        "# a. Inside the ‘fun1’ function, pass the message “This is function 1 in the Super class.”\n",
        "# in the print statement.\n",
        "\n",
        "class Super:\n",
        "    def fun1(self):\n",
        "        print('This is fn in the super class')\n",
        "\n",
        "s = Super()\n",
        "s.fun1()"
      ]
    },
    {
      "cell_type": "code",
      "execution_count": null,
      "id": "45b74624",
      "metadata": {
        "id": "45b74624",
        "outputId": "79ea08e2-3269-4aca-d1a2-e1eb638821c7"
      },
      "outputs": [
        {
          "name": "stdout",
          "output_type": "stream",
          "text": [
            "This is fn in the modified super class\n"
          ]
        }
      ],
      "source": [
        "# 7. Create another class named ‘Modified_Super’ and inherit this class from the Super class.\n",
        "# a. Inside the Modified_Super class, create a function named ‘fun1’ and pass the\n",
        "# following message inside the print statement: ‘This is function 1 in the Modified\n",
        "# Super class.’\n",
        "# b. Create another user-defined function named ‘fun2’ and pass the message: ‘This is\n",
        "# the 2nd function from the Modified Super class’ in the print statement.\n",
        "# c. After that, now create an object for the Modified_Super class and call the fun1().\n",
        "\n",
        "class Super:\n",
        "    def fun1(self):\n",
        "        print('This is fn in the super class')\n",
        "\n",
        "class ModifiedSuper(Super):\n",
        "    def fun1(self):\n",
        "        print('This is fn in the modified super class')\n",
        "\n",
        "    def fun2(self):\n",
        "        print('This is 2nd fn in the modified super class')\n",
        "\n",
        "ms = ModifiedSuper()\n",
        "ms.fun1()"
      ]
    },
    {
      "cell_type": "code",
      "execution_count": null,
      "id": "6515175d",
      "metadata": {
        "id": "6515175d"
      },
      "outputs": [],
      "source": [
        "# 8. Create 2 methods named ‘Hello’. In the 1st Hello method, pass only one argument and pass\n",
        "# this message: ‘This function only has 1 argument’. And in the 2nd Hello method, pass\n",
        "# two arguments and pass this message: ‘This function has 2 arguments’.\n",
        "# a. Try to call both the methods and analyze the output of both the methods.\n",
        "\n",
        "class Hello:\n",
        "    def hello(self, one, two):\n",
        "        print('This fn has 2 arguments')\n",
        "\n",
        "    def hello(self, one):\n",
        "        print('This fn has only 1 argument')\n",
        "\n",
        "\n",
        "h = Hello()\n",
        "h.hello(10, 20)\n",
        "h.hello(10)"
      ]
    },
    {
      "cell_type": "code",
      "execution_count": null,
      "id": "8cf9f654",
      "metadata": {
        "id": "8cf9f654",
        "outputId": "8af108d1-e359-4c9a-eafb-f600d53f057a"
      },
      "outputs": [
        {
          "data": {
            "text/plain": [
              "0"
            ]
          },
          "execution_count": 123,
          "metadata": {},
          "output_type": "execute_result"
        }
      ],
      "source": [
        "# 9. Create a method named ‘Sum’ that can accept multiple user inputs. Now add those user-\n",
        "# defined input values using for loop and the function should return the addition of the numbers.\n",
        "\n",
        "class Sum:\n",
        "    def __init__(self):\n",
        "        self.total = 0\n",
        "\n",
        "    def get_total(self):\n",
        "        num_of_inputs = int(input('Enter the no of inputs: '))\n",
        "        for i in range(num_of_inputs):\n",
        "            num = int(input(\"Enter the number to be added: \"))\n",
        "            self.total += num\n",
        "        return self.total\n",
        "\n",
        "    def find_square_of_total(self):\n",
        "        return self.total ** 2\n",
        "\n",
        "s = Sum()\n",
        "# s.get_total()\n",
        "s.find_square_of_total()"
      ]
    },
    {
      "cell_type": "code",
      "execution_count": null,
      "id": "299d79f1",
      "metadata": {
        "id": "299d79f1",
        "outputId": "9652f5e7-cdde-4a22-802c-60bb45a7de69"
      },
      "outputs": [
        {
          "name": "stdout",
          "output_type": "stream",
          "text": [
            "10\n",
            "20\n"
          ]
        },
        {
          "ename": "AttributeError",
          "evalue": "'Encapsulation' object has no attribute 'original_value'",
          "output_type": "error",
          "traceback": [
            "\u001b[1;31m---------------------------------------------------------------------------\u001b[0m",
            "\u001b[1;31mAttributeError\u001b[0m                            Traceback (most recent call last)",
            "Input \u001b[1;32mIn [129]\u001b[0m, in \u001b[0;36m<cell line: 24>\u001b[1;34m()\u001b[0m\n\u001b[0;32m     22\u001b[0m e\u001b[38;5;241m.\u001b[39mset_value(\u001b[38;5;241m20\u001b[39m)\n\u001b[0;32m     23\u001b[0m \u001b[38;5;28mprint\u001b[39m(e\u001b[38;5;241m.\u001b[39mvalue())\n\u001b[1;32m---> 24\u001b[0m \u001b[38;5;28mprint\u001b[39m(\u001b[38;5;124m'\u001b[39m\u001b[38;5;124moriginal value\u001b[39m\u001b[38;5;124m'\u001b[39m, \u001b[43me\u001b[49m\u001b[38;5;241;43m.\u001b[39;49m\u001b[43moriginal_value\u001b[49m)\n",
            "\u001b[1;31mAttributeError\u001b[0m: 'Encapsulation' object has no attribute 'original_value'"
          ]
        }
      ],
      "source": [
        "# 10. Create a class named ‘Encapsulation’:\n",
        "# a. Inside the class, first create a constructor. Inside the constructor, initialize\n",
        "# originalValue variable as 10.\n",
        "# b. After creating the constructor, define a function named ‘Value’ and this function\n",
        "# should return the variable that we have initialized in the constructor.\n",
        "# c. Now create 2nd function named setValue, and pass an argument named\n",
        "# ‘newValue’. The task of this function will be to replace the value of the\n",
        "# originalValue variable by the value of the newValue variable.\n",
        "\n",
        "class Encapsulation:\n",
        "    def __init__(self):\n",
        "        self.__original_value = 10\n",
        "\n",
        "    def value(self):\n",
        "        return self.__original_value\n",
        "\n",
        "    def set_value(self, new_value):\n",
        "        self.__original_value = new_value\n",
        "\n",
        "e = Encapsulation()\n",
        "print(e.value())\n",
        "e.set_value(20)\n",
        "print(e.value())\n",
        "print('original value', e.original_value)"
      ]
    },
    {
      "cell_type": "code",
      "execution_count": null,
      "id": "af499cb0",
      "metadata": {
        "id": "af499cb0"
      },
      "outputs": [],
      "source": []
    }
  ],
  "metadata": {
    "kernelspec": {
      "display_name": "Python 3 (ipykernel)",
      "language": "python",
      "name": "python3"
    },
    "language_info": {
      "codemirror_mode": {
        "name": "ipython",
        "version": 3
      },
      "file_extension": ".py",
      "mimetype": "text/x-python",
      "name": "python",
      "nbconvert_exporter": "python",
      "pygments_lexer": "ipython3",
      "version": "3.9.12"
    },
    "colab": {
      "provenance": []
    }
  },
  "nbformat": 4,
  "nbformat_minor": 5
}