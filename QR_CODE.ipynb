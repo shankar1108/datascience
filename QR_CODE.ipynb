{
  "cells": [
    {
      "cell_type": "code",
      "execution_count": null,
      "id": "57e9c9e4-b908-4ff6-8b9e-cb5712aba9cb",
      "metadata": {
        "id": "57e9c9e4-b908-4ff6-8b9e-cb5712aba9cb",
        "outputId": "20fe9420-a510-469d-e84f-ec43eeea4b17"
      },
      "outputs": [
        {
          "name": "stdout",
          "output_type": "stream",
          "text": [
            "Collecting qrcode\n",
            "  Downloading qrcode-7.4.2-py3-none-any.whl.metadata (17 kB)\n",
            "Requirement already satisfied: typing-extensions in c:\\users\\kumar\\anaconda3\\lib\\site-packages (from qrcode) (4.9.0)\n",
            "Collecting pypng (from qrcode)\n",
            "  Downloading pypng-0.20220715.0-py3-none-any.whl.metadata (13 kB)\n",
            "Requirement already satisfied: colorama in c:\\users\\kumar\\anaconda3\\lib\\site-packages (from qrcode) (0.4.6)\n",
            "Downloading qrcode-7.4.2-py3-none-any.whl (46 kB)\n",
            "   ---------------------------------------- 0.0/46.2 kB ? eta -:--:--\n",
            "   ---------------------------------------- 46.2/46.2 kB 1.1 MB/s eta 0:00:00\n",
            "Downloading pypng-0.20220715.0-py3-none-any.whl (58 kB)\n",
            "   ---------------------------------------- 0.0/58.1 kB ? eta -:--:--\n",
            "   ---------------------------------------- 58.1/58.1 kB 1.5 MB/s eta 0:00:00\n",
            "Installing collected packages: pypng, qrcode\n",
            "Successfully installed pypng-0.20220715.0 qrcode-7.4.2\n",
            "Note: you may need to restart the kernel to use updated packages.\n"
          ]
        }
      ],
      "source": [
        "pip install  qrcode"
      ]
    },
    {
      "cell_type": "code",
      "execution_count": null,
      "id": "a8de470d-b71d-4efd-9271-dcd9abc3e83e",
      "metadata": {
        "id": "a8de470d-b71d-4efd-9271-dcd9abc3e83e",
        "outputId": "2ca9ab49-3d9b-42d2-fe52-820e76f7f510"
      },
      "outputs": [
        {
          "name": "stdout",
          "output_type": "stream",
          "text": [
            "[1 2 0 5 6 0]\n"
          ]
        }
      ],
      "source": [
        "import numpy as np\n",
        "a=np.array([1,2,-3,5,6,-6])\n",
        "a[a < 0] = 0\n",
        "print(a)\n"
      ]
    },
    {
      "cell_type": "code",
      "execution_count": null,
      "id": "8fc34689-7578-4399-8070-e671becd7a67",
      "metadata": {
        "scrolled": true,
        "id": "8fc34689-7578-4399-8070-e671becd7a67",
        "outputId": "fb93a33f-3891-44c6-d4c6-aac8c1d68b0a"
      },
      "outputs": [
        {
          "name": "stdout",
          "output_type": "stream",
          "text": [
            "[[1 2 3]\n",
            " [4 5 6]]\n"
          ]
        }
      ],
      "source": [
        "matrix1 = np.array([[1,2,3],[4,5,6]])\n",
        "print(matrix1)"
      ]
    },
    {
      "cell_type": "code",
      "execution_count": null,
      "id": "70c20850-4431-4b6c-82cd-d03719bfb234",
      "metadata": {
        "id": "70c20850-4431-4b6c-82cd-d03719bfb234",
        "outputId": "053af5a0-1df5-4682-fa1f-793fce0372e0"
      },
      "outputs": [
        {
          "name": "stdout",
          "output_type": "stream",
          "text": [
            "\n",
            "Q:\n",
            " [[-0.24253563 -0.9701425 ]\n",
            " [-0.9701425   0.24253563]]\n",
            "\n",
            "R:\n",
            " [[-4.12310563 -5.33578375 -6.54846188]\n",
            " [ 0.         -0.72760688 -1.45521375]]\n"
          ]
        }
      ],
      "source": [
        "q, r = np.linalg.qr(matrix1)\n",
        "print('\\nQ:\\n',q)\n",
        "print('\\nR:\\n',r)\n",
        "qr_data = str(q) + '\\n' + str(r)"
      ]
    },
    {
      "cell_type": "code",
      "execution_count": null,
      "id": "d4775ced-e9c4-4e3a-8863-c55b2ba2455a",
      "metadata": {
        "id": "d4775ced-e9c4-4e3a-8863-c55b2ba2455a",
        "outputId": "f9a9554f-b94f-41d0-bf5e-f23c6bbce714"
      },
      "outputs": [
        {
          "name": "stdout",
          "output_type": "stream",
          "text": [
            "QR code generated successfully\n"
          ]
        }
      ],
      "source": [
        "import qrcode\n",
        "qr = qrcode.make(qr_data)\n",
        "qr.save(\"qr_code11.png\")\n",
        "print(\"QR code generated successfully\")"
      ]
    },
    {
      "cell_type": "code",
      "execution_count": null,
      "id": "2da6941d-1925-49df-90a7-a5388ea4e322",
      "metadata": {
        "id": "2da6941d-1925-49df-90a7-a5388ea4e322",
        "outputId": "23d326d4-a5c5-4e0e-fc26-19d54a79db27"
      },
      "outputs": [
        {
          "name": "stdout",
          "output_type": "stream",
          "text": [
            "[('joe', 32,    6) ('marry', 15,   20) ('tharun', 80,  100)\n",
            " ('kumar', 38, 9001)]\n",
            "('joe', 32, 6)\n",
            "['joe' 'marry' 'tharun' 'kumar']\n",
            "['kumar']\n"
          ]
        }
      ],
      "source": [
        "data = np.array([(\"joe\",32,6),\n",
        "                 (\"marry\",15,20),\n",
        "                 (\"tharun\",80,100),\n",
        "                 (\"kumar\",38,9001),],\n",
        "                dtype=[(\"name\", str,10),(\"age\",int),(\"power\",int)])\n",
        "print(data)\n",
        "print(data[0])\n",
        "print(data[\"name\"])\n",
        "print(data[data[\"power\"]>9000][\"name\"])"
      ]
    },
    {
      "cell_type": "code",
      "execution_count": null,
      "id": "250a39b4-06ae-4725-84e8-dec50716d463",
      "metadata": {
        "id": "250a39b4-06ae-4725-84e8-dec50716d463",
        "outputId": "e9b50637-4f02-4e0b-d127-a4e0fb63a800"
      },
      "outputs": [
        {
          "name": "stdout",
          "output_type": "stream",
          "text": [
            "<class 'numpy.ndarray'>\n",
            "(1080, 1080, 4)\n"
          ]
        }
      ],
      "source": [
        "import matplotlib.image as mpimg\n",
        "img = mpimg.imread(r\"C:\\Users\\kumar\\OneDrive\\Desktop\\LOGO 23-24.png\")#raw sring (r)\n",
        "print(type(img))\n",
        "print(img.shape)\n",
        ""
      ]
    },
    {
      "cell_type": "code",
      "execution_count": null,
      "id": "2b9d9902-d89a-499d-9f24-fa08eb25a476",
      "metadata": {
        "id": "2b9d9902-d89a-499d-9f24-fa08eb25a476"
      },
      "outputs": [],
      "source": [
        "from PIL import Image\n",
        "from numpy import asarray\n"
      ]
    },
    {
      "cell_type": "code",
      "execution_count": null,
      "id": "9da09f8d-10a8-4215-8052-a26a7eec460b",
      "metadata": {
        "id": "9da09f8d-10a8-4215-8052-a26a7eec460b",
        "outputId": "2cc909b5-c5ed-4415-8c76-57f95f79667d"
      },
      "outputs": [
        {
          "name": "stdout",
          "output_type": "stream",
          "text": [
            "[[[255 255 255   0]\n",
            "  [255 255 255   0]\n",
            "  [255 255 255   0]\n",
            "  ...\n",
            "  [255 255 255   0]\n",
            "  [255 255 255   0]\n",
            "  [255 255 255   0]]\n",
            "\n",
            " [[255 255 255   0]\n",
            "  [255 255 255   0]\n",
            "  [255 255 255   0]\n",
            "  ...\n",
            "  [255 255 255   0]\n",
            "  [255 255 255   0]\n",
            "  [255 255 255   0]]\n",
            "\n",
            " [[255 255 255   0]\n",
            "  [255 255 255   0]\n",
            "  [255 255 255   0]\n",
            "  ...\n",
            "  [255 255 255   0]\n",
            "  [255 255 255   0]\n",
            "  [255 255 255   0]]\n",
            "\n",
            " ...\n",
            "\n",
            " [[255 255 255   0]\n",
            "  [255 255 255   0]\n",
            "  [255 255 255   0]\n",
            "  ...\n",
            "  [255 255 255   0]\n",
            "  [255 255 255   0]\n",
            "  [255 255 255   0]]\n",
            "\n",
            " [[255 255 255   0]\n",
            "  [255 255 255   0]\n",
            "  [255 255 255   0]\n",
            "  ...\n",
            "  [255 255 255   0]\n",
            "  [255 255 255   0]\n",
            "  [255 255 255   0]]\n",
            "\n",
            " [[255 255 255   0]\n",
            "  [255 255 255   0]\n",
            "  [255 255 255   0]\n",
            "  ...\n",
            "  [255 255 255   0]\n",
            "  [255 255 255   0]\n",
            "  [255 255 255   0]]]\n"
          ]
        }
      ],
      "source": [
        "img = Image.open(r\"C:\\Users\\kumar\\OneDrive\\Desktop\\LOGO 23-24.png\")\n",
        "numpydata = asarray(img)\n",
        "print(numpydata)"
      ]
    },
    {
      "cell_type": "code",
      "execution_count": null,
      "id": "969c56c9-bf19-43ef-afa5-8975418cf742",
      "metadata": {
        "id": "969c56c9-bf19-43ef-afa5-8975418cf742"
      },
      "outputs": [],
      "source": [
        "import numpy as np\n",
        "import matplotlib.pyplot as plt\n"
      ]
    },
    {
      "cell_type": "code",
      "execution_count": null,
      "id": "2f0749da-a32a-419e-aa4a-5b83e5e0dfbf",
      "metadata": {
        "id": "2f0749da-a32a-419e-aa4a-5b83e5e0dfbf",
        "outputId": "9be6619a-4c7f-46ad-9b76-37f888ad7683"
      },
      "outputs": [
        {
          "data": {
            "image/png": "[encoded data removed]",
            "text/plain": [
              "<Figure size 640x480 with 2 Axes>"
            ]
          },
          "metadata": {},
          "output_type": "display_data"
        }
      ],
      "source": [
        "plt.imshow(q, cmap='inferno')\n",
        "plt.title('matrix Q')\n",
        "plt.colorbar()\n",
        "plt.show()"
      ]
    },
    {
      "cell_type": "code",
      "execution_count": null,
      "id": "07876587-333c-41c0-8b43-e0609ae0f3d0",
      "metadata": {
        "id": "07876587-333c-41c0-8b43-e0609ae0f3d0",
        "outputId": "508a1787-52b5-4cec-fc80-b9bdb1a5ba82"
      },
      "outputs": [
        {
          "data": {
            "image/png": "[encoded data removed]",
            "text/plain": [
              "<Figure size 640x480 with 2 Axes>"
            ]
          },
          "metadata": {},
          "output_type": "display_data"
        }
      ],
      "source": [
        "plt.imshow(r, cmap='inferno')\n",
        "plt.title('matrix R')\n",
        "plt.colorbar()\n",
        "plt.show()"
      ]
    },
    {
      "cell_type": "code",
      "execution_count": null,
      "id": "2e5a48f6-8032-4350-ab7b-55f6ffb8d453",
      "metadata": {
        "id": "2e5a48f6-8032-4350-ab7b-55f6ffb8d453"
      },
      "outputs": [],
      "source": []
    }
  ],
  "metadata": {
    "kernelspec": {
      "display_name": "Python 3 (ipykernel)",
      "language": "python",
      "name": "python3"
    },
    "language_info": {
      "codemirror_mode": {
        "name": "ipython",
        "version": 3
      },
      "file_extension": ".py",
      "mimetype": "text/x-python",
      "name": "python",
      "nbconvert_exporter": "python",
      "pygments_lexer": "ipython3",
      "version": "3.11.7"
    },
    "colab": {
      "provenance": []
    }
  },
  "nbformat": 4,
  "nbformat_minor": 5
}