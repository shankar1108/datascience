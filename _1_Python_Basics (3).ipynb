{
  "cells": [
    {
      "cell_type": "code",
      "execution_count": null,
      "id": "ab84dba9",
      "metadata": {
        "id": "ab84dba9"
      },
      "outputs": [],
      "source": []
    },
    {
      "cell_type": "code",
      "source": [
        "print('Welcome to Shiash...')"
      ],
      "metadata": {
        "colab": {
          "base_uri": "https://localhost:8080/"
        },
        "id": "hf3I2ImfukPA",
        "outputId": "879fd70f-f578-4d1a-af1f-07da03cf23a2"
      },
      "id": "hf3I2ImfukPA",
      "execution_count": null,
      "outputs": [
        {
          "output_type": "stream",
          "name": "stdout",
          "text": [
            "Welcome to Shiash...\n"
          ]
        }
      ]
    },
    {
      "cell_type": "code",
      "source": [
        "print(10 + 5)"
      ],
      "metadata": {
        "colab": {
          "base_uri": "https://localhost:8080/"
        },
        "id": "AfXmMnjHurZH",
        "outputId": "38f8bc48-8981-43a5-b598-51ed6a3a51c1"
      },
      "id": "AfXmMnjHurZH",
      "execution_count": null,
      "outputs": [
        {
          "output_type": "stream",
          "name": "stdout",
          "text": [
            "15\n"
          ]
        }
      ]
    },
    {
      "cell_type": "code",
      "source": [
        "num1 = 5000\n",
        "print(num1, id(num1))\n",
        "num = 5000\n",
        "print(num, id(num))"
      ],
      "metadata": {
        "colab": {
          "base_uri": "https://localhost:8080/"
        },
        "id": "pVxA9kvguxQP",
        "outputId": "aad5b6c8-9be3-424c-dbcd-710e6d40c555"
      },
      "id": "pVxA9kvguxQP",
      "execution_count": null,
      "outputs": [
        {
          "output_type": "stream",
          "name": "stdout",
          "text": [
            "5000 133198502857872\n",
            "5000 133198502857648\n"
          ]
        }
      ]
    },
    {
      "cell_type": "code",
      "source": [
        "a=10\n",
        "a"
      ],
      "metadata": {
        "colab": {
          "base_uri": "https://localhost:8080/"
        },
        "id": "LrO1bF-bsvvV",
        "outputId": "3de9cb4b-836d-4e03-bdfa-e15c8729963b"
      },
      "id": "LrO1bF-bsvvV",
      "execution_count": null,
      "outputs": [
        {
          "output_type": "execute_result",
          "data": {
            "text/plain": [
              "10"
            ]
          },
          "metadata": {},
          "execution_count": 10
        }
      ]
    },
    {
      "cell_type": "code",
      "source": [
        "a=10\n",
        "b=20\n",
        "a+b"
      ],
      "metadata": {
        "colab": {
          "base_uri": "https://localhost:8080/"
        },
        "id": "Gonm3WG3sy4d",
        "outputId": "e675a607-d216-4e99-ace4-95e413d9a567"
      },
      "id": "Gonm3WG3sy4d",
      "execution_count": null,
      "outputs": [
        {
          "output_type": "execute_result",
          "data": {
            "text/plain": [
              "30"
            ]
          },
          "metadata": {},
          "execution_count": 12
        }
      ]
    },
    {
      "cell_type": "code",
      "execution_count": null,
      "metadata": {
        "id": "41a56d5a",
        "outputId": "90d2ce30-a31b-4041-cdb1-4181f63237ea"
      },
      "outputs": [
        {
          "name": "stdout",
          "output_type": "stream",
          "text": [
            "10 <class 'int'>\n",
            "10.5 <class 'float'>\n",
            "vasanth <class 'str'>\n",
            "a <class 'str'>\n",
            "False <class 'bool'>\n"
          ]
        }
      ],
      "source": [
        "# dynamically typed\n",
        "\n",
        "num = 10 # integers -> 4 byte\n",
        "print(num, type(num))\n",
        "\n",
        "num = 10.5 # float -> 8 bytes\n",
        "print(num, type(num))\n",
        "\n",
        "num = 'vasanth' # char -> each character takes 1 byte -> 7 bytes\n",
        "print(num, type(num))\n",
        "\n",
        "num = 'a' # 1 byte\n",
        "print(num, type(num))\n",
        "\n",
        "num = False # True -> 1 byte\n",
        "print(num, type(num))"
      ],
      "id": "41a56d5a"
    },
    {
      "cell_type": "code",
      "source": [
        "a = '10'\n",
        "b = 5\n",
        "#print(a + b) # typeerror -> str cant concat with int\n",
        "\n",
        "\n",
        "a = '10'\n",
        "b = '5'\n",
        "print(a + b)\n",
        "\n",
        "a = False\n",
        "b = 5\n",
        "print(a + b)\n",
        "\n",
        "a = True\n",
        "b = False\n",
        "print(a + b)\n",
        "\n",
        "\n",
        "# pascal case -> FirstName, LastName -> class\n",
        "# camel case -> firstOfName, lastOfName -> not used\n",
        "# snake case -> first_name, last_name, age_of_person -> variables(nouns), functions(action   verbs)"
      ],
      "metadata": {
        "colab": {
          "base_uri": "https://localhost:8080/"
        },
        "id": "DyaTRvixu-3p",
        "outputId": "3a93dd53-1b45-4de2-a167-06af938af76e"
      },
      "id": "DyaTRvixu-3p",
      "execution_count": null,
      "outputs": [
        {
          "output_type": "stream",
          "name": "stdout",
          "text": [
            "105\n",
            "5\n",
            "1\n"
          ]
        }
      ]
    },
    {
      "cell_type": "code",
      "execution_count": null,
      "id": "1492aa55",
      "metadata": {
        "id": "1492aa55",
        "outputId": "975ad6c1-8201-4e47-abca-96210f46b7d0"
      },
      "outputs": [
        {
          "name": "stdout",
          "output_type": "stream",
          "text": [
            "Suresh 29 is a \"natural\" swimmer\n"
          ]
        }
      ],
      "source": [
        "name,age = \"Suresh\",29\n",
        "print(name,age,\"is a \\\"natural\\\" swimmer\")\n"
      ]
    },
    {
      "cell_type": "code",
      "source": [
        " # strings\n",
        "first_name = 'sachin'\n",
        "last_name = 'tendulkar'\n",
        "\n",
        "# sachin tendulkar is a good cricketer\n",
        "print(first_name, last_name, 'is a good cricketer')\n",
        "\n",
        "# 'sachin tendulkar' is a good cricketer\n",
        "# print(\"'\" + first_name + \" \"  + last_name + \"'\" + \"is a good cricketer\")\n",
        "\n",
        "# formatted strings\n",
        " print(f\" '{first_name} {last_name}' is a good cricketer\")\n",
        "\n",
        "# \"sachin tendulkar\" is a good cricketer\n",
        "# print(f' \"{first_name} {last_name}\" is a good cricketer')\n",
        "\n",
        "# \"sachin tendulkar\" is a 'good' cricketer\n",
        "# ''' ''' or \"\"\" \"\"\"\n",
        "print(f\"\"\" \"{first_name} {last_name}\" is a 'good' cricketer\"\"\")\n",
        "print(f''' \"{first_name} {last_name}\" is a 'good' cricketer ''')\n",
        "\n",
        "# triple quotes is primarily used for multiline strings\n",
        "poem = \"\"\"Johnny johhny yes papa\n",
        "eat sugar no papa\n",
        "telling lies no papa\n",
        "open your mouth hahaha\"\"\"\n",
        "\n",
        "print(poem)"
      ],
      "metadata": {
        "id": "Jaro0mVpjiDR",
        "colab": {
          "base_uri": "https://localhost:8080/"
        },
        "outputId": "e3836ff3-bc77-41c1-8b4b-befbff46f707"
      },
      "id": "Jaro0mVpjiDR",
      "execution_count": null,
      "outputs": [
        {
          "output_type": "stream",
          "name": "stdout",
          "text": [
            "sachin tendulkar is a good cricketer\n",
            " 'sachin tendulkar' is a good cricketer\n",
            " \"sachin tendulkar\" is a 'good' cricketer\n",
            " \"sachin tendulkar\" is a 'good' cricketer \n",
            "Johnny johhny yes papa\n",
            "eat sugar no papa\n",
            "telling lies no papa\n",
            "open your mouth hahaha\n"
          ]
        }
      ]
    },
    {
      "cell_type": "code",
      "source": [
        "num1 = input('Enter the num1: ')\n",
        "num2 = input('Enter the num2: ')\n",
        "print(type(num1), type(num2), num1, num2)\n",
        "\n",
        "# process of converting one data type to another data type is called typecasting\n",
        "num1 = int(num1)\n",
        "num2 = int(num2)\n",
        "print(type(num1), type(num2), num1 + num2)\n",
        "\n",
        "# num1 = float(num1)\n",
        "# num2 = float(num2)\n",
        "# print(type(num1), type(num2), num1 + num2)\n",
        "\n",
        "# print(int(10.5), int('10.5'))\n",
        "\n",
        "# any number -> bool -> True\n",
        "# 0 -> bool -> False\n",
        "num1 = bool(int(num1))\n",
        "num2 = bool(int(num2))\n",
        "print(num1, num2, type(num2))"
      ],
      "metadata": {
        "colab": {
          "base_uri": "https://localhost:8080/"
        },
        "id": "55jD6ahQjo9W",
        "outputId": "c10d415a-c61c-4acb-abdc-da0ad804da40"
      },
      "id": "55jD6ahQjo9W",
      "execution_count": null,
      "outputs": [
        {
          "output_type": "stream",
          "name": "stdout",
          "text": [
            "Enter the num1: 12\n",
            "Enter the num2: 23\n",
            "<class 'str'> <class 'str'> 12 23\n",
            "True True <class 'bool'>\n"
          ]
        }
      ]
    },
    {
      "cell_type": "code",
      "source": [
        "# strings\n",
        "name = 'poonam'\n",
        "# P O O N A M\n",
        "# 0 1 2 3 4 5\n",
        "print(name)\n",
        "print(name[0], name[1], name[2], name[3], name[4], name[5], name[6]) # index error"
      ],
      "metadata": {
        "colab": {
          "base_uri": "https://localhost:8080/"
        },
        "id": "Tip-JgchjrHJ",
        "outputId": "e9a6f7ee-fb4d-4c02-c96f-76f4f587e61c"
      },
      "id": "Tip-JgchjrHJ",
      "execution_count": null,
      "outputs": [
        {
          "output_type": "stream",
          "name": "stdout",
          "text": [
            "poonam\n"
          ]
        }
      ]
    },
    {
      "cell_type": "code",
      "source": [
        "# strings are immutable ->\n",
        "country = 'INDIA'\n",
        "# print(country[0])\n",
        "# country[0] = 'J' # type error\n",
        "# JNDIA\n",
        "country = 'australia'\n",
        "print(country)"
      ],
      "metadata": {
        "colab": {
          "base_uri": "https://localhost:8080/"
        },
        "id": "3dzq_uqYjkwD",
        "outputId": "786155ba-e05a-4cb3-deb8-71e1cef775b8"
      },
      "id": "3dzq_uqYjkwD",
      "execution_count": null,
      "outputs": [
        {
          "output_type": "stream",
          "name": "stdout",
          "text": [
            "australia\n"
          ]
        }
      ]
    },
    {
      "cell_type": "code",
      "source": [
        "name = 'sHiPra sIngla is a good singer'\n",
        "print(name.upper())\n",
        "print(name.lower())\n",
        "print(name.capitalize())\n",
        "print(name.title())"
      ],
      "metadata": {
        "colab": {
          "base_uri": "https://localhost:8080/"
        },
        "id": "0ocbVF4ckE96",
        "outputId": "9c803399-d1a1-4607-91fc-d75c64443136"
      },
      "id": "0ocbVF4ckE96",
      "execution_count": null,
      "outputs": [
        {
          "output_type": "stream",
          "name": "stdout",
          "text": [
            "SHIPRA SINGLA IS A GOOD SINGER\n",
            "shipra singla is a good singer\n",
            "Shipra singla is a good singer\n",
            "Shipra Singla Is A Good Singer\n"
          ]
        }
      ]
    },
    {
      "cell_type": "code",
      "source": [
        "# strip\n",
        "game = '             god of war        '\n",
        "print(\"Length         :\",game, len(game))\n",
        "print(game.strip(), len(game.strip())) # default it'll take space\n",
        "game = 'racecar'\n",
        "print(\"Strip          :\",game.strip('r')) # both beginning and ending chars of the string\n",
        "print(\"Left Strip     :\",game.lstrip('r'))\n",
        "print(\"Right Strip    :\",game.rstrip('r'))\n",
        "print(\"Lower Case     :\",game.islower())\n",
        "print(\"Upper Case     :\",game.isupper())\n",
        "print(\"is digits      :\",game.isdigit())\n",
        "print(\"is alphabetic  :\",game.isalpha())\n",
        "print(\"is alphanumeric:\",game.isalnum())\n",
        "print(\"Starts with  r :\",game.startswith('r'))\n",
        "print(\"ends with r    :\",game.endswith('r'))\n",
        "print(\"Replace with   :\",game.replace('race', 'run'))\n",
        "print(\"count of r     :\",game.count('r'))\n",
        "print(\"find           :\",game.find('car'))\n",
        "print(\"index of       :\",game.index('car'))\n",
        "print(\"index of       :\",game.split(' '))\n",
        "print(\"swap case      :\",game.swapcase())\n",
        "print(\"title          :\",game.title())\n",
        "print(\"center         :\",game.center(20, '#'))\n",
        "print(\"zfill          :\",game.zfill(20))"
      ],
      "metadata": {
        "colab": {
          "base_uri": "https://localhost:8080/"
        },
        "id": "W1Ozl5g0l6VO",
        "outputId": "02f47538-5db4-4179-c38d-79b45af92a10"
      },
      "id": "W1Ozl5g0l6VO",
      "execution_count": null,
      "outputs": [
        {
          "output_type": "stream",
          "name": "stdout",
          "text": [
            "Length         :              god of war         31\n",
            "god of war 10\n",
            "Strip          : aceca\n",
            "Left Strip     : acecar\n",
            "Right Strip    : raceca\n",
            "Lower Case     : True\n",
            "Upper Case     : False\n",
            "is digits      : False\n",
            "is alphabetic  : True\n",
            "is alphanumeric: True\n",
            "Starts with  r : True\n",
            "ends with r    : True\n",
            "Replace with   : runcar\n",
            "count of r     : 2\n",
            "find           : 4\n",
            "index of       : 4\n",
            "index of       : ['racecar']\n",
            "swap case      : RACECAR\n",
            "title          : Racecar\n",
            "center         : ######racecar#######\n",
            "zfill          : 0000000000000racecar\n"
          ]
        }
      ]
    },
    {
      "cell_type": "code",
      "source": [
        "game = 'racecar'\n",
        "print(\"find           :\",game.find('car'))"
      ],
      "metadata": {
        "colab": {
          "base_uri": "https://localhost:8080/"
        },
        "id": "a5g8f5Z8KCyf",
        "outputId": "b4732a04-0552-4d73-a67b-9ceb80c600de"
      },
      "id": "a5g8f5Z8KCyf",
      "execution_count": null,
      "outputs": [
        {
          "output_type": "stream",
          "name": "stdout",
          "text": [
            "find           : 4\n"
          ]
        }
      ]
    },
    {
      "cell_type": "code",
      "source": [
        "systolic=int(input(\"Enter sys\").strip())\n",
        "diastolic=int(input(\"Enter dias\").strip())\n",
        "if ((systolic>120 & systolic<129) & (diastolic <80)):\n",
        "  print(\"Elevated BP\")\n",
        "elif ((systolic>180) & (diastolic >120)):\n",
        "  print(\"Hypertension\")\n",
        "else:\n",
        "  print(\"not\")"
      ],
      "metadata": {
        "colab": {
          "base_uri": "https://localhost:8080/"
        },
        "id": "A_i4bso0K9IB",
        "outputId": "195e37c4-1d52-47fb-cbdb-7f5358941b0e"
      },
      "id": "A_i4bso0K9IB",
      "execution_count": null,
      "outputs": [
        {
          "output_type": "stream",
          "name": "stdout",
          "text": [
            "Enter sys345\n",
            "Enter dias300\n",
            "Hypertension\n"
          ]
        }
      ]
    },
    {
      "cell_type": "code",
      "source": [
        "#program to generate image file names randomly\n",
        "image_numbers = [1, 12, 5, 123]\n",
        "for num in image_numbers:\n",
        "    filename = f\"image_{str(num).zfill(4)}.png\"\n",
        "    print(filename)"
      ],
      "metadata": {
        "colab": {
          "base_uri": "https://localhost:8080/"
        },
        "id": "iynRVRsWtMzK",
        "outputId": "2385f8b3-65f7-4427-d577-4564c96ad2f3"
      },
      "id": "iynRVRsWtMzK",
      "execution_count": null,
      "outputs": [
        {
          "output_type": "stream",
          "name": "stdout",
          "text": [
            "image_0001.png\n",
            "image_0012.png\n",
            "image_0005.png\n",
            "image_0123.png\n"
          ]
        }
      ]
    },
    {
      "cell_type": "code",
      "source": [
        "name=['d','e','e','p','i','k','a']\n",
        "print(name[0::2])"
      ],
      "metadata": {
        "colab": {
          "base_uri": "https://localhost:8080/"
        },
        "id": "_PI1IU63N0qy",
        "outputId": "ffabd2df-90a2-4580-ba99-20103b3dae98"
      },
      "id": "_PI1IU63N0qy",
      "execution_count": null,
      "outputs": [
        {
          "output_type": "stream",
          "name": "stdout",
          "text": [
            "['d', 'e', 'i', 'a']\n"
          ]
        }
      ]
    },
    {
      "cell_type": "code",
      "source": [
        "language = 'Python  is a PPP good language'\n",
        "# print(language.replace('  ', ' '))\n",
        "print(language.replace('P', 'C')) # all the P will be replaced by C\n",
        "print(language.replace('P', 'C', 2)) # count\n",
        "print(language)\n",
        "print(language[::-1])\n",
        "language.split(' ')\n",
        "language.find('good')\n"
      ],
      "metadata": {
        "colab": {
          "base_uri": "https://localhost:8080/"
        },
        "id": "BSj5l7ZCmIRx",
        "outputId": "f052afc5-401c-4c5f-859a-8ea3e086c463"
      },
      "id": "BSj5l7ZCmIRx",
      "execution_count": null,
      "outputs": [
        {
          "output_type": "stream",
          "name": "stdout",
          "text": [
            "Cython  is a CCC good language\n",
            "Cython  is a CPP good language\n",
            "Python  is a PPP good language\n",
            "egaugnal doog PPP a si  nohtyP\n"
          ]
        },
        {
          "output_type": "execute_result",
          "data": {
            "text/plain": [
              "17"
            ]
          },
          "metadata": {},
          "execution_count": 17
        }
      ]
    },
    {
      "cell_type": "code",
      "source": [
        "#Write a program to check Palindrome or not"
      ],
      "metadata": {
        "id": "LqM7sre8pUOx"
      },
      "id": "LqM7sre8pUOx",
      "execution_count": null,
      "outputs": []
    },
    {
      "cell_type": "markdown",
      "source": [],
      "metadata": {
        "id": "5p-BRKSwjc6b"
      },
      "id": "5p-BRKSwjc6b"
    },
    {
      "cell_type": "code",
      "source": [
        "a=input(\"Enter a string: \")\n",
        "s=a[::-1]\n",
        "if s==a:\n",
        "    print(\"Yes, it's a palindrome!\")\n",
        "else:\n",
        "    print(\"No, it's not a palindrome.\")"
      ],
      "metadata": {
        "colab": {
          "base_uri": "https://localhost:8080/"
        },
        "id": "FFd3g59cpawo",
        "outputId": "3fb9d6ff-9ed9-4835-8b0b-d50949324358"
      },
      "id": "FFd3g59cpawo",
      "execution_count": null,
      "outputs": [
        {
          "output_type": "stream",
          "name": "stdout",
          "text": [
            "Enter a string: fghdf\n",
            "No, it's not a palindrome.\n"
          ]
        }
      ]
    },
    {
      "cell_type": "code",
      "source": [
        "def count_vowels(s):\n",
        "    vowels = \"aeiouAEIOU\"\n",
        "    count = 0\n",
        "    for char in s:\n",
        "        if char in vowels:\n",
        "            count += 1\n",
        "    return count\n",
        "\n",
        "text = \"Hello, World!\"\n",
        "print(f\"Number of vowels in '{text}': {count_vowels(text)}\")\n",
        "# Output: Number of vowels in 'Hello, World!': 3"
      ],
      "metadata": {
        "id": "NPxDGkpy5gsb"
      },
      "id": "NPxDGkpy5gsb",
      "execution_count": null,
      "outputs": []
    },
    {
      "cell_type": "code",
      "source": [
        "def is_palindrome(s):\n",
        "    s = s.lower().replace(\" \", \"\")  # Normalize the string\n",
        "    return s == s[::-1]\n",
        "\n",
        "text1 = \"A man a plan a canal Panama\"\n",
        "text2 = \"Hello, World!\"\n",
        "print(f\"'{text1}' is a palindrome: {is_palindrome(text1)}\")\n",
        "# Output: 'A man a plan a canal Panama' is a palindrome: True\n",
        "print(f\"'{text2}' is a palindrome: {is_palindrome(text2)}\")\n",
        "# Output: 'Hello, World!' is a palindrome: False"
      ],
      "metadata": {
        "id": "Z7TEHdIh5vtn"
      },
      "id": "Z7TEHdIh5vtn",
      "execution_count": null,
      "outputs": []
    },
    {
      "cell_type": "code",
      "source": [
        "def check(string):\n",
        "    if len(set(string.lower()).intersection(\"aeiou\")) >= 5:\n",
        "        return ('accepted')\n",
        "    else:\n",
        "        return (\"not accepted\")\n",
        "\n",
        "\n",
        "string = \"aeiou\"\n",
        "print(check(string))"
      ],
      "metadata": {
        "colab": {
          "base_uri": "https://localhost:8080/"
        },
        "id": "zmKnVrt07gWE",
        "outputId": "1bb0ead3-297a-4430-ea17-90298b0fb961"
      },
      "id": "zmKnVrt07gWE",
      "execution_count": null,
      "outputs": [
        {
          "output_type": "stream",
          "name": "stdout",
          "text": [
            "accepted\n"
          ]
        }
      ]
    },
    {
      "cell_type": "code",
      "source": [],
      "metadata": {
        "colab": {
          "base_uri": "https://localhost:8080/"
        },
        "id": "8gOZNUBi-Uyr",
        "outputId": "7eb29610-15a2-4ad6-fe0d-0f7dcbd8b47e"
      },
      "id": "8gOZNUBi-Uyr",
      "execution_count": null,
      "outputs": [
        {
          "output_type": "stream",
          "name": "stdout",
          "text": [
            "The original string is : zero four zero one\n",
            "The string after performing replace : 0401\n"
          ]
        }
      ]
    },
    {
      "cell_type": "code",
      "source": [
        "original_string = 'zero four zero one'\n",
        "\n",
        "result = ''.join(['0' if word == 'zero' else '1' if word == 'one' else '2' if word == 'two' else '3' if word == 'three' else '4' if word == 'four' else '5' if word == 'five' else '6' if word == 'six' else '7' if word == 'seven' else '8' if word == 'eight' else '9' for word in original_string.split()])\n",
        "\n",
        "print(result)"
      ],
      "metadata": {
        "id": "pWMQ46VZPEem"
      },
      "id": "pWMQ46VZPEem",
      "execution_count": null,
      "outputs": []
    },
    {
      "cell_type": "code",
      "source": [
        "# Defining the Function\n",
        "def EvenOdd(n):\n",
        "  print(\"Even Number\") if(n%2 == 0) else print(\"Odd Number\")\n",
        "\n",
        "# Calling the Function:\n",
        "EvenOdd(21) # Output: Odd Number\n",
        "EvenOdd(12) # Output: Even Number"
      ],
      "metadata": {
        "colab": {
          "base_uri": "https://localhost:8080/"
        },
        "id": "MabOgoLatVZH",
        "outputId": "6e5113d9-1968-47a2-f1bd-8078f8742647"
      },
      "id": "MabOgoLatVZH",
      "execution_count": null,
      "outputs": [
        {
          "output_type": "stream",
          "name": "stdout",
          "text": [
            "Odd Number\n",
            "Even Number\n"
          ]
        }
      ]
    },
    {
      "cell_type": "code",
      "source": [
        "s=input( )\n",
        "print(sorted(s))"
      ],
      "metadata": {
        "colab": {
          "base_uri": "https://localhost:8080/"
        },
        "id": "mOFYV-PLoiIq",
        "outputId": "05c78049-9343-4f91-d76f-259d4de4ae0b"
      },
      "id": "mOFYV-PLoiIq",
      "execution_count": null,
      "outputs": [
        {
          "output_type": "stream",
          "name": "stdout",
          "text": [
            "gfdfgsertergdf\n",
            "['d', 'd', 'e', 'e', 'f', 'f', 'f', 'g', 'g', 'g', 'r', 'r', 's', 't']\n"
          ]
        }
      ]
    },
    {
      "cell_type": "code",
      "source": [
        "a=input(\"enter the name \")\n",
        "b=input(\"enter the name \")\n",
        "c = a + b\n",
        "sorted_c = sorted(c)\n",
        "result = ''.join(sorted_c)\n",
        "print(\"Sorted c of the names:\", result)\n"
      ],
      "metadata": {
        "colab": {
          "base_uri": "https://localhost:8080/"
        },
        "id": "RmQ6ZXJ1ok6J",
        "outputId": "390ba5c1-701f-4bd2-b997-1d863806bc4e"
      },
      "id": "RmQ6ZXJ1ok6J",
      "execution_count": null,
      "outputs": [
        {
          "output_type": "stream",
          "name": "stdout",
          "text": [
            "enter the name rfghghj\n",
            "enter the name ghjghjg\n",
            "Sorted c of the names: fggggghhhhjjjr\n"
          ]
        }
      ]
    },
    {
      "cell_type": "code",
      "execution_count": null,
      "id": "c38a9287",
      "metadata": {
        "id": "c38a9287",
        "outputId": "92953999-c21c-4018-8eee-7a0ab0b328f3"
      },
      "outputs": [
        {
          "name": "stdout",
          "output_type": "stream",
          "text": [
            "False\n"
          ]
        }
      ],
      "source": [
        "a = 10\n",
        "b = 20\n",
        "print(a>b)"
      ]
    },
    {
      "cell_type": "code",
      "execution_count": null,
      "id": "70e7c646",
      "metadata": {
        "colab": {
          "base_uri": "https://localhost:8080/"
        },
        "id": "70e7c646",
        "outputId": "292349a6-4799-4841-f509-83e6307761f3"
      },
      "outputs": [
        {
          "output_type": "stream",
          "name": "stdout",
          "text": [
            "True\n"
          ]
        }
      ],
      "source": [
        "a = 10\n",
        "b = 10.0\n",
        "print(a is not b)"
      ]
    },
    {
      "cell_type": "code",
      "execution_count": null,
      "id": "60787413",
      "metadata": {
        "id": "60787413",
        "outputId": "6b6a6fc9-5231-40f6-9719-a2bf69efa92e"
      },
      "outputs": [
        {
          "name": "stdout",
          "output_type": "stream",
          "text": [
            "True\n"
          ]
        }
      ],
      "source": [
        "a = [10]\n",
        "b = {10,20}\n",
        "print(a[0] in b)"
      ]
    },
    {
      "cell_type": "code",
      "execution_count": null,
      "id": "6710c8c6",
      "metadata": {
        "id": "6710c8c6",
        "outputId": "fc8996e7-b3d9-485a-b9e7-5981c2a12c08"
      },
      "outputs": [
        {
          "name": "stdout",
          "output_type": "stream",
          "text": [
            "False\n"
          ]
        }
      ],
      "source": [
        "a = 10\n",
        "b = 20\n",
        "print(a > 5 & b > 15)"
      ]
    },
    {
      "cell_type": "code",
      "execution_count": null,
      "id": "f63965be",
      "metadata": {
        "id": "f63965be",
        "outputId": "dfa979ef-04d9-4f8f-9a0f-e3a2b11992ef"
      },
      "outputs": [
        {
          "name": "stdout",
          "output_type": "stream",
          "text": [
            "True\n"
          ]
        }
      ],
      "source": [
        "a = 10\n",
        "b = 20\n",
        "print(a > 5 or b > 15)"
      ]
    },
    {
      "cell_type": "code",
      "source": [
        "# Create a list\n",
        "my_list = [3, 1, 4, 1, 5, 9, 2, 6]\n",
        "\n",
        "# Append an element\n",
        "my_list.append(5)\n",
        "print(my_list)  # Output: [3, 1, 4, 1, 5, 9, 2, 6, 5]\n",
        "\n",
        "# Extend the list\n",
        "my_list.extend([3, 5])\n",
        "print(my_list)  # Output: [3, 1, 4, 1, 5, 9, 2, 6, 5, 3, 5]\n",
        "\n",
        "# Insert an element at a specific position\n",
        "my_list.insert(2, 7)\n",
        "print(my_list)  # Output: [3, 1, 7, 4, 1, 5, 9, 2, 6, 5, 3, 5]\n",
        "\n",
        "# Remove an element\n",
        "my_list.remove(1)\n",
        "print(my_list)  # Output: [3, 7, 4, 1, 5, 9, 2, 6, 5, 3, 5]\n",
        "\n",
        "# Pop an element\n",
        "popped_element = my_list.pop(3)\n",
        "print(popped_element)  # Output: 1\n",
        "print(my_list)         # Output: [3, 7, 4, 5, 9, 2, 6, 5, 3, 5]\n",
        "\n",
        "# Clear the list\n",
        "my_list.clear()\n",
        "print(my_list)  # Output: []\n",
        "\n",
        "# Recreate a list for further methods\n",
        "my_list = [3, 1, 4, 1, 5, 9, 2, 6]\n",
        "\n",
        "# Find the index of an element\n",
        "index_of_4 = my_list.index(4)\n",
        "print(index_of_4)  # Output: 2\n",
        "\n",
        "# Count occurrences of an element\n",
        "count_of_1 = my_list.count(1)\n",
        "print(count_of_1)  # Output: 2\n",
        "\n",
        "# Sort the list\n",
        "my_list.sort()\n",
        "print(my_list)  # Output: [1, 1, 2, 3, 4, 5, 6, 9]\n",
        "\n",
        "# Reverse the list\n",
        "my_list.reverse()\n",
        "print(my_list)  # Output: [9, 6, 5, 4, 3, 2, 1, 1]\n",
        "\n",
        "# Copy the list\n",
        "my_list_copy = my_list.copy()\n",
        "print(my_list_copy)  # Output: [9, 6, 5, 4, 3, 2, 1, 1]"
      ],
      "metadata": {
        "id": "BkrbI2bGzLJj"
      },
      "id": "BkrbI2bGzLJj",
      "execution_count": null,
      "outputs": []
    },
    {
      "cell_type": "code",
      "execution_count": null,
      "id": "53219eb0",
      "metadata": {
        "id": "53219eb0",
        "outputId": "9152dd21-81d0-4a02-d3b1-3a2d1e6b4d67"
      },
      "outputs": [
        {
          "name": "stdout",
          "output_type": "stream",
          "text": [
            "5 and 6\n"
          ]
        }
      ],
      "source": [
        "a = [1,2,3,4,5]\n",
        "\n",
        "b = [2,3,4,5,6]\n",
        "\n",
        "print(a[-1],\"and\",b[len(b)-1])"
      ]
    },
    {
      "cell_type": "code",
      "execution_count": null,
      "id": "43771742",
      "metadata": {
        "id": "43771742",
        "outputId": "a6cd2caf-7726-493b-83cf-dd33ebac0070"
      },
      "outputs": [
        {
          "name": "stdout",
          "output_type": "stream",
          "text": [
            "[8, 6, 4, 2, 0]\n"
          ]
        }
      ],
      "source": [
        "a = list(range(0,10,2))\n",
        "\n",
        "print(a[::-1])"
      ]
    },
    {
      "cell_type": "code",
      "execution_count": null,
      "id": "52886bad",
      "metadata": {
        "id": "52886bad",
        "outputId": "62c9dcc5-e71d-4b0d-b3eb-2f4df5842d52"
      },
      "outputs": [
        {
          "name": "stdout",
          "output_type": "stream",
          "text": [
            "dict_keys([29, 32, 41])\n"
          ]
        }
      ],
      "source": [
        "a = [[29, 'Rajesh'],[32, 'Ramesh'],[41, 'Dev']]\n",
        "\n",
        "b = dict(a)\n",
        "\n",
        "print(b.keys())"
      ]
    },
    {
      "cell_type": "code",
      "execution_count": null,
      "id": "19711172",
      "metadata": {
        "id": "19711172",
        "outputId": "8f8bf3e6-c070-4011-fa1f-70fbe7d90120"
      },
      "outputs": [
        {
          "name": "stdout",
          "output_type": "stream",
          "text": [
            "1\n"
          ]
        }
      ],
      "source": [
        "a = {1: \"Rajesh\",\n",
        "\n",
        "2: \"Ramesh\",\n",
        "\n",
        "3: \"Dev\"}\n",
        "\n",
        "b = list(a)\n",
        "\n",
        "print(b[0])"
      ]
    },
    {
      "cell_type": "code",
      "execution_count": null,
      "id": "848ab286",
      "metadata": {
        "id": "848ab286",
        "outputId": "a8371028-5137-47e5-b25e-610e375520d1"
      },
      "outputs": [
        {
          "name": "stdout",
          "output_type": "stream",
          "text": [
            "4\n"
          ]
        }
      ],
      "source": [
        "a = tuple(range(0,5))\n",
        "\n",
        "print(a.index(4))"
      ]
    },
    {
      "cell_type": "code",
      "execution_count": null,
      "id": "a62a9049",
      "metadata": {
        "id": "a62a9049",
        "outputId": "667e4996-e237-45c6-ecf5-04292a2cf6f3"
      },
      "outputs": [
        {
          "ename": "TypeError",
          "evalue": "'tuple' object does not support item assignment",
          "output_type": "error",
          "traceback": [
            "\u001b[1;31m---------------------------------------------------------------------------\u001b[0m",
            "\u001b[1;31mTypeError\u001b[0m                                 Traceback (most recent call last)",
            "Cell \u001b[1;32mIn[16], line 3\u001b[0m\n\u001b[0;32m      1\u001b[0m a \u001b[38;5;241m=\u001b[39m \u001b[38;5;28mtuple\u001b[39m(\u001b[38;5;28mrange\u001b[39m(\u001b[38;5;241m0\u001b[39m,\u001b[38;5;241m10\u001b[39m,\u001b[38;5;241m2\u001b[39m))\n\u001b[1;32m----> 3\u001b[0m a[\u001b[38;5;241m4\u001b[39m] \u001b[38;5;241m=\u001b[39m \u001b[38;5;241m6\u001b[39m\n\u001b[0;32m      5\u001b[0m \u001b[38;5;28mprint\u001b[39m(a[\u001b[38;5;241m4\u001b[39m])\n",
            "\u001b[1;31mTypeError\u001b[0m: 'tuple' object does not support item assignment"
          ]
        }
      ],
      "source": [
        "a = tuple(range(0,10,2))\n",
        "\n",
        "a[4] = 6\n",
        "\n",
        "print(a[4])"
      ]
    },
    {
      "cell_type": "code",
      "execution_count": null,
      "id": "d53eba75",
      "metadata": {
        "id": "d53eba75",
        "outputId": "bd6b07ed-1d5e-4930-cacd-cb6d5b8994b3"
      },
      "outputs": [
        {
          "name": "stdout",
          "output_type": "stream",
          "text": [
            "{1, 2, 3, 4, 5}\n"
          ]
        }
      ],
      "source": [
        "a = {1,1,2,2,3,3,4,4,5,5}\n",
        "\n",
        "print(a)"
      ]
    },
    {
      "cell_type": "code",
      "execution_count": null,
      "id": "c55cb152",
      "metadata": {
        "id": "c55cb152",
        "outputId": "b47a4fb5-bc90-4689-b9dd-6a754c660d5c"
      },
      "outputs": [
        {
          "name": "stdout",
          "output_type": "stream",
          "text": [
            "{1, 2, 3, 4, 5, 6}\n"
          ]
        }
      ],
      "source": [
        "a = {1,2,3,4,5}\n",
        "\n",
        "a.add(6)\n",
        "\n",
        "print(a)"
      ]
    },
    {
      "cell_type": "code",
      "execution_count": null,
      "id": "f1e43efb",
      "metadata": {
        "id": "f1e43efb",
        "outputId": "cbd776c5-ad73-4c56-f90d-696df1012b13"
      },
      "outputs": [
        {
          "name": "stdout",
          "output_type": "stream",
          "text": [
            "None\n"
          ]
        }
      ],
      "source": [
        "A = 10\n",
        "B = 20\n",
        "if A > 5 & B > 15:\n",
        "    print(\"One\")\n",
        "elif A < 5 & B < 15:\n",
        "    print(\"Two\")\n",
        "else:\n",
        "    print(\"None\")"
      ]
    },
    {
      "cell_type": "code",
      "execution_count": null,
      "id": "4a7cba8e",
      "metadata": {
        "id": "4a7cba8e",
        "outputId": "4abb0195-9aac-4b23-fcf0-996b99035bfd"
      },
      "outputs": [
        {
          "name": "stdout",
          "output_type": "stream",
          "text": [
            "One,"
          ]
        }
      ],
      "source": [
        "#18.one, but one has given\n",
        "A = 2\n",
        "\n",
        "B = 10\n",
        "\n",
        "if A > 0 and B%A==0:\n",
        "\n",
        "    print(\"One\", end=\",\")\n",
        "\n",
        "elif B > 5 and B%2 == 1:\n",
        "\n",
        "    print(\"Two\", end=\" \")\n",
        "\n",
        "else:\n",
        "\n",
        "    pass"
      ]
    },
    {
      "cell_type": "code",
      "execution_count": null,
      "id": "fbdb69b6",
      "metadata": {
        "id": "fbdb69b6",
        "outputId": "66a69897-b53c-43cd-c91d-62d437b7959f"
      },
      "outputs": [
        {
          "name": "stdout",
          "output_type": "stream",
          "text": [
            "Greater\n"
          ]
        }
      ],
      "source": [
        "A = 2\n",
        "\n",
        "B = 3\n",
        "\n",
        "print('Greater') if A//B==0 else print(\"Equal\") if A//B==1 else print(\"Smaller\")"
      ]
    },
    {
      "cell_type": "code",
      "execution_count": null,
      "id": "85e820c9",
      "metadata": {
        "id": "85e820c9",
        "outputId": "c8ca6d9e-bf5f-4f2d-9175-5734107e2d5e"
      },
      "outputs": [
        {
          "name": "stdout",
          "output_type": "stream",
          "text": [
            "Three\n"
          ]
        }
      ],
      "source": [
        "X = 10\n",
        "\n",
        "if X >= 0:\n",
        "    if X == 0:\n",
        "\n",
        "        print('None')\n",
        "\n",
        "    elif X //2 == 1:\n",
        "        print('Two')\n",
        "\n",
        "    elif X**2 ==100:\n",
        "\n",
        "        if X%2 == 0:\n",
        "\n",
        "            print(\"Three\")\n",
        "\n",
        "        else:\n",
        "\n",
        "            print(\"Four\")\n",
        "\n",
        "    else:\n",
        "\n",
        "        print(\"Five\")\n",
        "\n",
        "else:\n",
        "\n",
        "    print(\"Six\")\n",
        "\n"
      ]
    },
    {
      "cell_type": "code",
      "execution_count": null,
      "id": "4d16a506",
      "metadata": {
        "id": "4d16a506",
        "outputId": "9d7063dc-04b4-4960-9533-9c697bcd3408"
      },
      "outputs": [
        {
          "name": "stdout",
          "output_type": "stream",
          "text": [
            "[2]\n",
            "[2, 1]\n",
            "[2, 1, 2]\n",
            "[2, 1, 2, 1]\n",
            "[2, 1, 2, 1, 2]\n",
            "[2, 1, 2, 1, 2, 1]\n"
          ]
        }
      ],
      "source": [
        "a = list(range(0,3))\n",
        "\n",
        "b = []\n",
        "\n",
        "for x in a:\n",
        "    for j in range(len(a)-1, 0, -1):\n",
        "        b.append(a[j])\n",
        "        print(b)"
      ]
    },
    {
      "cell_type": "code",
      "execution_count": null,
      "id": "311fd983",
      "metadata": {
        "id": "311fd983",
        "outputId": "9603cd9a-32ce-4fc5-bff2-3d1f9941df55"
      },
      "outputs": [
        {
          "name": "stdout",
          "output_type": "stream",
          "text": [
            "0\n"
          ]
        }
      ],
      "source": [
        "i=5\n",
        "\n",
        "while i>0:\n",
        "    for i in range(0,3):\n",
        "        if i > 1:\n",
        "            i = i - 2\n",
        "            print(i)\n",
        "        else:\n",
        "            i = i - 1"
      ]
    },
    {
      "cell_type": "code",
      "execution_count": null,
      "id": "07553092",
      "metadata": {
        "id": "07553092",
        "outputId": "888cb385-a46c-4e0f-b17c-ffce967c678d"
      },
      "outputs": [
        {
          "name": "stdout",
          "output_type": "stream",
          "text": [
            "3.0\n"
          ]
        }
      ],
      "source": [
        "i = 9\n",
        "while i > 5:\n",
        "    if i%2 == 0:\n",
        "        i = i**2\n",
        "        print(i)\n",
        "    else:\n",
        "        i = i**0.5\n",
        "        print(i)"
      ]
    },
    {
      "cell_type": "code",
      "execution_count": null,
      "id": "5fec82c3",
      "metadata": {
        "id": "5fec82c3",
        "outputId": "e86e423e-3e65-4252-c90d-10dc071079e7"
      },
      "outputs": [
        {
          "name": "stdout",
          "output_type": "stream",
          "text": [
            "1 2 3 5 "
          ]
        }
      ],
      "source": [
        "a = 0\n",
        "b = 1\n",
        "i = 1\n",
        "\n",
        "while i < 5:\n",
        "    temp = a + b\n",
        "    a = b\n",
        "    b = temp\n",
        "    print(temp, end=\" \")\n",
        "    i = i + 1"
      ]
    },
    {
      "cell_type": "code",
      "execution_count": null,
      "id": "a00fe154",
      "metadata": {
        "id": "a00fe154"
      },
      "outputs": [],
      "source": [
        "def func(self):\n",
        "    if self%2==0:\n",
        "        return None\n",
        "func(10)"
      ]
    },
    {
      "cell_type": "code",
      "execution_count": null,
      "id": "30ad8e78",
      "metadata": {
        "id": "30ad8e78",
        "outputId": "0ef84167-eb98-4f7d-d0b0-201955b2903b"
      },
      "outputs": [
        {
          "name": "stdout",
          "output_type": "stream",
          "text": [
            "True,False\n"
          ]
        }
      ],
      "source": [
        "def func(*self):\n",
        "    for i in self:\n",
        "        if i in list(range(0,100,10)):\n",
        "            print(\"True\", end=\",\")\n",
        "        else:\n",
        "            print(\"False\")\n",
        "func(10,15)"
      ]
    },
    {
      "cell_type": "code",
      "execution_count": null,
      "id": "6be34509",
      "metadata": {
        "id": "6be34509",
        "outputId": "7979d896-93ff-4242-9634-eba9401e7202"
      },
      "outputs": [
        {
          "name": "stdout",
          "output_type": "stream",
          "text": [
            "False False "
          ]
        }
      ],
      "source": [
        "def func(**self):\n",
        "    for i in self.values():\n",
        "        if i%2 == 0 and i%3 == 0 in list(range(0,10)):\n",
        "            print(\"True\", end=\" \")\n",
        "        else:\n",
        "            print(\"False\", end=\" \")\n",
        "func(first= 10, second= 20)"
      ]
    },
    {
      "cell_type": "code",
      "execution_count": null,
      "id": "988bc32f",
      "metadata": {
        "id": "988bc32f",
        "outputId": "4640cf39-87ee-41eb-fd54-471a77881c9a"
      },
      "outputs": [
        {
          "data": {
            "text/plain": [
              "8"
            ]
          },
          "execution_count": 48,
          "metadata": {},
          "output_type": "execute_result"
        }
      ],
      "source": [
        "y = lambda a,b: a//2 + b//2 - 2//a//b\n",
        "\n",
        "y(12,4)"
      ]
    },
    {
      "cell_type": "code",
      "execution_count": null,
      "id": "98cc8309",
      "metadata": {
        "id": "98cc8309",
        "outputId": "bb848f09-336d-4cc5-e9bb-a82043c1d6ac"
      },
      "outputs": [
        {
          "name": "stdout",
          "output_type": "stream",
          "text": [
            "[1, 2, 3, 4, 5]\n"
          ]
        }
      ],
      "source": [
        "sample = [12,22,32,42,52]\n",
        "\n",
        "x = map(lambda a: a//10, sample)\n",
        "\n",
        "print(list(x))"
      ]
    },
    {
      "cell_type": "code",
      "execution_count": null,
      "id": "797031a2",
      "metadata": {
        "id": "797031a2",
        "outputId": "9c025547-1df4-4536-8cb2-b7fb1f1a64a2"
      },
      "outputs": [
        {
          "name": "stdout",
          "output_type": "stream",
          "text": [
            "[12, 24, 2]\n"
          ]
        }
      ],
      "source": [
        "def func(self):\n",
        "    if self % 2 == 1:\n",
        "        return False\n",
        "    else:\n",
        "        return True\n",
        "sample= [12,24,23,3,5,2]\n",
        "z = filter(func, sample)\n",
        "print(list(z))"
      ]
    },
    {
      "cell_type": "code",
      "execution_count": null,
      "id": "cb493716",
      "metadata": {
        "id": "cb493716",
        "outputId": "cc4915f8-00c7-4a61-8bb7-0d0b664037fd"
      },
      "outputs": [
        {
          "name": "stdout",
          "output_type": "stream",
          "text": [
            "132333"
          ]
        }
      ],
      "source": [
        "def func(x, y, z):\n",
        "    for i in x:\n",
        "        for j in y:\n",
        "            print(i, end=\"\")\n",
        "            print(j, end=\"\")\n",
        "    return None\n",
        "\n",
        "a = [1,2,3]\n",
        "\n",
        "b = [3]\n",
        "\n",
        "c = [5,6,7]\n",
        "\n",
        "func(a,b,c)"
      ]
    },
    {
      "cell_type": "code",
      "execution_count": null,
      "id": "caaa532b",
      "metadata": {
        "id": "caaa532b",
        "outputId": "046e74d5-6581-4a9f-b8ef-fc73ee666abd"
      },
      "outputs": [
        {
          "data": {
            "text/plain": [
              "4"
            ]
          },
          "execution_count": 56,
          "metadata": {},
          "output_type": "execute_result"
        }
      ],
      "source": [
        "x = lambda x,y,z: x**y + z**x + y**x//z\n",
        "\n",
        "x(1,1,3)"
      ]
    },
    {
      "cell_type": "code",
      "execution_count": null,
      "id": "d1685151",
      "metadata": {
        "id": "d1685151"
      },
      "outputs": [],
      "source": [
        "class Myclass:\n",
        "    def __init__(self):\n",
        "        self.string = \"Intellipaat\"\n",
        "        self.number = 2022\n",
        "        obj = Myclass()\n",
        "        print(obj.number, obj.string)"
      ]
    },
    {
      "cell_type": "code",
      "execution_count": null,
      "id": "c9dc978d",
      "metadata": {
        "id": "c9dc978d",
        "outputId": "b0c3892a-27da-4797-a0dd-b3f81543a4a8"
      },
      "outputs": [
        {
          "name": "stdout",
          "output_type": "stream",
          "text": [
            "ronoC 3\n"
          ]
        }
      ],
      "source": [
        "class Myclass:\n",
        "    def __init__(self):\n",
        "        self.string = \"Conor\"\n",
        "        self.number = 20\n",
        "    def view(self):\n",
        "        print(self.string[::-1], self.number//6)\n",
        "obj = Myclass()\n",
        "obj.view()"
      ]
    },
    {
      "cell_type": "code",
      "execution_count": null,
      "id": "b265f8c4",
      "metadata": {
        "id": "b265f8c4",
        "outputId": "f6f29ebc-38cc-4d50-e501-9932afe2ac69"
      },
      "outputs": [
        {
          "name": "stdout",
          "output_type": "stream",
          "text": [
            "['Devon', 28]\n"
          ]
        }
      ],
      "source": [
        "class myClass:\n",
        "    def __init__(self, name, age):\n",
        "        self.name = name\n",
        "        self.age = age\n",
        "    def view(self):\n",
        "        print([self.name, self.age])\n",
        "class myclass:\n",
        "    def __init__(self, name, age):\n",
        "        self.name = name\n",
        "        self.age = age\n",
        "    def view(self):\n",
        "        print([self.name, self.age])\n",
        "obj1 = myClass(\"Devon\", 29)\n",
        "obj2 = myclass(\"Levi\", 28)\n",
        "print([obj1.name, obj2.age])"
      ]
    },
    {
      "cell_type": "code",
      "execution_count": null,
      "id": "ddad4b05",
      "metadata": {
        "id": "ddad4b05",
        "outputId": "900a6b18-a62f-4183-e05a-627a72ae07ce"
      },
      "outputs": [
        {
          "name": "stdout",
          "output_type": "stream",
          "text": [
            "Rajesh None None\n"
          ]
        }
      ],
      "source": [
        "class Name:\n",
        "    def view(self):\n",
        "        self.name = \"Rajesh\"\n",
        "        return self.name\n",
        "class Age:\n",
        "    def view(self):\n",
        "        self.age = 29\n",
        "class Profession:\n",
        "    def view(self):\n",
        "        self.profession = \"Teacher\"\n",
        "\n",
        "obj1 = Name()\n",
        "obj2 = Age()\n",
        "obj3 = Profession()\n",
        "print(obj1.view(), obj2.view(), obj3.view())"
      ]
    },
    {
      "cell_type": "code",
      "execution_count": null,
      "id": "2163b0ba",
      "metadata": {
        "id": "2163b0ba",
        "outputId": "d1392a54-c4b2-421a-befb-603ee6217af3"
      },
      "outputs": [
        {
          "name": "stdout",
          "output_type": "stream",
          "text": [
            "Ricky 23 Cricketer\n"
          ]
        }
      ],
      "source": [
        "class Base:\n",
        "    def __init__(self):\n",
        "        self.name = \"Ricky\"\n",
        "        self.age = 23\n",
        "class Derived(Base):\n",
        "    def __init__(self):\n",
        "        super().__init__()\n",
        "        self.profession = \"Cricketer\"\n",
        "    def view(self):\n",
        "        print(self.name, self.age, self.profession)\n",
        "obj = Derived()\n",
        "obj.view()"
      ]
    },
    {
      "cell_type": "code",
      "execution_count": null,
      "id": "73152f60",
      "metadata": {
        "id": "73152f60",
        "outputId": "f5c13565-fbcc-4c0e-b5fe-b750e5661b00"
      },
      "outputs": [
        {
          "data": {
            "text/plain": [
              "'Levi'"
            ]
          },
          "execution_count": 72,
          "metadata": {},
          "output_type": "execute_result"
        }
      ],
      "source": [
        "from abc import ABC, abstractmethod\n",
        "\n",
        "class School(ABC):\n",
        "    def __init__(self):\n",
        "        self.name = \"Levi\"\n",
        "        self.age = 29\n",
        "obj = School()\n",
        "obj.name"
      ]
    },
    {
      "cell_type": "code",
      "execution_count": null,
      "id": "3d5c0107",
      "metadata": {
        "id": "3d5c0107",
        "outputId": "526d16ee-3bb7-4919-c419-570dd3a6daee"
      },
      "outputs": [
        {
          "ename": "TypeError",
          "evalue": "Poly.method() missing 1 required positional argument: 'c'",
          "output_type": "error",
          "traceback": [
            "\u001b[1;31m---------------------------------------------------------------------------\u001b[0m",
            "\u001b[1;31mTypeError\u001b[0m                                 Traceback (most recent call last)",
            "Cell \u001b[1;32mIn[73], line 7\u001b[0m\n\u001b[0;32m      5\u001b[0m         \u001b[38;5;28;01mreturn\u001b[39;00m (a\u001b[38;5;241m*\u001b[39mb\u001b[38;5;241m*\u001b[39mc)\n\u001b[0;32m      6\u001b[0m obj \u001b[38;5;241m=\u001b[39m Poly()\n\u001b[1;32m----> 7\u001b[0m \u001b[43mobj\u001b[49m\u001b[38;5;241;43m.\u001b[39;49m\u001b[43mmethod\u001b[49m\u001b[43m(\u001b[49m\u001b[38;5;241;43m3\u001b[39;49m\u001b[43m,\u001b[49m\u001b[38;5;241;43m2\u001b[39;49m\u001b[43m)\u001b[49m\n",
            "\u001b[1;31mTypeError\u001b[0m: Poly.method() missing 1 required positional argument: 'c'"
          ]
        }
      ],
      "source": [
        "class Poly:\n",
        "    def method(self, a, b):\n",
        "        return (a**b)\n",
        "    def method(self, a, b,c):\n",
        "        return (a*b*c)\n",
        "obj = Poly()\n",
        "obj.method(3,2)"
      ]
    },
    {
      "cell_type": "code",
      "execution_count": null,
      "id": "69f54fd7",
      "metadata": {
        "id": "69f54fd7",
        "outputId": "bd2ebed4-5088-411b-dc78-13a66a1171a5"
      },
      "outputs": [
        {
          "data": {
            "text/plain": [
              "'Devon'"
            ]
          },
          "execution_count": 75,
          "metadata": {},
          "output_type": "execute_result"
        }
      ],
      "source": [
        "class Parent:\n",
        "    def __init__(self):\n",
        "        self._name = \"Levi\"\n",
        "        self.__age = 29\n",
        "class Child(Parent):\n",
        "    def __init__(self):\n",
        "        Parent.__init__(self)\n",
        "        self._name = \"Devon\"\n",
        "    def view(self):\n",
        "        return self._name\n",
        "obj = Child()\n",
        "obj.view()"
      ]
    },
    {
      "cell_type": "code",
      "execution_count": null,
      "id": "1ca7d14e",
      "metadata": {
        "id": "1ca7d14e",
        "outputId": "ddd1f79c-e335-4d34-8d94-0b535af137b6"
      },
      "outputs": [
        {
          "data": {
            "text/plain": [
              "28"
            ]
          },
          "execution_count": 77,
          "metadata": {},
          "output_type": "execute_result"
        }
      ],
      "source": [
        "class Parent:\n",
        "    def __init__(self):\n",
        "        self._name = \"Levi\"\n",
        "        self.__age = 29\n",
        "class Child(Parent):\n",
        "    def __init__(self):\n",
        "        Parent.__init__(self)\n",
        "        self._name = \"Devon\"\n",
        "        self.__age = 28\n",
        "    def view(self):\n",
        "        return self.__age\n",
        "obj = Child()\n",
        "obj.view()"
      ]
    },
    {
      "cell_type": "code",
      "execution_count": null,
      "id": "8116aace",
      "metadata": {
        "id": "8116aace",
        "outputId": "9fea1c36-819d-4947-8c93-29ef6157be15"
      },
      "outputs": [
        {
          "ename": "AttributeError",
          "evalue": "'Child' object has no attribute '_Child__age'",
          "output_type": "error",
          "traceback": [
            "\u001b[1;31m---------------------------------------------------------------------------\u001b[0m",
            "\u001b[1;31mAttributeError\u001b[0m                            Traceback (most recent call last)",
            "Cell \u001b[1;32mIn[78], line 12\u001b[0m\n\u001b[0;32m     10\u001b[0m         \u001b[38;5;28;01mreturn\u001b[39;00m \u001b[38;5;28mself\u001b[39m\u001b[38;5;241m.\u001b[39m__age\n\u001b[0;32m     11\u001b[0m obj \u001b[38;5;241m=\u001b[39m Child()\n\u001b[1;32m---> 12\u001b[0m \u001b[43mobj\u001b[49m\u001b[38;5;241;43m.\u001b[39;49m\u001b[43mview\u001b[49m\u001b[43m(\u001b[49m\u001b[43m)\u001b[49m\n",
            "Cell \u001b[1;32mIn[78], line 10\u001b[0m, in \u001b[0;36mChild.view\u001b[1;34m(self)\u001b[0m\n\u001b[0;32m      9\u001b[0m \u001b[38;5;28;01mdef\u001b[39;00m \u001b[38;5;21mview\u001b[39m(\u001b[38;5;28mself\u001b[39m):\n\u001b[1;32m---> 10\u001b[0m     \u001b[38;5;28;01mreturn\u001b[39;00m \u001b[38;5;28;43mself\u001b[39;49m\u001b[38;5;241;43m.\u001b[39;49m\u001b[43m__age\u001b[49m\n",
            "\u001b[1;31mAttributeError\u001b[0m: 'Child' object has no attribute '_Child__age'"
          ]
        }
      ],
      "source": [
        "class Parent:\n",
        "    def __init__(self):\n",
        "        self._name = \"Rajesh\"\n",
        "        self.__age = 29\n",
        "class Child(Parent):\n",
        "    def __init__(self):\n",
        "        Parent.__init__(self)\n",
        "        self._name = \"Ramesh\"\n",
        "    def view(self):\n",
        "        return self.__age\n",
        "obj = Child()\n",
        "obj.view()"
      ]
    },
    {
      "cell_type": "code",
      "execution_count": null,
      "id": "d0aa10d2",
      "metadata": {
        "id": "d0aa10d2"
      },
      "outputs": [],
      "source": [
        "class Poly:\n",
        "    def __init__(self):\n",
        "        self.name = 'Rajesh'\n",
        "        self.age = 29\n",
        "    def view(self):\n",
        "        return None\n",
        "class Child(Poly):\n",
        "    def __init__(self):\n",
        "        Poly.__init__(self)\n",
        "    def view(self):\n",
        "        self.prof = \"Student\"\n",
        "        super().view()\n",
        "        return None\n",
        "obj = Poly()\n",
        "obj.view()"
      ]
    },
    {
      "cell_type": "code",
      "execution_count": null,
      "id": "c26ead90",
      "metadata": {
        "id": "c26ead90",
        "outputId": "f3a00322-57d2-4357-fa64-db68f6107a38"
      },
      "outputs": [
        {
          "name": "stdout",
          "output_type": "stream",
          "text": [
            "Devon\n"
          ]
        }
      ],
      "source": [
        "class Poly:\n",
        "    def __init__(self):\n",
        "        self.name = 'Devon'\n",
        "        self.age = 29\n",
        "    def view(self):\n",
        "        print(self.name)\n",
        "class Child(Poly):\n",
        "    def __init__(self):\n",
        "        Poly.__init__(self)\n",
        "    def view(self):\n",
        "        self.prof = \"Levi\"\n",
        "        super().view()\n",
        "        return None\n",
        "obj = Child()\n",
        "obj.view()"
      ]
    },
    {
      "cell_type": "code",
      "execution_count": null,
      "id": "da3fa685",
      "metadata": {
        "id": "da3fa685",
        "outputId": "c4617e55-f3e6-4eea-c61e-c2b0f42b4fcf"
      },
      "outputs": [
        {
          "name": "stdout",
          "output_type": "stream",
          "text": [
            "16\n"
          ]
        },
        {
          "data": {
            "text/plain": [
              "24"
            ]
          },
          "execution_count": 12,
          "metadata": {},
          "output_type": "execute_result"
        }
      ],
      "source": [
        "from multipledispatch import dispatch\n",
        "class Poly:\n",
        "    @dispatch(int, int)\n",
        "    def method(self, a, b):\n",
        "        return (a**b)\n",
        "    @dispatch(int, int, int)\n",
        "    def method(self, a, b,c):\n",
        "        return (a*b*c)\n",
        "obj = Poly()\n",
        "print(obj.method(4,2))\n",
        "print(obj.method(4,2,3))"
      ]
    },
    {
      "cell_type": "code",
      "execution_count": null,
      "id": "82271d86",
      "metadata": {
        "id": "82271d86",
        "outputId": "bef63c92-484b-48b4-b636-a35cb1253eb2"
      },
      "outputs": [
        {
          "data": {
            "text/plain": [
              "range(2, 0, -1)"
            ]
          },
          "execution_count": 99,
          "metadata": {},
          "output_type": "execute_result"
        }
      ],
      "source": [
        "a = list(range(0,3))\n",
        "range(len(a)-1, 0, -1)"
      ]
    },
    {
      "cell_type": "code",
      "execution_count": null,
      "id": "7bee2e0e",
      "metadata": {
        "id": "7bee2e0e",
        "outputId": "96385a57-d793-46ed-85a6-58c6733f589d"
      },
      "outputs": [
        {
          "ename": "ValueError",
          "evalue": "shapes (2,3) and (2,2) not aligned: 3 (dim 1) != 2 (dim 0)",
          "output_type": "error",
          "traceback": [
            "\u001b[1;31m---------------------------------------------------------------------------\u001b[0m",
            "\u001b[1;31mValueError\u001b[0m                                Traceback (most recent call last)",
            "Cell \u001b[1;32mIn[1], line 7\u001b[0m\n\u001b[0;32m      4\u001b[0m Array1 \u001b[38;5;241m=\u001b[39m np\u001b[38;5;241m.\u001b[39marray([[\u001b[38;5;241m1\u001b[39m, \u001b[38;5;241m2\u001b[39m, \u001b[38;5;241m3\u001b[39m], [\u001b[38;5;241m4\u001b[39m, \u001b[38;5;241m5\u001b[39m, \u001b[38;5;241m6\u001b[39m]])\n\u001b[0;32m      5\u001b[0m Array2 \u001b[38;5;241m=\u001b[39m np\u001b[38;5;241m.\u001b[39marray([[\u001b[38;5;241m2\u001b[39m, \u001b[38;5;241m3\u001b[39m], [\u001b[38;5;241m3\u001b[39m, \u001b[38;5;241m2\u001b[39m]])\n\u001b[1;32m----> 7\u001b[0m dot_product \u001b[38;5;241m=\u001b[39m \u001b[43mnp\u001b[49m\u001b[38;5;241;43m.\u001b[39;49m\u001b[43mdot\u001b[49m\u001b[43m(\u001b[49m\u001b[43mArray1\u001b[49m\u001b[43m,\u001b[49m\u001b[43m \u001b[49m\u001b[43mArray2\u001b[49m\u001b[43m)\u001b[49m\n\u001b[0;32m      9\u001b[0m \u001b[38;5;28mprint\u001b[39m(dot_product)\n",
            "File \u001b[1;32m<__array_function__ internals>:180\u001b[0m, in \u001b[0;36mdot\u001b[1;34m(*args, **kwargs)\u001b[0m\n",
            "\u001b[1;31mValueError\u001b[0m: shapes (2,3) and (2,2) not aligned: 3 (dim 1) != 2 (dim 0)"
          ]
        }
      ],
      "source": [
        "#Numpy\n",
        "import numpy as np\n",
        "\n",
        "Array1 = np.array([[1, 2, 3], [4, 5, 6]])\n",
        "Array2 = np.array([[2, 3], [3, 2]])\n",
        "\n",
        "dot_product = np.dot(Array1, Array2)\n",
        "\n",
        "print(dot_product)"
      ]
    },
    {
      "cell_type": "code",
      "execution_count": null,
      "id": "37e22354",
      "metadata": {
        "id": "37e22354",
        "outputId": "b114b0a4-be44-4c06-eae7-3ca6546e9b7e"
      },
      "outputs": [
        {
          "name": "stdout",
          "output_type": "stream",
          "text": [
            "[192 402  30 302  20 204 404 203   1   3  10]\n"
          ]
        }
      ],
      "source": [
        "import numpy as np\n",
        "\n",
        "array = np.array([10, 3, 1, 203, 404, 204, 20, 302, 30, 402, 192])\n",
        "\n",
        "reverse_array = array[::-1]\n",
        "print(reverse_array)"
      ]
    },
    {
      "cell_type": "code",
      "execution_count": null,
      "id": "d04f150e",
      "metadata": {
        "id": "d04f150e",
        "outputId": "edb29d7b-88ff-4ae2-869d-ad5620c7c902"
      },
      "outputs": [
        {
          "data": {
            "text/plain": [
              "array([[4, 1],\n",
              "       [2, 2]])"
            ]
          },
          "execution_count": 3,
          "metadata": {},
          "output_type": "execute_result"
        }
      ],
      "source": [
        "a = [[1, 0], [0, 1]]\n",
        "b = [[4, 1], [2, 2]]\n",
        "np.dot(a, b)"
      ]
    },
    {
      "cell_type": "code",
      "execution_count": null,
      "id": "2682edb8",
      "metadata": {
        "id": "2682edb8",
        "outputId": "21754c1a-90b3-49dc-c3e6-239748a67507"
      },
      "outputs": [
        {
          "data": {
            "text/plain": [
              "499128"
            ]
          },
          "execution_count": 10,
          "metadata": {},
          "output_type": "execute_result"
        }
      ],
      "source": [
        "a = np.arange(3*4*5*6).reshape((3,4,5,6))\n",
        "\n",
        "b = np.arange(3*4*5*6)[::-1].reshape((5,4,6,3))\n",
        "np.dot(a, b)[2,3,2,1,2,2]"
      ]
    },
    {
      "cell_type": "code",
      "execution_count": null,
      "id": "81fd41b8",
      "metadata": {
        "id": "81fd41b8",
        "outputId": "e5fa24b8-b804-4d76-9ea6-3a4532507769"
      },
      "outputs": [
        {
          "name": "stdout",
          "output_type": "stream",
          "text": [
            "[ 3.+0.j  7.+0.j 32.+0.j]\n"
          ]
        }
      ],
      "source": [
        "a = np.array([3, 7, 32], dtype = complex)\n",
        "print(a)"
      ]
    },
    {
      "cell_type": "code",
      "execution_count": null,
      "id": "4beb89a0",
      "metadata": {
        "id": "4beb89a0",
        "outputId": "ee336c65-cf36-438e-e2b7-3b083e96b28c"
      },
      "outputs": [
        {
          "name": "stdout",
          "output_type": "stream",
          "text": [
            "[[ 1  2]\n",
            " [ 3  4]\n",
            " [ 1  2]\n",
            " [ 3  4]\n",
            " [ 5  6]\n",
            " [ 7  8]\n",
            " [ 9 10]]\n"
          ]
        }
      ],
      "source": [
        "import numpy as np\n",
        "\n",
        "array1 = np.array([[1, 2], [3, 4]])\n",
        "array2 = np.array([[1, 2], [3, 4], [5, 6], [7, 8], [9, 10]])\n",
        "\n",
        "result = np.vstack((array1, array2))\n",
        "print(result)"
      ]
    },
    {
      "cell_type": "code",
      "execution_count": null,
      "id": "c9d6cfd0",
      "metadata": {
        "id": "c9d6cfd0",
        "outputId": "2ee0cbe6-6ff4-4072-d067-23e38e7f1b89"
      },
      "outputs": [
        {
          "name": "stdout",
          "output_type": "stream",
          "text": [
            "[ 10   3   1 203   1   2   3   4 404 204  20 302  30 402 192]\n"
          ]
        }
      ],
      "source": [
        "import numpy as np\n",
        "\n",
        "array = np.array([10, 3, 1, 203, 404, 204, 20, 302, 30, 402, 192])\n",
        "Elem_to_be_inserted = [1, 2, 3, 4]\n",
        "position = np.where(array == 404)[0][0]\n",
        "\n",
        "result = np.insert(array, position, Elem_to_be_inserted)\n",
        "print(result)"
      ]
    },
    {
      "cell_type": "code",
      "execution_count": null,
      "id": "93e1878d",
      "metadata": {
        "id": "93e1878d",
        "outputId": "339b2cfc-3b57-4f14-9aa4-590064465cb0"
      },
      "outputs": [
        {
          "name": "stdout",
          "output_type": "stream",
          "text": [
            "[[10 10 10]\n",
            " [10 10 10]\n",
            " [10 10 10]]\n"
          ]
        }
      ],
      "source": [
        "import numpy as np\n",
        "\n",
        "k = 10  # Example constant value\n",
        "matrix = np.full((3, 3), k)\n",
        "print(matrix)"
      ]
    },
    {
      "cell_type": "code",
      "execution_count": null,
      "id": "9755cb2b",
      "metadata": {
        "id": "9755cb2b",
        "outputId": "a02c4177-34ce-4367-d929-62bbd9679f5a"
      },
      "outputs": [
        {
          "data": {
            "text/plain": [
              "array([[1., 0., 0., 0., 0., 0., 0., 0., 0., 0.],\n",
              "       [0., 1., 0., 0., 0., 0., 0., 0., 0., 0.],\n",
              "       [0., 0., 1., 0., 0., 0., 0., 0., 0., 0.],\n",
              "       [0., 0., 0., 1., 0., 0., 0., 0., 0., 0.],\n",
              "       [0., 0., 0., 0., 1., 0., 0., 0., 0., 0.],\n",
              "       [0., 0., 0., 0., 0., 1., 0., 0., 0., 0.],\n",
              "       [0., 0., 0., 0., 0., 0., 1., 0., 0., 0.],\n",
              "       [0., 0., 0., 0., 0., 0., 0., 1., 0., 0.],\n",
              "       [0., 0., 0., 0., 0., 0., 0., 0., 1., 0.],\n",
              "       [0., 0., 0., 0., 0., 0., 0., 0., 0., 1.]])"
            ]
          },
          "execution_count": 13,
          "metadata": {},
          "output_type": "execute_result"
        }
      ],
      "source": [
        "np.eye(k)"
      ]
    },
    {
      "cell_type": "code",
      "execution_count": null,
      "id": "1ffd36ad",
      "metadata": {
        "id": "1ffd36ad",
        "outputId": "ff2955a8-803a-48c2-d936-c2f3fcecd396"
      },
      "outputs": [
        {
          "data": {
            "text/plain": [
              "array([60, 45, 25, 20, 16, 14, 12,  9])"
            ]
          },
          "execution_count": 30,
          "metadata": {},
          "output_type": "execute_result"
        }
      ],
      "source": [
        "def bub_sort(array):\n",
        "    for i in range(0, len(array)):\n",
        "        for j in range(0, len(array) - i - 1):\n",
        "            if array[j] < array[j + 1]:\n",
        "                temp = array[j]\n",
        "                array[j] = array[j + 1]\n",
        "                array[j+1] = temp\n",
        "    return array\n",
        "bub_sort(np.array([20,14,25,16,45,60,12,9]))"
      ]
    },
    {
      "cell_type": "code",
      "execution_count": null,
      "id": "a8f1a051",
      "metadata": {
        "id": "a8f1a051",
        "outputId": "89819f90-13b1-4ef9-f5f5-a5ab4012d4a2"
      },
      "outputs": [
        {
          "name": "stdout",
          "output_type": "stream",
          "text": [
            "[[ 1  2]\n",
            " [ 3  4]\n",
            " [ 5  6]\n",
            " [ 7  8]\n",
            " [ 9 10]]\n"
          ]
        }
      ],
      "source": [
        "import numpy as np\n",
        "\n",
        "array = np.array([[1, 2, 3, 4, 5], [6, 7, 8, 9, 10]])\n",
        "reshaped_array = np.reshape(array, (5, 2))\n",
        "print(reshaped_array)"
      ]
    },
    {
      "cell_type": "code",
      "execution_count": null,
      "id": "6ee99183",
      "metadata": {
        "id": "6ee99183",
        "outputId": "ed642de1-b497-400e-aeb3-9783331114fb"
      },
      "outputs": [
        {
          "name": "stdout",
          "output_type": "stream",
          "text": [
            "[1 2 3 4 5 6 7 8]\n",
            "(8,)\n"
          ]
        }
      ],
      "source": [
        "import numpy as np\n",
        "\n",
        "sample = np.array([[1, 2], [3, 4], [5, 6], [7, 8]])\n",
        "flattened_array = sample.flatten()\n",
        "\n",
        "print(flattened_array)\n",
        "print(flattened_array.shape)"
      ]
    },
    {
      "cell_type": "code",
      "execution_count": null,
      "id": "046531d0",
      "metadata": {
        "id": "046531d0",
        "outputId": "1924f31d-fe3c-49c4-81c5-3be83d09ab63"
      },
      "outputs": [
        {
          "name": "stdout",
          "output_type": "stream",
          "text": [
            "[2 5 8]\n"
          ]
        }
      ],
      "source": [
        "import numpy as np\n",
        "\n",
        "Sample = np.array([[1, 2, 3], [4, 5, 6], [7, 8, 9], [10, 11, 12], [13, 14, 15]])\n",
        "result = Sample[0:3, 1]\n",
        "\n",
        "print(result)"
      ]
    },
    {
      "cell_type": "code",
      "execution_count": null,
      "id": "f2a21fb5",
      "metadata": {
        "id": "f2a21fb5",
        "outputId": "f7228142-6aca-4083-df0e-ee4a12230530"
      },
      "outputs": [
        {
          "name": "stdout",
          "output_type": "stream",
          "text": [
            "[20 19 18 17 16 15 14 13 12 11 10  9  8  7  6  5  4  3  1  2  3  4  5  6\n",
            "  7  8  9 10]\n"
          ]
        }
      ],
      "source": [
        "import numpy as np\n",
        "\n",
        "array1 = np.arange(20, 2, -1)\n",
        "array2 = np.array([1, 2, 3, 4, 5, 6, 7, 8, 9, 10])\n",
        "\n",
        "result = np.hstack((array1, array2))\n",
        "print(result)"
      ]
    },
    {
      "cell_type": "code",
      "execution_count": null,
      "id": "9cc34d8e",
      "metadata": {
        "id": "9cc34d8e",
        "outputId": "fe5ee6d5-2882-4d11-f183-864914bb9e28"
      },
      "outputs": [
        {
          "name": "stdout",
          "output_type": "stream",
          "text": [
            "[[1 2]\n",
            " [3 4]]\n",
            "[[5 6]\n",
            " [7 8]]\n",
            "horizontal\n",
            " [[1 2 5 6]\n",
            " [3 4 7 8]]\n"
          ]
        }
      ],
      "source": [
        "import numpy as np\n",
        "\n",
        "array1 = np.array([[1, 2], [3, 4]])\n",
        "array2 = np.array([[5, 6], [7, 8]])\n",
        "print(array1)\n",
        "print(array2)\n",
        "result = np.hstack((array1, array2))\n",
        "print(\"horizontal\\n\",result)"
      ]
    },
    {
      "cell_type": "code",
      "execution_count": null,
      "id": "7aaf0a07",
      "metadata": {
        "id": "7aaf0a07",
        "outputId": "5312b1f6-ef79-47d0-94b3-4fa8d70f94ae"
      },
      "outputs": [
        {
          "name": "stdout",
          "output_type": "stream",
          "text": [
            "[[ 4]\n",
            " [12]\n",
            " [29]]\n",
            "[[13]\n",
            " [21]\n",
            " [ 4]]\n",
            "[-561  361  -72]\n"
          ]
        }
      ],
      "source": [
        "import numpy as np\n",
        "\n",
        "A = np.array([[4], [12], [29]])\n",
        "B = np.array([[13], [21], [4]])\n",
        "print(A)\n",
        "print(B)\n",
        "result = np.cross(A.flatten(), B.flatten())\n",
        "print(result)"
      ]
    },
    {
      "cell_type": "code",
      "execution_count": null,
      "id": "78061391",
      "metadata": {
        "id": "78061391",
        "outputId": "0a7ed87d-586a-46d8-930b-4af42385083c"
      },
      "outputs": [
        {
          "name": "stdout",
          "output_type": "stream",
          "text": [
            "[[1. 1.]\n",
            " [1. 1.]]\n"
          ]
        }
      ],
      "source": [
        "import numpy as np\n",
        "\n",
        "A = np.array([1, 3, 5, 7, 9, 11, 13, 15, 17, 19, 21, 23, 25])\n",
        "B = np.array([0, 2, 4, 6, 8, 10, 12, 14, 16, 18, 20, 22, 24])\n",
        "\n",
        "result = np.corrcoef(A, B)\n",
        "print(result)"
      ]
    },
    {
      "cell_type": "code",
      "execution_count": null,
      "id": "23effab4",
      "metadata": {
        "id": "23effab4",
        "outputId": "6b828261-27eb-4e4e-ee0a-ce1727b7a72d"
      },
      "outputs": [
        {
          "name": "stdout",
          "output_type": "stream",
          "text": [
            "[[1 list([1, 2])]\n",
            " [2 list([[1], [2]])]\n",
            " [3 list([[1, 2], [3, 4], [4, 5]])]\n",
            " [4 list([1])]\n",
            " [5 list([1, 2, 3, 4, 5])]]\n"
          ]
        }
      ],
      "source": [
        "import numpy as np\n",
        "\n",
        "sample = {1: [1, 2], 2: [[1], [2]], 3: [[1, 2], [3, 4], [4, 5]], 4: [1], 5: [1, 2, 3, 4, 5]}\n",
        "\n",
        "result = np.array([[k, v] for k, v in sample.items()], dtype=object)\n",
        "print(result)"
      ]
    },
    {
      "cell_type": "code",
      "execution_count": null,
      "id": "abdda2a0",
      "metadata": {
        "id": "abdda2a0",
        "outputId": "af199a8d-44a6-43a5-b0b6-e1da1260fc7c"
      },
      "outputs": [
        {
          "name": "stdout",
          "output_type": "stream",
          "text": [
            "[7 3 2]\n"
          ]
        }
      ],
      "source": [
        "import numpy as np\n",
        "\n",
        "arr1 = np.array([[3, 2, 1], [6, 4, 5], [8, 7, 9]])\n",
        "\n",
        "# Find the minimum element across the rows\n",
        "min_rows = np.min(arr1, axis=1)\n",
        "\n",
        "# Find the maximum element across the columns\n",
        "max_cols = np.max(arr1, axis=0)\n",
        "\n",
        "# Calculate the difference\n",
        "difference = max_cols - min_rows\n",
        "\n",
        "print(difference)"
      ]
    },
    {
      "cell_type": "code",
      "execution_count": null,
      "id": "ff7503f3",
      "metadata": {
        "id": "ff7503f3"
      },
      "outputs": [],
      "source": [
        "import pandas as pd\n"
      ]
    },
    {
      "cell_type": "code",
      "execution_count": null,
      "id": "5dd5b7f5",
      "metadata": {
        "id": "5dd5b7f5",
        "outputId": "c36d425b-f295-4b91-b781-68469eb1add7"
      },
      "outputs": [
        {
          "data": {
            "text/plain": [
              "7.016483516483515"
            ]
          },
          "execution_count": 2,
          "metadata": {},
          "output_type": "execute_result"
        }
      ],
      "source": [
        "import numpy as np\n",
        "x = [4,2,1,6,3,6,8,0,5,2,1,7,0,2]\n",
        "np.var(x, ddof=1)"
      ]
    },
    {
      "cell_type": "code",
      "execution_count": null,
      "id": "26357ecf",
      "metadata": {
        "id": "26357ecf",
        "outputId": "a38dc3b1-a517-4b3e-ee8c-8e3169034b84"
      },
      "outputs": [
        {
          "data": {
            "text/plain": [
              "array([21, 44, 20])"
            ]
          },
          "execution_count": 3,
          "metadata": {},
          "output_type": "execute_result"
        }
      ],
      "source": [
        "A = np.array([[3,2],[4,1],[2,5]])\n",
        "B = np.array([[6,11],[4,12],[2,15]])\n",
        "np.cross(A,B)"
      ]
    },
    {
      "cell_type": "code",
      "execution_count": null,
      "id": "f6a3b73c",
      "metadata": {
        "id": "f6a3b73c",
        "outputId": "51ed74de-8e7e-4a26-82a4-3314b607a3a0"
      },
      "outputs": [
        {
          "data": {
            "text/plain": [
              "array([1, 2, 3, 4, 5, 6])"
            ]
          },
          "execution_count": 4,
          "metadata": {},
          "output_type": "execute_result"
        }
      ],
      "source": [
        "A = np.array([4,5,6])\n",
        "B = np.array([1,2,3])\n",
        "np.hstack((B,A))"
      ]
    },
    {
      "cell_type": "code",
      "execution_count": null,
      "id": "ca6b2d0a",
      "metadata": {
        "id": "ca6b2d0a",
        "outputId": "db7c03ed-5a5c-434c-8a5a-5d138be41586"
      },
      "outputs": [
        {
          "data": {
            "text/plain": [
              "array([[4, 1],\n",
              "       [5, 2],\n",
              "       [6, 3]])"
            ]
          },
          "execution_count": 5,
          "metadata": {},
          "output_type": "execute_result"
        }
      ],
      "source": [
        "A = np.array([[4],[5],[6]])\n",
        "B = np.array([[1],[2],[3]])\n",
        "np.column_stack((A,B))"
      ]
    },
    {
      "cell_type": "code",
      "execution_count": null,
      "id": "13e35bb9",
      "metadata": {
        "id": "13e35bb9",
        "outputId": "35cc1623-eff8-4612-e608-dd6fa2f01b59"
      },
      "outputs": [
        {
          "name": "stdout",
          "output_type": "stream",
          "text": [
            "Variance: 811.9599999999999\n",
            "Standard Deviation: 28.49491182649983\n"
          ]
        }
      ],
      "source": [
        "import numpy as np\n",
        "\n",
        "sample = [42, 61, 39, 70, 8, 30, 52, 28, 95, 86, 35, 77, 80, 86, 1, 84, 90, 57, 45, 6, 1, 56, 60, 83, 24, 63, 93, 59, 92, 53]\n",
        "\n",
        "# Calculate variance\n",
        "variance = np.var(sample)\n",
        "\n",
        "# Calculate standard deviation\n",
        "std_deviation = np.std(sample)\n",
        "\n",
        "print(\"Variance:\", variance)\n",
        "print(\"Standard Deviation:\", std_deviation)"
      ]
    },
    {
      "cell_type": "code",
      "execution_count": null,
      "id": "fea447ba",
      "metadata": {
        "id": "fea447ba",
        "outputId": "d9cb1a2c-b0d1-4e48-d17d-9e624a7e20c4"
      },
      "outputs": [
        {
          "name": "stdout",
          "output_type": "stream",
          "text": [
            "Range: 87\n",
            "Interquartile Range (IQR): 38.25\n"
          ]
        }
      ],
      "source": [
        "import numpy as np\n",
        "\n",
        "array = np.array([17, 27, 80, 39, 72, 95, 52, 85, 8, 64, 36, 15, 62, 76, 66, 67, 59, 92])\n",
        "\n",
        "# Calculate range\n",
        "range_array = np.max(array) - np.min(array)\n",
        "\n",
        "# Calculate quartiles\n",
        "first_quartile = np.percentile(array, 25)\n",
        "third_quartile = np.percentile(array, 75)\n",
        "\n",
        "# Calculate interquartile range (IQR)\n",
        "IQR = third_quartile - first_quartile\n",
        "\n",
        "print(\"Range:\", range_array)\n",
        "print(\"Interquartile Range (IQR):\", IQR)"
      ]
    },
    {
      "cell_type": "markdown",
      "id": "923f3481",
      "metadata": {
        "id": "923f3481"
      },
      "source": [
        " In a skewed distribution, If the mean and median of a sample is 56, and 63 and the mode of the same is 65. The distribution graph of the sample will be ___?\n",
        "Unskewed\n",
        "None of the Above\n",
        "Negatively Skewed\n",
        "Positively Skewed\n",
        "\n",
        "The mean, median, and mode provide insights into the skewness of a distribution:\n",
        "\n",
        "If the mean is greater than the median, the distribution tends to be positively skewed.\n",
        "If the mean is less than the median, the distribution tends to be negatively skewed.\n",
        "If the mean is approximately equal to the median, the distribution is close to symmetrical.\n",
        "In this case, the mean (56) is less than the median (63), indicating that the distribution is negatively skewed. Therefore, the correct answer is \"Negatively Skewed\".\n",
        "\n",
        "\n",
        "\n",
        "\n",
        "\n"
      ]
    },
    {
      "cell_type": "code",
      "execution_count": null,
      "id": "065e5da4",
      "metadata": {
        "id": "065e5da4",
        "outputId": "fb7fe238-bd05-4d2c-af8d-29f05626d2a9"
      },
      "outputs": [
        {
          "name": "stdout",
          "output_type": "stream",
          "text": [
            "Suspected outliers: []\n"
          ]
        }
      ],
      "source": [
        "import numpy as np\n",
        "\n",
        "# Sample data\n",
        "data = np.array([1, 2, 3, 4, 5, 6, 7, 8, 9, 10, 11, 12, 13, 14, 15])\n",
        "\n",
        "# Calculate Q1, Q3, and IQR\n",
        "Q1 = 4\n",
        "Q3 = 8.25\n",
        "IQR = 4.5\n",
        "\n",
        "# Calculate lower and upper bounds for outliers\n",
        "lower_bound = Q1 - 1.5 * IQR\n",
        "upper_bound = Q3 + 1.5 * IQR\n",
        "\n",
        "# Identify suspected outliers\n",
        "outliers = data[(data < lower_bound) | (data > upper_bound)]\n",
        "\n",
        "print(\"Suspected outliers:\", outliers)"
      ]
    },
    {
      "cell_type": "code",
      "execution_count": null,
      "id": "fa088c3c",
      "metadata": {
        "id": "fa088c3c",
        "outputId": "c908c396-65ce-4c8a-e82d-b5827c955a94"
      },
      "outputs": [
        {
          "name": "stdout",
          "output_type": "stream",
          "text": [
            "The Top student is John\n"
          ]
        }
      ],
      "source": [
        "def my_function(*Students):\n",
        "  print(\"The Top student is \" + Students[0])\n",
        "\n",
        "my_function(\"John\", \"Tobias\", \"Linus\",\"Emil\")\n"
      ]
    },
    {
      "cell_type": "code",
      "execution_count": null,
      "id": "186b2758",
      "metadata": {
        "id": "186b2758",
        "outputId": "a239b8c4-884f-4d80-e655-e18e620a05b8"
      },
      "outputs": [
        {
          "name": "stdout",
          "output_type": "stream",
          "text": [
            "The Top Brand Logitech\n"
          ]
        }
      ],
      "source": [
        "def my_function(b1, b2, b3):\n",
        "  print(\"The Top Brand \" + b3)\n",
        "\n",
        "my_function(b1 = \"Dell\", b2 = \"Lenova\", b3 = \"Logitech\")"
      ]
    },
    {
      "cell_type": "code",
      "execution_count": null,
      "id": "5a45cbbf",
      "metadata": {
        "id": "5a45cbbf",
        "outputId": "f01a39d1-0b9f-4ff9-def9-c07250178c5c"
      },
      "outputs": [
        {
          "name": "stdout",
          "output_type": "stream",
          "text": [
            "His last name is Refsnes\n"
          ]
        }
      ],
      "source": [
        "def my_function(**kid):\n",
        "  print(\"His last name is \" + kid[\"lname\"])\n",
        "\n",
        "my_function(fname = \"Tobias\", lname = \"Refsnes\")"
      ]
    },
    {
      "cell_type": "markdown",
      "id": "0c41fc2a",
      "metadata": {
        "id": "0c41fc2a"
      },
      "source": [
        "Single Asterisk allows the developer to pass a variable number of Positional parameters and automatically converts the input values in the form of tuples. At the same time, Double Asterisks allows the users to pass a variable number of Keyword parameters in the form of a Dictionary.\n",
        "\n",
        "\n",
        "In Python, arguments can be passed to a function in two ways: positional arguments or keyword arguments: A positional argument is an argument that is passed to a function based on its position in the argument list. A Keyword argument is passed to a function by specifying the parameter name and its corresponding value"
      ]
    },
    {
      "cell_type": "code",
      "execution_count": null,
      "id": "3ee32024",
      "metadata": {
        "id": "3ee32024",
        "outputId": "77779f96-86c2-4ddb-cfaa-a76192ab0484"
      },
      "outputs": [
        {
          "name": "stdout",
          "output_type": "stream",
          "text": [
            "I am from Sweden\n",
            "I am from India\n",
            "I am from Norway\n",
            "I am from Brazil\n"
          ]
        }
      ],
      "source": [
        "def my_function(country = \"Norway\"):\n",
        "  print(\"I am from \" + country)\n",
        "\n",
        "my_function(\"Sweden\")\n",
        "my_function(\"India\")\n",
        "my_function()\n",
        "my_function(\"Brazil\")"
      ]
    },
    {
      "cell_type": "code",
      "execution_count": null,
      "id": "d13832e4",
      "metadata": {
        "id": "d13832e4",
        "outputId": "ae1006c7-b140-4341-ff25-c4dc4b49613a"
      },
      "outputs": [
        {
          "name": "stdout",
          "output_type": "stream",
          "text": [
            "apple\n",
            "banana\n",
            "cherry\n"
          ]
        }
      ],
      "source": [
        "def fruits(sweet_fruits):\n",
        "    for x in sweet_fruits:\n",
        "        print(x)\n",
        "\n",
        "sweet_fruits = [\"apple\", \"banana\", \"cherry\"]\n",
        "\n",
        "fruits(sweet_fruits)"
      ]
    },
    {
      "cell_type": "code",
      "execution_count": null,
      "id": "3f351024",
      "metadata": {
        "id": "3f351024",
        "outputId": "3d3d9e3c-b8c8-4ca9-c9bb-17cd6ed6af51"
      },
      "outputs": [
        {
          "name": "stdout",
          "output_type": "stream",
          "text": [
            "15\n"
          ]
        }
      ],
      "source": [
        "def my_function(x):\n",
        "  return 5 * x\n",
        "\n",
        "print(my_function(3))"
      ]
    },
    {
      "cell_type": "code",
      "execution_count": null,
      "id": "84ff0ba5",
      "metadata": {
        "id": "84ff0ba5",
        "outputId": "bc9f2f92-7428-46d4-e49f-54f6359c7215"
      },
      "outputs": [
        {
          "name": "stdout",
          "output_type": "stream",
          "text": [
            "3\n"
          ]
        }
      ],
      "source": [
        "#positional arguments\n",
        "def my_function(x, /):\n",
        "  print(x)\n",
        "\n",
        "my_function(3)\n"
      ]
    },
    {
      "cell_type": "code",
      "execution_count": null,
      "id": "e95f944d",
      "metadata": {
        "id": "e95f944d",
        "outputId": "0db0193a-8576-4e1a-ca6f-49ffefe6214f"
      },
      "outputs": [
        {
          "name": "stdout",
          "output_type": "stream",
          "text": [
            "3\n"
          ]
        }
      ],
      "source": [
        "def my_function(x):\n",
        "  print(x)\n",
        "\n",
        "my_function(x = 3)"
      ]
    },
    {
      "cell_type": "code",
      "execution_count": null,
      "id": "df5b9e4e",
      "metadata": {
        "id": "df5b9e4e",
        "outputId": "60941bfd-a968-46c4-8f9f-3c091d6fe812"
      },
      "outputs": [
        {
          "name": "stdout",
          "output_type": "stream",
          "text": [
            "3\n"
          ]
        }
      ],
      "source": [
        "# keyword arguments\n",
        "def my_function(*, x):\n",
        "  print(x)\n",
        "\n",
        "my_function(x = 3)"
      ]
    },
    {
      "cell_type": "code",
      "execution_count": null,
      "id": "06ec16f6",
      "metadata": {
        "id": "06ec16f6",
        "outputId": "929c92a4-8704-439a-9ed6-b0f58bb6552c"
      },
      "outputs": [
        {
          "name": "stdout",
          "output_type": "stream",
          "text": [
            "26\n"
          ]
        }
      ],
      "source": [
        "def my_function(a, b, /, *, c, d):\n",
        "  print(a + b + c + d)\n",
        "\n",
        "my_function(5, 6, c = 7, d = 8)\n"
      ]
    },
    {
      "cell_type": "markdown",
      "id": "6eddb431",
      "metadata": {
        "id": "6eddb431"
      },
      "source": [
        "A lambda function in Python is a small anonymous function defined using the lambda keyword. It allows you to create a function without a proper name. Lambda functions can take any number of arguments, but they can only have one expression. They are often used when you need a simple function for a short period"
      ]
    },
    {
      "cell_type": "code",
      "execution_count": null,
      "id": "ef736504",
      "metadata": {
        "id": "ef736504",
        "outputId": "475070d5-37b5-4ca8-a0ca-e0bfd60736c6"
      },
      "outputs": [
        {
          "name": "stdout",
          "output_type": "stream",
          "text": [
            "15\n"
          ]
        }
      ],
      "source": [
        "x = lambda a : a + 10\n",
        "print(x(5))"
      ]
    },
    {
      "cell_type": "code",
      "execution_count": null,
      "id": "6655e70d",
      "metadata": {
        "id": "6655e70d",
        "outputId": "85c8477f-e554-4050-b888-6cf031c53ded"
      },
      "outputs": [
        {
          "name": "stdout",
          "output_type": "stream",
          "text": [
            "30\n"
          ]
        }
      ],
      "source": [
        "x = lambda a, b : a * b\n",
        "print(x(5, 6))"
      ]
    },
    {
      "cell_type": "markdown",
      "id": "900d07c8",
      "metadata": {
        "id": "900d07c8"
      },
      "source": [
        "WHY?The power of lambda is better shown when you use them as an anonymous function inside another function."
      ]
    },
    {
      "cell_type": "code",
      "execution_count": null,
      "id": "69df159f",
      "metadata": {
        "id": "69df159f",
        "outputId": "9ca4b68e-d737-4276-ed90-85f57ebc6b5a"
      },
      "outputs": [
        {
          "name": "stdout",
          "output_type": "stream",
          "text": [
            "22\n"
          ]
        }
      ],
      "source": [
        "def myfunc(n):\n",
        "  return lambda a : a * n\n",
        "\n",
        "mydoubler = myfunc(2)\n",
        "\n",
        "print(mydoubler(11))"
      ]
    },
    {
      "cell_type": "code",
      "execution_count": null,
      "id": "234c4dc2",
      "metadata": {
        "id": "234c4dc2",
        "outputId": "5e788431-1ccb-46f9-f618-a94ac0fdd083"
      },
      "outputs": [
        {
          "data": {
            "text/plain": [
              "1"
            ]
          },
          "execution_count": 35,
          "metadata": {},
          "output_type": "execute_result"
        }
      ],
      "source": [
        "142\n",
        "1**3"
      ]
    },
    {
      "cell_type": "code",
      "execution_count": null,
      "id": "12fd489c",
      "metadata": {
        "id": "12fd489c",
        "outputId": "883e0342-d0ab-4cc6-fa55-a31bc1cef7a7"
      },
      "outputs": [
        {
          "data": {
            "text/plain": [
              "64"
            ]
          },
          "execution_count": 33,
          "metadata": {},
          "output_type": "execute_result"
        }
      ],
      "source": [
        "4**3"
      ]
    },
    {
      "cell_type": "code",
      "execution_count": null,
      "id": "ac201ecd",
      "metadata": {
        "id": "ac201ecd",
        "outputId": "b879b30b-fad7-4ae3-e4f1-8792104038da"
      },
      "outputs": [
        {
          "data": {
            "text/plain": [
              "8"
            ]
          },
          "execution_count": 34,
          "metadata": {},
          "output_type": "execute_result"
        }
      ],
      "source": [
        "2**3"
      ]
    },
    {
      "cell_type": "code",
      "execution_count": null,
      "id": "e36e472a",
      "metadata": {
        "id": "e36e472a",
        "outputId": "5506ff1c-62e5-4b80-8b81-684f493faa2c"
      },
      "outputs": [
        {
          "data": {
            "text/plain": [
              "72"
            ]
          },
          "execution_count": 36,
          "metadata": {},
          "output_type": "execute_result"
        }
      ],
      "source": [
        "64+8"
      ]
    },
    {
      "cell_type": "code",
      "execution_count": null,
      "id": "8df5276d",
      "metadata": {
        "id": "8df5276d"
      },
      "outputs": [],
      "source": [
        "Here are the main differences between for and while loops in Python:\n",
        "\n",
        "Syntax:\n",
        "For Loop: The for loop is used to iterate over a sequence (such as lists, tuples, strings, etc.) or other iterable objects. It has the following syntax:\n",
        "python\n",
        "Copy code\n",
        "for item in sequence:\n",
        "    # Code block to be executed for each item\n",
        "While Loop: The while loop is used to execute a block of code repeatedly as long as a specified condition is true. It has the following syntax:\n",
        "python\n",
        "Copy code\n",
        "while condition:\n",
        "    # Code block to be executed as long as condition is true\n",
        "Use Cases:\n",
        "For Loop: Typically used when you know the number of iterations beforehand or when you want to iterate over a collection of items.\n",
        "While Loop: Generally used when you don't know the exact number of iterations beforehand, or when you want to repeat execution until a certain condition is met.\n",
        "Initialization:\n",
        "For Loop: The loop variable (e.g., item in the syntax example) is initialized with each item in the sequence in each iteration automatically.\n",
        "While Loop: You need to initialize any variables used in the condition before the loop starts.\n",
        "Termination:\n",
        "For Loop: Terminates when all items in the sequence have been processed.\n",
        "While Loop: Terminates when the condition specified becomes false.\n",
        "Potential for Infinite Loop:\n",
        "For Loop: Less prone to infinite loops since the number of iterations is typically known in advance.\n",
        "While Loop: More prone to infinite loops if the condition is not properly updated within the loop, potentially leading to the loop running indefinitely.\n",
        "Common Use Cases:\n",
        "For Loop: Iterating over elements in a list, processing each character in a string, looping over a range of numbers, etc.\n",
        "While Loop: Iterating until a certain condition is met (e.g., user input meets a specific requirement, a certain value is reached, etc.).\n",
        "In summary, for loops are generally preferred when you know the number of iterations or want to iterate over a sequence, while while loops are useful when you need to repeat execution until a certain condition is met, and the number of iterations is not known in advance."
      ]
    },
    {
      "cell_type": "markdown",
      "id": "533b13a0",
      "metadata": {
        "id": "533b13a0"
      },
      "source": [
        "#1 Find the given number is Armstrong number or not\n",
        "1, 2, 3, 4, 5, 6, 7, 8, 9, 153, 370, 371, 407\n",
        "For example, let's take the number 153:\n",
        "\n",
        "1^3 + 5^3 + 3^3 = 1 + 125 + 27 = 153\n",
        "\n",
        "Here's how the process works:\n",
        "\n",
        "Take an integer.\n",
        "Break it into its individual digits.\n",
        "Raise each digit to the power of the total number of digits.\n",
        "Sum up these powered digits.\n",
        "If the sum equals the original number, then it is an Armstrong number."
      ]
    },
    {
      "cell_type": "code",
      "execution_count": null,
      "id": "625c3327",
      "metadata": {
        "id": "625c3327",
        "outputId": "67294343-38ec-44b0-f39b-828a756b55ff"
      },
      "outputs": [
        {
          "name": "stdout",
          "output_type": "stream",
          "text": [
            "Enter a number: 153\n",
            "153 is an Armstrong number\n"
          ]
        }
      ],
      "source": [
        "num = int(input(\"Enter a number: \"))\n",
        "# Input: 407\n",
        "sum = 0\n",
        "temp = num\n",
        "while temp > 0:\n",
        "   digit = temp % 10\n",
        "   sum += digit ** 3\n",
        "   temp //= 10\n",
        "if num == sum:\n",
        "   print(num,\"is an Armstrong number\")\n",
        "else:\n",
        "   print(num,\"is not an Armstrong number\")\n",
        "# Output: 407 is an Armstrong number"
      ]
    },
    {
      "cell_type": "code",
      "execution_count": null,
      "id": "f0e3a88e",
      "metadata": {
        "id": "f0e3a88e"
      },
      "outputs": [],
      "source": [
        "#2.Write a program to check if the given strings are anagram or not."
      ]
    },
    {
      "cell_type": "code",
      "execution_count": null,
      "id": "ec8dc5fb",
      "metadata": {
        "id": "ec8dc5fb",
        "outputId": "3a132675-01b5-4153-a7db-b3e0a2ed536c"
      },
      "outputs": [
        {
          "name": "stdout",
          "output_type": "stream",
          "text": [
            "Enter string1: listen\n",
            "Enter string2: silent\n",
            "The strings are anagrams.\n"
          ]
        }
      ],
      "source": [
        "def check(s1, s2):\n",
        "\n",
        "    if(sorted(s1)== sorted(s2)):\n",
        "        print(\"The strings are anagrams.\")\n",
        "    else:\n",
        "        print(\"The strings aren't anagrams.\")\n",
        "\n",
        "s1 = input(\"Enter string1: \")\n",
        "# input1: \"listen\"\n",
        "s2 = input(\"Enter string2: \")\n",
        "# input2: \"silent\"\n",
        "check(s1, s2)"
      ]
    },
    {
      "cell_type": "markdown",
      "id": "125b8cd0",
      "metadata": {
        "id": "125b8cd0"
      },
      "source": [
        "#Write a program to print the following pattern.\n",
        "1\n",
        "1  2\n",
        "1  2  3\n",
        "1  2  3  4   \n",
        "1  2  3  4  5"
      ]
    },
    {
      "cell_type": "code",
      "execution_count": null,
      "id": "9e369e41",
      "metadata": {
        "id": "9e369e41",
        "outputId": "0a96b9c8-82d9-474d-8508-83105e1ab667"
      },
      "outputs": [
        {
          "name": "stdout",
          "output_type": "stream",
          "text": [
            "1 \r\n",
            "1 2 \r\n",
            "1 2 3 \r\n",
            "1 2 3 4 \r\n",
            "1 2 3 4 5 \r\n"
          ]
        }
      ],
      "source": [
        "def num(n):\n",
        "    num = 1\n",
        "    for i in range(0, n):\n",
        "        num = 1\n",
        "        for j in range(0, i+1):\n",
        "            print(num, end=\" \")\n",
        "            num = num + 1\n",
        "        print(\"\\r\")\n",
        "n = 5\n",
        "num(n)"
      ]
    },
    {
      "cell_type": "code",
      "execution_count": null,
      "id": "eb338763",
      "metadata": {
        "id": "eb338763",
        "outputId": "4e1e4d61-f53f-41a5-8b62-e79a0a31c6b0"
      },
      "outputs": [
        {
          "name": "stdout",
          "output_type": "stream",
          "text": [
            "* \n",
            "\n",
            "* * \n",
            "\n",
            "* * * \n",
            "\n",
            "* * * * \n",
            "\n",
            "* * * * * \n",
            "\n"
          ]
        }
      ],
      "source": [
        "for i in range(5):\n",
        "    for j in  range(i+1):\n",
        "        print('*',end=\" \")\n",
        "    print('\\n')\n"
      ]
    },
    {
      "cell_type": "code",
      "source": [
        "# conditional statements -> if, else, elif\n",
        "\n",
        "age = 13\n",
        "is_voter_id = True\n",
        "\n",
        "if(age >= 18 and is_voter_id == True):\n",
        "    print('You are eligible to vote')\n",
        "else:\n",
        "    print('Not eligible')"
      ],
      "metadata": {
        "colab": {
          "base_uri": "https://localhost:8080/"
        },
        "id": "ly-9xeZWnd0Y",
        "outputId": "f319c33c-735f-4ff6-8848-9257f1bb21bd"
      },
      "id": "ly-9xeZWnd0Y",
      "execution_count": null,
      "outputs": [
        {
          "output_type": "stream",
          "name": "stdout",
          "text": [
            "Not eligible\n"
          ]
        }
      ]
    },
    {
      "cell_type": "code",
      "source": [
        "# greatest of 3 nums\n",
        "num1 = 100\n",
        "num2 = 200\n",
        "num3 = 500\n",
        "\n",
        "if (num1 > num2 and num1 > num3):\n",
        "    print('num1 is greater')\n",
        "elif(num2 > num1 and num2 > num3):\n",
        "    print('num2 is greater')\n",
        "else:\n",
        "    print('num3 is greater')"
      ],
      "metadata": {
        "id": "h-zFjXCsnoUX",
        "outputId": "ef3f0ca1-f60f-4f32-d234-cd16b2f42ccd",
        "colab": {
          "base_uri": "https://localhost:8080/"
        }
      },
      "id": "h-zFjXCsnoUX",
      "execution_count": null,
      "outputs": [
        {
          "output_type": "stream",
          "name": "stdout",
          "text": [
            "num3 is greater\n"
          ]
        }
      ]
    },
    {
      "cell_type": "code",
      "source": [
        "while True:\n",
        "    print(\"Hello\")\n",
        "    break\n"
      ],
      "metadata": {
        "id": "wFLyTXaWPBXG"
      },
      "id": "wFLyTXaWPBXG",
      "execution_count": null,
      "outputs": []
    },
    {
      "cell_type": "code",
      "execution_count": null,
      "id": "690d14f6",
      "metadata": {
        "id": "690d14f6",
        "colab": {
          "base_uri": "https://localhost:8080/"
        },
        "outputId": "20397bc4-91a3-4c8b-f689-0dfa97ea2584"
      },
      "outputs": [
        {
          "output_type": "stream",
          "name": "stdout",
          "text": [
            "\n",
            "Library Management System\n",
            "1. Add a Book\n",
            "2. Borrow a Book\n",
            "3. Return a Book\n",
            "4. Display Available Books\n",
            "5. Exit\n",
            "Enter your choice: 2\n",
            "Enter the name of the book to borrow: helen\n",
            "Sorry, the book 'helen' is not available in the library.\n",
            "\n",
            "Library Management System\n",
            "1. Add a Book\n",
            "2. Borrow a Book\n",
            "3. Return a Book\n",
            "4. Display Available Books\n",
            "5. Exit\n",
            "Enter your choice: 4\n",
            "No books are currently available in the library.\n",
            "\n",
            "Library Management System\n",
            "1. Add a Book\n",
            "2. Borrow a Book\n",
            "3. Return a Book\n",
            "4. Display Available Books\n",
            "5. Exit\n",
            "Enter your choice: 1\n",
            "Enter the name of the book to add: Chetan Bhagat\n",
            "Book 'Chetan Bhagat' has been added to the library.\n",
            "\n",
            "Library Management System\n",
            "1. Add a Book\n",
            "2. Borrow a Book\n",
            "3. Return a Book\n",
            "4. Display Available Books\n",
            "5. Exit\n",
            "Enter your choice: 1\n",
            "Enter the name of the book to add: Thirumanthiram\n",
            "Book 'Thirumanthiram' has been added to the library.\n",
            "\n",
            "Library Management System\n",
            "1. Add a Book\n",
            "2. Borrow a Book\n",
            "3. Return a Book\n",
            "4. Display Available Books\n",
            "5. Exit\n",
            "Enter your choice: 2\n",
            "Enter the name of the book to borrow: Chetan Bhagat\n",
            "You have borrowed 'Chetan Bhagat'.\n",
            "\n",
            "Library Management System\n",
            "1. Add a Book\n",
            "2. Borrow a Book\n",
            "3. Return a Book\n",
            "4. Display Available Books\n",
            "5. Exit\n",
            "Enter your choice: 4\n",
            "Available books in the library:\n",
            "- Thirumanthiram\n",
            "\n",
            "Library Management System\n",
            "1. Add a Book\n",
            "2. Borrow a Book\n",
            "3. Return a Book\n",
            "4. Display Available Books\n",
            "5. Exit\n",
            "Enter your choice: 3\n",
            "Enter the name of the book to return: Chetan Bahat\n",
            "Book 'Chetan Bahat' has been returned to the library.\n",
            "\n",
            "Library Management System\n",
            "1. Add a Book\n",
            "2. Borrow a Book\n",
            "3. Return a Book\n",
            "4. Display Available Books\n",
            "5. Exit\n",
            "Enter your choice: 4\n",
            "Available books in the library:\n",
            "- Thirumanthiram\n",
            "- Chetan Bahat\n",
            "\n",
            "Library Management System\n",
            "1. Add a Book\n",
            "2. Borrow a Book\n",
            "3. Return a Book\n",
            "4. Display Available Books\n",
            "5. Exit\n",
            "Enter your choice: 5\n",
            "Exiting the Library Management System. Goodbye!\n"
          ]
        }
      ],
      "source": [
        "#LISTS REAL TIME EXAMPLE\n",
        "#Library management system\n",
        "class Library:\n",
        "    def __init__(self):\n",
        "        # Initialize the library with an empty list of books\n",
        "        self.books = []\n",
        "\n",
        "    def add_book(self, book_name):\n",
        "        # Add a new book to the library\n",
        "        self.books.append(book_name)\n",
        "        print(f\"Book '{book_name}' has been added to the library.\")\n",
        "\n",
        "    def borrow_book(self, book_name):\n",
        "        # Borrow a book from the library\n",
        "        if book_name in self.books:\n",
        "            self.books.remove(book_name)\n",
        "            print(f\"You have borrowed '{book_name}'.\")\n",
        "        else:\n",
        "            print(f\"Sorry, the book '{book_name}' is not available in the library.\")\n",
        "\n",
        "    def return_book(self, book_name):\n",
        "        # Return a book to the library\n",
        "        self.books.append(book_name)\n",
        "        print(f\"Book '{book_name}' has been returned to the library.\")\n",
        "\n",
        "    def display_books(self):\n",
        "        # Display the list of available books in the library\n",
        "        if self.books:\n",
        "            print(\"Available books in the library:\")\n",
        "            for book in self.books:\n",
        "                print(f\"- {book}\")\n",
        "        else:\n",
        "            print(\"No books are currently available in the library.\")\n",
        "\n",
        "# Main function to interact with the library system\n",
        "def main():\n",
        "    library = Library()\n",
        "\n",
        "    while True:\n",
        "        print(\"\\nLibrary Management System\")\n",
        "        print(\"1. Add a Book\")\n",
        "        print(\"2. Borrow a Book\")\n",
        "        print(\"3. Return a Book\")\n",
        "        print(\"4. Display Available Books\")\n",
        "        print(\"5. Exit\")\n",
        "\n",
        "        choice = input(\"Enter your choice: \")\n",
        "\n",
        "        if choice == '1':\n",
        "            book_name = input(\"Enter the name of the book to add: \")\n",
        "            library.add_book(book_name)\n",
        "        elif choice == '2':\n",
        "            book_name = input(\"Enter the name of the book to borrow: \")\n",
        "            library.borrow_book(book_name)\n",
        "        elif choice == '3':\n",
        "            book_name = input(\"Enter the name of the book to return: \")\n",
        "            library.return_book(book_name)\n",
        "        elif choice == '4':\n",
        "            library.display_books()\n",
        "        elif choice == '5':\n",
        "            print(\"Exiting the Library Management System. Goodbye!\")\n",
        "            break\n",
        "        else:\n",
        "            print(\"Invalid choice. Please try again.\")\n",
        "\n",
        "if __name__ == \"__main__\":\n",
        "    main()"
      ]
    },
    {
      "cell_type": "code",
      "source": [
        "#USING DICTIONARY REAL TIME EXAMPLE using LOG IN Credentials\n",
        "database = {'virat':3345, 'sharan':9989, 'rashmi':9054, 'prashant':7732}"
      ],
      "metadata": {
        "id": "ffZoaIDytsNf"
      },
      "id": "ffZoaIDytsNf",
      "execution_count": null,
      "outputs": []
    },
    {
      "cell_type": "code",
      "source": [
        "username = input('Please enter your username : ').strip().lower()\n",
        "\n",
        "if username in database.keys():\n",
        "    password = int(input('Please enter your password : '))\n",
        "    if password == database[username]:\n",
        "        print('Hello', username.capitalize())\n",
        "    else:\n",
        "        print('Sorry but it seems your password is incorrect. Please try again')\n",
        "else:\n",
        "    print('Sorry but it seems that you are not in our database or the username entered is incorrect')\n",
        "    response = input('Do you want to be added to the database? (Yes/No)').capitalize()\n",
        "\n",
        "    if response == 'Yes':\n",
        "        password = int(input('Please enter your password : '))\n",
        "        database[username] = password\n",
        "    else:\n",
        "        print('Thank you for visiting. See you soon again!')\n",
        "\n",
        "print(database)"
      ],
      "metadata": {
        "colab": {
          "base_uri": "https://localhost:8080/"
        },
        "id": "NbWqYbCNt2Rq",
        "outputId": "cc2ef2cc-2b3d-4cff-c6e9-7247e8daaeca"
      },
      "id": "NbWqYbCNt2Rq",
      "execution_count": null,
      "outputs": [
        {
          "output_type": "stream",
          "name": "stdout",
          "text": [
            "Please enter your username : sdf\n",
            "Sorry but it seems that you are not in our database or the username entered is incorrect\n",
            "Do you want to be added to the database? (Yes/No)no\n",
            "Thank you for visiting. See you soon again!\n",
            "{'virat': 3345, 'sharan': 9989, 'rashmi': 9054, 'prashant': 7732, 'suganya': 1111}\n"
          ]
        }
      ]
    },
    {
      "cell_type": "code",
      "source": [
        "database['virat']"
      ],
      "metadata": {
        "colab": {
          "base_uri": "https://localhost:8080/"
        },
        "id": "icynpP3ZuHj9",
        "outputId": "47b68b7f-cb7f-4650-b275-e7ce03279243"
      },
      "id": "icynpP3ZuHj9",
      "execution_count": null,
      "outputs": [
        {
          "output_type": "execute_result",
          "data": {
            "text/plain": [
              "3345"
            ]
          },
          "metadata": {},
          "execution_count": 5
        }
      ]
    },
    {
      "cell_type": "code",
      "source": [
        "database.keys()"
      ],
      "metadata": {
        "colab": {
          "base_uri": "https://localhost:8080/"
        },
        "id": "yBUSfK2vuMN6",
        "outputId": "9d1a99d3-a640-4dcf-dd4a-d9261d7fca67"
      },
      "id": "yBUSfK2vuMN6",
      "execution_count": null,
      "outputs": [
        {
          "output_type": "execute_result",
          "data": {
            "text/plain": [
              "dict_keys(['virat', 'sharan', 'rashmi', 'prashant'])"
            ]
          },
          "metadata": {},
          "execution_count": 6
        }
      ]
    },
    {
      "cell_type": "code",
      "source": [
        "database.values()"
      ],
      "metadata": {
        "colab": {
          "base_uri": "https://localhost:8080/"
        },
        "id": "djpfKe6iuPnB",
        "outputId": "d66d3c0e-6564-4986-8d78-7367acbe870f"
      },
      "id": "djpfKe6iuPnB",
      "execution_count": null,
      "outputs": [
        {
          "output_type": "execute_result",
          "data": {
            "text/plain": [
              "dict_values([3345, 9989, 9054, 7732])"
            ]
          },
          "metadata": {},
          "execution_count": 7
        }
      ]
    },
    {
      "cell_type": "code",
      "source": [
        "username = input('please enter your username: ').strip().lower()\n",
        "\n",
        "\n",
        "if username in database.keys():\n",
        "    password = int(input('please enter your password: '))\n",
        "    if password == database[username]:\n",
        "        print('hello', username.capitalize())\n",
        "    else:\n",
        "        print('sorry but it seems your password is incorrect. please try again')\n",
        "\n",
        "else:\n",
        "    print('sorry but seems that you are not in our database or the username entered incorrect')\n",
        "    response = input('do you want to be added to the data base? (Yes/No)').capitalize()\n",
        "\n",
        "    if response == 'Yes':\n",
        "        password = int(input('please enter your password: '))\n",
        "        database[username] = password\n",
        "    else:\n",
        "        print('thank you for visiting. see you again!')\n",
        "\n",
        "print(database)"
      ],
      "metadata": {
        "colab": {
          "base_uri": "https://localhost:8080/"
        },
        "id": "zr3ldXZ4wWu6",
        "outputId": "b4ad5038-88c0-43e9-f510-77f4c0912930"
      },
      "id": "zr3ldXZ4wWu6",
      "execution_count": null,
      "outputs": [
        {
          "output_type": "stream",
          "name": "stdout",
          "text": [
            "please enter your username: suganya\n",
            "please enter your password: 1111\n",
            "hellow Suganya\n",
            "{'virat': 3345, 'sharan': 9989, 'rashmi': 9054, 'prashant': 7732, 'suganya': 1111}\n"
          ]
        }
      ]
    },
    {
      "cell_type": "markdown",
      "source": [
        "he if __name__ == \"__main__\": construct is a standard way in Python to ensure that certain code (typically the test or main routine) is executed only when the script is run directly, and not when it is imported as a module.\n",
        "\n",
        "The line if __name__ == \"__main__\": followed by main() is a common construct in Python scripts. It is used to ensure that a block of code is only executed when the script is run directl"
      ],
      "metadata": {
        "id": "0ZUoksDVOZdp"
      },
      "id": "0ZUoksDVOZdp"
    },
    {
      "cell_type": "code",
      "source": [
        "class Dog:\n",
        "    def __init__(self, name, age):\n",
        "        self.name = name  # self.name is an instance attribute\n",
        "        self.age = age    # self.age is an instance attribute\n",
        "\n",
        "    def speak(self):\n",
        "        print(f\"{self.name} says woof!\")\n",
        "\n",
        "    def birthday(self):\n",
        "        self.age += 1\n",
        "        print(f\"{self.name} is now {self.age} years old.\")\n",
        "\n",
        "# Create an instance of Dog\n",
        "my_dog = Dog(\"Jimmy\", 3)\n",
        "\n",
        "# Call instance methods\n",
        "my_dog.speak()      # Output: Buddy says woof!\n",
        "my_dog.birthday()   # Output: Buddy is now 4 years old."
      ],
      "metadata": {
        "colab": {
          "base_uri": "https://localhost:8080/"
        },
        "id": "dkSVDKDyKXmK",
        "outputId": "465ceaa0-1e7e-4f29-e032-6dbf4f51125c"
      },
      "id": "dkSVDKDyKXmK",
      "execution_count": null,
      "outputs": [
        {
          "output_type": "stream",
          "name": "stdout",
          "text": [
            "Jimmy says woof!\n",
            "Jimmy is now 4 years old.\n"
          ]
        }
      ]
    },
    {
      "cell_type": "markdown",
      "source": [
        "requests.get(url) is a function call in Python that sends an HTTP GET request to the specified URL using the requests library. This function is commonly used in web scraping and API consumption to retrieve web pages or data from web servers.\n",
        "\n",
        "\n",
        "The HTTP status code is a numerical value that indicates the outcome of the HTTP request. It provides information about whether the request was successful, encountered an error, or requires further action.\n",
        "Here are some common HTTP status codes:\n",
        "200: OK - The request was successful.\n",
        "404: Not Found - The requested resource was not found on the server.\n",
        "500: Internal Server Error - The server encountered an unexpected condition that prevented it from fulfilling the request.\n",
        "\n",
        "\n",
        "\n",
        "In Python regular expressions, the r prefix before a string literal denotes a raw string. When you use r'\\b\\w+\\b', it tells Python to interpret the string exactly as it appears, without any special treatment of backslashes.\n",
        "\n",
        "\n",
        "\n",
        "In the context of the expression re.findall(r'\\b\\w+\\b', text), the pattern \\b\\w+\\b represents a regular expression that matches whole words in the input text. Here's what each part of the pattern means:\n",
        "\\b: Represents a word boundary. It matches the empty string at the beginning or end of a word. It helps ensure that the pattern matches whole words and not parts of words.\n",
        "\\w+: Represents one or more word characters. A word character typically includes alphanumeric characters (letters and digits) and underscores.\n",
        "\\b: Another word boundary to ensure that the pattern matches whole words.\n",
        "When you call re.findall(r'\\b\\w+\\b', text), it searches the text string for all occurrences of whole words and returns them as a list of strings.\n",
        "\n",
        "\n",
        "In the context of the response.content attribute in Python's requests library, content refers to the raw byte data of the HTTP response body.\n",
        "When you make an HTTP request using requests.get(url) (or similar methods), the requests library sends the request to the specified URL and receives a response from the server. This response typically includes headers (metadata) and a body (the actual content).\n",
        "The response.content attribute contains the raw byte data of the HTTP response body. It's useful when you want to access the response content in its original binary form, such as when downloading files, images, or other non-textual data from a web server.\n",
        "\n",
        "\n",
        "\n"
      ],
      "metadata": {
        "id": "3hUG_p6-sBea"
      },
      "id": "3hUG_p6-sBea"
    },
    {
      "cell_type": "code",
      "source": [
        "# Assignment 3\n",
        "#Create a web scraping program to display the list of all words from Url(Wikipedia) using BeautifulSoup bs4.\n",
        "#skills: functions, re\n",
        "\n",
        "from bs4 import BeautifulSoup\n",
        "import requests\n",
        "import re\n",
        "\n",
        "# Function to extract words from HTML page\n",
        "def extract_words(url):\n",
        "    # Send a GET request to the URL\n",
        "    response = requests.get(url)\n",
        "\n",
        "    # Check if the request was successful\n",
        "    if response.status_code == 200:\n",
        "        # Parse the HTML content using BeautifulSoup\n",
        "        soup = BeautifulSoup(response.content, 'html.parser')\n",
        "\n",
        "        # Extract text from HTML\n",
        "        text = soup.get_text()\n",
        "\n",
        "        # Use regular expression to find words\n",
        "        words = re.findall(r'\\b\\w+\\b', text)\n",
        "\n",
        "        return words\n",
        "    else:\n",
        "        print(\"Failed to retrieve the HTML content.\")\n",
        "        return []\n",
        "\n",
        "# Example usage:\n",
        "url = \"https://en.wikipedia.org/wiki/Artificial_intelligence\"  # Replace with the URL of the HTML page you want to scrape\n",
        "#url=\"Enter\"\n",
        "words = extract_words(url)\n",
        "print(\"Words extracted from the HTML page:\", words)"
      ],
      "metadata": {
        "colab": {
          "base_uri": "https://localhost:8080/"
        },
        "id": "Y0sBaaP6rabT",
        "outputId": "4bb9fe5e-64af-40ff-cc5d-40a05d4468cb"
      },
      "id": "Y0sBaaP6rabT",
      "execution_count": null,
      "outputs": [
        {
          "output_type": "stream",
          "name": "stdout",
          "text": [
            "Words extracted from the HTML page: ['Artificial', 'intelligence', 'Wikipedia', 'Jump', 'to', 'content', 'Main', 'menu', 'Main', 'menu', 'move', 'to', 'sidebar', 'hide', 'Navigation', 'Main', 'pageContentsCurrent', 'eventsRandom', 'articleAbout', 'WikipediaContact', 'usDonate', 'Contribute', 'HelpLearn', 'to', 'editCommunity', 'portalRecent', 'changesUpload', 'file', 'Search', 'Search', 'Create', 'account', 'Log', 'in', 'Personal', 'tools', 'Create', 'account', 'Log', 'in', 'Pages', 'for', 'logged', 'out', 'editors', 'learn', 'more', 'ContributionsTalk', 'Contents', 'move', 'to', 'sidebar', 'hide', 'Top', '1Goals', 'Toggle', 'Goals', 'subsection', '1', '1Reasoning', 'and', 'problem', 'solving', '1', '2Knowledge', 'representation', '1', '3Planning', 'and', 'decision', 'making', '1', '4Learning', '1', '5Natural', 'language', 'processing', '1', '6Perception', '1', '7Social', 'intelligence', '1', '8General', 'intelligence', '2Techniques', 'Toggle', 'Techniques', 'subsection', '2', '1Search', 'and', 'optimization', '2', '1', '1State', 'space', 'search', '2', '1', '2Local', 'search', '2', '2Logic', '2', '3Probabilistic', 'methods', 'for', 'uncertain', 'reasoning', '2', '4Classifiers', 'and', 'statistical', 'learning', 'methods', '2', '5Artificial', 'neural', 'networks', '2', '6Deep', 'learning', '2', '7GPT', '2', '8Specialized', 'hardware', 'and', 'software', '3Applications', 'Toggle', 'Applications', 'subsection', '3', '1Health', 'and', 'medicine', '3', '2Games', '3', '3Military', '3', '4Generative', 'AI', '3', '5Industry', 'specific', 'tasks', '4Ethics', 'Toggle', 'Ethics', 'subsection', '4', '1Risks', 'and', 'harm', '4', '1', '1Privacy', 'and', 'copyright', '4', '1', '2Misinformation', '4', '1', '3Algorithmic', 'bias', 'and', 'fairness', '4', '1', '4Lack', 'of', 'transparency', '4', '1', '5Bad', 'actors', 'and', 'weaponized', 'AI', '4', '1', '6Reliance', 'on', 'industry', 'giants', '4', '1', '7Technological', 'unemployment', '4', '1', '8Existential', 'risk', '4', '2Ethical', 'machines', 'and', 'alignment', '4', '3Open', 'source', '4', '4Frameworks', '4', '5Regulation', '5History', '6Philosophy', 'Toggle', 'Philosophy', 'subsection', '6', '1Defining', 'artificial', 'intelligence', '6', '2Evaluating', 'approaches', 'to', 'AI', '6', '2', '1Symbolic', 'AI', 'and', 'its', 'limits', '6', '2', '2Neat', 'vs', 'scruffy', '6', '2', '3Soft', 'vs', 'hard', 'computing', '6', '2', '4Narrow', 'vs', 'general', 'AI', '6', '3Machine', 'consciousness', 'sentience', 'and', 'mind', '6', '3', '1Consciousness', '6', '3', '2Computationalism', 'and', 'functionalism', '6', '3', '3AI', 'welfare', 'and', 'rights', '7Future', 'Toggle', 'Future', 'subsection', '7', '1Superintelligence', 'and', 'the', 'singularity', '7', '2Transhumanism', '8In', 'fiction', '9See', 'also', '10Explanatory', 'notes', '11References', 'Toggle', 'References', 'subsection', '11', '1AI', 'textbooks', '11', '2History', 'of', 'AI', '11', '3Other', 'sources', '12Further', 'reading', '13External', 'links', 'Toggle', 'the', 'table', 'of', 'contents', 'Artificial', 'intelligence', '151', 'languages', 'AfrikaansAlemannischአማርኛالعربيةAragonésԱրեւմտահայերէնঅসম', 'য', 'AsturianuAvañe', 'ẽAzərbaycancaتۆرکجهব', 'ল', '閩南語', 'Bân', 'lâm', 'gúБашҡортсаБеларускаяБеларуская', 'тарашкевіца', 'Bikol', 'CentralБългарскиBoarischབ', 'ད', 'ཡ', 'གBosanskiBrezhonegБуряадCatalàЧӑвашлаČeštinaCymraegDanskالدارجةDeutschEestiΕλληνικάEspañolEsperantoEstremeñuEuskaraفارسیFrançaisFurlanGaeilgeGaelgGàidhligGalego贛語Gĩkũyũ한국어HausaՀայերենह', 'न', 'द', 'HrvatskiIdoIgboIlokanoBahasa', 'IndonesiaInterlinguaInterlingueIsiZuluÍslenskaItalianoעבריתJawaಕನ', 'ನಡქართულიक', 'श', 'र', 'کٲش', 'رҚазақшаKiswahiliKreyòl', 'ayisyenKriyòl', 'gwiyannenКыргызчаLatinaLatviešuLëtzebuergeschLietuviųLimburgsLa', 'lojban', 'LombardMagyarMadhurâМакедонскиMalagasyമലയ', 'ള', 'Maltiमर', 'ठ', 'მარგალურიمصرىBahasa', 'MelayuMinangkabauМонголမ', 'န', 'မ', 'ဘ', 'သ', 'NederlandsNedersaksiesन', 'प', 'ल', 'न', 'प', 'ल', 'भ', 'ष', '日本語NordfriiskNorsk', 'bokmålNorsk', 'nynorskOccitanଓଡ', 'ଆOʻzbekcha', 'ўзбекчаਪ', 'ਜ', 'ਬ', 'پنجابیپښتوPatoisPlattdüütschPolskiPortuguêsQırımtatarcaReo', 'tahitiRipoarischRomânăRuna', 'SimiРусиньскыйРусскийСаха', 'тылаScotsShqipස', 'හලSimple', 'EnglishسنڌيSlovenčinaSlovenščinaŚlůnskiکوردیСрпски', 'srpskiSrpskohrvatski', 'српскохрватскиSuomiSvenskaTagalogதம', 'ழ', 'Татарча', 'tatarçaత', 'ల', 'గ', 'ไทยТоҷикӣTürkçeTürkmençeУкраїнськаاردوئۇيغۇرچە', 'UyghurcheVènetoTiếng', 'ViệtVõroWalonWinaray吴语יי', 'דיש粵語ZazakiŽemaitėška中文Fɔ', 'ngbè', 'Edit', 'links', 'ArticleTalk', 'English', 'ReadView', 'sourceView', 'history', 'Tools', 'Tools', 'move', 'to', 'sidebar', 'hide', 'Actions', 'ReadView', 'sourceView', 'history', 'General', 'What', 'links', 'hereRelated', 'changesUpload', 'fileSpecial', 'pagesPermanent', 'linkPage', 'informationCite', 'this', 'pageGet', 'shortened', 'URLDownload', 'QR', 'codeWikidata', 'item', 'Print', 'export', 'Download', 'as', 'PDFPrintable', 'version', 'In', 'other', 'projects', 'Wikimedia', 'CommonsWikibooksWikinewsWikiquoteWikiversity', 'From', 'Wikipedia', 'the', 'free', 'encyclopedia', 'Intelligence', 'of', 'machines', 'AI', 'redirects', 'here', 'For', 'other', 'uses', 'see', 'AI', 'disambiguation', 'Artificial', 'intelligence', 'disambiguation', 'and', 'Intelligent', 'agent', 'Part', 'of', 'a', 'series', 'onArtificial', 'intelligence', 'Major', 'goals', 'Artificial', 'general', 'intelligence', 'Recursive', 'self', 'improvement', 'Planning', 'Computer', 'vision', 'General', 'game', 'playing', 'Knowledge', 'reasoning', 'Machine', 'learning', 'Natural', 'language', 'processing', 'Robotics', 'AI', 'safety', 'Approaches', 'Symbolic', 'Deep', 'learning', 'Bayesian', 'networks', 'Evolutionary', 'algorithms', 'Situated', 'approach', 'Hybrid', 'intelligent', 'systems', 'Systems', 'integration', 'Applications', 'Projects', 'Deepfake', 'Machine', 'translation', 'Generative', 'AI', 'Art', 'Audio', 'Music', 'Healthcare', 'Mental', 'health', 'Government', 'Industry', 'Earth', 'sciences', 'Bioinformatics', 'Physics', 'Philosophy', 'Chinese', 'room', 'Friendly', 'AI', 'Control', 'problem', 'Takeover', 'Ethics', 'Existential', 'risk', 'Turing', 'test', 'Regulation', 'History', 'Timeline', 'Progress', 'AI', 'winter', 'AI', 'boom', 'AI', 'era', 'Glossary', 'Glossary', 'vte', 'Artificial', 'intelligence', 'AI', 'in', 'its', 'broadest', 'sense', 'is', 'intelligence', 'exhibited', 'by', 'machines', 'particularly', 'computer', 'systems', 'It', 'is', 'a', 'field', 'of', 'research', 'in', 'computer', 'science', 'that', 'develops', 'and', 'studies', 'methods', 'and', 'software', 'that', 'enable', 'machines', 'to', 'perceive', 'their', 'environment', 'and', 'uses', 'learning', 'and', 'intelligence', 'to', 'take', 'actions', 'that', 'maximize', 'their', 'chances', 'of', 'achieving', 'defined', 'goals', '1', 'Such', 'machines', 'may', 'be', 'called', 'AIs', 'AI', 'technology', 'is', 'widely', 'used', 'throughout', 'industry', 'government', 'and', 'science', 'Some', 'high', 'profile', 'applications', 'include', 'advanced', 'web', 'search', 'engines', 'e', 'g', 'Google', 'Search', 'recommendation', 'systems', 'used', 'by', 'YouTube', 'Amazon', 'and', 'Netflix', 'interacting', 'via', 'human', 'speech', 'e', 'g', 'Google', 'Assistant', 'Siri', 'and', 'Alexa', 'autonomous', 'vehicles', 'e', 'g', 'Waymo', 'generative', 'and', 'creative', 'tools', 'e', 'g', 'ChatGPT', 'and', 'AI', 'art', 'and', 'superhuman', 'play', 'and', 'analysis', 'in', 'strategy', 'games', 'e', 'g', 'chess', 'and', 'Go', '2', 'However', 'many', 'AI', 'applications', 'are', 'not', 'perceived', 'as', 'AI', 'A', 'lot', 'of', 'cutting', 'edge', 'AI', 'has', 'filtered', 'into', 'general', 'applications', 'often', 'without', 'being', 'called', 'AI', 'because', 'once', 'something', 'becomes', 'useful', 'enough', 'and', 'common', 'enough', 'it', 's', 'not', 'labeled', 'AI', 'anymore', '3', '4', 'Alan', 'Turing', 'was', 'the', 'first', 'person', 'to', 'conduct', 'substantial', 'research', 'in', 'the', 'field', 'that', 'he', 'called', 'machine', 'intelligence', '5', 'Artificial', 'intelligence', 'was', 'founded', 'as', 'an', 'academic', 'discipline', 'in', '1956', '6', 'The', 'field', 'went', 'through', 'multiple', 'cycles', 'of', 'optimism', '7', '8', 'followed', 'by', 'periods', 'of', 'disappointment', 'and', 'loss', 'of', 'funding', 'known', 'as', 'AI', 'winter', '9', '10', 'Funding', 'and', 'interest', 'vastly', 'increased', 'after', '2012', 'when', 'deep', 'learning', 'surpassed', 'all', 'previous', 'AI', 'techniques', '11', 'and', 'after', '2017', 'with', 'the', 'transformer', 'architecture', '12', 'This', 'led', 'to', 'the', 'AI', 'boom', 'of', 'the', 'early', '2020s', 'with', 'companies', 'universities', 'and', 'laboratories', 'overwhelmingly', 'based', 'in', 'the', 'United', 'States', 'pioneering', 'significant', 'advances', 'in', 'artificial', 'intelligence', '13', 'The', 'growing', 'use', 'of', 'artificial', 'intelligence', 'in', 'the', '21st', 'century', 'is', 'influencing', 'a', 'societal', 'and', 'economic', 'shift', 'towards', 'increased', 'automation', 'data', 'driven', 'decision', 'making', 'and', 'the', 'integration', 'of', 'AI', 'systems', 'into', 'various', 'economic', 'sectors', 'and', 'areas', 'of', 'life', 'impacting', 'job', 'markets', 'healthcare', 'government', 'industry', 'and', 'education', 'This', 'raises', 'questions', 'about', 'the', 'long', 'term', 'effects', 'ethical', 'implications', 'and', 'risks', 'of', 'AI', 'prompting', 'discussions', 'about', 'regulatory', 'policies', 'to', 'ensure', 'the', 'safety', 'and', 'benefits', 'of', 'the', 'technology', 'The', 'various', 'subfields', 'of', 'AI', 'research', 'are', 'centered', 'around', 'particular', 'goals', 'and', 'the', 'use', 'of', 'particular', 'tools', 'The', 'traditional', 'goals', 'of', 'AI', 'research', 'include', 'reasoning', 'knowledge', 'representation', 'planning', 'learning', 'natural', 'language', 'processing', 'perception', 'and', 'support', 'for', 'robotics', 'a', 'General', 'intelligence', 'the', 'ability', 'to', 'complete', 'any', 'task', 'performable', 'by', 'a', 'human', 'on', 'an', 'at', 'least', 'equal', 'level', 'is', 'among', 'the', 'field', 's', 'long', 'term', 'goals', '14', 'To', 'reach', 'these', 'goals', 'AI', 'researchers', 'have', 'adapted', 'and', 'integrated', 'a', 'wide', 'range', 'of', 'techniques', 'including', 'search', 'and', 'mathematical', 'optimization', 'formal', 'logic', 'artificial', 'neural', 'networks', 'and', 'methods', 'based', 'on', 'statistics', 'operations', 'research', 'and', 'economics', 'b', 'AI', 'also', 'draws', 'upon', 'psychology', 'linguistics', 'philosophy', 'neuroscience', 'and', 'other', 'fields', '15', 'Goals', 'The', 'general', 'problem', 'of', 'simulating', 'or', 'creating', 'intelligence', 'has', 'been', 'broken', 'into', 'subproblems', 'These', 'consist', 'of', 'particular', 'traits', 'or', 'capabilities', 'that', 'researchers', 'expect', 'an', 'intelligent', 'system', 'to', 'display', 'The', 'traits', 'described', 'below', 'have', 'received', 'the', 'most', 'attention', 'and', 'cover', 'the', 'scope', 'of', 'AI', 'research', 'a', 'Reasoning', 'and', 'problem', 'solving', 'Early', 'researchers', 'developed', 'algorithms', 'that', 'imitated', 'step', 'by', 'step', 'reasoning', 'that', 'humans', 'use', 'when', 'they', 'solve', 'puzzles', 'or', 'make', 'logical', 'deductions', '16', 'By', 'the', 'late', '1980s', 'and', '1990s', 'methods', 'were', 'developed', 'for', 'dealing', 'with', 'uncertain', 'or', 'incomplete', 'information', 'employing', 'concepts', 'from', 'probability', 'and', 'economics', '17', 'Many', 'of', 'these', 'algorithms', 'are', 'insufficient', 'for', 'solving', 'large', 'reasoning', 'problems', 'because', 'they', 'experience', 'a', 'combinatorial', 'explosion', 'They', 'become', 'exponentially', 'slower', 'as', 'the', 'problems', 'grow', '18', 'Even', 'humans', 'rarely', 'use', 'the', 'step', 'by', 'step', 'deduction', 'that', 'early', 'AI', 'research', 'could', 'model', 'They', 'solve', 'most', 'of', 'their', 'problems', 'using', 'fast', 'intuitive', 'judgments', '19', 'Accurate', 'and', 'efficient', 'reasoning', 'is', 'an', 'unsolved', 'problem', 'Knowledge', 'representation', 'An', 'ontology', 'represents', 'knowledge', 'as', 'a', 'set', 'of', 'concepts', 'within', 'a', 'domain', 'and', 'the', 'relationships', 'between', 'those', 'concepts', 'Knowledge', 'representation', 'and', 'knowledge', 'engineering', '20', 'allow', 'AI', 'programs', 'to', 'answer', 'questions', 'intelligently', 'and', 'make', 'deductions', 'about', 'real', 'world', 'facts', 'Formal', 'knowledge', 'representations', 'are', 'used', 'in', 'content', 'based', 'indexing', 'and', 'retrieval', '21', 'scene', 'interpretation', '22', 'clinical', 'decision', 'support', '23', 'knowledge', 'discovery', 'mining', 'interesting', 'and', 'actionable', 'inferences', 'from', 'large', 'databases', '24', 'and', 'other', 'areas', '25', 'A', 'knowledge', 'base', 'is', 'a', 'body', 'of', 'knowledge', 'represented', 'in', 'a', 'form', 'that', 'can', 'be', 'used', 'by', 'a', 'program', 'An', 'ontology', 'is', 'the', 'set', 'of', 'objects', 'relations', 'concepts', 'and', 'properties', 'used', 'by', 'a', 'particular', 'domain', 'of', 'knowledge', '26', 'Knowledge', 'bases', 'need', 'to', 'represent', 'things', 'such', 'as', 'objects', 'properties', 'categories', 'and', 'relations', 'between', 'objects', '27', 'situations', 'events', 'states', 'and', 'time', '28', 'causes', 'and', 'effects', '29', 'knowledge', 'about', 'knowledge', 'what', 'we', 'know', 'about', 'what', 'other', 'people', 'know', '30', 'default', 'reasoning', 'things', 'that', 'humans', 'assume', 'are', 'true', 'until', 'they', 'are', 'told', 'differently', 'and', 'will', 'remain', 'true', 'even', 'when', 'other', 'facts', 'are', 'changing', '31', 'and', 'many', 'other', 'aspects', 'and', 'domains', 'of', 'knowledge', 'Among', 'the', 'most', 'difficult', 'problems', 'in', 'knowledge', 'representation', 'are', 'the', 'breadth', 'of', 'commonsense', 'knowledge', 'the', 'set', 'of', 'atomic', 'facts', 'that', 'the', 'average', 'person', 'knows', 'is', 'enormous', '32', 'and', 'the', 'sub', 'symbolic', 'form', 'of', 'most', 'commonsense', 'knowledge', 'much', 'of', 'what', 'people', 'know', 'is', 'not', 'represented', 'as', 'facts', 'or', 'statements', 'that', 'they', 'could', 'express', 'verbally', '19', 'There', 'is', 'also', 'the', 'difficulty', 'of', 'knowledge', 'acquisition', 'the', 'problem', 'of', 'obtaining', 'knowledge', 'for', 'AI', 'applications', 'c', 'Planning', 'and', 'decision', 'making', 'An', 'agent', 'is', 'anything', 'that', 'perceives', 'and', 'takes', 'actions', 'in', 'the', 'world', 'A', 'rational', 'agent', 'has', 'goals', 'or', 'preferences', 'and', 'takes', 'actions', 'to', 'make', 'them', 'happen', 'd', '35', 'In', 'automated', 'planning', 'the', 'agent', 'has', 'a', 'specific', 'goal', '36', 'In', 'automated', 'decision', 'making', 'the', 'agent', 'has', 'preferences', 'there', 'are', 'some', 'situations', 'it', 'would', 'prefer', 'to', 'be', 'in', 'and', 'some', 'situations', 'it', 'is', 'trying', 'to', 'avoid', 'The', 'decision', 'making', 'agent', 'assigns', 'a', 'number', 'to', 'each', 'situation', 'called', 'the', 'utility', 'that', 'measures', 'how', 'much', 'the', 'agent', 'prefers', 'it', 'For', 'each', 'possible', 'action', 'it', 'can', 'calculate', 'the', 'expected', 'utility', 'the', 'utility', 'of', 'all', 'possible', 'outcomes', 'of', 'the', 'action', 'weighted', 'by', 'the', 'probability', 'that', 'the', 'outcome', 'will', 'occur', 'It', 'can', 'then', 'choose', 'the', 'action', 'with', 'the', 'maximum', 'expected', 'utility', '37', 'In', 'classical', 'planning', 'the', 'agent', 'knows', 'exactly', 'what', 'the', 'effect', 'of', 'any', 'action', 'will', 'be', '38', 'In', 'most', 'real', 'world', 'problems', 'however', 'the', 'agent', 'may', 'not', 'be', 'certain', 'about', 'the', 'situation', 'they', 'are', 'in', 'it', 'is', 'unknown', 'or', 'unobservable', 'and', 'it', 'may', 'not', 'know', 'for', 'certain', 'what', 'will', 'happen', 'after', 'each', 'possible', 'action', 'it', 'is', 'not', 'deterministic', 'It', 'must', 'choose', 'an', 'action', 'by', 'making', 'a', 'probabilistic', 'guess', 'and', 'then', 'reassess', 'the', 'situation', 'to', 'see', 'if', 'the', 'action', 'worked', '39', 'In', 'some', 'problems', 'the', 'agent', 's', 'preferences', 'may', 'be', 'uncertain', 'especially', 'if', 'there', 'are', 'other', 'agents', 'or', 'humans', 'involved', 'These', 'can', 'be', 'learned', 'e', 'g', 'with', 'inverse', 'reinforcement', 'learning', 'or', 'the', 'agent', 'can', 'seek', 'information', 'to', 'improve', 'its', 'preferences', '40', 'Information', 'value', 'theory', 'can', 'be', 'used', 'to', 'weigh', 'the', 'value', 'of', 'exploratory', 'or', 'experimental', 'actions', '41', 'The', 'space', 'of', 'possible', 'future', 'actions', 'and', 'situations', 'is', 'typically', 'intractably', 'large', 'so', 'the', 'agents', 'must', 'take', 'actions', 'and', 'evaluate', 'situations', 'while', 'being', 'uncertain', 'of', 'what', 'the', 'outcome', 'will', 'be', 'A', 'Markov', 'decision', 'process', 'has', 'a', 'transition', 'model', 'that', 'describes', 'the', 'probability', 'that', 'a', 'particular', 'action', 'will', 'change', 'the', 'state', 'in', 'a', 'particular', 'way', 'and', 'a', 'reward', 'function', 'that', 'supplies', 'the', 'utility', 'of', 'each', 'state', 'and', 'the', 'cost', 'of', 'each', 'action', 'A', 'policy', 'associates', 'a', 'decision', 'with', 'each', 'possible', 'state', 'The', 'policy', 'could', 'be', 'calculated', 'e', 'g', 'by', 'iteration', 'be', 'heuristic', 'or', 'it', 'can', 'be', 'learned', '42', 'Game', 'theory', 'describes', 'the', 'rational', 'behavior', 'of', 'multiple', 'interacting', 'agents', 'and', 'is', 'used', 'in', 'AI', 'programs', 'that', 'make', 'decisions', 'that', 'involve', 'other', 'agents', '43', 'Learning', 'Machine', 'learning', 'is', 'the', 'study', 'of', 'programs', 'that', 'can', 'improve', 'their', 'performance', 'on', 'a', 'given', 'task', 'automatically', '44', 'It', 'has', 'been', 'a', 'part', 'of', 'AI', 'from', 'the', 'beginning', 'e', 'There', 'are', 'several', 'kinds', 'of', 'machine', 'learning', 'Unsupervised', 'learning', 'analyzes', 'a', 'stream', 'of', 'data', 'and', 'finds', 'patterns', 'and', 'makes', 'predictions', 'without', 'any', 'other', 'guidance', '47', 'Supervised', 'learning', 'requires', 'a', 'human', 'to', 'label', 'the', 'input', 'data', 'first', 'and', 'comes', 'in', 'two', 'main', 'varieties', 'classification', 'where', 'the', 'program', 'must', 'learn', 'to', 'predict', 'what', 'category', 'the', 'input', 'belongs', 'in', 'and', 'regression', 'where', 'the', 'program', 'must', 'deduce', 'a', 'numeric', 'function', 'based', 'on', 'numeric', 'input', '48', 'In', 'reinforcement', 'learning', 'the', 'agent', 'is', 'rewarded', 'for', 'good', 'responses', 'and', 'punished', 'for', 'bad', 'ones', 'The', 'agent', 'learns', 'to', 'choose', 'responses', 'that', 'are', 'classified', 'as', 'good', '49', 'Transfer', 'learning', 'is', 'when', 'the', 'knowledge', 'gained', 'from', 'one', 'problem', 'is', 'applied', 'to', 'a', 'new', 'problem', '50', 'Deep', 'learning', 'is', 'a', 'type', 'of', 'machine', 'learning', 'that', 'runs', 'inputs', 'through', 'biologically', 'inspired', 'artificial', 'neural', 'networks', 'for', 'all', 'of', 'these', 'types', 'of', 'learning', '51', 'Computational', 'learning', 'theory', 'can', 'assess', 'learners', 'by', 'computational', 'complexity', 'by', 'sample', 'complexity', 'how', 'much', 'data', 'is', 'required', 'or', 'by', 'other', 'notions', 'of', 'optimization', '52', 'Natural', 'language', 'processing', 'Natural', 'language', 'processing', 'NLP', '53', 'allows', 'programs', 'to', 'read', 'write', 'and', 'communicate', 'in', 'human', 'languages', 'such', 'as', 'English', 'Specific', 'problems', 'include', 'speech', 'recognition', 'speech', 'synthesis', 'machine', 'translation', 'information', 'extraction', 'information', 'retrieval', 'and', 'question', 'answering', '54', 'Early', 'work', 'based', 'on', 'Noam', 'Chomsky', 's', 'generative', 'grammar', 'and', 'semantic', 'networks', 'had', 'difficulty', 'with', 'word', 'sense', 'disambiguation', 'f', 'unless', 'restricted', 'to', 'small', 'domains', 'called', 'micro', 'worlds', 'due', 'to', 'the', 'common', 'sense', 'knowledge', 'problem', '32', 'Margaret', 'Masterman', 'believed', 'that', 'it', 'was', 'meaning', 'and', 'not', 'grammar', 'that', 'was', 'the', 'key', 'to', 'understanding', 'languages', 'and', 'that', 'thesauri', 'and', 'not', 'dictionaries', 'should', 'be', 'the', 'basis', 'of', 'computational', 'language', 'structure', 'Modern', 'deep', 'learning', 'techniques', 'for', 'NLP', 'include', 'word', 'embedding', 'representing', 'words', 'typically', 'as', 'vectors', 'encoding', 'their', 'meaning', '55', 'transformers', 'a', 'deep', 'learning', 'architecture', 'using', 'an', 'attention', 'mechanism', '56', 'and', 'others', '57', 'In', '2019', 'generative', 'pre', 'trained', 'transformer', 'or', 'GPT', 'language', 'models', 'began', 'to', 'generate', 'coherent', 'text', '58', '59', 'and', 'by', '2023', 'these', 'models', 'were', 'able', 'to', 'get', 'human', 'level', 'scores', 'on', 'the', 'bar', 'exam', 'SAT', 'test', 'GRE', 'test', 'and', 'many', 'other', 'real', 'world', 'applications', '60', 'Perception', 'Machine', 'perception', 'is', 'the', 'ability', 'to', 'use', 'input', 'from', 'sensors', 'such', 'as', 'cameras', 'microphones', 'wireless', 'signals', 'active', 'lidar', 'sonar', 'radar', 'and', 'tactile', 'sensors', 'to', 'deduce', 'aspects', 'of', 'the', 'world', 'Computer', 'vision', 'is', 'the', 'ability', 'to', 'analyze', 'visual', 'input', '61', 'The', 'field', 'includes', 'speech', 'recognition', '62', 'image', 'classification', '63', 'facial', 'recognition', 'object', 'recognition', '64', 'and', 'robotic', 'perception', '65', 'Social', 'intelligence', 'Kismet', 'a', 'robot', 'head', 'which', 'was', 'made', 'in', 'the', '1990s', 'a', 'machine', 'that', 'can', 'recognize', 'and', 'simulate', 'emotions', '66', 'Affective', 'computing', 'is', 'an', 'interdisciplinary', 'umbrella', 'that', 'comprises', 'systems', 'that', 'recognize', 'interpret', 'process', 'or', 'simulate', 'human', 'feeling', 'emotion', 'and', 'mood', '67', 'For', 'example', 'some', 'virtual', 'assistants', 'are', 'programmed', 'to', 'speak', 'conversationally', 'or', 'even', 'to', 'banter', 'humorously', 'it', 'makes', 'them', 'appear', 'more', 'sensitive', 'to', 'the', 'emotional', 'dynamics', 'of', 'human', 'interaction', 'or', 'to', 'otherwise', 'facilitate', 'human', 'computer', 'interaction', 'However', 'this', 'tends', 'to', 'give', 'naïve', 'users', 'an', 'unrealistic', 'conception', 'of', 'the', 'intelligence', 'of', 'existing', 'computer', 'agents', '68', 'Moderate', 'successes', 'related', 'to', 'affective', 'computing', 'include', 'textual', 'sentiment', 'analysis', 'and', 'more', 'recently', 'multimodal', 'sentiment', 'analysis', 'wherein', 'AI', 'classifies', 'the', 'affects', 'displayed', 'by', 'a', 'videotaped', 'subject', '69', 'General', 'intelligence', 'A', 'machine', 'with', 'artificial', 'general', 'intelligence', 'should', 'be', 'able', 'to', 'solve', 'a', 'wide', 'variety', 'of', 'problems', 'with', 'breadth', 'and', 'versatility', 'similar', 'to', 'human', 'intelligence', '14', 'Techniques', 'AI', 'research', 'uses', 'a', 'wide', 'variety', 'of', 'techniques', 'to', 'accomplish', 'the', 'goals', 'above', 'b', 'Search', 'and', 'optimization', 'AI', 'can', 'solve', 'many', 'problems', 'by', 'intelligently', 'searching', 'through', 'many', 'possible', 'solutions', '70', 'There', 'are', 'two', 'very', 'different', 'kinds', 'of', 'search', 'used', 'in', 'AI', 'state', 'space', 'search', 'and', 'local', 'search', 'State', 'space', 'search', 'State', 'space', 'search', 'searches', 'through', 'a', 'tree', 'of', 'possible', 'states', 'to', 'try', 'to', 'find', 'a', 'goal', 'state', '71', 'For', 'example', 'planning', 'algorithms', 'search', 'through', 'trees', 'of', 'goals', 'and', 'subgoals', 'attempting', 'to', 'find', 'a', 'path', 'to', 'a', 'target', 'goal', 'a', 'process', 'called', 'means', 'ends', 'analysis', '72', 'Simple', 'exhaustive', 'searches', '73', 'are', 'rarely', 'sufficient', 'for', 'most', 'real', 'world', 'problems', 'the', 'search', 'space', 'the', 'number', 'of', 'places', 'to', 'search', 'quickly', 'grows', 'to', 'astronomical', 'numbers', 'The', 'result', 'is', 'a', 'search', 'that', 'is', 'too', 'slow', 'or', 'never', 'completes', '18', 'Heuristics', 'or', 'rules', 'of', 'thumb', 'can', 'help', 'prioritize', 'choices', 'that', 'are', 'more', 'likely', 'to', 'reach', 'a', 'goal', '74', 'Adversarial', 'search', 'is', 'used', 'for', 'game', 'playing', 'programs', 'such', 'as', 'chess', 'or', 'Go', 'It', 'searches', 'through', 'a', 'tree', 'of', 'possible', 'moves', 'and', 'counter', 'moves', 'looking', 'for', 'a', 'winning', 'position', '75', 'Local', 'search', 'Illustration', 'of', 'gradient', 'descent', 'for', '3', 'different', 'starting', 'points', 'Two', 'parameters', 'represented', 'by', 'the', 'plan', 'coordinates', 'are', 'adjusted', 'in', 'order', 'to', 'minimize', 'the', 'loss', 'function', 'the', 'height', 'Local', 'search', 'uses', 'mathematical', 'optimization', 'to', 'find', 'a', 'solution', 'to', 'a', 'problem', 'It', 'begins', 'with', 'some', 'form', 'of', 'guess', 'and', 'refines', 'it', 'incrementally', '76', 'Gradient', 'descent', 'is', 'a', 'type', 'of', 'local', 'search', 'that', 'optimizes', 'a', 'set', 'of', 'numerical', 'parameters', 'by', 'incrementally', 'adjusting', 'them', 'to', 'minimize', 'a', 'loss', 'function', 'Variants', 'of', 'gradient', 'descent', 'are', 'commonly', 'used', 'to', 'train', 'neural', 'networks', '77', 'Another', 'type', 'of', 'local', 'search', 'is', 'evolutionary', 'computation', 'which', 'aims', 'to', 'iteratively', 'improve', 'a', 'set', 'of', 'candidate', 'solutions', 'by', 'mutating', 'and', 'recombining', 'them', 'selecting', 'only', 'the', 'fittest', 'to', 'survive', 'each', 'generation', '78', 'Distributed', 'search', 'processes', 'can', 'coordinate', 'via', 'swarm', 'intelligence', 'algorithms', 'Two', 'popular', 'swarm', 'algorithms', 'used', 'in', 'search', 'are', 'particle', 'swarm', 'optimization', 'inspired', 'by', 'bird', 'flocking', 'and', 'ant', 'colony', 'optimization', 'inspired', 'by', 'ant', 'trails', '79', 'Logic', 'Formal', 'logic', 'is', 'used', 'for', 'reasoning', 'and', 'knowledge', 'representation', '80', 'Formal', 'logic', 'comes', 'in', 'two', 'main', 'forms', 'propositional', 'logic', 'which', 'operates', 'on', 'statements', 'that', 'are', 'true', 'or', 'false', 'and', 'uses', 'logical', 'connectives', 'such', 'as', 'and', 'or', 'not', 'and', 'implies', '81', 'and', 'predicate', 'logic', 'which', 'also', 'operates', 'on', 'objects', 'predicates', 'and', 'relations', 'and', 'uses', 'quantifiers', 'such', 'as', 'Every', 'X', 'is', 'a', 'Y', 'and', 'There', 'are', 'some', 'Xs', 'that', 'are', 'Ys', '82', 'Deductive', 'reasoning', 'in', 'logic', 'is', 'the', 'process', 'of', 'proving', 'a', 'new', 'statement', 'conclusion', 'from', 'other', 'statements', 'that', 'are', 'given', 'and', 'assumed', 'to', 'be', 'true', 'the', 'premises', '83', 'Proofs', 'can', 'be', 'structured', 'as', 'proof', 'trees', 'in', 'which', 'nodes', 'are', 'labelled', 'by', 'sentences', 'and', 'children', 'nodes', 'are', 'connected', 'to', 'parent', 'nodes', 'by', 'inference', 'rules', 'Given', 'a', 'problem', 'and', 'a', 'set', 'of', 'premises', 'problem', 'solving', 'reduces', 'to', 'searching', 'for', 'a', 'proof', 'tree', 'whose', 'root', 'node', 'is', 'labelled', 'by', 'a', 'solution', 'of', 'the', 'problem', 'and', 'whose', 'leaf', 'nodes', 'are', 'labelled', 'by', 'premises', 'or', 'axioms', 'In', 'the', 'case', 'of', 'Horn', 'clauses', 'problem', 'solving', 'search', 'can', 'be', 'performed', 'by', 'reasoning', 'forwards', 'from', 'the', 'premises', 'or', 'backwards', 'from', 'the', 'problem', '84', 'In', 'the', 'more', 'general', 'case', 'of', 'the', 'clausal', 'form', 'of', 'first', 'order', 'logic', 'resolution', 'is', 'a', 'single', 'axiom', 'free', 'rule', 'of', 'inference', 'in', 'which', 'a', 'problem', 'is', 'solved', 'by', 'proving', 'a', 'contradiction', 'from', 'premises', 'that', 'include', 'the', 'negation', 'of', 'the', 'problem', 'to', 'be', 'solved', '85', 'Inference', 'in', 'both', 'Horn', 'clause', 'logic', 'and', 'first', 'order', 'logic', 'is', 'undecidable', 'and', 'therefore', 'intractable', 'However', 'backward', 'reasoning', 'with', 'Horn', 'clauses', 'which', 'underpins', 'computation', 'in', 'the', 'logic', 'programming', 'language', 'Prolog', 'is', 'Turing', 'complete', 'Moreover', 'its', 'efficiency', 'is', 'competitive', 'with', 'computation', 'in', 'other', 'symbolic', 'programming', 'languages', '86', 'Fuzzy', 'logic', 'assigns', 'a', 'degree', 'of', 'truth', 'between', '0', 'and', '1', 'It', 'can', 'therefore', 'handle', 'propositions', 'that', 'are', 'vague', 'and', 'partially', 'true', '87', 'Non', 'monotonic', 'logics', 'including', 'logic', 'programming', 'with', 'negation', 'as', 'failure', 'are', 'designed', 'to', 'handle', 'default', 'reasoning', '31', 'Other', 'specialized', 'versions', 'of', 'logic', 'have', 'been', 'developed', 'to', 'describe', 'many', 'complex', 'domains', 'Probabilistic', 'methods', 'for', 'uncertain', 'reasoning', 'A', 'simple', 'Bayesian', 'network', 'with', 'the', 'associated', 'conditional', 'probability', 'tables', 'Many', 'problems', 'in', 'AI', 'including', 'in', 'reasoning', 'planning', 'learning', 'perception', 'and', 'robotics', 'require', 'the', 'agent', 'to', 'operate', 'with', 'incomplete', 'or', 'uncertain', 'information', 'AI', 'researchers', 'have', 'devised', 'a', 'number', 'of', 'tools', 'to', 'solve', 'these', 'problems', 'using', 'methods', 'from', 'probability', 'theory', 'and', 'economics', '88', 'Precise', 'mathematical', 'tools', 'have', 'been', 'developed', 'that', 'analyze', 'how', 'an', 'agent', 'can', 'make', 'choices', 'and', 'plan', 'using', 'decision', 'theory', 'decision', 'analysis', '89', 'and', 'information', 'value', 'theory', '90', 'These', 'tools', 'include', 'models', 'such', 'as', 'Markov', 'decision', 'processes', '91', 'dynamic', 'decision', 'networks', '92', 'game', 'theory', 'and', 'mechanism', 'design', '93', 'Bayesian', 'networks', '94', 'are', 'a', 'tool', 'that', 'can', 'be', 'used', 'for', 'reasoning', 'using', 'the', 'Bayesian', 'inference', 'algorithm', 'g', '96', 'learning', 'using', 'the', 'expectation', 'maximization', 'algorithm', 'h', '98', 'planning', 'using', 'decision', 'networks', '99', 'and', 'perception', 'using', 'dynamic', 'Bayesian', 'networks', '92', 'Probabilistic', 'algorithms', 'can', 'also', 'be', 'used', 'for', 'filtering', 'prediction', 'smoothing', 'and', 'finding', 'explanations', 'for', 'streams', 'of', 'data', 'thus', 'helping', 'perception', 'systems', 'analyze', 'processes', 'that', 'occur', 'over', 'time', 'e', 'g', 'hidden', 'Markov', 'models', 'or', 'Kalman', 'filters', '92', 'Expectation', 'maximization', 'clustering', 'of', 'Old', 'Faithful', 'eruption', 'data', 'starts', 'from', 'a', 'random', 'guess', 'but', 'then', 'successfully', 'converges', 'on', 'an', 'accurate', 'clustering', 'of', 'the', 'two', 'physically', 'distinct', 'modes', 'of', 'eruption', 'Classifiers', 'and', 'statistical', 'learning', 'methods', 'The', 'simplest', 'AI', 'applications', 'can', 'be', 'divided', 'into', 'two', 'types', 'classifiers', 'e', 'g', 'if', 'shiny', 'then', 'diamond', 'on', 'one', 'hand', 'and', 'controllers', 'e', 'g', 'if', 'diamond', 'then', 'pick', 'up', 'on', 'the', 'other', 'hand', 'Classifiers', '100', 'are', 'functions', 'that', 'use', 'pattern', 'matching', 'to', 'determine', 'the', 'closest', 'match', 'They', 'can', 'be', 'fine', 'tuned', 'based', 'on', 'chosen', 'examples', 'using', 'supervised', 'learning', 'Each', 'pattern', 'also', 'called', 'an', 'observation', 'is', 'labeled', 'with', 'a', 'certain', 'predefined', 'class', 'All', 'the', 'observations', 'combined', 'with', 'their', 'class', 'labels', 'are', 'known', 'as', 'a', 'data', 'set', 'When', 'a', 'new', 'observation', 'is', 'received', 'that', 'observation', 'is', 'classified', 'based', 'on', 'previous', 'experience', '48', 'There', 'are', 'many', 'kinds', 'of', 'classifiers', 'in', 'use', 'The', 'decision', 'tree', 'is', 'the', 'simplest', 'and', 'most', 'widely', 'used', 'symbolic', 'machine', 'learning', 'algorithm', '101', 'K', 'nearest', 'neighbor', 'algorithm', 'was', 'the', 'most', 'widely', 'used', 'analogical', 'AI', 'until', 'the', 'mid', '1990s', 'and', 'Kernel', 'methods', 'such', 'as', 'the', 'support', 'vector', 'machine', 'SVM', 'displaced', 'k', 'nearest', 'neighbor', 'in', 'the', '1990s', '102', 'The', 'naive', 'Bayes', 'classifier', 'is', 'reportedly', 'the', 'most', 'widely', 'used', 'learner', '103', 'at', 'Google', 'due', 'in', 'part', 'to', 'its', 'scalability', '104', 'Neural', 'networks', 'are', 'also', 'used', 'as', 'classifiers', '105', 'Artificial', 'neural', 'networks', 'A', 'neural', 'network', 'is', 'an', 'interconnected', 'group', 'of', 'nodes', 'akin', 'to', 'the', 'vast', 'network', 'of', 'neurons', 'in', 'the', 'human', 'brain', 'An', 'artificial', 'neural', 'network', 'is', 'based', 'on', 'a', 'collection', 'of', 'nodes', 'also', 'known', 'as', 'artificial', 'neurons', 'which', 'loosely', 'model', 'the', 'neurons', 'in', 'a', 'biological', 'brain', 'It', 'is', 'trained', 'to', 'recognise', 'patterns', 'once', 'trained', 'it', 'can', 'recognise', 'those', 'patterns', 'in', 'fresh', 'data', 'There', 'is', 'an', 'input', 'at', 'least', 'one', 'hidden', 'layer', 'of', 'nodes', 'and', 'an', 'output', 'Each', 'node', 'applies', 'a', 'function', 'and', 'once', 'the', 'weight', 'crosses', 'its', 'specified', 'threshold', 'the', 'data', 'is', 'transmitted', 'to', 'the', 'next', 'layer', 'A', 'network', 'is', 'typically', 'called', 'a', 'deep', 'neural', 'network', 'if', 'it', 'has', 'at', 'least', '2', 'hidden', 'layers', '105', 'Learning', 'algorithms', 'for', 'neural', 'networks', 'use', 'local', 'search', 'to', 'choose', 'the', 'weights', 'that', 'will', 'get', 'the', 'right', 'output', 'for', 'each', 'input', 'during', 'training', 'The', 'most', 'common', 'training', 'technique', 'is', 'the', 'backpropagation', 'algorithm', '106', 'Neural', 'networks', 'learn', 'to', 'model', 'complex', 'relationships', 'between', 'inputs', 'and', 'outputs', 'and', 'find', 'patterns', 'in', 'data', 'In', 'theory', 'a', 'neural', 'network', 'can', 'learn', 'any', 'function', '107', 'In', 'feedforward', 'neural', 'networks', 'the', 'signal', 'passes', 'in', 'only', 'one', 'direction', '108', 'Recurrent', 'neural', 'networks', 'feed', 'the', 'output', 'signal', 'back', 'into', 'the', 'input', 'which', 'allows', 'short', 'term', 'memories', 'of', 'previous', 'input', 'events', 'Long', 'short', 'term', 'memory', 'is', 'the', 'most', 'successful', 'network', 'architecture', 'for', 'recurrent', 'networks', '109', 'Perceptrons', '110', 'use', 'only', 'a', 'single', 'layer', 'of', 'neurons', 'deep', 'learning', '111', 'uses', 'multiple', 'layers', 'Convolutional', 'neural', 'networks', 'strengthen', 'the', 'connection', 'between', 'neurons', 'that', 'are', 'close', 'to', 'each', 'other', 'this', 'is', 'especially', 'important', 'in', 'image', 'processing', 'where', 'a', 'local', 'set', 'of', 'neurons', 'must', 'identify', 'an', 'edge', 'before', 'the', 'network', 'can', 'identify', 'an', 'object', '112', 'Deep', 'learning', 'Deep', 'learning', '111', 'uses', 'several', 'layers', 'of', 'neurons', 'between', 'the', 'network', 's', 'inputs', 'and', 'outputs', 'The', 'multiple', 'layers', 'can', 'progressively', 'extract', 'higher', 'level', 'features', 'from', 'the', 'raw', 'input', 'For', 'example', 'in', 'image', 'processing', 'lower', 'layers', 'may', 'identify', 'edges', 'while', 'higher', 'layers', 'may', 'identify', 'the', 'concepts', 'relevant', 'to', 'a', 'human', 'such', 'as', 'digits', 'letters', 'or', 'faces', '113', 'Deep', 'learning', 'has', 'profoundly', 'improved', 'the', 'performance', 'of', 'programs', 'in', 'many', 'important', 'subfields', 'of', 'artificial', 'intelligence', 'including', 'computer', 'vision', 'speech', 'recognition', 'natural', 'language', 'processing', 'image', 'classification', '114', 'and', 'others', 'The', 'reason', 'that', 'deep', 'learning', 'performs', 'so', 'well', 'in', 'so', 'many', 'applications', 'is', 'not', 'known', 'as', 'of', '2023', '115', 'The', 'sudden', 'success', 'of', 'deep', 'learning', 'in', '2012', '2015', 'did', 'not', 'occur', 'because', 'of', 'some', 'new', 'discovery', 'or', 'theoretical', 'breakthrough', 'deep', 'neural', 'networks', 'and', 'backpropagation', 'had', 'been', 'described', 'by', 'many', 'people', 'as', 'far', 'back', 'as', 'the', '1950s', 'i', 'but', 'because', 'of', 'two', 'factors', 'the', 'incredible', 'increase', 'in', 'computer', 'power', 'including', 'the', 'hundred', 'fold', 'increase', 'in', 'speed', 'by', 'switching', 'to', 'GPUs', 'and', 'the', 'availability', 'of', 'vast', 'amounts', 'of', 'training', 'data', 'especially', 'the', 'giant', 'curated', 'datasets', 'used', 'for', 'benchmark', 'testing', 'such', 'as', 'ImageNet', 'j', 'GPT', 'Generative', 'pre', 'trained', 'transformers', 'GPT', 'are', 'large', 'language', 'models', 'that', 'are', 'based', 'on', 'the', 'semantic', 'relationships', 'between', 'words', 'in', 'sentences', 'natural', 'language', 'processing', 'Text', 'based', 'GPT', 'models', 'are', 'pre', 'trained', 'on', 'a', 'large', 'corpus', 'of', 'text', 'which', 'can', 'be', 'from', 'the', 'internet', 'The', 'pre', 'training', 'consists', 'in', 'predicting', 'the', 'next', 'token', 'a', 'token', 'being', 'usually', 'a', 'word', 'subword', 'or', 'punctuation', 'Throughout', 'this', 'pre', 'training', 'GPT', 'models', 'accumulate', 'knowledge', 'about', 'the', 'world', 'and', 'can', 'then', 'generate', 'human', 'like', 'text', 'by', 'repeatedly', 'predicting', 'the', 'next', 'token', 'Typically', 'a', 'subsequent', 'training', 'phase', 'makes', 'the', 'model', 'more', 'truthful', 'useful', 'and', 'harmless', 'usually', 'with', 'a', 'technique', 'called', 'reinforcement', 'learning', 'from', 'human', 'feedback', 'RLHF', 'Current', 'GPT', 'models', 'are', 'still', 'prone', 'to', 'generating', 'falsehoods', 'called', 'hallucinations', 'although', 'this', 'can', 'be', 'reduced', 'with', 'RLHF', 'and', 'quality', 'data', 'They', 'are', 'used', 'in', 'chatbots', 'which', 'allow', 'you', 'to', 'ask', 'a', 'question', 'or', 'request', 'a', 'task', 'in', 'simple', 'text', '124', '125', 'Current', 'models', 'and', 'services', 'include', 'Gemini', 'formerly', 'Bard', 'ChatGPT', 'Grok', 'Claude', 'Copilot', 'and', 'LLaMA', '126', 'Multimodal', 'GPT', 'models', 'can', 'process', 'different', 'types', 'of', 'data', 'modalities', 'such', 'as', 'images', 'videos', 'sound', 'and', 'text', '127', 'Specialized', 'hardware', 'and', 'software', 'Main', 'articles', 'Programming', 'languages', 'for', 'artificial', 'intelligence', 'and', 'Hardware', 'for', 'artificial', 'intelligence', 'In', 'the', 'late', '2010s', 'graphics', 'processing', 'units', 'GPUs', 'that', 'were', 'increasingly', 'designed', 'with', 'AI', 'specific', 'enhancements', 'and', 'used', 'with', 'specialized', 'TensorFlow', 'software', 'had', 'replaced', 'previously', 'used', 'central', 'processing', 'unit', 'CPUs', 'as', 'the', 'dominant', 'means', 'for', 'large', 'scale', 'commercial', 'and', 'academic', 'machine', 'learning', 'models', 'training', '128', 'Historically', 'specialized', 'languages', 'such', 'as', 'Lisp', 'Prolog', 'Python', 'and', 'others', 'had', 'been', 'used', 'Applications', 'Main', 'article', 'Applications', 'of', 'artificial', 'intelligenceAI', 'and', 'machine', 'learning', 'technology', 'is', 'used', 'in', 'most', 'of', 'the', 'essential', 'applications', 'of', 'the', '2020s', 'including', 'search', 'engines', 'such', 'as', 'Google', 'Search', 'targeting', 'online', 'advertisements', 'recommendation', 'systems', 'offered', 'by', 'Netflix', 'YouTube', 'or', 'Amazon', 'driving', 'internet', 'traffic', 'targeted', 'advertising', 'AdSense', 'Facebook', 'virtual', 'assistants', 'such', 'as', 'Siri', 'or', 'Alexa', 'autonomous', 'vehicles', 'including', 'drones', 'ADAS', 'and', 'self', 'driving', 'cars', 'automatic', 'language', 'translation', 'Microsoft', 'Translator', 'Google', 'Translate', 'facial', 'recognition', 'Apple', 's', 'Face', 'ID', 'or', 'Microsoft', 's', 'DeepFace', 'and', 'Google', 's', 'FaceNet', 'and', 'image', 'labeling', 'used', 'by', 'Facebook', 'Apple', 's', 'iPhoto', 'and', 'TikTok', 'Health', 'and', 'medicine', 'Main', 'article', 'Artificial', 'intelligence', 'in', 'healthcare', 'The', 'application', 'of', 'AI', 'in', 'medicine', 'and', 'medical', 'research', 'has', 'the', 'potential', 'to', 'increase', 'patient', 'care', 'and', 'quality', 'of', 'life', '129', 'Through', 'the', 'lens', 'of', 'the', 'Hippocratic', 'Oath', 'medical', 'professionals', 'are', 'ethically', 'compelled', 'to', 'use', 'AI', 'if', 'applications', 'can', 'more', 'accurately', 'diagnose', 'and', 'treat', 'patients', 'For', 'medical', 'research', 'AI', 'is', 'an', 'important', 'tool', 'for', 'processing', 'and', 'integrating', 'big', 'data', 'This', 'is', 'particularly', 'important', 'for', 'organoid', 'and', 'tissue', 'engineering', 'development', 'which', 'use', 'microscopy', 'imaging', 'as', 'a', 'key', 'technique', 'in', 'fabrication', '130', 'It', 'has', 'been', 'suggested', 'that', 'AI', 'can', 'overcome', 'discrepancies', 'in', 'funding', 'allocated', 'to', 'different', 'fields', 'of', 'research', '130', 'New', 'AI', 'tools', 'can', 'deepen', 'the', 'understanding', 'of', 'biomedically', 'relevant', 'pathways', 'For', 'example', 'AlphaFold', '2', '2021', 'demonstrated', 'the', 'ability', 'to', 'approximate', 'in', 'hours', 'rather', 'than', 'months', 'the', '3D', 'structure', 'of', 'a', 'protein', '131', 'In', '2023', 'it', 'was', 'reported', 'that', 'AI', 'guided', 'drug', 'discovery', 'helped', 'find', 'a', 'class', 'of', 'antibiotics', 'capable', 'of', 'killing', 'two', 'different', 'types', 'of', 'drug', 'resistant', 'bacteria', '132', 'In', '2024', 'researchers', 'used', 'machine', 'learning', 'to', 'accelerate', 'the', 'search', 'for', 'Parkinson', 's', 'disease', 'drug', 'treatments', 'Their', 'aim', 'was', 'to', 'identify', 'compounds', 'that', 'block', 'the', 'clumping', 'or', 'aggregation', 'of', 'alpha', 'synuclein', 'the', 'protein', 'that', 'characterises', 'Parkinson', 's', 'disease', 'They', 'were', 'able', 'to', 'speed', 'up', 'the', 'initial', 'screening', 'process', 'ten', 'fold', 'and', 'reduce', 'the', 'cost', 'by', 'a', 'thousand', 'fold', '133', '134', 'Games', 'Main', 'article', 'Game', 'artificial', 'intelligence', 'Game', 'playing', 'programs', 'have', 'been', 'used', 'since', 'the', '1950s', 'to', 'demonstrate', 'and', 'test', 'AI', 's', 'most', 'advanced', 'techniques', '135', 'Deep', 'Blue', 'became', 'the', 'first', 'computer', 'chess', 'playing', 'system', 'to', 'beat', 'a', 'reigning', 'world', 'chess', 'champion', 'Garry', 'Kasparov', 'on', '11', 'May', '1997', '136', 'In', '2011', 'in', 'a', 'Jeopardy', 'quiz', 'show', 'exhibition', 'match', 'IBM', 's', 'question', 'answering', 'system', 'Watson', 'defeated', 'the', 'two', 'greatest', 'Jeopardy', 'champions', 'Brad', 'Rutter', 'and', 'Ken', 'Jennings', 'by', 'a', 'significant', 'margin', '137', 'In', 'March', '2016', 'AlphaGo', 'won', '4', 'out', 'of', '5', 'games', 'of', 'Go', 'in', 'a', 'match', 'with', 'Go', 'champion', 'Lee', 'Sedol', 'becoming', 'the', 'first', 'computer', 'Go', 'playing', 'system', 'to', 'beat', 'a', 'professional', 'Go', 'player', 'without', 'handicaps', 'Then', 'in', '2017', 'it', 'defeated', 'Ke', 'Jie', 'who', 'was', 'the', 'best', 'Go', 'player', 'in', 'the', 'world', '138', 'Other', 'programs', 'handle', 'imperfect', 'information', 'games', 'such', 'as', 'the', 'poker', 'playing', 'program', 'Pluribus', '139', 'DeepMind', 'developed', 'increasingly', 'generalistic', 'reinforcement', 'learning', 'models', 'such', 'as', 'with', 'MuZero', 'which', 'could', 'be', 'trained', 'to', 'play', 'chess', 'Go', 'or', 'Atari', 'games', '140', 'In', '2019', 'DeepMind', 's', 'AlphaStar', 'achieved', 'grandmaster', 'level', 'in', 'StarCraft', 'II', 'a', 'particularly', 'challenging', 'real', 'time', 'strategy', 'game', 'that', 'involves', 'incomplete', 'knowledge', 'of', 'what', 'happens', 'on', 'the', 'map', '141', 'In', '2021', 'an', 'AI', 'agent', 'competed', 'in', 'a', 'PlayStation', 'Gran', 'Turismo', 'competition', 'winning', 'against', 'four', 'of', 'the', 'world', 's', 'best', 'Gran', 'Turismo', 'drivers', 'using', 'deep', 'reinforcement', 'learning', '142', 'Military', 'Main', 'article', 'Military', 'artificial', 'intelligence', 'Various', 'countries', 'are', 'deploying', 'AI', 'military', 'applications', '143', 'The', 'main', 'applications', 'enhance', 'command', 'and', 'control', 'communications', 'sensors', 'integration', 'and', 'interoperability', '144', 'Research', 'is', 'targeting', 'intelligence', 'collection', 'and', 'analysis', 'logistics', 'cyber', 'operations', 'information', 'operations', 'and', 'semiautonomous', 'and', 'autonomous', 'vehicles', '143', 'AI', 'technologies', 'enable', 'coordination', 'of', 'sensors', 'and', 'effectors', 'threat', 'detection', 'and', 'identification', 'marking', 'of', 'enemy', 'positions', 'target', 'acquisition', 'coordination', 'and', 'deconfliction', 'of', 'distributed', 'Joint', 'Fires', 'between', 'networked', 'combat', 'vehicles', 'involving', 'manned', 'and', 'unmanned', 'teams', '144', 'AI', 'was', 'incorporated', 'into', 'military', 'operations', 'in', 'Iraq', 'and', 'Syria', '143', 'In', 'November', '2023', 'US', 'Vice', 'President', 'Kamala', 'Harris', 'disclosed', 'a', 'declaration', 'signed', 'by', '31', 'nations', 'to', 'set', 'guardrails', 'for', 'the', 'military', 'use', 'of', 'AI', 'The', 'commitments', 'include', 'using', 'legal', 'reviews', 'to', 'ensure', 'the', 'compliance', 'of', 'military', 'AI', 'with', 'international', 'laws', 'and', 'being', 'cautious', 'and', 'transparent', 'in', 'the', 'development', 'of', 'this', 'technology', '145', 'Generative', 'AI', 'Main', 'article', 'Generative', 'artificial', 'intelligence', 'Vincent', 'van', 'Gogh', 'in', 'watercolour', 'created', 'by', 'generative', 'AI', 'software', 'In', 'the', 'early', '2020s', 'generative', 'AI', 'gained', 'widespread', 'prominence', 'In', 'March', '2023', '58', 'of', 'U', 'S', 'adults', 'had', 'heard', 'about', 'ChatGPT', 'and', '14', 'had', 'tried', 'it', '146', 'The', 'increasing', 'realism', 'and', 'ease', 'of', 'use', 'of', 'AI', 'based', 'text', 'to', 'image', 'generators', 'such', 'as', 'Midjourney', 'DALL', 'E', 'and', 'Stable', 'Diffusion', 'sparked', 'a', 'trend', 'of', 'viral', 'AI', 'generated', 'photos', 'Widespread', 'attention', 'was', 'gained', 'by', 'a', 'fake', 'photo', 'of', 'Pope', 'Francis', 'wearing', 'a', 'white', 'puffer', 'coat', 'the', 'fictional', 'arrest', 'of', 'Donald', 'Trump', 'and', 'a', 'hoax', 'of', 'an', 'attack', 'on', 'the', 'Pentagon', 'as', 'well', 'as', 'the', 'usage', 'in', 'professional', 'creative', 'arts', '147', '148', 'Industry', 'specific', 'tasks', 'There', 'are', 'also', 'thousands', 'of', 'successful', 'AI', 'applications', 'used', 'to', 'solve', 'specific', 'problems', 'for', 'specific', 'industries', 'or', 'institutions', 'In', 'a', '2017', 'survey', 'one', 'in', 'five', 'companies', 'reported', 'having', 'incorporated', 'AI', 'in', 'some', 'offerings', 'or', 'processes', '149', 'A', 'few', 'examples', 'are', 'energy', 'storage', 'medical', 'diagnosis', 'military', 'logistics', 'applications', 'that', 'predict', 'the', 'result', 'of', 'judicial', 'decisions', 'foreign', 'policy', 'or', 'supply', 'chain', 'management', 'In', 'agriculture', 'AI', 'has', 'helped', 'farmers', 'identify', 'areas', 'that', 'need', 'irrigation', 'fertilization', 'pesticide', 'treatments', 'or', 'increasing', 'yield', 'Agronomists', 'use', 'AI', 'to', 'conduct', 'research', 'and', 'development', 'AI', 'has', 'been', 'used', 'to', 'predict', 'the', 'ripening', 'time', 'for', 'crops', 'such', 'as', 'tomatoes', 'monitor', 'soil', 'moisture', 'operate', 'agricultural', 'robots', 'conduct', 'predictive', 'analytics', 'classify', 'livestock', 'pig', 'call', 'emotions', 'automate', 'greenhouses', 'detect', 'diseases', 'and', 'pests', 'and', 'save', 'water', 'Artificial', 'intelligence', 'is', 'used', 'in', 'astronomy', 'to', 'analyze', 'increasing', 'amounts', 'of', 'available', 'data', 'and', 'applications', 'mainly', 'for', 'classification', 'regression', 'clustering', 'forecasting', 'generation', 'discovery', 'and', 'the', 'development', 'of', 'new', 'scientific', 'insights', 'for', 'example', 'for', 'discovering', 'exoplanets', 'forecasting', 'solar', 'activity', 'and', 'distinguishing', 'between', 'signals', 'and', 'instrumental', 'effects', 'in', 'gravitational', 'wave', 'astronomy', 'It', 'could', 'also', 'be', 'used', 'for', 'activities', 'in', 'space', 'such', 'as', 'space', 'exploration', 'including', 'analysis', 'of', 'data', 'from', 'space', 'missions', 'real', 'time', 'science', 'decisions', 'of', 'spacecraft', 'space', 'debris', 'avoidance', 'and', 'more', 'autonomous', 'operation', 'Ethics', 'Main', 'article', 'Ethics', 'of', 'artificial', 'intelligence', 'AI', 'has', 'potential', 'benefits', 'and', 'potential', 'risks', 'AI', 'may', 'be', 'able', 'to', 'advance', 'science', 'and', 'find', 'solutions', 'for', 'serious', 'problems', 'Demis', 'Hassabis', 'of', 'Deep', 'Mind', 'hopes', 'to', 'solve', 'intelligence', 'and', 'then', 'use', 'that', 'to', 'solve', 'everything', 'else', '150', 'However', 'as', 'the', 'use', 'of', 'AI', 'has', 'become', 'widespread', 'several', 'unintended', 'consequences', 'and', 'risks', 'have', 'been', 'identified', '151', 'In', 'production', 'systems', 'can', 'sometimes', 'not', 'factor', 'ethics', 'and', 'bias', 'into', 'their', 'AI', 'training', 'processes', 'especially', 'when', 'the', 'AI', 'algorithms', 'are', 'inherently', 'unexplainable', 'in', 'deep', 'learning', '152', 'Risks', 'and', 'harm', 'Privacy', 'and', 'copyright', 'Further', 'information', 'Information', 'privacy', 'and', 'Artificial', 'intelligence', 'and', 'copyright', 'Machine', 'learning', 'algorithms', 'require', 'large', 'amounts', 'of', 'data', 'The', 'techniques', 'used', 'to', 'acquire', 'this', 'data', 'have', 'raised', 'concerns', 'about', 'privacy', 'surveillance', 'and', 'copyright', 'Technology', 'companies', 'collect', 'a', 'wide', 'range', 'of', 'data', 'from', 'their', 'users', 'including', 'online', 'activity', 'geolocation', 'data', 'video', 'and', 'audio', '153', 'For', 'example', 'in', 'order', 'to', 'build', 'speech', 'recognition', 'algorithms', 'Amazon', 'has', 'recorded', 'millions', 'of', 'private', 'conversations', 'and', 'allowed', 'temporary', 'workers', 'to', 'listen', 'to', 'and', 'transcribe', 'some', 'of', 'them', '154', 'Opinions', 'about', 'this', 'widespread', 'surveillance', 'range', 'from', 'those', 'who', 'see', 'it', 'as', 'a', 'necessary', 'evil', 'to', 'those', 'for', 'whom', 'it', 'is', 'clearly', 'unethical', 'and', 'a', 'violation', 'of', 'the', 'right', 'to', 'privacy', '155', 'AI', 'developers', 'argue', 'that', 'this', 'is', 'the', 'only', 'way', 'to', 'deliver', 'valuable', 'applications', 'and', 'have', 'developed', 'several', 'techniques', 'that', 'attempt', 'to', 'preserve', 'privacy', 'while', 'still', 'obtaining', 'the', 'data', 'such', 'as', 'data', 'aggregation', 'de', 'identification', 'and', 'differential', 'privacy', '156', 'Since', '2016', 'some', 'privacy', 'experts', 'such', 'as', 'Cynthia', 'Dwork', 'have', 'begun', 'to', 'view', 'privacy', 'in', 'terms', 'of', 'fairness', 'Brian', 'Christian', 'wrote', 'that', 'experts', 'have', 'pivoted', 'from', 'the', 'question', 'of', 'what', 'they', 'know', 'to', 'the', 'question', 'of', 'what', 'they', 're', 'doing', 'with', 'it', '157', 'Generative', 'AI', 'is', 'often', 'trained', 'on', 'unlicensed', 'copyrighted', 'works', 'including', 'in', 'domains', 'such', 'as', 'images', 'or', 'computer', 'code', 'the', 'output', 'is', 'then', 'used', 'under', 'the', 'rationale', 'of', 'fair', 'use', 'Experts', 'disagree', 'about', 'how', 'well', 'and', 'under', 'what', 'circumstances', 'this', 'rationale', 'will', 'hold', 'up', 'in', 'courts', 'of', 'law', 'relevant', 'factors', 'may', 'include', 'the', 'purpose', 'and', 'character', 'of', 'the', 'use', 'of', 'the', 'copyrighted', 'work', 'and', 'the', 'effect', 'upon', 'the', 'potential', 'market', 'for', 'the', 'copyrighted', 'work', '158', '159', 'Website', 'owners', 'who', 'do', 'not', 'wish', 'to', 'have', 'their', 'content', 'scraped', 'can', 'indicate', 'it', 'in', 'a', 'robots', 'txt', 'file', '160', 'In', '2023', 'leading', 'authors', 'including', 'John', 'Grisham', 'and', 'Jonathan', 'Franzen', 'sued', 'AI', 'companies', 'for', 'using', 'their', 'work', 'to', 'train', 'generative', 'AI', '161', '162', 'Another', 'discussed', 'approach', 'is', 'to', 'envision', 'a', 'separate', 'sui', 'generis', 'system', 'of', 'protection', 'for', 'creations', 'generated', 'by', 'AI', 'to', 'ensure', 'fair', 'attribution', 'and', 'compensation', 'for', 'human', 'authors', '163', 'Misinformation', 'See', 'also', 'YouTube', 'Moderation', 'and', 'offensive', 'content', 'YouTube', 'Facebook', 'and', 'others', 'use', 'recommender', 'systems', 'to', 'guide', 'users', 'to', 'more', 'content', 'These', 'AI', 'programs', 'were', 'given', 'the', 'goal', 'of', 'maximizing', 'user', 'engagement', 'that', 'is', 'the', 'only', 'goal', 'was', 'to', 'keep', 'people', 'watching', 'The', 'AI', 'learned', 'that', 'users', 'tended', 'to', 'choose', 'misinformation', 'conspiracy', 'theories', 'and', 'extreme', 'partisan', 'content', 'and', 'to', 'keep', 'them', 'watching', 'the', 'AI', 'recommended', 'more', 'of', 'it', 'Users', 'also', 'tended', 'to', 'watch', 'more', 'content', 'on', 'the', 'same', 'subject', 'so', 'the', 'AI', 'led', 'people', 'into', 'filter', 'bubbles', 'where', 'they', 'received', 'multiple', 'versions', 'of', 'the', 'same', 'misinformation', '164', 'This', 'convinced', 'many', 'users', 'that', 'the', 'misinformation', 'was', 'true', 'and', 'ultimately', 'undermined', 'trust', 'in', 'institutions', 'the', 'media', 'and', 'the', 'government', '165', 'The', 'AI', 'program', 'had', 'correctly', 'learned', 'to', 'maximize', 'its', 'goal', 'but', 'the', 'result', 'was', 'harmful', 'to', 'society', 'After', 'the', 'U', 'S', 'election', 'in', '2016', 'major', 'technology', 'companies', 'took', 'steps', 'to', 'mitigate', 'the', 'problem', 'In', '2022', 'generative', 'AI', 'began', 'to', 'create', 'images', 'audio', 'video', 'and', 'text', 'that', 'are', 'indistinguishable', 'from', 'real', 'photographs', 'recordings', 'films', 'or', 'human', 'writing', 'It', 'is', 'possible', 'for', 'bad', 'actors', 'to', 'use', 'this', 'technology', 'to', 'create', 'massive', 'amounts', 'of', 'misinformation', 'or', 'propaganda', '166', 'AI', 'pioneer', 'Geoffrey', 'Hinton', 'expressed', 'concern', 'about', 'AI', 'enabling', 'authoritarian', 'leaders', 'to', 'manipulate', 'their', 'electorates', 'on', 'a', 'large', 'scale', 'among', 'other', 'risks', '167', 'Algorithmic', 'bias', 'and', 'fairness', 'Main', 'articles', 'Algorithmic', 'bias', 'and', 'Fairness', 'machine', 'learning', 'Machine', 'learning', 'applications', 'will', 'be', 'biased', 'if', 'they', 'learn', 'from', 'biased', 'data', '168', 'The', 'developers', 'may', 'not', 'be', 'aware', 'that', 'the', 'bias', 'exists', '169', 'Bias', 'can', 'be', 'introduced', 'by', 'the', 'way', 'training', 'data', 'is', 'selected', 'and', 'by', 'the', 'way', 'a', 'model', 'is', 'deployed', '170', '168', 'If', 'a', 'biased', 'algorithm', 'is', 'used', 'to', 'make', 'decisions', 'that', 'can', 'seriously', 'harm', 'people', 'as', 'it', 'can', 'in', 'medicine', 'finance', 'recruitment', 'housing', 'or', 'policing', 'then', 'the', 'algorithm', 'may', 'cause', 'discrimination', '171', 'Fairness', 'in', 'machine', 'learning', 'is', 'the', 'study', 'of', 'how', 'to', 'prevent', 'the', 'harm', 'caused', 'by', 'algorithmic', 'bias', 'It', 'has', 'become', 'serious', 'area', 'of', 'academic', 'study', 'within', 'AI', 'Researchers', 'have', 'discovered', 'it', 'is', 'not', 'always', 'possible', 'to', 'define', 'fairness', 'in', 'a', 'way', 'that', 'satisfies', 'all', 'stakeholders', '172', 'On', 'June', '28', '2015', 'Google', 'Photos', 's', 'new', 'image', 'labeling', 'feature', 'mistakenly', 'identified', 'Jacky', 'Alcine', 'and', 'a', 'friend', 'as', 'gorillas', 'because', 'they', 'were', 'black', 'The', 'system', 'was', 'trained', 'on', 'a', 'dataset', 'that', 'contained', 'very', 'few', 'images', 'of', 'black', 'people', '173', 'a', 'problem', 'called', 'sample', 'size', 'disparity', '174', 'Google', 'fixed', 'this', 'problem', 'by', 'preventing', 'the', 'system', 'from', 'labelling', 'anything', 'as', 'a', 'gorilla', 'Eight', 'years', 'later', 'in', '2023', 'Google', 'Photos', 'still', 'could', 'not', 'identify', 'a', 'gorilla', 'and', 'neither', 'could', 'similar', 'products', 'from', 'Apple', 'Facebook', 'Microsoft', 'and', 'Amazon', '175', 'COMPAS', 'is', 'a', 'commercial', 'program', 'widely', 'used', 'by', 'U', 'S', 'courts', 'to', 'assess', 'the', 'likelihood', 'of', 'a', 'defendant', 'becoming', 'a', 'recidivist', 'In', '2016', 'Julia', 'Angwin', 'at', 'ProPublica', 'discovered', 'that', 'COMPAS', 'exhibited', 'racial', 'bias', 'despite', 'the', 'fact', 'that', 'the', 'program', 'was', 'not', 'told', 'the', 'races', 'of', 'the', 'defendants', 'Although', 'the', 'error', 'rate', 'for', 'both', 'whites', 'and', 'blacks', 'was', 'calibrated', 'equal', 'at', 'exactly', '61', 'the', 'errors', 'for', 'each', 'race', 'were', 'different', 'the', 'system', 'consistently', 'overestimated', 'the', 'chance', 'that', 'a', 'black', 'person', 'would', 're', 'offend', 'and', 'would', 'underestimate', 'the', 'chance', 'that', 'a', 'white', 'person', 'would', 'not', 're', 'offend', '176', 'In', '2017', 'several', 'researchers', 'k', 'showed', 'that', 'it', 'was', 'mathematically', 'impossible', 'for', 'COMPAS', 'to', 'accommodate', 'all', 'possible', 'measures', 'of', 'fairness', 'when', 'the', 'base', 'rates', 'of', 're', 'offense', 'were', 'different', 'for', 'whites', 'and', 'blacks', 'in', 'the', 'data', '178', 'A', 'program', 'can', 'make', 'biased', 'decisions', 'even', 'if', 'the', 'data', 'does', 'not', 'explicitly', 'mention', 'a', 'problematic', 'feature', 'such', 'as', 'race', 'or', 'gender', 'The', 'feature', 'will', 'correlate', 'with', 'other', 'features', 'like', 'address', 'shopping', 'history', 'or', 'first', 'name', 'and', 'the', 'program', 'will', 'make', 'the', 'same', 'decisions', 'based', 'on', 'these', 'features', 'as', 'it', 'would', 'on', 'race', 'or', 'gender', '179', 'Moritz', 'Hardt', 'said', 'the', 'most', 'robust', 'fact', 'in', 'this', 'research', 'area', 'is', 'that', 'fairness', 'through', 'blindness', 'doesn', 't', 'work', '180', 'Criticism', 'of', 'COMPAS', 'highlighted', 'that', 'machine', 'learning', 'models', 'are', 'designed', 'to', 'make', 'predictions', 'that', 'are', 'only', 'valid', 'if', 'we', 'assume', 'that', 'the', 'future', 'will', 'resemble', 'the', 'past', 'If', 'they', 'are', 'trained', 'on', 'data', 'that', 'includes', 'the', 'results', 'of', 'racist', 'decisions', 'in', 'the', 'past', 'machine', 'learning', 'models', 'must', 'predict', 'that', 'racist', 'decisions', 'will', 'be', 'made', 'in', 'the', 'future', 'If', 'an', 'application', 'then', 'uses', 'these', 'predictions', 'as', 'recommendations', 'some', 'of', 'these', 'recommendations', 'will', 'likely', 'be', 'racist', '181', 'Thus', 'machine', 'learning', 'is', 'not', 'well', 'suited', 'to', 'help', 'make', 'decisions', 'in', 'areas', 'where', 'there', 'is', 'hope', 'that', 'the', 'future', 'will', 'be', 'better', 'than', 'the', 'past', 'It', 'is', 'necessarily', 'descriptive', 'and', 'not', 'proscriptive', 'l', 'Bias', 'and', 'unfairness', 'may', 'go', 'undetected', 'because', 'the', 'developers', 'are', 'overwhelmingly', 'white', 'and', 'male', 'among', 'AI', 'engineers', 'about', '4', 'are', 'black', 'and', '20', 'are', 'women', '174', 'At', 'its', '2022', 'Conference', 'on', 'Fairness', 'Accountability', 'and', 'Transparency', 'ACM', 'FAccT', '2022', 'the', 'Association', 'for', 'Computing', 'Machinery', 'in', 'Seoul', 'South', 'Korea', 'presented', 'and', 'published', 'findings', 'that', 'recommend', 'that', 'until', 'AI', 'and', 'robotics', 'systems', 'are', 'demonstrated', 'to', 'be', 'free', 'of', 'bias', 'mistakes', 'they', 'are', 'unsafe', 'and', 'the', 'use', 'of', 'self', 'learning', 'neural', 'networks', 'trained', 'on', 'vast', 'unregulated', 'sources', 'of', 'flawed', 'internet', 'data', 'should', 'be', 'curtailed', '183', 'Lack', 'of', 'transparency', 'See', 'also', 'Explainable', 'AI', 'Algorithmic', 'transparency', 'and', 'Right', 'to', 'explanation', 'Lidar', 'testing', 'vehicle', 'for', 'autonomous', 'driving', 'Many', 'AI', 'systems', 'are', 'so', 'complex', 'that', 'their', 'designers', 'cannot', 'explain', 'how', 'they', 'reach', 'their', 'decisions', '184', 'Particularly', 'with', 'deep', 'neural', 'networks', 'in', 'which', 'there', 'are', 'a', 'large', 'amount', 'of', 'non', 'linear', 'relationships', 'between', 'inputs', 'and', 'outputs', 'But', 'some', 'popular', 'explainability', 'techniques', 'exist', '185', 'It', 'is', 'impossible', 'to', 'be', 'certain', 'that', 'a', 'program', 'is', 'operating', 'correctly', 'if', 'no', 'one', 'knows', 'how', 'exactly', 'it', 'works', 'There', 'have', 'been', 'many', 'cases', 'where', 'a', 'machine', 'learning', 'program', 'passed', 'rigorous', 'tests', 'but', 'nevertheless', 'learned', 'something', 'different', 'than', 'what', 'the', 'programmers', 'intended', 'For', 'example', 'a', 'system', 'that', 'could', 'identify', 'skin', 'diseases', 'better', 'than', 'medical', 'professionals', 'was', 'found', 'to', 'actually', 'have', 'a', 'strong', 'tendency', 'to', 'classify', 'images', 'with', 'a', 'ruler', 'as', 'cancerous', 'because', 'pictures', 'of', 'malignancies', 'typically', 'include', 'a', 'ruler', 'to', 'show', 'the', 'scale', '186', 'Another', 'machine', 'learning', 'system', 'designed', 'to', 'help', 'effectively', 'allocate', 'medical', 'resources', 'was', 'found', 'to', 'classify', 'patients', 'with', 'asthma', 'as', 'being', 'at', 'low', 'risk', 'of', 'dying', 'from', 'pneumonia', 'Having', 'asthma', 'is', 'actually', 'a', 'severe', 'risk', 'factor', 'but', 'since', 'the', 'patients', 'having', 'asthma', 'would', 'usually', 'get', 'much', 'more', 'medical', 'care', 'they', 'were', 'relatively', 'unlikely', 'to', 'die', 'according', 'to', 'the', 'training', 'data', 'The', 'correlation', 'between', 'asthma', 'and', 'low', 'risk', 'of', 'dying', 'from', 'pneumonia', 'was', 'real', 'but', 'misleading', '187', 'People', 'who', 'have', 'been', 'harmed', 'by', 'an', 'algorithm', 's', 'decision', 'have', 'a', 'right', 'to', 'an', 'explanation', '188', 'Doctors', 'for', 'example', 'are', 'expected', 'to', 'clearly', 'and', 'completely', 'explain', 'to', 'their', 'colleagues', 'the', 'reasoning', 'behind', 'any', 'decision', 'they', 'make', 'Early', 'drafts', 'of', 'the', 'European', 'Union', 's', 'General', 'Data', 'Protection', 'Regulation', 'in', '2016', 'included', 'an', 'explicit', 'statement', 'that', 'this', 'right', 'exists', 'm', 'Industry', 'experts', 'noted', 'that', 'this', 'is', 'an', 'unsolved', 'problem', 'with', 'no', 'solution', 'in', 'sight', 'Regulators', 'argued', 'that', 'nevertheless', 'the', 'harm', 'is', 'real', 'if', 'the', 'problem', 'has', 'no', 'solution', 'the', 'tools', 'should', 'not', 'be', 'used', '189', 'DARPA', 'established', 'the', 'XAI', 'Explainable', 'Artificial', 'Intelligence', 'program', 'in', '2014', 'to', 'try', 'and', 'solve', 'these', 'problems', '190', 'There', 'are', 'several', 'possible', 'solutions', 'to', 'the', 'transparency', 'problem', 'SHAP', 'tried', 'to', 'solve', 'the', 'transparency', 'problems', 'by', 'visualising', 'the', 'contribution', 'of', 'each', 'feature', 'to', 'the', 'output', '191', 'LIME', 'can', 'locally', 'approximate', 'a', 'model', 'with', 'a', 'simpler', 'interpretable', 'model', '192', 'Multitask', 'learning', 'provides', 'a', 'large', 'number', 'of', 'outputs', 'in', 'addition', 'to', 'the', 'target', 'classification', 'These', 'other', 'outputs', 'can', 'help', 'developers', 'deduce', 'what', 'the', 'network', 'has', 'learned', '193', 'Deconvolution', 'DeepDream', 'and', 'other', 'generative', 'methods', 'can', 'allow', 'developers', 'to', 'see', 'what', 'different', 'layers', 'of', 'a', 'deep', 'network', 'have', 'learned', 'and', 'produce', 'output', 'that', 'can', 'suggest', 'what', 'the', 'network', 'is', 'learning', '194', 'Bad', 'actors', 'and', 'weaponized', 'AI', 'Main', 'articles', 'Lethal', 'autonomous', 'weapon', 'Artificial', 'intelligence', 'arms', 'race', 'and', 'AI', 'safety', 'Artificial', 'intelligence', 'provides', 'a', 'number', 'of', 'tools', 'that', 'are', 'useful', 'to', 'bad', 'actors', 'such', 'as', 'authoritarian', 'governments', 'terrorists', 'criminals', 'or', 'rogue', 'states', 'A', 'lethal', 'autonomous', 'weapon', 'is', 'a', 'machine', 'that', 'locates', 'selects', 'and', 'engages', 'human', 'targets', 'without', 'human', 'supervision', 'n', 'Widely', 'available', 'AI', 'tools', 'can', 'be', 'used', 'by', 'bad', 'actors', 'to', 'develop', 'inexpensive', 'autonomous', 'weapons', 'and', 'if', 'produced', 'at', 'scale', 'they', 'are', 'potentially', 'weapons', 'of', 'mass', 'destruction', '196', 'Even', 'when', 'used', 'in', 'conventional', 'warfare', 'it', 'is', 'unlikely', 'that', 'they', 'will', 'be', 'unable', 'to', 'reliably', 'choose', 'targets', 'and', 'could', 'potentially', 'kill', 'an', 'innocent', 'person', '196', 'In', '2014', '30', 'nations', 'including', 'China', 'supported', 'a', 'ban', 'on', 'autonomous', 'weapons', 'under', 'the', 'United', 'Nations', 'Convention', 'on', 'Certain', 'Conventional', 'Weapons', 'however', 'the', 'United', 'States', 'and', 'others', 'disagreed', '197', 'By', '2015', 'over', 'fifty', 'countries', 'were', 'reported', 'to', 'be', 'researching', 'battlefield', 'robots', '198', 'AI', 'tools', 'make', 'it', 'easier', 'for', 'authoritarian', 'governments', 'to', 'efficiently', 'control', 'their', 'citizens', 'in', 'several', 'ways', 'Face', 'and', 'voice', 'recognition', 'allow', 'widespread', 'surveillance', 'Machine', 'learning', 'operating', 'this', 'data', 'can', 'classify', 'potential', 'enemies', 'of', 'the', 'state', 'and', 'prevent', 'them', 'from', 'hiding', 'Recommendation', 'systems', 'can', 'precisely', 'target', 'propaganda', 'and', 'misinformation', 'for', 'maximum', 'effect', 'Deepfakes', 'and', 'generative', 'AI', 'aid', 'in', 'producing', 'misinformation', 'Advanced', 'AI', 'can', 'make', 'authoritarian', 'centralized', 'decision', 'making', 'more', 'competitive', 'than', 'liberal', 'and', 'decentralized', 'systems', 'such', 'as', 'markets', 'It', 'lowers', 'the', 'cost', 'and', 'difficulty', 'of', 'digital', 'warfare', 'and', 'advanced', 'spyware', '199', 'All', 'these', 'technologies', 'have', 'been', 'available', 'since', '2020', 'or', 'earlier', 'AI', 'facial', 'recognition', 'systems', 'are', 'already', 'being', 'used', 'for', 'mass', 'surveillance', 'in', 'China', '200', '201', 'There', 'many', 'other', 'ways', 'that', 'AI', 'is', 'expected', 'to', 'help', 'bad', 'actors', 'some', 'of', 'which', 'can', 'not', 'be', 'foreseen', 'For', 'example', 'machine', 'learning', 'AI', 'is', 'able', 'to', 'design', 'tens', 'of', 'thousands', 'of', 'toxic', 'molecules', 'in', 'a', 'matter', 'of', 'hours', '202', 'Reliance', 'on', 'industry', 'giants', 'Training', 'AI', 'systems', 'requires', 'an', 'enormous', 'amount', 'of', 'computing', 'power', 'Usually', 'only', 'Big', 'Tech', 'companies', 'have', 'the', 'financial', 'resources', 'to', 'make', 'such', 'investments', 'Smaller', 'startups', 'such', 'as', 'Cohere', 'and', 'OpenAI', 'end', 'up', 'buying', 'access', 'to', 'data', 'centers', 'from', 'Google', 'and', 'Microsoft', 'respectively', '203', 'Technological', 'unemployment', 'Main', 'articles', 'Workplace', 'impact', 'of', 'artificial', 'intelligence', 'and', 'Technological', 'unemployment', 'Economists', 'have', 'frequently', 'highlighted', 'the', 'risks', 'of', 'redundancies', 'from', 'AI', 'and', 'speculated', 'about', 'unemployment', 'if', 'there', 'is', 'no', 'adequate', 'social', 'policy', 'for', 'full', 'employment', '204', 'In', 'the', 'past', 'technology', 'has', 'tended', 'to', 'increase', 'rather', 'than', 'reduce', 'total', 'employment', 'but', 'economists', 'acknowledge', 'that', 'we', 're', 'in', 'uncharted', 'territory', 'with', 'AI', '205', 'A', 'survey', 'of', 'economists', 'showed', 'disagreement', 'about', 'whether', 'the', 'increasing', 'use', 'of', 'robots', 'and', 'AI', 'will', 'cause', 'a', 'substantial', 'increase', 'in', 'long', 'term', 'unemployment', 'but', 'they', 'generally', 'agree', 'that', 'it', 'could', 'be', 'a', 'net', 'benefit', 'if', 'productivity', 'gains', 'are', 'redistributed', '206', 'Risk', 'estimates', 'vary', 'for', 'example', 'in', 'the', '2010s', 'Michael', 'Osborne', 'and', 'Carl', 'Benedikt', 'Frey', 'estimated', '47', 'of', 'U', 'S', 'jobs', 'are', 'at', 'high', 'risk', 'of', 'potential', 'automation', 'while', 'an', 'OECD', 'report', 'classified', 'only', '9', 'of', 'U', 'S', 'jobs', 'as', 'high', 'risk', 'o', '208', 'The', 'methodology', 'of', 'speculating', 'about', 'future', 'employment', 'levels', 'has', 'been', 'criticised', 'as', 'lacking', 'evidential', 'foundation', 'and', 'for', 'implying', 'that', 'technology', 'rather', 'than', 'social', 'policy', 'creates', 'unemployment', 'as', 'opposed', 'to', 'redundancies', '204', 'In', 'April', '2023', 'it', 'was', 'reported', 'that', '70', 'of', 'the', 'jobs', 'for', 'Chinese', 'video', 'game', 'illustrators', 'had', 'been', 'eliminated', 'by', 'generative', 'artificial', 'intelligence', '209', '210', 'Unlike', 'previous', 'waves', 'of', 'automation', 'many', 'middle', 'class', 'jobs', 'may', 'be', 'eliminated', 'by', 'artificial', 'intelligence', 'The', 'Economist', 'stated', 'in', '2015', 'that', 'the', 'worry', 'that', 'AI', 'could', 'do', 'to', 'white', 'collar', 'jobs', 'what', 'steam', 'power', 'did', 'to', 'blue', 'collar', 'ones', 'during', 'the', 'Industrial', 'Revolution', 'is', 'worth', 'taking', 'seriously', '211', 'Jobs', 'at', 'extreme', 'risk', 'range', 'from', 'paralegals', 'to', 'fast', 'food', 'cooks', 'while', 'job', 'demand', 'is', 'likely', 'to', 'increase', 'for', 'care', 'related', 'professions', 'ranging', 'from', 'personal', 'healthcare', 'to', 'the', 'clergy', '212', 'From', 'the', 'early', 'days', 'of', 'the', 'development', 'of', 'artificial', 'intelligence', 'there', 'have', 'been', 'arguments', 'for', 'example', 'those', 'put', 'forward', 'by', 'Joseph', 'Weizenbaum', 'about', 'whether', 'tasks', 'that', 'can', 'be', 'done', 'by', 'computers', 'actually', 'should', 'be', 'done', 'by', 'them', 'given', 'the', 'difference', 'between', 'computers', 'and', 'humans', 'and', 'between', 'quantitative', 'calculation', 'and', 'qualitative', 'value', 'based', 'judgement', '213', 'Existential', 'risk', 'Main', 'article', 'Existential', 'risk', 'from', 'artificial', 'general', 'intelligence', 'It', 'has', 'been', 'argued', 'AI', 'will', 'become', 'so', 'powerful', 'that', 'humanity', 'may', 'irreversibly', 'lose', 'control', 'of', 'it', 'This', 'could', 'as', 'physicist', 'Stephen', 'Hawking', 'stated', 'spell', 'the', 'end', 'of', 'the', 'human', 'race', '214', 'This', 'scenario', 'has', 'been', 'common', 'in', 'science', 'fiction', 'when', 'a', 'computer', 'or', 'robot', 'suddenly', 'develops', 'a', 'human', 'like', 'self', 'awareness', 'or', 'sentience', 'or', 'consciousness', 'and', 'becomes', 'a', 'malevolent', 'character', 'p', 'These', 'sci', 'fi', 'scenarios', 'are', 'misleading', 'in', 'several', 'ways', 'First', 'AI', 'does', 'not', 'require', 'human', 'like', 'sentience', 'to', 'be', 'an', 'existential', 'risk', 'Modern', 'AI', 'programs', 'are', 'given', 'specific', 'goals', 'and', 'use', 'learning', 'and', 'intelligence', 'to', 'achieve', 'them', 'Philosopher', 'Nick', 'Bostrom', 'argued', 'that', 'if', 'one', 'gives', 'almost', 'any', 'goal', 'to', 'a', 'sufficiently', 'powerful', 'AI', 'it', 'may', 'choose', 'to', 'destroy', 'humanity', 'to', 'achieve', 'it', 'he', 'used', 'the', 'example', 'of', 'a', 'paperclip', 'factory', 'manager', '216', 'Stuart', 'Russell', 'gives', 'the', 'example', 'of', 'household', 'robot', 'that', 'tries', 'to', 'find', 'a', 'way', 'to', 'kill', 'its', 'owner', 'to', 'prevent', 'it', 'from', 'being', 'unplugged', 'reasoning', 'that', 'you', 'can', 't', 'fetch', 'the', 'coffee', 'if', 'you', 're', 'dead', '217', 'In', 'order', 'to', 'be', 'safe', 'for', 'humanity', 'a', 'superintelligence', 'would', 'have', 'to', 'be', 'genuinely', 'aligned', 'with', 'humanity', 's', 'morality', 'and', 'values', 'so', 'that', 'it', 'is', 'fundamentally', 'on', 'our', 'side', '218', 'Second', 'Yuval', 'Noah', 'Harari', 'argues', 'that', 'AI', 'does', 'not', 'require', 'a', 'robot', 'body', 'or', 'physical', 'control', 'to', 'pose', 'an', 'existential', 'risk', 'The', 'essential', 'parts', 'of', 'civilization', 'are', 'not', 'physical', 'Things', 'like', 'ideologies', 'law', 'government', 'money', 'and', 'the', 'economy', 'are', 'made', 'of', 'language', 'they', 'exist', 'because', 'there', 'are', 'stories', 'that', 'billions', 'of', 'people', 'believe', 'The', 'current', 'prevalence', 'of', 'misinformation', 'suggests', 'that', 'an', 'AI', 'could', 'use', 'language', 'to', 'convince', 'people', 'to', 'believe', 'anything', 'even', 'to', 'take', 'actions', 'that', 'are', 'destructive', '219', 'The', 'opinions', 'amongst', 'experts', 'and', 'industry', 'insiders', 'are', 'mixed', 'with', 'sizable', 'fractions', 'both', 'concerned', 'and', 'unconcerned', 'by', 'risk', 'from', 'eventual', 'superintelligent', 'AI', '220', 'Personalities', 'such', 'as', 'Stephen', 'Hawking', 'Bill', 'Gates', 'and', 'Elon', 'Musk', 'have', 'expressed', 'concern', 'about', 'existential', 'risk', 'from', 'AI', '221', 'AI', 'pioneers', 'including', 'Fei', 'Fei', 'Li', 'Geoffrey', 'Hinton', 'Yoshua', 'Bengio', 'Cynthia', 'Breazeal', 'Rana', 'el', 'Kaliouby', 'Demis', 'Hassabis', 'Joy', 'Buolamwini', 'and', 'Sam', 'Altman', 'have', 'expressed', 'concerns', 'about', 'the', 'risks', 'of', 'AI', 'In', '2023', 'many', 'leading', 'AI', 'experts', 'issued', 'the', 'joint', 'statement', 'that', 'Mitigating', 'the', 'risk', 'of', 'extinction', 'from', 'AI', 'should', 'be', 'a', 'global', 'priority', 'alongside', 'other', 'societal', 'scale', 'risks', 'such', 'as', 'pandemics', 'and', 'nuclear', 'war', '222', 'Other', 'researchers', 'however', 'spoke', 'in', 'favor', 'of', 'a', 'less', 'dystopian', 'view', 'AI', 'pioneer', 'Juergen', 'Schmidhuber', 'did', 'not', 'sign', 'the', 'joint', 'statement', 'emphasising', 'that', 'in', '95', 'of', 'all', 'cases', 'AI', 'research', 'is', 'about', 'making', 'human', 'lives', 'longer', 'and', 'healthier', 'and', 'easier', '223', 'While', 'the', 'tools', 'that', 'are', 'now', 'being', 'used', 'to', 'improve', 'lives', 'can', 'also', 'be', 'used', 'by', 'bad', 'actors', 'they', 'can', 'also', 'be', 'used', 'against', 'the', 'bad', 'actors', '224', '225', 'Andrew', 'Ng', 'also', 'argued', 'that', 'it', 's', 'a', 'mistake', 'to', 'fall', 'for', 'the', 'doomsday', 'hype', 'on', 'AI', 'and', 'that', 'regulators', 'who', 'do', 'will', 'only', 'benefit', 'vested', 'interests', '226', 'Yann', 'LeCun', 'scoffs', 'at', 'his', 'peers', 'dystopian', 'scenarios', 'of', 'supercharged', 'misinformation', 'and', 'even', 'eventually', 'human', 'extinction', '227', 'In', 'the', 'early', '2010s', 'experts', 'argued', 'that', 'the', 'risks', 'are', 'too', 'distant', 'in', 'the', 'future', 'to', 'warrant', 'research', 'or', 'that', 'humans', 'will', 'be', 'valuable', 'from', 'the', 'perspective', 'of', 'a', 'superintelligent', 'machine', '228', 'However', 'after', '2016', 'the', 'study', 'of', 'current', 'and', 'future', 'risks', 'and', 'possible', 'solutions', 'became', 'a', 'serious', 'area', 'of', 'research', '229', 'Ethical', 'machines', 'and', 'alignment', 'Main', 'articles', 'Machine', 'ethics', 'AI', 'safety', 'Friendly', 'artificial', 'intelligence', 'Artificial', 'moral', 'agents', 'and', 'Human', 'Compatible', 'Friendly', 'AI', 'are', 'machines', 'that', 'have', 'been', 'designed', 'from', 'the', 'beginning', 'to', 'minimize', 'risks', 'and', 'to', 'make', 'choices', 'that', 'benefit', 'humans', 'Eliezer', 'Yudkowsky', 'who', 'coined', 'the', 'term', 'argues', 'that', 'developing', 'friendly', 'AI', 'should', 'be', 'a', 'higher', 'research', 'priority', 'it', 'may', 'require', 'a', 'large', 'investment', 'and', 'it', 'must', 'be', 'completed', 'before', 'AI', 'becomes', 'an', 'existential', 'risk', '230', 'Machines', 'with', 'intelligence', 'have', 'the', 'potential', 'to', 'use', 'their', 'intelligence', 'to', 'make', 'ethical', 'decisions', 'The', 'field', 'of', 'machine', 'ethics', 'provides', 'machines', 'with', 'ethical', 'principles', 'and', 'procedures', 'for', 'resolving', 'ethical', 'dilemmas', '231', 'The', 'field', 'of', 'machine', 'ethics', 'is', 'also', 'called', 'computational', 'morality', '231', 'and', 'was', 'founded', 'at', 'an', 'AAAI', 'symposium', 'in', '2005', '232', 'Other', 'approaches', 'include', 'Wendell', 'Wallach', 's', 'artificial', 'moral', 'agents', '233', 'and', 'Stuart', 'J', 'Russell', 's', 'three', 'principles', 'for', 'developing', 'provably', 'beneficial', 'machines', '234', 'Open', 'source', 'Active', 'organizations', 'in', 'the', 'AI', 'open', 'source', 'community', 'include', 'Hugging', 'Face', '235', 'Google', '236', 'EleutherAI', 'and', 'Meta', '237', 'Various', 'AI', 'models', 'such', 'as', 'Llama', '2', 'Mistral', 'or', 'Stable', 'Diffusion', 'have', 'been', 'made', 'open', 'weight', '238', '239', 'meaning', 'that', 'their', 'architecture', 'and', 'trained', 'parameters', 'the', 'weights', 'are', 'publicly', 'available', 'Open', 'weight', 'models', 'can', 'be', 'freely', 'fine', 'tuned', 'which', 'allows', 'companies', 'to', 'specialize', 'them', 'with', 'their', 'own', 'data', 'and', 'for', 'their', 'own', 'use', 'case', '240', 'Open', 'weight', 'models', 'are', 'useful', 'for', 'research', 'and', 'innovation', 'but', 'can', 'also', 'be', 'misused', 'Since', 'they', 'can', 'be', 'fine', 'tuned', 'any', 'built', 'in', 'security', 'measure', 'such', 'as', 'objecting', 'to', 'harmful', 'requests', 'can', 'be', 'trained', 'away', 'until', 'it', 'becomes', 'ineffective', 'Some', 'researchers', 'warn', 'that', 'future', 'AI', 'models', 'may', 'develop', 'dangerous', 'capabilities', 'such', 'as', 'the', 'potential', 'to', 'drastically', 'facilitate', 'bioterrorism', 'and', 'that', 'once', 'released', 'on', 'the', 'Internet', 'they', 'can', 't', 'be', 'deleted', 'everywhere', 'if', 'needed', 'They', 'recommend', 'pre', 'release', 'audits', 'and', 'cost', 'benefit', 'analyses', '241', 'Frameworks', 'Artificial', 'Intelligence', 'projects', 'can', 'have', 'their', 'ethical', 'permissibility', 'tested', 'while', 'designing', 'developing', 'and', 'implementing', 'an', 'AI', 'system', 'An', 'AI', 'framework', 'such', 'as', 'the', 'Care', 'and', 'Act', 'Framework', 'containing', 'the', 'SUM', 'values', 'developed', 'by', 'the', 'Alan', 'Turing', 'Institute', 'tests', 'projects', 'in', 'four', 'main', 'areas', '242', '243', 'RESPECT', 'the', 'dignity', 'of', 'individual', 'people', 'CONNECT', 'with', 'other', 'people', 'sincerely', 'openly', 'and', 'inclusively', 'CARE', 'for', 'the', 'wellbeing', 'of', 'everyone', 'PROTECT', 'social', 'values', 'justice', 'and', 'the', 'public', 'interest', 'Other', 'developments', 'in', 'ethical', 'frameworks', 'include', 'those', 'decided', 'upon', 'during', 'the', 'Asilomar', 'Conference', 'the', 'Montreal', 'Declaration', 'for', 'Responsible', 'AI', 'and', 'the', 'IEEE', 's', 'Ethics', 'of', 'Autonomous', 'Systems', 'initiative', 'among', 'others', '244', 'however', 'these', 'principles', 'do', 'not', 'go', 'without', 'their', 'criticisms', 'especially', 'regards', 'to', 'the', 'people', 'chosen', 'contributes', 'to', 'these', 'frameworks', '245', 'Promotion', 'of', 'the', 'wellbeing', 'of', 'the', 'people', 'and', 'communities', 'that', 'these', 'technologies', 'affect', 'requires', 'consideration', 'of', 'the', 'social', 'and', 'ethical', 'implications', 'at', 'all', 'stages', 'of', 'AI', 'system', 'design', 'development', 'and', 'implementation', 'and', 'collaboration', 'between', 'job', 'roles', 'such', 'as', 'data', 'scientists', 'product', 'managers', 'data', 'engineers', 'domain', 'experts', 'and', 'delivery', 'managers', '246', 'The', 'AI', 'Safety', 'Institute', 'in', 'the', 'UK', 'has', 'released', 'a', 'testing', 'toolset', 'called', 'Inspect', 'for', 'AI', 'safety', 'evaluations', 'available', 'under', 'a', 'MIT', 'open', 'source', 'licence', 'which', 'is', 'freely', 'available', 'on', 'Github', 'and', 'can', 'be', 'improved', 'with', 'third', 'party', 'packages', 'It', 'can', 'be', 'used', 'to', 'evaluate', 'AI', 'models', 'in', 'a', 'range', 'of', 'areas', 'including', 'core', 'knowledge', 'ability', 'to', 'reason', 'and', 'autonomous', 'capabilities', '247', 'Regulation', 'Main', 'articles', 'Regulation', 'of', 'artificial', 'intelligence', 'Regulation', 'of', 'algorithms', 'and', 'AI', 'safety', 'The', 'first', 'global', 'AI', 'Safety', 'Summit', 'was', 'held', 'in', '2023', 'with', 'a', 'declaration', 'calling', 'for', 'international', 'co', 'operation', 'The', 'regulation', 'of', 'artificial', 'intelligence', 'is', 'the', 'development', 'of', 'public', 'sector', 'policies', 'and', 'laws', 'for', 'promoting', 'and', 'regulating', 'artificial', 'intelligence', 'AI', 'it', 'is', 'therefore', 'related', 'to', 'the', 'broader', 'regulation', 'of', 'algorithms', '248', 'The', 'regulatory', 'and', 'policy', 'landscape', 'for', 'AI', 'is', 'an', 'emerging', 'issue', 'in', 'jurisdictions', 'globally', '249', 'According', 'to', 'AI', 'Index', 'at', 'Stanford', 'the', 'annual', 'number', 'of', 'AI', 'related', 'laws', 'passed', 'in', 'the', '127', 'survey', 'countries', 'jumped', 'from', 'one', 'passed', 'in', '2016', 'to', '37', 'passed', 'in', '2022', 'alone', '250', '251', 'Between', '2016', 'and', '2020', 'more', 'than', '30', 'countries', 'adopted', 'dedicated', 'strategies', 'for', 'AI', '252', 'Most', 'EU', 'member', 'states', 'had', 'released', 'national', 'AI', 'strategies', 'as', 'had', 'Canada', 'China', 'India', 'Japan', 'Mauritius', 'the', 'Russian', 'Federation', 'Saudi', 'Arabia', 'United', 'Arab', 'Emirates', 'U', 'S', 'and', 'Vietnam', 'Others', 'were', 'in', 'the', 'process', 'of', 'elaborating', 'their', 'own', 'AI', 'strategy', 'including', 'Bangladesh', 'Malaysia', 'and', 'Tunisia', '252', 'The', 'Global', 'Partnership', 'on', 'Artificial', 'Intelligence', 'was', 'launched', 'in', 'June', '2020', 'stating', 'a', 'need', 'for', 'AI', 'to', 'be', 'developed', 'in', 'accordance', 'with', 'human', 'rights', 'and', 'democratic', 'values', 'to', 'ensure', 'public', 'confidence', 'and', 'trust', 'in', 'the', 'technology', '252', 'Henry', 'Kissinger', 'Eric', 'Schmidt', 'and', 'Daniel', 'Huttenlocher', 'published', 'a', 'joint', 'statement', 'in', 'November', '2021', 'calling', 'for', 'a', 'government', 'commission', 'to', 'regulate', 'AI', '253', 'In', '2023', 'OpenAI', 'leaders', 'published', 'recommendations', 'for', 'the', 'governance', 'of', 'superintelligence', 'which', 'they', 'believe', 'may', 'happen', 'in', 'less', 'than', '10', 'years', '254', 'In', '2023', 'the', 'United', 'Nations', 'also', 'launched', 'an', 'advisory', 'body', 'to', 'provide', 'recommendations', 'on', 'AI', 'governance', 'the', 'body', 'comprises', 'technology', 'company', 'executives', 'governments', 'officials', 'and', 'academics', '255', 'In', 'a', '2022', 'Ipsos', 'survey', 'attitudes', 'towards', 'AI', 'varied', 'greatly', 'by', 'country', '78', 'of', 'Chinese', 'citizens', 'but', 'only', '35', 'of', 'Americans', 'agreed', 'that', 'products', 'and', 'services', 'using', 'AI', 'have', 'more', 'benefits', 'than', 'drawbacks', '250', 'A', '2023', 'Reuters', 'Ipsos', 'poll', 'found', 'that', '61', 'of', 'Americans', 'agree', 'and', '22', 'disagree', 'that', 'AI', 'poses', 'risks', 'to', 'humanity', '256', 'In', 'a', '2023', 'Fox', 'News', 'poll', '35', 'of', 'Americans', 'thought', 'it', 'very', 'important', 'and', 'an', 'additional', '41', 'thought', 'it', 'somewhat', 'important', 'for', 'the', 'federal', 'government', 'to', 'regulate', 'AI', 'versus', '13', 'responding', 'not', 'very', 'important', 'and', '8', 'responding', 'not', 'at', 'all', 'important', '257', '258', 'In', 'November', '2023', 'the', 'first', 'global', 'AI', 'Safety', 'Summit', 'was', 'held', 'in', 'Bletchley', 'Park', 'in', 'the', 'UK', 'to', 'discuss', 'the', 'near', 'and', 'far', 'term', 'risks', 'of', 'AI', 'and', 'the', 'possibility', 'of', 'mandatory', 'and', 'voluntary', 'regulatory', 'frameworks', '259', '28', 'countries', 'including', 'the', 'United', 'States', 'China', 'and', 'the', 'European', 'Union', 'issued', 'a', 'declaration', 'at', 'the', 'start', 'of', 'the', 'summit', 'calling', 'for', 'international', 'co', 'operation', 'to', 'manage', 'the', 'challenges', 'and', 'risks', 'of', 'artificial', 'intelligence', '260', '261', 'In', 'May', '2024', 'at', 'the', 'AI', 'Seoul', 'Summit', '16', 'global', 'AI', 'tech', 'companies', 'agreed', 'to', 'safety', 'commitments', 'on', 'the', 'development', 'of', 'AI', '262', '263', 'History', 'Main', 'article', 'History', 'of', 'artificial', 'intelligence', 'For', 'a', 'chronological', 'guide', 'see', 'Timeline', 'of', 'artificial', 'intelligence', 'The', 'study', 'of', 'mechanical', 'or', 'formal', 'reasoning', 'began', 'with', 'philosophers', 'and', 'mathematicians', 'in', 'antiquity', 'The', 'study', 'of', 'logic', 'led', 'directly', 'to', 'Alan', 'Turing', 's', 'theory', 'of', 'computation', 'which', 'suggested', 'that', 'a', 'machine', 'by', 'shuffling', 'symbols', 'as', 'simple', 'as', '0', 'and', '1', 'could', 'simulate', 'any', 'conceivable', 'form', 'of', 'mathematical', 'reasoning', '264', '5', 'This', 'along', 'with', 'concurrent', 'discoveries', 'in', 'cybernetics', 'information', 'theory', 'and', 'neurobiology', 'led', 'researchers', 'to', 'consider', 'the', 'possibility', 'of', 'building', 'an', 'electronic', 'brain', 'q', 'They', 'developed', 'several', 'areas', 'of', 'research', 'that', 'would', 'become', 'part', 'of', 'AI', '266', 'such', 'as', 'McCullouch', 'and', 'Pitts', 'design', 'for', 'artificial', 'neurons', 'in', '1943', '267', 'and', 'Turing', 's', 'influential', '1950', 'paper', 'Computing', 'Machinery', 'and', 'Intelligence', 'which', 'introduced', 'the', 'Turing', 'test', 'and', 'showed', 'that', 'machine', 'intelligence', 'was', 'plausible', '268', '5', 'The', 'field', 'of', 'AI', 'research', 'was', 'founded', 'at', 'a', 'workshop', 'at', 'Dartmouth', 'College', 'in', '1956', 'r', '6', 'The', 'attendees', 'became', 'the', 'leaders', 'of', 'AI', 'research', 'in', 'the', '1960s', 's', 'They', 'and', 'their', 'students', 'produced', 'programs', 'that', 'the', 'press', 'described', 'as', 'astonishing', 't', 'computers', 'were', 'learning', 'checkers', 'strategies', 'solving', 'word', 'problems', 'in', 'algebra', 'proving', 'logical', 'theorems', 'and', 'speaking', 'English', 'u', '7', 'Artificial', 'intelligence', 'laboratories', 'were', 'set', 'up', 'at', 'a', 'number', 'of', 'British', 'and', 'U', 'S', 'Universities', 'in', 'the', 'latter', '1950s', 'and', 'early', '1960s', '5', 'Researchers', 'in', 'the', '1960s', 'and', 'the', '1970s', 'were', 'convinced', 'that', 'their', 'methods', 'would', 'eventually', 'succeed', 'in', 'creating', 'a', 'machine', 'with', 'general', 'intelligence', 'and', 'considered', 'this', 'the', 'goal', 'of', 'their', 'field', '272', 'Herbert', 'Simon', 'predicted', 'machines', 'will', 'be', 'capable', 'within', 'twenty', 'years', 'of', 'doing', 'any', 'work', 'a', 'man', 'can', 'do', '273', 'Marvin', 'Minsky', 'agreed', 'writing', 'within', 'a', 'generation', 'the', 'problem', 'of', 'creating', 'artificial', 'intelligence', 'will', 'substantially', 'be', 'solved', '274', 'They', 'had', 'however', 'underestimated', 'the', 'difficulty', 'of', 'the', 'problem', 'v', 'In', '1974', 'both', 'the', 'U', 'S', 'and', 'British', 'governments', 'cut', 'off', 'exploratory', 'research', 'in', 'response', 'to', 'the', 'criticism', 'of', 'Sir', 'James', 'Lighthill', '276', 'and', 'ongoing', 'pressure', 'from', 'the', 'U', 'S', 'Congress', 'to', 'fund', 'more', 'productive', 'projects', '277', 'Minsky', 's', 'and', 'Papert', 's', 'book', 'Perceptrons', 'was', 'understood', 'as', 'proving', 'that', 'artificial', 'neural', 'networks', 'would', 'never', 'be', 'useful', 'for', 'solving', 'real', 'world', 'tasks', 'thus', 'discrediting', 'the', 'approach', 'altogether', '278', 'The', 'AI', 'winter', 'a', 'period', 'when', 'obtaining', 'funding', 'for', 'AI', 'projects', 'was', 'difficult', 'followed', '9', 'In', 'the', 'early', '1980s', 'AI', 'research', 'was', 'revived', 'by', 'the', 'commercial', 'success', 'of', 'expert', 'systems', '279', 'a', 'form', 'of', 'AI', 'program', 'that', 'simulated', 'the', 'knowledge', 'and', 'analytical', 'skills', 'of', 'human', 'experts', 'By', '1985', 'the', 'market', 'for', 'AI', 'had', 'reached', 'over', 'a', 'billion', 'dollars', 'At', 'the', 'same', 'time', 'Japan', 's', 'fifth', 'generation', 'computer', 'project', 'inspired', 'the', 'U', 'S', 'and', 'British', 'governments', 'to', 'restore', 'funding', 'for', 'academic', 'research', '8', 'However', 'beginning', 'with', 'the', 'collapse', 'of', 'the', 'Lisp', 'Machine', 'market', 'in', '1987', 'AI', 'once', 'again', 'fell', 'into', 'disrepute', 'and', 'a', 'second', 'longer', 'lasting', 'winter', 'began', '10', 'Up', 'to', 'this', 'point', 'most', 'of', 'AI', 's', 'funding', 'had', 'gone', 'to', 'projects', 'that', 'used', 'high', 'level', 'symbols', 'to', 'represent', 'mental', 'objects', 'like', 'plans', 'goals', 'beliefs', 'and', 'known', 'facts', 'In', 'the', '1980s', 'some', 'researchers', 'began', 'to', 'doubt', 'that', 'this', 'approach', 'would', 'be', 'able', 'to', 'imitate', 'all', 'the', 'processes', 'of', 'human', 'cognition', 'especially', 'perception', 'robotics', 'learning', 'and', 'pattern', 'recognition', '280', 'and', 'began', 'to', 'look', 'into', 'sub', 'symbolic', 'approaches', '281', 'Rodney', 'Brooks', 'rejected', 'representation', 'in', 'general', 'and', 'focussed', 'directly', 'on', 'engineering', 'machines', 'that', 'move', 'and', 'survive', 'w', 'Judea', 'Pearl', 'Lofti', 'Zadeh', 'and', 'others', 'developed', 'methods', 'that', 'handled', 'incomplete', 'and', 'uncertain', 'information', 'by', 'making', 'reasonable', 'guesses', 'rather', 'than', 'precise', 'logic', '88', '286', 'But', 'the', 'most', 'important', 'development', 'was', 'the', 'revival', 'of', 'connectionism', 'including', 'neural', 'network', 'research', 'by', 'Geoffrey', 'Hinton', 'and', 'others', '287', 'In', '1990', 'Yann', 'LeCun', 'successfully', 'showed', 'that', 'convolutional', 'neural', 'networks', 'can', 'recognize', 'handwritten', 'digits', 'the', 'first', 'of', 'many', 'successful', 'applications', 'of', 'neural', 'networks', '288', 'AI', 'gradually', 'restored', 'its', 'reputation', 'in', 'the', 'late', '1990s', 'and', 'early', '21st', 'century', 'by', 'exploiting', 'formal', 'mathematical', 'methods', 'and', 'by', 'finding', 'specific', 'solutions', 'to', 'specific', 'problems', 'This', 'narrow', 'and', 'formal', 'focus', 'allowed', 'researchers', 'to', 'produce', 'verifiable', 'results', 'and', 'collaborate', 'with', 'other', 'fields', 'such', 'as', 'statistics', 'economics', 'and', 'mathematics', '289', 'By', '2000', 'solutions', 'developed', 'by', 'AI', 'researchers', 'were', 'being', 'widely', 'used', 'although', 'in', 'the', '1990s', 'they', 'were', 'rarely', 'described', 'as', 'artificial', 'intelligence', '290', 'However', 'several', 'academic', 'researchers', 'became', 'concerned', 'that', 'AI', 'was', 'no', 'longer', 'pursuing', 'its', 'original', 'goal', 'of', 'creating', 'versatile', 'fully', 'intelligent', 'machines', 'Beginning', 'around', '2002', 'they', 'founded', 'the', 'subfield', 'of', 'artificial', 'general', 'intelligence', 'or', 'AGI', 'which', 'had', 'several', 'well', 'funded', 'institutions', 'by', 'the', '2010s', '14', 'Deep', 'learning', 'began', 'to', 'dominate', 'industry', 'benchmarks', 'in', '2012', 'and', 'was', 'adopted', 'throughout', 'the', 'field', '11', 'For', 'many', 'specific', 'tasks', 'other', 'methods', 'were', 'abandoned', 'x', 'Deep', 'learning', 's', 'success', 'was', 'based', 'on', 'both', 'hardware', 'improvements', 'faster', 'computers', '292', 'graphics', 'processing', 'units', 'cloud', 'computing', '293', 'and', 'access', 'to', 'large', 'amounts', 'of', 'data', '294', 'including', 'curated', 'datasets', '293', 'such', 'as', 'ImageNet', 'Deep', 'learning', 's', 'success', 'led', 'to', 'an', 'enormous', 'increase', 'in', 'interest', 'and', 'funding', 'in', 'AI', 'y', 'The', 'amount', 'of', 'machine', 'learning', 'research', 'measured', 'by', 'total', 'publications', 'increased', 'by', '50', 'in', 'the', 'years', '2015', '2019', '252', 'In', '2016', 'issues', 'of', 'fairness', 'and', 'the', 'misuse', 'of', 'technology', 'were', 'catapulted', 'into', 'center', 'stage', 'at', 'machine', 'learning', 'conferences', 'publications', 'vastly', 'increased', 'funding', 'became', 'available', 'and', 'many', 'researchers', 're', 'focussed', 'their', 'careers', 'on', 'these', 'issues', 'The', 'alignment', 'problem', 'became', 'a', 'serious', 'field', 'of', 'academic', 'study', '229', 'In', 'the', 'late', 'teens', 'and', 'early', '2020s', 'AGI', 'companies', 'began', 'to', 'deliver', 'programs', 'that', 'created', 'enormous', 'interest', 'In', '2015', 'AlphaGo', 'developed', 'by', 'DeepMind', 'beat', 'the', 'world', 'champion', 'Go', 'player', 'The', 'program', 'was', 'taught', 'only', 'the', 'rules', 'of', 'the', 'game', 'and', 'developed', 'strategy', 'by', 'itself', 'GPT', '3', 'is', 'a', 'large', 'language', 'model', 'that', 'was', 'released', 'in', '2020', 'by', 'OpenAI', 'and', 'is', 'capable', 'of', 'generating', 'high', 'quality', 'human', 'like', 'text', '295', 'These', 'programs', 'and', 'others', 'inspired', 'an', 'aggressive', 'AI', 'boom', 'where', 'large', 'companies', 'began', 'investing', 'billions', 'in', 'AI', 'research', 'According', 'to', 'AI', 'Impacts', 'about', '50', 'billion', 'annually', 'was', 'invested', 'in', 'AI', 'around', '2022', 'in', 'the', 'U', 'S', 'alone', 'and', 'about', '20', 'of', 'the', 'new', 'U', 'S', 'Computer', 'Science', 'PhD', 'graduates', 'have', 'specialized', 'in', 'AI', '296', 'About', '800', '000', 'AI', 'related', 'U', 'S', 'job', 'openings', 'existed', 'in', '2022', '297', 'Philosophy', 'Main', 'article', 'Philosophy', 'of', 'artificial', 'intelligence', 'Defining', 'artificial', 'intelligence', 'Main', 'articles', 'Turing', 'test', 'Intelligent', 'agent', 'Dartmouth', 'workshop', 'and', 'Synthetic', 'intelligence', 'Alan', 'Turing', 'wrote', 'in', '1950', 'I', 'propose', 'to', 'consider', 'the', 'question', 'can', 'machines', 'think', '298', 'He', 'advised', 'changing', 'the', 'question', 'from', 'whether', 'a', 'machine', 'thinks', 'to', 'whether', 'or', 'not', 'it', 'is', 'possible', 'for', 'machinery', 'to', 'show', 'intelligent', 'behaviour', '298', 'He', 'devised', 'the', 'Turing', 'test', 'which', 'measures', 'the', 'ability', 'of', 'a', 'machine', 'to', 'simulate', 'human', 'conversation', '268', 'Since', 'we', 'can', 'only', 'observe', 'the', 'behavior', 'of', 'the', 'machine', 'it', 'does', 'not', 'matter', 'if', 'it', 'is', 'actually', 'thinking', 'or', 'literally', 'has', 'a', 'mind', 'Turing', 'notes', 'that', 'we', 'can', 'not', 'determine', 'these', 'things', 'about', 'other', 'people', 'but', 'it', 'is', 'usual', 'to', 'have', 'a', 'polite', 'convention', 'that', 'everyone', 'thinks', '299', 'Russell', 'and', 'Norvig', 'agree', 'with', 'Turing', 'that', 'intelligence', 'must', 'be', 'defined', 'in', 'terms', 'of', 'external', 'behavior', 'not', 'internal', 'structure', '1', 'However', 'they', 'are', 'critical', 'that', 'the', 'test', 'requires', 'the', 'machine', 'to', 'imitate', 'humans', 'Aeronautical', 'engineering', 'texts', 'they', 'wrote', 'do', 'not', 'define', 'the', 'goal', 'of', 'their', 'field', 'as', 'making', 'machines', 'that', 'fly', 'so', 'exactly', 'like', 'pigeons', 'that', 'they', 'can', 'fool', 'other', 'pigeons', '300', 'AI', 'founder', 'John', 'McCarthy', 'agreed', 'writing', 'that', 'Artificial', 'intelligence', 'is', 'not', 'by', 'definition', 'simulation', 'of', 'human', 'intelligence', '301', 'McCarthy', 'defines', 'intelligence', 'as', 'the', 'computational', 'part', 'of', 'the', 'ability', 'to', 'achieve', 'goals', 'in', 'the', 'world', '302', 'Another', 'AI', 'founder', 'Marvin', 'Minsky', 'similarly', 'describes', 'it', 'as', 'the', 'ability', 'to', 'solve', 'hard', 'problems', '303', 'The', 'leading', 'AI', 'textbook', 'defines', 'it', 'as', 'the', 'study', 'of', 'agents', 'that', 'perceive', 'their', 'environment', 'and', 'take', 'actions', 'that', 'maximize', 'their', 'chances', 'of', 'achieving', 'defined', 'goals', '1', 'These', 'definitions', 'view', 'intelligence', 'in', 'terms', 'of', 'well', 'defined', 'problems', 'with', 'well', 'defined', 'solutions', 'where', 'both', 'the', 'difficulty', 'of', 'the', 'problem', 'and', 'the', 'performance', 'of', 'the', 'program', 'are', 'direct', 'measures', 'of', 'the', 'intelligence', 'of', 'the', 'machine', 'and', 'no', 'other', 'philosophical', 'discussion', 'is', 'required', 'or', 'may', 'not', 'even', 'be', 'possible', 'Another', 'definition', 'has', 'been', 'adopted', 'by', 'Google', '304', 'a', 'major', 'practitioner', 'in', 'the', 'field', 'of', 'AI', 'This', 'definition', 'stipulates', 'the', 'ability', 'of', 'systems', 'to', 'synthesize', 'information', 'as', 'the', 'manifestation', 'of', 'intelligence', 'similar', 'to', 'the', 'way', 'it', 'is', 'defined', 'in', 'biological', 'intelligence', 'Evaluating', 'approaches', 'to', 'AI', 'No', 'established', 'unifying', 'theory', 'or', 'paradigm', 'has', 'guided', 'AI', 'research', 'for', 'most', 'of', 'its', 'history', 'z', 'The', 'unprecedented', 'success', 'of', 'statistical', 'machine', 'learning', 'in', 'the', '2010s', 'eclipsed', 'all', 'other', 'approaches', 'so', 'much', 'so', 'that', 'some', 'sources', 'especially', 'in', 'the', 'business', 'world', 'use', 'the', 'term', 'artificial', 'intelligence', 'to', 'mean', 'machine', 'learning', 'with', 'neural', 'networks', 'This', 'approach', 'is', 'mostly', 'sub', 'symbolic', 'soft', 'and', 'narrow', 'Critics', 'argue', 'that', 'these', 'questions', 'may', 'have', 'to', 'be', 'revisited', 'by', 'future', 'generations', 'of', 'AI', 'researchers', 'Symbolic', 'AI', 'and', 'its', 'limits', 'Symbolic', 'AI', 'or', 'GOFAI', '306', 'simulated', 'the', 'high', 'level', 'conscious', 'reasoning', 'that', 'people', 'use', 'when', 'they', 'solve', 'puzzles', 'express', 'legal', 'reasoning', 'and', 'do', 'mathematics', 'They', 'were', 'highly', 'successful', 'at', 'intelligent', 'tasks', 'such', 'as', 'algebra', 'or', 'IQ', 'tests', 'In', 'the', '1960s', 'Newell', 'and', 'Simon', 'proposed', 'the', 'physical', 'symbol', 'systems', 'hypothesis', 'A', 'physical', 'symbol', 'system', 'has', 'the', 'necessary', 'and', 'sufficient', 'means', 'of', 'general', 'intelligent', 'action', '307', 'However', 'the', 'symbolic', 'approach', 'failed', 'on', 'many', 'tasks', 'that', 'humans', 'solve', 'easily', 'such', 'as', 'learning', 'recognizing', 'an', 'object', 'or', 'commonsense', 'reasoning', 'Moravec', 's', 'paradox', 'is', 'the', 'discovery', 'that', 'high', 'level', 'intelligent', 'tasks', 'were', 'easy', 'for', 'AI', 'but', 'low', 'level', 'instinctive', 'tasks', 'were', 'extremely', 'difficult', '308', 'Philosopher', 'Hubert', 'Dreyfus', 'had', 'argued', 'since', 'the', '1960s', 'that', 'human', 'expertise', 'depends', 'on', 'unconscious', 'instinct', 'rather', 'than', 'conscious', 'symbol', 'manipulation', 'and', 'on', 'having', 'a', 'feel', 'for', 'the', 'situation', 'rather', 'than', 'explicit', 'symbolic', 'knowledge', '309', 'Although', 'his', 'arguments', 'had', 'been', 'ridiculed', 'and', 'ignored', 'when', 'they', 'were', 'first', 'presented', 'eventually', 'AI', 'research', 'came', 'to', 'agree', 'with', 'him', 'aa', '19', 'The', 'issue', 'is', 'not', 'resolved', 'sub', 'symbolic', 'reasoning', 'can', 'make', 'many', 'of', 'the', 'same', 'inscrutable', 'mistakes', 'that', 'human', 'intuition', 'does', 'such', 'as', 'algorithmic', 'bias', 'Critics', 'such', 'as', 'Noam', 'Chomsky', 'argue', 'continuing', 'research', 'into', 'symbolic', 'AI', 'will', 'still', 'be', 'necessary', 'to', 'attain', 'general', 'intelligence', '311', '312', 'in', 'part', 'because', 'sub', 'symbolic', 'AI', 'is', 'a', 'move', 'away', 'from', 'explainable', 'AI', 'it', 'can', 'be', 'difficult', 'or', 'impossible', 'to', 'understand', 'why', 'a', 'modern', 'statistical', 'AI', 'program', 'made', 'a', 'particular', 'decision', 'The', 'emerging', 'field', 'of', 'neuro', 'symbolic', 'artificial', 'intelligence', 'attempts', 'to', 'bridge', 'the', 'two', 'approaches', 'Neat', 'vs', 'scruffy', 'Main', 'article', 'Neats', 'and', 'scruffies', 'Neats', 'hope', 'that', 'intelligent', 'behavior', 'is', 'described', 'using', 'simple', 'elegant', 'principles', 'such', 'as', 'logic', 'optimization', 'or', 'neural', 'networks', 'Scruffies', 'expect', 'that', 'it', 'necessarily', 'requires', 'solving', 'a', 'large', 'number', 'of', 'unrelated', 'problems', 'Neats', 'defend', 'their', 'programs', 'with', 'theoretical', 'rigor', 'scruffies', 'rely', 'mainly', 'on', 'incremental', 'testing', 'to', 'see', 'if', 'they', 'work', 'This', 'issue', 'was', 'actively', 'discussed', 'in', 'the', '1970s', 'and', '1980s', '313', 'but', 'eventually', 'was', 'seen', 'as', 'irrelevant', 'Modern', 'AI', 'has', 'elements', 'of', 'both', 'Soft', 'vs', 'hard', 'computing', 'Main', 'article', 'Soft', 'computing', 'Finding', 'a', 'provably', 'correct', 'or', 'optimal', 'solution', 'is', 'intractable', 'for', 'many', 'important', 'problems', '18', 'Soft', 'computing', 'is', 'a', 'set', 'of', 'techniques', 'including', 'genetic', 'algorithms', 'fuzzy', 'logic', 'and', 'neural', 'networks', 'that', 'are', 'tolerant', 'of', 'imprecision', 'uncertainty', 'partial', 'truth', 'and', 'approximation', 'Soft', 'computing', 'was', 'introduced', 'in', 'the', 'late', '1980s', 'and', 'most', 'successful', 'AI', 'programs', 'in', 'the', '21st', 'century', 'are', 'examples', 'of', 'soft', 'computing', 'with', 'neural', 'networks', 'Narrow', 'vs', 'general', 'AI', 'Main', 'articles', 'Weak', 'artificial', 'intelligence', 'and', 'Artificial', 'general', 'intelligence', 'AI', 'researchers', 'are', 'divided', 'as', 'to', 'whether', 'to', 'pursue', 'the', 'goals', 'of', 'artificial', 'general', 'intelligence', 'and', 'superintelligence', 'directly', 'or', 'to', 'solve', 'as', 'many', 'specific', 'problems', 'as', 'possible', 'narrow', 'AI', 'in', 'hopes', 'these', 'solutions', 'will', 'lead', 'indirectly', 'to', 'the', 'field', 's', 'long', 'term', 'goals', '314', '315', 'General', 'intelligence', 'is', 'difficult', 'to', 'define', 'and', 'difficult', 'to', 'measure', 'and', 'modern', 'AI', 'has', 'had', 'more', 'verifiable', 'successes', 'by', 'focusing', 'on', 'specific', 'problems', 'with', 'specific', 'solutions', 'The', 'experimental', 'sub', 'field', 'of', 'artificial', 'general', 'intelligence', 'studies', 'this', 'area', 'exclusively', 'Machine', 'consciousness', 'sentience', 'and', 'mind', 'Main', 'articles', 'Philosophy', 'of', 'artificial', 'intelligence', 'and', 'Artificial', 'consciousness', 'The', 'philosophy', 'of', 'mind', 'does', 'not', 'know', 'whether', 'a', 'machine', 'can', 'have', 'a', 'mind', 'consciousness', 'and', 'mental', 'states', 'in', 'the', 'same', 'sense', 'that', 'human', 'beings', 'do', 'This', 'issue', 'considers', 'the', 'internal', 'experiences', 'of', 'the', 'machine', 'rather', 'than', 'its', 'external', 'behavior', 'Mainstream', 'AI', 'research', 'considers', 'this', 'issue', 'irrelevant', 'because', 'it', 'does', 'not', 'affect', 'the', 'goals', 'of', 'the', 'field', 'to', 'build', 'machines', 'that', 'can', 'solve', 'problems', 'using', 'intelligence', 'Russell', 'and', 'Norvig', 'add', 'that', 't', 'he', 'additional', 'project', 'of', 'making', 'a', 'machine', 'conscious', 'in', 'exactly', 'the', 'way', 'humans', 'are', 'is', 'not', 'one', 'that', 'we', 'are', 'equipped', 'to', 'take', 'on', '316', 'However', 'the', 'question', 'has', 'become', 'central', 'to', 'the', 'philosophy', 'of', 'mind', 'It', 'is', 'also', 'typically', 'the', 'central', 'question', 'at', 'issue', 'in', 'artificial', 'intelligence', 'in', 'fiction', 'Consciousness', 'Main', 'articles', 'Hard', 'problem', 'of', 'consciousness', 'and', 'Theory', 'of', 'mind', 'David', 'Chalmers', 'identified', 'two', 'problems', 'in', 'understanding', 'the', 'mind', 'which', 'he', 'named', 'the', 'hard', 'and', 'easy', 'problems', 'of', 'consciousness', '317', 'The', 'easy', 'problem', 'is', 'understanding', 'how', 'the', 'brain', 'processes', 'signals', 'makes', 'plans', 'and', 'controls', 'behavior', 'The', 'hard', 'problem', 'is', 'explaining', 'how', 'this', 'feels', 'or', 'why', 'it', 'should', 'feel', 'like', 'anything', 'at', 'all', 'assuming', 'we', 'are', 'right', 'in', 'thinking', 'that', 'it', 'truly', 'does', 'feel', 'like', 'something', 'Dennett', 's', 'consciousness', 'illusionism', 'says', 'this', 'is', 'an', 'illusion', 'While', 'human', 'information', 'processing', 'is', 'easy', 'to', 'explain', 'human', 'subjective', 'experience', 'is', 'difficult', 'to', 'explain', 'For', 'example', 'it', 'is', 'easy', 'to', 'imagine', 'a', 'color', 'blind', 'person', 'who', 'has', 'learned', 'to', 'identify', 'which', 'objects', 'in', 'their', 'field', 'of', 'view', 'are', 'red', 'but', 'it', 'is', 'not', 'clear', 'what', 'would', 'be', 'required', 'for', 'the', 'person', 'to', 'know', 'what', 'red', 'looks', 'like', '318', 'Computationalism', 'and', 'functionalism', 'Main', 'articles', 'Computational', 'theory', 'of', 'mind', 'Functionalism', 'philosophy', 'of', 'mind', 'and', 'Chinese', 'room', 'Computationalism', 'is', 'the', 'position', 'in', 'the', 'philosophy', 'of', 'mind', 'that', 'the', 'human', 'mind', 'is', 'an', 'information', 'processing', 'system', 'and', 'that', 'thinking', 'is', 'a', 'form', 'of', 'computing', 'Computationalism', 'argues', 'that', 'the', 'relationship', 'between', 'mind', 'and', 'body', 'is', 'similar', 'or', 'identical', 'to', 'the', 'relationship', 'between', 'software', 'and', 'hardware', 'and', 'thus', 'may', 'be', 'a', 'solution', 'to', 'the', 'mind', 'body', 'problem', 'This', 'philosophical', 'position', 'was', 'inspired', 'by', 'the', 'work', 'of', 'AI', 'researchers', 'and', 'cognitive', 'scientists', 'in', 'the', '1960s', 'and', 'was', 'originally', 'proposed', 'by', 'philosophers', 'Jerry', 'Fodor', 'and', 'Hilary', 'Putnam', '319', 'Philosopher', 'John', 'Searle', 'characterized', 'this', 'position', 'as', 'strong', 'AI', 'The', 'appropriately', 'programmed', 'computer', 'with', 'the', 'right', 'inputs', 'and', 'outputs', 'would', 'thereby', 'have', 'a', 'mind', 'in', 'exactly', 'the', 'same', 'sense', 'human', 'beings', 'have', 'minds', 'ab', 'Searle', 'counters', 'this', 'assertion', 'with', 'his', 'Chinese', 'room', 'argument', 'which', 'attempts', 'to', 'show', 'that', 'even', 'if', 'a', 'machine', 'perfectly', 'simulates', 'human', 'behavior', 'there', 'is', 'still', 'no', 'reason', 'to', 'suppose', 'it', 'also', 'has', 'a', 'mind', '323', 'AI', 'welfare', 'and', 'rights', 'It', 'is', 'difficult', 'or', 'impossible', 'to', 'reliably', 'evaluate', 'whether', 'an', 'advanced', 'AI', 'is', 'sentient', 'has', 'the', 'ability', 'to', 'feel', 'and', 'if', 'so', 'to', 'what', 'degree', '324', 'But', 'if', 'there', 'is', 'a', 'significant', 'chance', 'that', 'a', 'given', 'machine', 'can', 'feel', 'and', 'suffer', 'then', 'it', 'may', 'be', 'entitled', 'to', 'certain', 'rights', 'or', 'welfare', 'protection', 'measures', 'similarly', 'to', 'animals', '325', '326', 'Sapience', 'a', 'set', 'of', 'capacities', 'related', 'to', 'high', 'intelligence', 'such', 'as', 'discernment', 'or', 'self', 'awareness', 'may', 'provide', 'another', 'moral', 'basis', 'for', 'AI', 'rights', '325', 'Robot', 'rights', 'are', 'also', 'sometimes', 'proposed', 'as', 'a', 'practical', 'way', 'to', 'integrate', 'autonomous', 'agents', 'into', 'society', '327', 'In', '2017', 'the', 'European', 'Union', 'considered', 'granting', 'electronic', 'personhood', 'to', 'some', 'of', 'the', 'most', 'capable', 'AI', 'systems', 'Similarly', 'to', 'the', 'legal', 'status', 'of', 'companies', 'it', 'would', 'have', 'conferred', 'rights', 'but', 'also', 'responsibilities', '328', 'Critics', 'argued', 'in', '2018', 'that', 'granting', 'rights', 'to', 'AI', 'systems', 'would', 'downplay', 'the', 'importance', 'of', 'human', 'rights', 'and', 'that', 'legislation', 'should', 'focus', 'on', 'user', 'needs', 'rather', 'than', 'speculative', 'futuristic', 'scenarios', 'They', 'also', 'noted', 'that', 'robots', 'lacked', 'the', 'autonomy', 'to', 'take', 'part', 'to', 'society', 'on', 'their', 'own', '329', '330', 'Progress', 'in', 'AI', 'increased', 'interest', 'in', 'the', 'topic', 'Proponents', 'of', 'AI', 'welfare', 'and', 'rights', 'often', 'argue', 'that', 'AI', 'sentience', 'if', 'it', 'emerges', 'would', 'be', 'particularly', 'easy', 'to', 'deny', 'They', 'warn', 'that', 'this', 'may', 'be', 'a', 'moral', 'blind', 'spot', 'analogous', 'to', 'slavery', 'or', 'factory', 'farming', 'which', 'could', 'lead', 'to', 'large', 'scale', 'suffering', 'if', 'sentient', 'AI', 'is', 'created', 'and', 'carelessly', 'exploited', '326', '325', 'Future', 'Superintelligence', 'and', 'the', 'singularity', 'A', 'superintelligence', 'is', 'a', 'hypothetical', 'agent', 'that', 'would', 'possess', 'intelligence', 'far', 'surpassing', 'that', 'of', 'the', 'brightest', 'and', 'most', 'gifted', 'human', 'mind', '315', 'If', 'research', 'into', 'artificial', 'general', 'intelligence', 'produced', 'sufficiently', 'intelligent', 'software', 'it', 'might', 'be', 'able', 'to', 'reprogram', 'and', 'improve', 'itself', 'The', 'improved', 'software', 'would', 'be', 'even', 'better', 'at', 'improving', 'itself', 'leading', 'to', 'what', 'I', 'J', 'Good', 'called', 'an', 'intelligence', 'explosion', 'and', 'Vernor', 'Vinge', 'called', 'a', 'singularity', '331', 'However', 'technologies', 'cannot', 'improve', 'exponentially', 'indefinitely', 'and', 'typically', 'follow', 'an', 'S', 'shaped', 'curve', 'slowing', 'when', 'they', 'reach', 'the', 'physical', 'limits', 'of', 'what', 'the', 'technology', 'can', 'do', '332', 'Transhumanism', 'Robot', 'designer', 'Hans', 'Moravec', 'cyberneticist', 'Kevin', 'Warwick', 'and', 'inventor', 'Ray', 'Kurzweil', 'have', 'predicted', 'that', 'humans', 'and', 'machines', 'will', 'merge', 'in', 'the', 'future', 'into', 'cyborgs', 'that', 'are', 'more', 'capable', 'and', 'powerful', 'than', 'either', 'This', 'idea', 'called', 'transhumanism', 'has', 'roots', 'in', 'Aldous', 'Huxley', 'and', 'Robert', 'Ettinger', '333', 'Edward', 'Fredkin', 'argues', 'that', 'artificial', 'intelligence', 'is', 'the', 'next', 'stage', 'in', 'evolution', 'an', 'idea', 'first', 'proposed', 'by', 'Samuel', 'Butler', 's', 'Darwin', 'among', 'the', 'Machines', 'as', 'far', 'back', 'as', '1863', 'and', 'expanded', 'upon', 'by', 'George', 'Dyson', 'in', 'his', 'book', 'of', 'the', 'same', 'name', 'in', '1998', '334', 'In', 'fiction', 'Main', 'article', 'Artificial', 'intelligence', 'in', 'fiction', 'The', 'word', 'robot', 'itself', 'was', 'coined', 'by', 'Karel', 'Čapek', 'in', 'his', '1921', 'play', 'R', 'U', 'R', 'the', 'title', 'standing', 'for', 'Rossum', 's', 'Universal', 'Robots', 'Thought', 'capable', 'artificial', 'beings', 'have', 'appeared', 'as', 'storytelling', 'devices', 'since', 'antiquity', '335', 'and', 'have', 'been', 'a', 'persistent', 'theme', 'in', 'science', 'fiction', '336', 'A', 'common', 'trope', 'in', 'these', 'works', 'began', 'with', 'Mary', 'Shelley', 's', 'Frankenstein', 'where', 'a', 'human', 'creation', 'becomes', 'a', 'threat', 'to', 'its', 'masters', 'This', 'includes', 'such', 'works', 'as', 'Arthur', 'C', 'Clarke', 's', 'and', 'Stanley', 'Kubrick', 's', '2001', 'A', 'Space', 'Odyssey', 'both', '1968', 'with', 'HAL', '9000', 'the', 'murderous', 'computer', 'in', 'charge', 'of', 'the', 'Discovery', 'One', 'spaceship', 'as', 'well', 'as', 'The', 'Terminator', '1984', 'and', 'The', 'Matrix', '1999', 'In', 'contrast', 'the', 'rare', 'loyal', 'robots', 'such', 'as', 'Gort', 'from', 'The', 'Day', 'the', 'Earth', 'Stood', 'Still', '1951', 'and', 'Bishop', 'from', 'Aliens', '1986', 'are', 'less', 'prominent', 'in', 'popular', 'culture', '337', 'Isaac', 'Asimov', 'introduced', 'the', 'Three', 'Laws', 'of', 'Robotics', 'in', 'many', 'books', 'and', 'stories', 'most', 'notably', 'the', 'Multivac', 'series', 'about', 'a', 'super', 'intelligent', 'computer', 'of', 'the', 'same', 'name', 'Asimov', 's', 'laws', 'are', 'often', 'brought', 'up', 'during', 'lay', 'discussions', 'of', 'machine', 'ethics', '338', 'while', 'almost', 'all', 'artificial', 'intelligence', 'researchers', 'are', 'familiar', 'with', 'Asimov', 's', 'laws', 'through', 'popular', 'culture', 'they', 'generally', 'consider', 'the', 'laws', 'useless', 'for', 'many', 'reasons', 'one', 'of', 'which', 'is', 'their', 'ambiguity', '339', 'Several', 'works', 'use', 'AI', 'to', 'force', 'us', 'to', 'confront', 'the', 'fundamental', 'question', 'of', 'what', 'makes', 'us', 'human', 'showing', 'us', 'artificial', 'beings', 'that', 'have', 'the', 'ability', 'to', 'feel', 'and', 'thus', 'to', 'suffer', 'This', 'appears', 'in', 'Karel', 'Čapek', 's', 'R', 'U', 'R', 'the', 'films', 'A', 'I', 'Artificial', 'Intelligence', 'and', 'Ex', 'Machina', 'as', 'well', 'as', 'the', 'novel', 'Do', 'Androids', 'Dream', 'of', 'Electric', 'Sheep', 'by', 'Philip', 'K', 'Dick', 'Dick', 'considers', 'the', 'idea', 'that', 'our', 'understanding', 'of', 'human', 'subjectivity', 'is', 'altered', 'by', 'technology', 'created', 'with', 'artificial', 'intelligence', '340', 'See', 'also', 'Artificial', 'intelligence', 'detection', 'software', 'Software', 'to', 'detect', 'AI', 'generated', 'contentPages', 'displaying', 'short', 'descriptions', 'of', 'redirect', 'targets', 'Behavior', 'selection', 'algorithm', 'Algorithm', 'that', 'selects', 'actions', 'for', 'intelligent', 'agents', 'Business', 'process', 'automation', 'Technology', 'enabled', 'automation', 'of', 'complex', 'business', 'processes', 'Case', 'based', 'reasoning', 'Process', 'of', 'solving', 'new', 'problems', 'based', 'on', 'the', 'solutions', 'of', 'similar', 'past', 'problems', 'Computational', 'intelligence', 'Ability', 'of', 'a', 'computer', 'to', 'learn', 'a', 'specific', 'task', 'from', 'data', 'or', 'experimental', 'observation', 'Digital', 'immortality', 'Hypothetical', 'concept', 'of', 'storing', 'a', 'personality', 'in', 'digital', 'form', 'Emergent', 'algorithm', 'Algorithm', 'exhibiting', 'emergent', 'behavior', 'Female', 'gendering', 'of', 'AI', 'technologies', 'Gender', 'biases', 'in', 'digital', 'technologyPages', 'displaying', 'short', 'descriptions', 'of', 'redirect', 'targets', 'Glossary', 'of', 'artificial', 'intelligence', 'List', 'of', 'definitions', 'of', 'terms', 'and', 'concepts', 'commonly', 'used', 'in', 'the', 'study', 'of', 'artificial', 'intelligence', 'Intelligence', 'amplification', 'Use', 'of', 'information', 'technology', 'to', 'augment', 'human', 'intelligence', 'Mind', 'uploading', 'Hypothetical', 'process', 'of', 'digitally', 'emulating', 'a', 'brain', 'Robotic', 'process', 'automation', 'Form', 'of', 'business', 'process', 'automation', 'technology', 'Weak', 'artificial', 'intelligence', 'Form', 'of', 'artificial', 'intelligence', 'Wetware', 'computer', 'Computer', 'composed', 'of', 'organic', 'material', 'Explanatory', 'notes', 'a', 'b', 'This', 'list', 'of', 'intelligent', 'traits', 'is', 'based', 'on', 'the', 'topics', 'covered', 'by', 'the', 'major', 'AI', 'textbooks', 'including', 'Russell', 'Norvig', '2021', 'Luger', 'Stubblefield', '2004', 'Poole', 'Mackworth', 'Goebel', '1998', 'and', 'Nilsson', '1998', 'a', 'b', 'This', 'list', 'of', 'tools', 'is', 'based', 'on', 'the', 'topics', 'covered', 'by', 'the', 'major', 'AI', 'textbooks', 'including', 'Russell', 'Norvig', '2021', 'Luger', 'Stubblefield', '2004', 'Poole', 'Mackworth', 'Goebel', '1998', 'and', 'Nilsson', '1998', 'It', 'is', 'among', 'the', 'reasons', 'that', 'expert', 'systems', 'proved', 'to', 'be', 'inefficient', 'for', 'capturing', 'knowledge', '33', '34', 'Rational', 'agent', 'is', 'general', 'term', 'used', 'in', 'economics', 'philosophy', 'and', 'theoretical', 'artificial', 'intelligence', 'It', 'can', 'refer', 'to', 'anything', 'that', 'directs', 'its', 'behavior', 'to', 'accomplish', 'goals', 'such', 'as', 'a', 'person', 'an', 'animal', 'a', 'corporation', 'a', 'nation', 'or', 'in', 'the', 'case', 'of', 'AI', 'a', 'computer', 'program', 'Alan', 'Turing', 'discussed', 'the', 'centrality', 'of', 'learning', 'as', 'early', 'as', '1950', 'in', 'his', 'classic', 'paper', 'Computing', 'Machinery', 'and', 'Intelligence', '45', 'In', '1956', 'at', 'the', 'original', 'Dartmouth', 'AI', 'summer', 'conference', 'Ray', 'Solomonoff', 'wrote', 'a', 'report', 'on', 'unsupervised', 'probabilistic', 'machine', 'learning', 'An', 'Inductive', 'Inference', 'Machine', '46', 'See', 'AI', 'winter', 'Machine', 'translation', 'and', 'the', 'ALPAC', 'report', 'of', '1966', 'Compared', 'with', 'symbolic', 'logic', 'formal', 'Bayesian', 'inference', 'is', 'computationally', 'expensive', 'For', 'inference', 'to', 'be', 'tractable', 'most', 'observations', 'must', 'be', 'conditionally', 'independent', 'of', 'one', 'another', 'AdSense', 'uses', 'a', 'Bayesian', 'network', 'with', 'over', '300', 'million', 'edges', 'to', 'learn', 'which', 'ads', 'to', 'serve', '95', 'Expectation', 'maximization', 'one', 'of', 'the', 'most', 'popular', 'algorithms', 'in', 'machine', 'learning', 'allows', 'clustering', 'in', 'the', 'presence', 'of', 'unknown', 'latent', 'variables', '97', 'Some', 'form', 'of', 'deep', 'neural', 'networks', 'without', 'a', 'specific', 'learning', 'algorithm', 'were', 'described', 'by', 'Alan', 'Turing', '1948', '116', 'Frank', 'Rosenblatt', '1957', '116', 'Karl', 'Steinbuch', 'and', 'Roger', 'David', 'Joseph', '1961', '117', 'Deep', 'or', 'recurrent', 'networks', 'that', 'learned', 'or', 'used', 'gradient', 'descent', 'were', 'developed', 'by', 'Ernst', 'Ising', 'and', 'Wilhelm', 'Lenz', '1925', '118', 'Oliver', 'Selfridge', '1959', '117', 'Alexey', 'Ivakhnenko', 'and', 'Valentin', 'Lapa', '1965', '118', 'Kaoru', 'Nakano', '1977', '119', 'Shun', 'Ichi', 'Amari', '1972', '119', 'John', 'Joseph', 'Hopfield', '1982', '119', 'Backpropagation', 'was', 'independently', 'discovered', 'by', 'Henry', 'J', 'Kelley', '1960', '116', 'Arthur', 'E', 'Bryson', '1962', '116', 'Stuart', 'Dreyfus', '1962', '116', 'Arthur', 'E', 'Bryson', 'and', 'Yu', 'Chi', 'Ho', '1969', '116', 'Seppo', 'Linnainmaa', '1970', '120', 'Paul', 'Werbos', '1974', '116', 'In', 'fact', 'backpropagation', 'and', 'gradient', 'descent', 'are', 'straight', 'forward', 'applications', 'of', 'Gottfried', 'Leibniz', 'chain', 'rule', 'in', 'calculus', '1676', '121', 'and', 'is', 'essentially', 'identical', 'for', 'one', 'layer', 'to', 'the', 'method', 'of', 'least', 'squares', 'developed', 'independently', 'by', 'Johann', 'Carl', 'Friedrich', 'Gauss', '1795', 'and', 'Adrien', 'Marie', 'Legendre', '1805', '122', 'There', 'are', 'probably', 'many', 'others', 'yet', 'to', 'be', 'discovered', 'by', 'historians', 'of', 'science', 'Geoffrey', 'Hinton', 'said', 'of', 'his', 'work', 'on', 'neural', 'networks', 'in', 'the', '1990s', 'our', 'labeled', 'datasets', 'were', 'thousands', 'of', 'times', 'too', 'small', 'And', 'our', 'computers', 'were', 'millions', 'of', 'times', 'too', 'slow', '123', 'Including', 'Jon', 'Kleinberg', 'Cornell', 'Sendhil', 'Mullainathan', 'University', 'of', 'Chicago', 'Cynthia', 'Chouldechova', 'Carnegie', 'Mellon', 'and', 'Sam', 'Corbett', 'Davis', 'Stanford', '177', 'Moritz', 'Hardt', 'a', 'director', 'at', 'the', 'Max', 'Planck', 'Institute', 'for', 'Intelligent', 'Systems', 'argues', 'that', 'machine', 'learning', 'is', 'fundamentally', 'the', 'wrong', 'tool', 'for', 'a', 'lot', 'of', 'domains', 'where', 'you', 're', 'trying', 'to', 'design', 'interventions', 'and', 'mechanisms', 'that', 'change', 'the', 'world', '182', 'When', 'the', 'law', 'was', 'passed', 'in', '2018', 'it', 'still', 'contained', 'a', 'form', 'of', 'this', 'provision', 'This', 'is', 'the', 'United', 'Nations', 'definition', 'and', 'includes', 'things', 'like', 'land', 'mines', 'as', 'well', '195', 'See', 'table', '4', '9', 'is', 'both', 'the', 'OECD', 'average', 'and', 'the', 'U', 'S', 'average', '207', 'Sometimes', 'called', 'a', 'robopocalypse', '215', 'Electronic', 'brain', 'was', 'the', 'term', 'used', 'by', 'the', 'press', 'around', 'this', 'time', '264', '265', 'Daniel', 'Crevier', 'wrote', 'the', 'conference', 'is', 'generally', 'recognized', 'as', 'the', 'official', 'birthdate', 'of', 'the', 'new', 'science', '269', 'Russell', 'and', 'Norvig', 'called', 'the', 'conference', 'the', 'inception', 'of', 'artificial', 'intelligence', '267', 'Russell', 'and', 'Norvig', 'wrote', 'for', 'the', 'next', '20', 'years', 'the', 'field', 'would', 'be', 'dominated', 'by', 'these', 'people', 'and', 'their', 'students', '270', 'Russell', 'and', 'Norvig', 'wrote', 'it', 'was', 'astonishing', 'whenever', 'a', 'computer', 'did', 'anything', 'kind', 'of', 'smartish', '271', 'The', 'programs', 'described', 'are', 'Arthur', 'Samuel', 's', 'checkers', 'program', 'for', 'the', 'IBM', '701', 'Daniel', 'Bobrow', 's', 'STUDENT', 'Newell', 'and', 'Simon', 's', 'Logic', 'Theorist', 'and', 'Terry', 'Winograd', 's', 'SHRDLU', 'Russell', 'and', 'Norvig', 'write', 'in', 'almost', 'all', 'cases', 'these', 'early', 'systems', 'failed', 'on', 'more', 'difficult', 'problems', '275', 'Embodied', 'approaches', 'to', 'AI', '282', 'were', 'championed', 'by', 'Hans', 'Moravec', '283', 'and', 'Rodney', 'Brooks', '284', 'and', 'went', 'by', 'many', 'names', 'Nouvelle', 'AI', '284', 'Developmental', 'robotics', '285', 'Matteo', 'Wong', 'wrote', 'in', 'The', 'Atlantic', 'Whereas', 'for', 'decades', 'computer', 'science', 'fields', 'such', 'as', 'natural', 'language', 'processing', 'computer', 'vision', 'and', 'robotics', 'used', 'extremely', 'different', 'methods', 'now', 'they', 'all', 'use', 'a', 'programming', 'method', 'called', 'deep', 'learning', 'As', 'a', 'result', 'their', 'code', 'and', 'approaches', 'have', 'become', 'more', 'similar', 'and', 'their', 'models', 'are', 'easier', 'to', 'integrate', 'into', 'one', 'another', '291', 'Jack', 'Clark', 'wrote', 'in', 'Bloomberg', 'After', 'a', 'half', 'decade', 'of', 'quiet', 'breakthroughs', 'in', 'artificial', 'intelligence', '2015', 'has', 'been', 'a', 'landmark', 'year', 'Computers', 'are', 'smarter', 'and', 'learning', 'faster', 'than', 'ever', 'and', 'noted', 'that', 'the', 'number', 'of', 'software', 'projects', 'that', 'use', 'machine', 'learning', 'at', 'Google', 'increased', 'from', 'a', 'sporadic', 'usage', 'in', '2012', 'to', 'more', 'than', '2', '700', 'projects', 'in', '2015', '293', 'Nils', 'Nilsson', 'wrote', 'in', '1983', 'Simply', 'put', 'there', 'is', 'wide', 'disagreement', 'in', 'the', 'field', 'about', 'what', 'AI', 'is', 'all', 'about', '305', 'Daniel', 'Crevier', 'wrote', 'that', 'time', 'has', 'proven', 'the', 'accuracy', 'and', 'perceptiveness', 'of', 'some', 'of', 'Dreyfus', 's', 'comments', 'Had', 'he', 'formulated', 'them', 'less', 'aggressively', 'constructive', 'actions', 'they', 'suggested', 'might', 'have', 'been', 'taken', 'much', 'earlier', '310', 'Searle', 'presented', 'this', 'definition', 'of', 'Strong', 'AI', 'in', '1999', '320', 'Searle', 's', 'original', 'formulation', 'was', 'The', 'appropriately', 'programmed', 'computer', 'really', 'is', 'a', 'mind', 'in', 'the', 'sense', 'that', 'computers', 'given', 'the', 'right', 'programs', 'can', 'be', 'literally', 'said', 'to', 'understand', 'and', 'have', 'other', 'cognitive', 'states', '321', 'Strong', 'AI', 'is', 'defined', 'similarly', 'by', 'Russell', 'and', 'Norvig', 'Stong', 'AI', 'the', 'assertion', 'that', 'machines', 'that', 'do', 'so', 'are', 'actually', 'thinking', 'as', 'opposed', 'to', 'simulating', 'thinking', '322', 'References', 'a', 'b', 'c', 'Russell', 'Norvig', '2021', 'pp', '1', '4', 'Google', '2016', 'AI', 'set', 'to', 'exceed', 'human', 'brain', 'power', 'Archived', '2008', '02', '19', 'at', 'the', 'Wayback', 'Machine', 'CNN', 'com', 'July', '26', '2006', 'Kaplan', 'Andreas', 'Haenlein', 'Michael', '2019', 'Siri', 'Siri', 'in', 'my', 'hand', 'Who', 's', 'the', 'fairest', 'in', 'the', 'land', 'On', 'the', 'interpretations', 'illustrations', 'and', 'implications', 'of', 'artificial', 'intelligence', 'Business', 'Horizons', '62', '15', '25', 'doi', '10', '1016', 'j', 'bushor', '2018', '08', '004', 'S2CID', '158433736', 'a', 'b', 'c', 'd', 'Copeland', 'J', 'ed', '2004', 'The', 'Essential', 'Turing', 'the', 'ideas', 'that', 'gave', 'birth', 'to', 'the', 'computer', 'age', 'Oxford', 'England', 'Clarendon', 'Press', 'ISBN', '0', '19', '825079', '7', 'a', 'b', 'Dartmouth', 'workshop', 'Russell', 'Norvig', '2021', 'p', '18', 'McCorduck', '2004', 'pp', '111', '136', 'NRC', '1999', 'pp', '200', '201', 'The', 'proposal', 'McCarthy', 'et', 'al', '1955', 'a', 'b', 'Successful', 'programs', 'the', '1960s', 'McCorduck', '2004', 'pp', '243', '252', 'Crevier', '1993', 'pp', '52', '107', 'Moravec', '1988', 'p', '9', 'Russell', 'Norvig', '2021', 'pp', '19', '21', 'a', 'b', 'Funding', 'initiatives', 'in', 'the', 'early', '1980s', 'Fifth', 'Generation', 'Project', 'Japan', 'Alvey', 'UK', 'Microelectronics', 'and', 'Computer', 'Technology', 'Corporation', 'US', 'Strategic', 'Computing', 'Initiative', 'US', 'McCorduck', '2004', 'pp', '426', '441', 'Crevier', '1993', 'pp', '161', '162', '197', '203', '211', '240', 'Russell', 'Norvig', '2021', 'p', '23', 'NRC', '1999', 'pp', '210', '211', 'Newquist', '1994', 'pp', '235', '248', 'a', 'b', 'First', 'AI', 'Winter', 'Lighthill', 'report', 'Mansfield', 'Amendment', 'Crevier', '1993', 'pp', '115', '117', 'Russell', 'Norvig', '2021', 'pp', '21', '22', 'NRC', '1999', 'pp', '212', '213', 'Howe', '1994', 'Newquist', '1994', 'pp', '189', '201', 'a', 'b', 'Second', 'AI', 'Winter', 'Russell', 'Norvig', '2021', 'p', '24', 'McCorduck', '2004', 'pp', '430', '435', 'Crevier', '1993', 'pp', '209', '210', 'NRC', '1999', 'pp', '214', '216', 'Newquist', '1994', 'pp', '301', '318', 'a', 'b', 'Deep', 'learning', 'revolution', 'AlexNet', 'Goldman', '2022', 'Russell', 'Norvig', '2021', 'p', '26', 'McKinsey', '2018', 'Toews', '2023', 'Frank', '2023', 'a', 'b', 'c', 'Artificial', 'general', 'intelligence', 'Russell', 'Norvig', '2021', 'pp', '32', '33', '1020', '1021', 'Proposal', 'for', 'the', 'modern', 'version', 'Pennachin', 'Goertzel', '2007', 'Warnings', 'of', 'overspecialization', 'in', 'AI', 'from', 'leading', 'researchers', 'Nilsson', '1995', 'McCarthy', '2007', 'Beal', 'Winston', '2009', 'Russell', 'Norvig', '2021', '1', '2', 'Problem', 'solving', 'puzzle', 'solving', 'game', 'playing', 'and', 'deduction', 'Russell', 'Norvig', '2021', 'chpt', '3', '5', 'Russell', 'Norvig', '2021', 'chpt', '6', 'constraint', 'satisfaction', 'Poole', 'Mackworth', 'Goebel', '1998', 'chpt', '2', '3', '7', '9', 'Luger', 'Stubblefield', '2004', 'chpt', '3', '4', '6', '8', 'Nilsson', '1998', 'chpt', '7', '12', 'Uncertain', 'reasoning', 'Russell', 'Norvig', '2021', 'chpt', '12', '18', 'Poole', 'Mackworth', 'Goebel', '1998', 'pp', '345', '395', 'Luger', 'Stubblefield', '2004', 'pp', '333', '381', 'Nilsson', '1998', 'chpt', '7', '12', 'a', 'b', 'c', 'Intractability', 'and', 'efficiency', 'and', 'the', 'combinatorial', 'explosion', 'Russell', 'Norvig', '2021', 'p', '21', 'a', 'b', 'c', 'Psychological', 'evidence', 'of', 'the', 'prevalence', 'of', 'sub', 'symbolic', 'reasoning', 'and', 'knowledge', 'Kahneman', '2011', 'Dreyfus', 'Dreyfus', '1986', 'Wason', 'Shapiro', '1966', 'Kahneman', 'Slovic', 'Tversky', '1982', 'Knowledge', 'representation', 'and', 'knowledge', 'engineering', 'Russell', 'Norvig', '2021', 'chpt', '10', 'Poole', 'Mackworth', 'Goebel', '1998', 'pp', '23', '46', '69', '81', '169', '233', '235', '277', '281', '298', '319', '345', 'Luger', 'Stubblefield', '2004', 'pp', '227', '243', 'Nilsson', '1998', 'chpt', '17', '1', '17', '4', '18', 'Smoliar', 'Zhang', '1994', 'Neumann', 'Möller', '2008', 'Kuperman', 'Reichley', 'Bailey', '2006', 'McGarry', '2005', 'Bertini', 'Del', 'Bimbo', 'Torniai', '2006', 'Russell', 'Norvig', '2021', 'pp', '272', 'Representing', 'categories', 'and', 'relations', 'Semantic', 'networks', 'description', 'logics', 'inheritance', 'including', 'frames', 'and', 'scripts', 'Russell', 'Norvig', '2021', '10', '2', '10', '5', 'Poole', 'Mackworth', 'Goebel', '1998', 'pp', '174', '177', 'Luger', 'Stubblefield', '2004', 'pp', '248', '258', 'Nilsson', '1998', 'chpt', '18', '3', 'Representing', 'events', 'and', 'time', 'Situation', 'calculus', 'event', 'calculus', 'fluent', 'calculus', 'including', 'solving', 'the', 'frame', 'problem', 'Russell', 'Norvig', '2021', '10', '3', 'Poole', 'Mackworth', 'Goebel', '1998', 'pp', '281', '298', 'Nilsson', '1998', 'chpt', '18', '2', 'Causal', 'calculus', 'Poole', 'Mackworth', 'Goebel', '1998', 'pp', '335', '337', 'Representing', 'knowledge', 'about', 'knowledge', 'Belief', 'calculus', 'modal', 'logics', 'Russell', 'Norvig', '2021', '10', '4', 'Poole', 'Mackworth', 'Goebel', '1998', 'pp', '275', '277', 'a', 'b', 'Default', 'reasoning', 'Frame', 'problem', 'default', 'logic', 'non', 'monotonic', 'logics', 'circumscription', 'closed', 'world', 'assumption', 'abduction', 'Russell', 'Norvig', '2021', '10', '6', 'Poole', 'Mackworth', 'Goebel', '1998', 'pp', '248', '256', '323', '335', 'Luger', 'Stubblefield', '2004', 'pp', '335', '363', 'Nilsson', '1998', '18', '3', '3', 'Poole', 'et', 'al', 'places', 'abduction', 'under', 'default', 'reasoning', 'Luger', 'et', 'al', 'places', 'this', 'under', 'uncertain', 'reasoning', 'a', 'b', 'Breadth', 'of', 'commonsense', 'knowledge', 'Lenat', 'Guha', '1989', 'Introduction', 'Crevier', '1993', 'pp', '113', '114', 'Moravec', '1988', 'p', '13', 'Russell', 'Norvig', '2021', 'pp', '241', '385', '982', 'qualification', 'problem', 'Newquist', '1994', 'p', '296', 'Crevier', '1993', 'pp', '204', '208', 'Russell', 'Norvig', '2021', 'p', '528', 'Automated', 'planning', 'Russell', 'Norvig', '2021', 'chpt', '11', 'Automated', 'decision', 'making', 'Decision', 'theory', 'Russell', 'Norvig', '2021', 'chpt', '16', '18', 'Classical', 'planning', 'Russell', 'Norvig', '2021', 'Section', '11', '2', 'Sensorless', 'or', 'conformant', 'planning', 'contingent', 'planning', 'replanning', 'a', 'k', 'a', 'online', 'planning', 'Russell', 'Norvig', '2021', 'Section', '11', '5', 'Uncertain', 'preferences', 'Russell', 'Norvig', '2021', 'Section', '16', '7', 'Inverse', 'reinforcement', 'learning', 'Russell', 'Norvig', '2021', 'Section', '22', '6', 'Information', 'value', 'theory', 'Russell', 'Norvig', '2021', 'Section', '16', '6', 'Markov', 'decision', 'process', 'Russell', 'Norvig', '2021', 'chpt', '17', 'Game', 'theory', 'and', 'multi', 'agent', 'decision', 'theory', 'Russell', 'Norvig', '2021', 'chpt', '18', 'Learning', 'Russell', 'Norvig', '2021', 'chpt', '19', '22', 'Poole', 'Mackworth', 'Goebel', '1998', 'pp', '397', '438', 'Luger', 'Stubblefield', '2004', 'pp', '385', '542', 'Nilsson', '1998', 'chpt', '3', '3', '10', '3', '17', '5', '20', 'Turing', '1950', 'Solomonoff', '1956', 'Unsupervised', 'learning', 'Russell', 'Norvig', '2021', 'pp', '653', 'definition', 'Russell', 'Norvig', '2021', 'pp', '738', '740', 'cluster', 'analysis', 'Russell', 'Norvig', '2021', 'pp', '846', '860', 'word', 'embedding', 'a', 'b', 'Supervised', 'learning', 'Russell', 'Norvig', '2021', '19', '2', 'Definition', 'Russell', 'Norvig', '2021', 'Chpt', '19', '20', 'Techniques', 'Reinforcement', 'learning', 'Russell', 'Norvig', '2021', 'chpt', '22', 'Luger', 'Stubblefield', '2004', 'pp', '442', '449', 'Transfer', 'learning', 'Russell', 'Norvig', '2021', 'pp', '281', 'The', 'Economist', '2016', 'Artificial', 'Intelligence', 'AI', 'What', 'Is', 'AI', 'and', 'How', 'Does', 'It', 'Work', 'Built', 'In', 'builtin', 'com', 'Retrieved', '30', 'October', '2023', 'Computational', 'learning', 'theory', 'Russell', 'Norvig', '2021', 'pp', '672', '674', 'Jordan', 'Mitchell', '2015', 'Natural', 'language', 'processing', 'NLP', 'Russell', 'Norvig', '2021', 'chpt', '23', '24', 'Poole', 'Mackworth', 'Goebel', '1998', 'pp', '91', '104', 'Luger', 'Stubblefield', '2004', 'pp', '591', '632', 'Subproblems', 'of', 'NLP', 'Russell', 'Norvig', '2021', 'pp', '849', '850', 'Russell', 'Norvig', '2021', 'pp', '856', '858', 'Dickson', '2022', 'Modern', 'statistical', 'and', 'deep', 'learning', 'approaches', 'to', 'NLP', 'Russell', 'Norvig', '2021', 'chpt', '24', 'Cambria', 'White', '2014', 'Vincent', '2019', 'Russell', 'Norvig', '2021', 'pp', '875', '878', 'Bushwick', '2023', 'Computer', 'vision', 'Russell', 'Norvig', '2021', 'chpt', '25', 'Nilsson', '1998', 'chpt', '6', 'Russell', 'Norvig', '2021', 'pp', '849', '850', 'Russell', 'Norvig', '2021', 'pp', '895', '899', 'Russell', 'Norvig', '2021', 'pp', '899', '901', 'Russell', 'Norvig', '2021', 'pp', '931', '938', 'MIT', 'AIL', '2014', 'Affective', 'computing', 'Thro', '1993', 'Edelson', '1991', 'Tao', 'Tan', '2005', 'Scassellati', '2002', 'Waddell', '2018', 'Poria', 'et', 'al', '2017', 'Search', 'algorithms', 'Russell', 'Norvig', '2021', 'Chpt', '3', '5', 'Poole', 'Mackworth', 'Goebel', '1998', 'pp', '113', '163', 'Luger', 'Stubblefield', '2004', 'pp', '79', '164', '193', '219', 'Nilsson', '1998', 'chpt', '7', '12', 'State', 'space', 'search', 'Russell', 'Norvig', '2021', 'chpt', '3', 'Russell', 'Norvig', '2021', '11', '2', 'Uninformed', 'searches', 'breadth', 'first', 'search', 'depth', 'first', 'search', 'and', 'general', 'state', 'space', 'search', 'Russell', 'Norvig', '2021', '3', '4', 'Poole', 'Mackworth', 'Goebel', '1998', 'pp', '113', '132', 'Luger', 'Stubblefield', '2004', 'pp', '79', '121', 'Nilsson', '1998', 'chpt', '8', 'Heuristic', 'or', 'informed', 'searches', 'e', 'g', 'greedy', 'best', 'first', 'and', 'A', 'Russell', 'Norvig', '2021', 's', '3', '5', 'Poole', 'Mackworth', 'Goebel', '1998', 'pp', '132', '147', 'Poole', 'Mackworth', '2017', '3', '6', 'Luger', 'Stubblefield', '2004', 'pp', '133', '150', 'Adversarial', 'search', 'Russell', 'Norvig', '2021', 'chpt', '5', 'Local', 'or', 'optimization', 'search', 'Russell', 'Norvig', '2021', 'chpt', '4', 'Singh', 'Chauhan', 'Nagesh', '18', 'December', '2020', 'Optimization', 'Algorithms', 'in', 'Neural', 'Networks', 'KDnuggets', 'Retrieved', '13', 'January', '2024', 'Evolutionary', 'computation', 'Russell', 'Norvig', '2021', '4', '1', '2', 'Merkle', 'Middendorf', '2013', 'Logic', 'Russell', 'Norvig', '2021', 'chpt', '6', '9', 'Luger', 'Stubblefield', '2004', 'pp', '35', '77', 'Nilsson', '1998', 'chpt', '13', '16', 'Propositional', 'logic', 'Russell', 'Norvig', '2021', 'chpt', '6', 'Luger', 'Stubblefield', '2004', 'pp', '45', '50', 'Nilsson', '1998', 'chpt', '13', 'First', 'order', 'logic', 'and', 'features', 'such', 'as', 'equality', 'Russell', 'Norvig', '2021', 'chpt', '7', 'Poole', 'Mackworth', 'Goebel', '1998', 'pp', '268', '275', 'Luger', 'Stubblefield', '2004', 'pp', '50', '62', 'Nilsson', '1998', 'chpt', '15', 'Logical', 'inference', 'Russell', 'Norvig', '2021', 'chpt', '10', 'logical', 'deduction', 'as', 'search', 'Russell', 'Norvig', '2021', '9', '3', '9', '4', 'Poole', 'Mackworth', 'Goebel', '1998', 'pp', '46', '52', 'Luger', 'Stubblefield', '2004', 'pp', '62', '73', 'Nilsson', '1998', 'chpt', '4', '2', '7', '2', 'Resolution', 'and', 'unification', 'Russell', 'Norvig', '2021', '7', '5', '2', '9', '2', '9', '5', 'Warren', 'D', 'H', 'Pereira', 'L', 'M', 'Pereira', 'F', '1977', 'Prolog', 'the', 'language', 'and', 'its', 'implementation', 'compared', 'with', 'Lisp', 'ACM', 'SIGPLAN', 'Notices', '12', '8', '109', '115', 'doi', '10', '1145', '872734', '806939', 'Fuzzy', 'logic', 'Russell', 'Norvig', '2021', 'pp', '214', '255', '459', 'Scientific', 'American', '1999', 'a', 'b', 'Stochastic', 'methods', 'for', 'uncertain', 'reasoning', 'Russell', 'Norvig', '2021', 'Chpt', '12', '18', 'and', '20', 'Poole', 'Mackworth', 'Goebel', '1998', 'pp', '345', '395', 'Luger', 'Stubblefield', '2004', 'pp', '165', '191', '333', '381', 'Nilsson', '1998', 'chpt', '19', 'decision', 'theory', 'and', 'decision', 'analysis', 'Russell', 'Norvig', '2021', 'Chpt', '16', '18', 'Poole', 'Mackworth', 'Goebel', '1998', 'pp', '381', '394', 'Information', 'value', 'theory', 'Russell', 'Norvig', '2021', '16', '6', 'Markov', 'decision', 'processes', 'and', 'dynamic', 'decision', 'networks', 'Russell', 'Norvig', '2021', 'chpt', '17', 'a', 'b', 'c', 'Stochastic', 'temporal', 'models', 'Russell', 'Norvig', '2021', 'Chpt', '14', 'Hidden', 'Markov', 'model', 'Russell', 'Norvig', '2021', '14', '3', 'Kalman', 'filters', 'Russell', 'Norvig', '2021', '14', '4', 'Dynamic', 'Bayesian', 'networks', 'Russell', 'Norvig', '2021', '14', '5', 'Game', 'theory', 'and', 'mechanism', 'design', 'Russell', 'Norvig', '2021', 'chpt', '18', 'Bayesian', 'networks', 'Russell', 'Norvig', '2021', '12', '5', '12', '6', '13', '4', '13', '5', '14', '3', '14', '5', '16', '5', '20', '2', '20', '3', 'Poole', 'Mackworth', 'Goebel', '1998', 'pp', '361', '381', 'Luger', 'Stubblefield', '2004', 'pp', '182', '190', '363', '379', 'Nilsson', '1998', 'chpt', '19', '3', '4', 'Domingos', '2015', 'chapter', '6', 'Bayesian', 'inference', 'algorithm', 'Russell', 'Norvig', '2021', '13', '3', '13', '5', 'Poole', 'Mackworth', 'Goebel', '1998', 'pp', '361', '381', 'Luger', 'Stubblefield', '2004', 'pp', '363', '379', 'Nilsson', '1998', 'chpt', '19', '4', '7', 'Domingos', '2015', 'p', '210', 'Bayesian', 'learning', 'and', 'the', 'expectation', 'maximization', 'algorithm', 'Russell', 'Norvig', '2021', 'Chpt', '20', 'Poole', 'Mackworth', 'Goebel', '1998', 'pp', '424', '433', 'Nilsson', '1998', 'chpt', '20', 'Domingos', '2015', 'p', '210', 'Bayesian', 'decision', 'theory', 'and', 'Bayesian', 'decision', 'networks', 'Russell', 'Norvig', '2021', '16', '5', 'Statistical', 'learning', 'methods', 'and', 'classifiers', 'Russell', 'Norvig', '2021', 'chpt', '20', 'Decision', 'trees', 'Russell', 'Norvig', '2021', '19', '3', 'Domingos', '2015', 'p', '88', 'Non', 'parameteric', 'learning', 'models', 'such', 'as', 'K', 'nearest', 'neighbor', 'and', 'support', 'vector', 'machines', 'Russell', 'Norvig', '2021', '19', '7', 'Domingos', '2015', 'p', '187', 'k', 'nearest', 'neighbor', 'Domingos', '2015', 'p', '88', 'kernel', 'methods', 'Domingos', '2015', 'p', '152', 'Naive', 'Bayes', 'classifier', 'Russell', 'Norvig', '2021', '12', '6', 'Domingos', '2015', 'p', '152', 'a', 'b', 'Neural', 'networks', 'Russell', 'Norvig', '2021', 'Chpt', '21', 'Domingos', '2015', 'Chapter', '4', 'Gradient', 'calculation', 'in', 'computational', 'graphs', 'backpropagation', 'automatic', 'differentiation', 'Russell', 'Norvig', '2021', '21', '2', 'Luger', 'Stubblefield', '2004', 'pp', '467', '474', 'Nilsson', '1998', 'chpt', '3', '3', 'Universal', 'approximation', 'theorem', 'Russell', 'Norvig', '2021', 'p', '752', 'The', 'theorem', 'Cybenko', '1988', 'Hornik', 'Stinchcombe', 'White', '1989', 'Feedforward', 'neural', 'networks', 'Russell', 'Norvig', '2021', '21', '1', 'Recurrent', 'neural', 'networks', 'Russell', 'Norvig', '2021', '21', '6', 'Perceptrons', 'Russell', 'Norvig', '2021', 'pp', '21', '22', '683', '22', 'a', 'b', 'Deep', 'learning', 'Russell', 'Norvig', '2021', 'Chpt', '21', 'Goodfellow', 'Bengio', 'Courville', '2016', 'Hinton', 'et', 'al', '2016', 'Schmidhuber', '2015', 'Convolutional', 'neural', 'networks', 'Russell', 'Norvig', '2021', '21', '3', 'Deng', 'Yu', '2014', 'pp', '199', '200', 'Ciresan', 'Meier', 'Schmidhuber', '2012', 'Russell', 'Norvig', '2021', 'p', '751', 'a', 'b', 'c', 'd', 'e', 'f', 'g', 'Russell', 'Norvig', '2021', 'p', '785', 'a', 'b', 'Schmidhuber', '2022', '5', 'a', 'b', 'Schmidhuber', '2022', '6', 'a', 'b', 'c', 'Schmidhuber', '2022', '7', 'Schmidhuber', '2022', '8', 'Schmidhuber', '2022', '2', 'Schmidhuber', '2022', '3', 'Quoted', 'in', 'Christian', '2020', 'p', '22', 'Smith', '2023', 'Explained', 'Generative', 'AI', '9', 'November', '2023', 'AI', 'Writing', 'and', 'Content', 'Creation', 'Tools', 'MIT', 'Sloan', 'Teaching', 'Learning', 'Technologies', 'Retrieved', '25', 'December', '2023', 'Marmouyet', '2023', 'Kobielus', '2019', 'Davenport', 'T', 'Kalakota', 'R', 'June', '2019', 'The', 'potential', 'for', 'artificial', 'intelligence', 'in', 'healthcare', 'Future', 'Healthc', 'J', '6', '2', '94', '98', 'doi', '10', '7861', 'futurehosp', '6', '2', '94', 'PMC', '6616181', 'PMID', '31363513', 'a', 'b', 'Bax', 'Monique', 'Thorpe', 'Jordan', 'Romanov', 'Valentin', 'December', '2023', 'The', 'future', 'of', 'personalized', 'cardiovascular', 'medicine', 'demands', '3D', 'and', '4D', 'printing', 'stem', 'cells', 'and', 'artificial', 'intelligence', 'Frontiers', 'in', 'Sensors', '4', 'doi', '10', '3389', 'fsens', '2023', '1294721', 'ISSN', '2673', '5067', 'Jumper', 'J', 'Evans', 'R', 'Pritzel', 'A', '2021', 'Highly', 'accurate', 'protein', 'structure', 'prediction', 'with', 'AlphaFold', 'Nature', '596', '7873', '583', '589', 'Bibcode', '2021Natur', '596', '583J', 'doi', '10', '1038', 's41586', '021', '03819', '2', 'PMC', '8371605', 'PMID', '34265844', 'AI', 'discovers', 'new', 'class', 'of', 'antibiotics', 'to', 'kill', 'drug', 'resistant', 'bacteria', '20', 'December', '2023', 'AI', 'speeds', 'up', 'drug', 'design', 'for', 'Parkinson', 's', 'ten', 'fold', 'Cambridge', 'University', '17', 'April', '2024', 'Horne', 'Robert', 'I', 'Andrzejewska', 'Ewa', 'A', 'Alam', 'Parvez', 'Brotzakis', 'Z', 'Faidon', 'Srivastava', 'Ankit', 'Aubert', 'Alice', 'Nowinska', 'Magdalena', 'Gregory', 'Rebecca', 'C', 'Staats', 'Roxine', 'Possenti', 'Andrea', 'Chia', 'Sean', 'Sormanni', 'Pietro', 'Ghetti', 'Bernardino', 'Caughey', 'Byron', 'Knowles', 'Tuomas', 'P', 'J', 'Vendruscolo', 'Michele', '17', 'April', '2024', 'Discovery', 'of', 'potent', 'inhibitors', 'of', 'α', 'synuclein', 'aggregation', 'using', 'structure', 'based', 'iterative', 'learning', 'Nature', 'Chemical', 'Biology', '20', '5', 'Nature', '634', '645', 'doi', '10', '1038', 's41589', '024', '01580', 'x', 'PMC', '11062903', 'PMID', '38632492', 'Grant', 'Eugene', 'F', 'Lardner', 'Rex', '25', 'July', '1952', 'The', 'Talk', 'of', 'the', 'Town', 'It', 'The', 'New', 'Yorker', 'ISSN', '0028', '792X', 'Retrieved', '28', 'January', '2024', 'Anderson', 'Mark', 'Robert', '11', 'May', '2017', 'Twenty', 'years', 'on', 'from', 'Deep', 'Blue', 'vs', 'Kasparov', 'how', 'a', 'chess', 'match', 'started', 'the', 'big', 'data', 'revolution', 'The', 'Conversation', 'Retrieved', '28', 'January', '2024', 'Markoff', 'John', '16', 'February', '2011', 'Computer', 'Wins', 'on', 'Jeopardy', 'Trivial', 'It', 's', 'Not', 'The', 'New', 'York', 'Times', 'ISSN', '0362', '4331', 'Retrieved', '28', 'January', '2024', 'Byford', 'Sam', '27', 'May', '2017', 'AlphaGo', 'retires', 'from', 'competitive', 'Go', 'after', 'defeating', 'world', 'number', 'one', '3', '0', 'The', 'Verge', 'Retrieved', '28', 'January', '2024', 'Brown', 'Noam', 'Sandholm', 'Tuomas', '30', 'August', '2019', 'Superhuman', 'AI', 'for', 'multiplayer', 'poker', 'Science', '365', '6456', '885', '890', 'Bibcode', '2019Sci', '365', '885B', 'doi', '10', '1126', 'science', 'aay2400', 'ISSN', '0036', '8075', 'PMID', '31296650', 'MuZero', 'Mastering', 'Go', 'chess', 'shogi', 'and', 'Atari', 'without', 'rules', 'Google', 'DeepMind', '23', 'December', '2020', 'Retrieved', '28', 'January', '2024', 'Sample', 'Ian', '30', 'October', '2019', 'AI', 'becomes', 'grandmaster', 'in', 'fiendishly', 'complex', 'StarCraft', 'II', 'The', 'Guardian', 'ISSN', '0261', '3077', 'Retrieved', '28', 'January', '2024', 'Wurman', 'P', 'R', 'Barrett', 'S', 'Kawamoto', 'K', '2022', 'Outracing', 'champion', 'Gran', 'Turismo', 'drivers', 'with', 'deep', 'reinforcement', 'learning', 'Nature', '602', '7896', '223', '228', 'Bibcode', '2022Natur', '602', '223W', 'doi', '10', '1038', 's41586', '021', '04357', '7', 'PMID', '35140384', 'a', 'b', 'c', 'Congressional', 'Research', 'Service', '2019', 'Artificial', 'Intelligence', 'and', 'National', 'Security', 'PDF', 'Washington', 'DC', 'Congressional', 'Research', 'Service', 'PD', 'notice', 'a', 'b', 'Slyusar', 'Vadym', '2019', 'Artificial', 'intelligence', 'as', 'the', 'basis', 'of', 'future', 'control', 'networks', 'ResearchGate', 'doi', '10', '13140', 'RG', '2', '2', '30247', '50087', 'Knight', 'Will', 'The', 'US', 'and', '30', 'Other', 'Nations', 'Agree', 'to', 'Set', 'Guardrails', 'for', 'Military', 'AI', 'Wired', 'ISSN', '1059', '1028', 'Retrieved', '24', 'January', '2024', 'Marcelline', 'Marco', '27', 'May', '2023', 'ChatGPT', 'Most', 'Americans', 'Know', 'About', 'It', 'But', 'Few', 'Actually', 'Use', 'the', 'AI', 'Chatbot', 'PCMag', 'Retrieved', '28', 'January', '2024', 'Lu', 'Donna', '31', 'March', '2023', 'Misinformation', 'mistakes', 'and', 'the', 'Pope', 'in', 'a', 'puffer', 'what', 'rapidly', 'evolving', 'AI', 'can', 'and', 'can', 't', 'do', 'The', 'Guardian', 'ISSN', '0261', '3077', 'Retrieved', '28', 'January', '2024', 'Hurst', 'Luke', '23', 'May', '2023', 'How', 'a', 'fake', 'image', 'of', 'a', 'Pentagon', 'explosion', 'shared', 'on', 'Twitter', 'caused', 'a', 'real', 'dip', 'on', 'Wall', 'Street', 'euronews', 'Retrieved', '28', 'January', '2024', 'Ransbotham', 'Sam', 'Kiron', 'David', 'Gerbert', 'Philipp', 'Reeves', 'Martin', '6', 'September', '2017', 'Reshaping', 'Business', 'With', 'Artificial', 'Intelligence', 'MIT', 'Sloan', 'Management', 'Review', 'Archived', 'from', 'the', 'original', 'on', '13', 'February', '2024', 'Simonite', '2016', 'Russell', 'Norvig', '2021', 'p', '987', 'Laskowski', '2023', 'GAO', '2022', 'Valinsky', '2019', 'Russell', 'Norvig', '2021', 'p', '991', 'Russell', 'Norvig', '2021', 'pp', '991', '992', 'Christian', '2020', 'p', '63', 'Vincent', '2022', 'Kopel', 'Matthew', 'Copyright', 'Services', 'Fair', 'Use', 'Cornell', 'University', 'Library', 'Retrieved', '26', 'April', '2024', 'Burgess', 'Matt', 'How', 'to', 'Stop', 'Your', 'Data', 'From', 'Being', 'Used', 'to', 'Train', 'AI', 'Wired', 'ISSN', '1059', '1028', 'Retrieved', '26', 'April', '2024', 'Reisner', '2023', 'Alter', 'Harris', '2023', 'Getting', 'the', 'Innovation', 'Ecosystem', 'Ready', 'for', 'AI', 'An', 'IP', 'policy', 'toolkit', 'PDF', 'WIPO', 'Nicas', '2018', 'Rainie', 'Lee', 'Keeter', 'Scott', 'Perrin', 'Andrew', '22', 'July', '2019', 'Trust', 'and', 'Distrust', 'in', 'America', 'Pew', 'Research', 'Center', 'Archived', 'from', 'the', 'original', 'on', '22', 'February', '2024', 'Williams', '2023', 'Taylor', 'Hern', '2023', 'a', 'b', 'Rose', '2023', 'CNA', '2019', 'Goffrey', '2008', 'p', '17', 'Berdahl', 'et', 'al', '2023', 'Goffrey', '2008', 'p', '17', 'Rose', '2023', 'Russell', 'Norvig', '2021', 'p', '995', 'Algorithmic', 'bias', 'and', 'Fairness', 'machine', 'learning', 'Russell', 'Norvig', '2021', 'section', '27', '3', '3', 'Christian', '2020', 'Fairness', 'Christian', '2020', 'p', '25', 'a', 'b', 'Russell', 'Norvig', '2021', 'p', '995', 'Grant', 'Hill', '2023', 'Larson', 'Angwin', '2016', 'Christian', '2020', 'p', '67', '70', 'Christian', '2020', 'pp', '67', '70', 'Russell', 'Norvig', '2021', 'pp', '993', '994', 'Russell', 'Norvig', '2021', 'p', '995', 'Lipartito', '2011', 'p', '36', 'Goodman', 'Flaxman', '2017', 'p', '6', 'Christian', '2020', 'pp', '39', '40', '65', 'Quoted', 'in', 'Christian', '2020', 'p', '65', 'Russell', 'Norvig', '2021', 'p', '994', 'Christian', '2020', 'pp', '40', '80', '81', 'Quoted', 'in', 'Christian', '2020', 'p', '80', 'Dockrill', '2022', 'Sample', '2017', 'Black', 'Box', 'AI', '16', 'June', '2023', 'Christian', '2020', 'p', '110', 'Christian', '2020', 'pp', '88', '91', 'Christian', '2020', 'p', '83', 'Russell', 'Norvig', '2021', 'p', '997', 'Christian', '2020', 'p', '91', 'Christian', '2020', 'p', '83', 'Verma', '2021', 'Rothman', '2020', 'Christian', '2020', 'pp', '105', '108', 'Christian', '2020', 'pp', '108', '112', 'Russell', 'Norvig', '2021', 'p', '989', 'a', 'b', 'Russell', 'Norvig', '2021', 'pp', '987', '990', 'Russell', 'Norvig', '2021', 'p', '988', 'Robitzski', '2018', 'Sainato', '2015', 'Harari', '2018', 'Buckley', 'Chris', 'Mozur', 'Paul', '22', 'May', '2019', 'How', 'China', 'Uses', 'High', 'Tech', 'Surveillance', 'to', 'Subdue', 'Minorities', 'The', 'New', 'York', 'Times', 'Security', 'lapse', 'exposed', 'a', 'Chinese', 'smart', 'city', 'surveillance', 'system', '3', 'May', '2019', 'Archived', 'from', 'the', 'original', 'on', '7', 'March', '2021', 'Retrieved', '14', 'September', '2020', 'Urbina', 'et', 'al', '2022', 'Metz', 'Cade', '10', 'July', '2023', 'In', 'the', 'Age', 'of', 'A', 'I', 'Tech', 's', 'Little', 'Guys', 'Need', 'Big', 'Friends', 'New', 'York', 'Times', 'a', 'b', 'E', 'McGaughey', 'Will', 'Robots', 'Automate', 'Your', 'Job', 'Away', 'Full', 'Employment', 'Basic', 'Income', 'and', 'Economic', 'Democracy', '2022', '51', '3', 'Industrial', 'Law', 'Journal', '511', '559', 'Archived', '27', 'May', '2023', 'at', 'the', 'Wayback', 'Machine', 'Ford', 'Colvin', '2015', 'McGaughey', '2022', 'IGM', 'Chicago', '2017', 'Arntz', 'Gregory', 'Zierahn', '2016', 'p', '33', 'Lohr', '2017', 'Frey', 'Osborne', '2017', 'Arntz', 'Gregory', 'Zierahn', '2016', 'p', '33', 'Zhou', 'Viola', '11', 'April', '2023', 'AI', 'is', 'already', 'taking', 'video', 'game', 'illustrators', 'jobs', 'in', 'China', 'Rest', 'of', 'World', 'Retrieved', '17', 'August', '2023', 'Carter', 'Justin', '11', 'April', '2023', 'China', 's', 'game', 'art', 'industry', 'reportedly', 'decimated', 'by', 'growing', 'AI', 'use', 'Game', 'Developer', 'Retrieved', '17', 'August', '2023', 'Morgenstern', '2015', 'Mahdawi', '2017', 'Thompson', '2014', 'Tarnoff', 'Ben', '4', 'August', '2023', 'Lessons', 'from', 'Eliza', 'The', 'Guardian', 'Weekly', 'pp', '34', '39', 'Cellan', 'Jones', '2014', 'Russell', 'Norvig', '2021', 'p', '1001', 'Bostrom', '2014', 'Russell', '2019', 'Bostrom', '2014', 'Müller', 'Bostrom', '2014', 'Bostrom', '2015', 'Harari', '2023', 'Müller', 'Bostrom', '2014', 'Leaders', 'concerns', 'about', 'the', 'existential', 'risks', 'of', 'AI', 'around', '2015', 'Rawlinson', '2015', 'Holley', '2015', 'Gibbs', '2014', 'Sainato', '2015', 'Valance', '2023', 'Taylor', 'Josh', '7', 'May', '2023', 'Rise', 'of', 'artificial', 'intelligence', 'is', 'inevitable', 'but', 'should', 'not', 'be', 'feared', 'father', 'of', 'AI', 'says', 'The', 'Guardian', 'Retrieved', '26', 'May', '2023', 'Colton', 'Emma', '7', 'May', '2023', 'Father', 'of', 'AI', 'says', 'tech', 'fears', 'misplaced', 'You', 'cannot', 'stop', 'it', 'Fox', 'News', 'Retrieved', '26', 'May', '2023', 'Jones', 'Hessie', '23', 'May', '2023', 'Juergen', 'Schmidhuber', 'Renowned', 'Father', 'Of', 'Modern', 'AI', 'Says', 'His', 'Life', 's', 'Work', 'Won', 't', 'Lead', 'To', 'Dystopia', 'Forbes', 'Retrieved', '26', 'May', '2023', 'McMorrow', 'Ryan', '19', 'December', '2023', 'Andrew', 'Ng', 'Do', 'we', 'think', 'the', 'world', 'is', 'better', 'off', 'with', 'more', 'or', 'less', 'intelligence', 'Financial', 'Times', 'Retrieved', '30', 'December', '2023', 'Levy', 'Steven', '22', 'December', '2023', 'How', 'Not', 'to', 'Be', 'Stupid', 'About', 'AI', 'With', 'Yann', 'LeCun', 'Wired', 'Retrieved', '30', 'December', '2023', 'Arguments', 'that', 'AI', 'is', 'not', 'an', 'imminent', 'risk', 'Brooks', '2014', 'Geist', '2015', 'Madrigal', '2015', 'Lee', '2014', 'a', 'b', 'Christian', '2020', 'pp', '67', '73', 'Yudkowsky', '2008', 'a', 'b', 'Anderson', 'Anderson', '2011', 'AAAI', '2014', 'Wallach', '2010', 'Russell', '2019', 'p', '173', 'Melton', 'Ashley', 'Stewart', 'Monica', 'Hugging', 'Face', 'CEO', 'says', 'he', 's', 'focused', 'on', 'building', 'a', 'sustainable', 'model', 'for', 'the', '4', '5', 'billion', 'open', 'source', 'AI', 'startup', 'Business', 'Insider', 'Retrieved', '14', 'April', '2024', 'cite', 'web', 'CS1', 'maint', 'multiple', 'names', 'authors', 'list', 'link', 'Wiggers', 'Kyle', '9', 'April', '2024', 'Google', 'open', 'sources', 'tools', 'to', 'support', 'AI', 'model', 'development', 'TechCrunch', 'Retrieved', '14', 'April', '2024', 'Heaven', 'Will', 'Douglas', '12', 'May', '2023', 'The', 'open', 'source', 'AI', 'boom', 'is', 'built', 'on', 'Big', 'Tech', 's', 'handouts', 'How', 'long', 'will', 'it', 'last', 'MIT', 'Technology', 'Review', 'Retrieved', '14', 'April', '2024', 'Brodsky', 'Sascha', '19', 'December', '2023', 'Mistral', 'AI', 's', 'New', 'Language', 'Model', 'Aims', 'for', 'Open', 'Source', 'Supremacy', 'AI', 'Business', 'Edwards', 'Benj', '22', 'February', '2024', 'Stability', 'announces', 'Stable', 'Diffusion', '3', 'a', 'next', 'gen', 'AI', 'image', 'generator', 'Ars', 'Technica', 'Retrieved', '14', 'April', '2024', 'Marshall', 'Matt', '29', 'January', '2024', 'How', 'enterprises', 'are', 'using', 'open', 'source', 'LLMs', '16', 'examples', 'VentureBeat', 'Piper', 'Kelsey', '2', 'February', '2024', 'Should', 'we', 'make', 'our', 'most', 'powerful', 'AI', 'models', 'open', 'source', 'to', 'all', 'Vox', 'Retrieved', '14', 'April', '2024', 'Alan', 'Turing', 'Institute', '2019', 'Understanding', 'artificial', 'intelligence', 'ethics', 'and', 'safety', 'PDF', 'Alan', 'Turing', 'Institute', '2023', 'AI', 'Ethics', 'and', 'Governance', 'in', 'Practice', 'PDF', 'Floridi', 'Luciano', 'Cowls', 'Josh', '23', 'June', '2019', 'A', 'Unified', 'Framework', 'of', 'Five', 'Principles', 'for', 'AI', 'in', 'Society', 'Harvard', 'Data', 'Science', 'Review', '1', '1', 'doi', '10', '1162', '99608f92', '8cd550d1', 'S2CID', '198775713', 'Buruk', 'Banu', 'Ekmekci', 'Perihan', 'Elif', 'Arda', 'Berna', '1', 'September', '2020', 'A', 'critical', 'perspective', 'on', 'guidelines', 'for', 'responsible', 'and', 'trustworthy', 'artificial', 'intelligence', 'Medicine', 'Health', 'Care', 'and', 'Philosophy', '23', '3', '387', '399', 'doi', '10', '1007', 's11019', '020', '09948', '1', 'ISSN', '1572', '8633', 'PMID', '32236794', 'S2CID', '214766800', 'Kamila', 'Manoj', 'Kumar', 'Jasrotia', 'Sahil', 'Singh', '1', 'January', '2023', 'Ethical', 'issues', 'in', 'the', 'development', 'of', 'artificial', 'intelligence', 'recognizing', 'the', 'risks', 'International', 'Journal', 'of', 'Ethics', 'and', 'Systems', 'ahead', 'of', 'print', 'ahead', 'of', 'print', 'doi', '10', '1108', 'IJOES', '05', '2023', '0107', 'ISSN', '2514', '9369', 'S2CID', '259614124', 'AI', 'Safety', 'Institute', 'releases', 'new', 'AI', 'safety', 'evaluations', 'platform', 'UK', 'Government', '10', 'May', '2024', 'Retrieved', '14', 'May', '2024', 'Regulation', 'of', 'AI', 'to', 'mitigate', 'risks', 'Berryhill', 'et', 'al', '2019', 'Barfield', 'Pagallo', '2018', 'Iphofen', 'Kritikos', '2019', 'Wirtz', 'Weyerer', 'Geyer', '2018', 'Buiten', '2019', 'Law', 'Library', 'of', 'Congress', 'U', 'S', 'Global', 'Legal', 'Research', 'Directorate', '2019', 'a', 'b', 'Vincent', '2023', 'Stanford', 'University', '2023', 'a', 'b', 'c', 'd', 'UNESCO', '2021', 'Kissinger', '2021', 'Altman', 'Brockman', 'Sutskever', '2023', 'VOA', 'News', '25', 'October', '2023', 'UN', 'Announces', 'Advisory', 'Body', 'on', 'Artificial', 'Intelligence', 'Edwards', '2023', 'Kasperowicz', '2023', 'Fox', 'News', '2023', 'Milmo', 'Dan', '3', 'November', '2023', 'Hope', 'or', 'Horror', 'The', 'great', 'AI', 'debate', 'dividing', 'its', 'pioneers', 'The', 'Guardian', 'Weekly', 'pp', '10', '12', 'The', 'Bletchley', 'Declaration', 'by', 'Countries', 'Attending', 'the', 'AI', 'Safety', 'Summit', '1', '2', 'November', '2023', 'GOV', 'UK', '1', 'November', '2023', 'Archived', 'from', 'the', 'original', 'on', '1', 'November', '2023', 'Retrieved', '2', 'November', '2023', 'Countries', 'agree', 'to', 'safe', 'and', 'responsible', 'development', 'of', 'frontier', 'AI', 'in', 'landmark', 'Bletchley', 'Declaration', 'GOV', 'UK', 'Press', 'release', 'Archived', 'from', 'the', 'original', 'on', '1', 'November', '2023', 'Retrieved', '1', 'November', '2023', 'Second', 'global', 'AI', 'summit', 'secures', 'safety', 'commitments', 'from', 'companies', 'Reuters', '21', 'May', '2024', 'Retrieved', '23', 'May', '2024', 'Frontier', 'AI', 'Safety', 'Commitments', 'AI', 'Seoul', 'Summit', '2024', 'gov', 'uk', '21', 'May', '2024', 'Archived', 'from', 'the', 'original', 'on', '23', 'May', '2024', 'Retrieved', '23', 'May', '2024', 'a', 'b', 'Russell', 'Norvig', '2021', 'p', '9', 'Google', 'books', 'ngram', 'AI', 's', 'immediate', 'precursors', 'McCorduck', '2004', 'pp', '51', '107', 'Crevier', '1993', 'pp', '27', '32', 'Russell', 'Norvig', '2021', 'pp', '8', '17', 'Moravec', '1988', 'p', '3', 'a', 'b', 'Russell', 'Norvig', '2021', 'p', '17', 'a', 'b', 'Turing', 's', 'original', 'publication', 'of', 'the', 'Turing', 'test', 'in', 'Computing', 'machinery', 'and', 'intelligence', 'Turing', '1950', 'Historical', 'influence', 'and', 'philosophical', 'implications', 'Haugeland', '1985', 'pp', '6', '9', 'Crevier', '1993', 'p', '24', 'McCorduck', '2004', 'pp', '70', '71', 'Russell', 'Norvig', '2021', 'pp', '2', '984', 'Crevier', '1993', 'pp', '47', '49', 'Russell', 'Norvig', '2003', 'p', '17', 'Russell', 'Norvig', '2003', 'p', '18', 'Newquist', '1994', 'pp', '86', '86', 'Simon', '1965', 'p', '96', 'quoted', 'in', 'Crevier', '1993', 'p', '109', 'Minsky', '1967', 'p', '2', 'quoted', 'in', 'Crevier', '1993', 'p', '109', 'Russell', 'Norvig', '2021', 'p', '21', 'Lighthill', '1973', 'NRC', '1999', 'pp', '212', '213', 'Russell', 'Norvig', '2021', 'p', '22', 'Expert', 'systems', 'Russell', 'Norvig', '2021', 'pp', '23', '292', 'Luger', 'Stubblefield', '2004', 'pp', '227', '331', 'Nilsson', '1998', 'chpt', '17', '4', 'McCorduck', '2004', 'pp', '327', '335', '434', '435', 'Crevier', '1993', 'pp', '145', '162', '197', '203', 'Newquist', '1994', 'pp', '155', '183', 'Russell', 'Norvig', '2021', 'p', '24', 'Nilsson', '1998', 'p', '7', 'McCorduck', '2004', 'pp', '454', '462', 'Moravec', '1988', 'a', 'b', 'Brooks', '1990', 'Developmental', 'robotics', 'Weng', 'et', 'al', '2001', 'Lungarella', 'et', 'al', '2003', 'Asada', 'et', 'al', '2009', 'Oudeyer', '2010', 'Russell', 'Norvig', '2021', 'p', '25', 'Crevier', '1993', 'pp', '214', '215', 'Russell', 'Norvig', '2021', 'pp', '24', '26', 'Russell', 'Norvig', '2021', 'p', '26', 'Formal', 'and', 'narrow', 'methods', 'adopted', 'in', 'the', '1990s', 'Russell', 'Norvig', '2021', 'pp', '24', '26', 'McCorduck', '2004', 'pp', '486', '487', 'AI', 'widely', 'used', 'in', 'the', 'late', '1990s', 'Kurzweil', '2005', 'p', '265', 'NRC', '1999', 'pp', '216', '222', 'Newquist', '1994', 'pp', '189', '201', 'Wong', '2023', 'Moore', 's', 'Law', 'and', 'AI', 'Russell', 'Norvig', '2021', 'pp', '14', '27', 'a', 'b', 'c', 'Clark', '2015b', 'Big', 'data', 'Russell', 'Norvig', '2021', 'p', '26', 'Sagar', 'Ram', '3', 'June', '2020', 'OpenAI', 'Releases', 'GPT', '3', 'The', 'Largest', 'Model', 'So', 'Far', 'Analytics', 'India', 'Magazine', 'Archived', 'from', 'the', 'original', 'on', '4', 'August', '2020', 'Retrieved', '15', 'March', '2023', 'DiFeliciantonio', '2023', 'Goswami', '2023', 'a', 'b', 'Turing', '1950', 'p', '1', 'Turing', '1950', 'Under', 'The', 'Argument', 'from', 'Consciousness', 'Russell', 'Norvig', '2021', 'p', '3', 'Maker', '2006', 'McCarthy', '1999', 'Minsky', '1986', 'What', 'Is', 'Artificial', 'Intelligence', 'AI', 'Google', 'Cloud', 'Platform', 'Archived', 'from', 'the', 'original', 'on', '31', 'July', '2023', 'Retrieved', '16', 'October', '2023', 'Nilsson', '1983', 'p', '10', 'Haugeland', '1985', 'pp', '112', '117', 'Physical', 'symbol', 'system', 'hypothesis', 'Newell', 'Simon', '1976', 'p', '116', 'Historical', 'significance', 'McCorduck', '2004', 'p', '153', 'Russell', 'Norvig', '2021', 'p', '19', 'Moravec', 's', 'paradox', 'Moravec', '1988', 'pp', '15', '16', 'Minsky', '1986', 'p', '29', 'Pinker', '2007', 'pp', '190', '191', 'Dreyfus', 'critique', 'of', 'AI', 'Dreyfus', '1972', 'Dreyfus', 'Dreyfus', '1986', 'Historical', 'significance', 'and', 'philosophical', 'implications', 'Crevier', '1993', 'pp', '120', '132', 'McCorduck', '2004', 'pp', '211', '239', 'Russell', 'Norvig', '2021', 'pp', '981', '982', 'Fearn', '2007', 'Chpt', '3', 'Crevier', '1993', 'p', '125', 'Langley', '2011', 'Katz', '2012', 'Neats', 'vs', 'scruffies', 'the', 'historic', 'debate', 'McCorduck', '2004', 'pp', '421', '424', '486', '489', 'Crevier', '1993', 'p', '168', 'Nilsson', '1983', 'pp', '10', '11', 'Russell', 'Norvig', '2021', 'p', '24', 'A', 'classic', 'example', 'of', 'the', 'scruffy', 'approach', 'to', 'intelligence', 'Minsky', '1986', 'A', 'modern', 'example', 'of', 'neat', 'AI', 'and', 'its', 'aspirations', 'in', 'the', '21st', 'century', 'Domingos', '2015', 'Pennachin', 'Goertzel', '2007', 'a', 'b', 'Roberts', '2016', 'Russell', 'Norvig', '2021', 'p', '986', 'Chalmers', '1995', 'Dennett', '1991', 'Horst', '2005', 'Searle', '1999', 'Searle', '1980', 'p', '1', 'Russell', 'Norvig', '2021', 'p', '9817', 'Searle', 's', 'Chinese', 'room', 'argument', 'Searle', '1980', 'Searle', 's', 'original', 'presentation', 'of', 'the', 'thought', 'experiment', 'Searle', '1999', 'Discussion', 'Russell', 'Norvig', '2021', 'pp', '985', 'McCorduck', '2004', 'pp', '443', '445', 'Crevier', '1993', 'pp', '269', '271', 'Leith', 'Sam', '7', 'July', '2022', 'Nick', 'Bostrom', 'How', 'can', 'we', 'be', 'certain', 'a', 'machine', 'isn', 't', 'conscious', 'The', 'Spectator', 'Retrieved', '23', 'February', '2024', 'a', 'b', 'c', 'Thomson', 'Jonny', '31', 'October', '2022', 'Why', 'don', 't', 'robots', 'have', 'rights', 'Big', 'Think', 'Retrieved', '23', 'February', '2024', 'a', 'b', 'Kateman', 'Brian', '24', 'July', '2023', 'AI', 'Should', 'Be', 'Terrified', 'of', 'Humans', 'Time', 'Retrieved', '23', 'February', '2024', 'Wong', 'Jeff', '10', 'July', '2023', 'What', 'leaders', 'need', 'to', 'know', 'about', 'robot', 'rights', 'Fast', 'Company', 'Hern', 'Alex', '12', 'January', '2017', 'Give', 'robots', 'personhood', 'status', 'EU', 'committee', 'argues', 'The', 'Guardian', 'ISSN', '0261', '3077', 'Retrieved', '23', 'February', '2024', 'Dovey', 'Dana', '14', 'April', '2018', 'Experts', 'Don', 't', 'Think', 'Robots', 'Should', 'Have', 'Rights', 'Newsweek', 'Retrieved', '23', 'February', '2024', 'Cuddy', 'Alice', '13', 'April', '2018', 'Robot', 'rights', 'violate', 'human', 'rights', 'experts', 'warn', 'EU', 'euronews', 'Retrieved', '23', 'February', '2024', 'The', 'Intelligence', 'explosion', 'and', 'technological', 'singularity', 'Russell', 'Norvig', '2021', 'pp', '1004', '1005', 'Omohundro', '2008', 'Kurzweil', '2005', 'I', 'J', 'Good', 's', 'intelligence', 'explosion', 'Good', '1965', 'Vernor', 'Vinge', 's', 'singularity', 'Vinge', '1993', 'Russell', 'Norvig', '2021', 'p', '1005', 'Transhumanism', 'Moravec', '1988', 'Kurzweil', '2005', 'Russell', 'Norvig', '2021', 'p', '1005', 'AI', 'as', 'evolution', 'Edward', 'Fredkin', 'is', 'quoted', 'in', 'McCorduck', '2004', 'p', '401', 'Butler', '1863', 'Dyson', '1998', 'AI', 'in', 'myth', 'McCorduck', '2004', 'pp', '4', '5', 'McCorduck', '2004', 'pp', '340', '400', 'Buttazzo', '2001', 'Anderson', '2008', 'McCauley', '2007', 'Galvan', '1997', 'AI', 'textbooks', 'The', 'two', 'most', 'widely', 'used', 'textbooks', 'in', '2023', 'See', 'the', 'Open', 'Syllabus', 'Russell', 'Stuart', 'J', 'Norvig', 'Peter', '2021', 'Artificial', 'Intelligence', 'A', 'Modern', 'Approach', '4th', 'ed', 'Hoboken', 'Pearson', 'ISBN', '978', '0134610993', 'LCCN', '20190474', 'Rich', 'Elaine', 'Knight', 'Kevin', 'Nair', 'Shivashankar', 'B', '2010', 'Artificial', 'Intelligence', '3rd', 'ed', 'New', 'Delhi', 'Tata', 'McGraw', 'Hill', 'India', 'ISBN', '978', '0070087705', 'These', 'were', 'the', 'four', 'of', 'the', 'most', 'widely', 'used', 'AI', 'textbooks', 'in', '2008', 'Luger', 'George', 'Stubblefield', 'William', '2004', 'Artificial', 'Intelligence', 'Structures', 'and', 'Strategies', 'for', 'Complex', 'Problem', 'Solving', '5th', 'ed', 'Benjamin', 'Cummings', 'ISBN', '978', '0', '8053', '4780', '7', 'Archived', 'from', 'the', 'original', 'on', '26', 'July', '2020', 'Retrieved', '17', 'December', '2019', 'Nilsson', 'Nils', '1998', 'Artificial', 'Intelligence', 'A', 'New', 'Synthesis', 'Morgan', 'Kaufmann', 'ISBN', '978', '1', '55860', '467', '4', 'Archived', 'from', 'the', 'original', 'on', '26', 'July', '2020', 'Retrieved', '18', 'November', '2019', 'Russell', 'Stuart', 'J', 'Norvig', 'Peter', '2003', 'Artificial', 'Intelligence', 'A', 'Modern', 'Approach', '2nd', 'ed', 'Upper', 'Saddle', 'River', 'New', 'Jersey', 'Prentice', 'Hall', 'ISBN', '0', '13', '790395', '2', 'Poole', 'David', 'Mackworth', 'Alan', 'Goebel', 'Randy', '1998', 'Computational', 'Intelligence', 'A', 'Logical', 'Approach', 'New', 'York', 'Oxford', 'University', 'Press', 'ISBN', '978', '0', '19', '510270', '3', 'Archived', 'from', 'the', 'original', 'on', '26', 'July', '2020', 'Retrieved', '22', 'August', '2020', 'Later', 'editions', 'Poole', 'David', 'Mackworth', 'Alan', '2017', 'Artificial', 'Intelligence', 'Foundations', 'of', 'Computational', 'Agents', '2nd', 'ed', 'Cambridge', 'University', 'Press', 'ISBN', '978', '1', '107', '19539', '4', 'Archived', 'from', 'the', 'original', 'on', '7', 'December', '2017', 'Retrieved', '6', 'December', '2017', 'History', 'of', 'AI', 'Crevier', 'Daniel', '1993', 'AI', 'The', 'Tumultuous', 'Search', 'for', 'Artificial', 'Intelligence', 'New', 'York', 'NY', 'BasicBooks', 'ISBN', '0', '465', '02997', '3', 'McCorduck', 'Pamela', '2004', 'Machines', 'Who', 'Think', '2nd', 'ed', 'Natick', 'MA', 'A', 'K', 'Peters', 'Ltd', 'ISBN', '1', '56881', '205', '1', 'Newquist', 'H', 'P', '1994', 'The', 'Brain', 'Makers', 'Genius', 'Ego', 'And', 'Greed', 'In', 'The', 'Quest', 'For', 'Machines', 'That', 'Think', 'New', 'York', 'Macmillan', 'SAMS', 'ISBN', '978', '0', '672', '30412', '5', 'Other', 'sources', 'AI', 'ML', 'in', 'Fusion', 'AI', 'ML', 'in', 'Fusion', 'video', 'lecture', 'Archived', '2', 'July', '2023', 'at', 'the', 'Wayback', 'Machine', 'AlphaGo', 'Google', 'DeepMind', 'Archived', 'from', 'the', 'original', 'on', '10', 'March', '2016', 'Alter', 'Alexandra', 'Harris', 'Elizabeth', 'A', '20', 'September', '2023', 'Franzen', 'Grisham', 'and', 'Other', 'Prominent', 'Authors', 'Sue', 'OpenAI', 'The', 'New', 'York', 'Times', 'Altman', 'Sam', 'Brockman', 'Greg', 'Sutskever', 'Ilya', '22', 'May', '2023', 'Governance', 'of', 'Superintelligence', 'openai', 'com', 'Archived', 'from', 'the', 'original', 'on', '27', 'May', '2023', 'Retrieved', '27', 'May', '2023', 'Anderson', 'Susan', 'Leigh', '2008', 'Asimov', 's', 'three', 'laws', 'of', 'robotics', 'and', 'machine', 'metaethics', 'AI', 'Society', '22', '4', '477', '493', 'doi', '10', '1007', 's00146', '007', '0094', '5', 'S2CID', '1809459', 'Anderson', 'Michael', 'Anderson', 'Susan', 'Leigh', '2011', 'Machine', 'Ethics', 'Cambridge', 'University', 'Press', 'Arntz', 'Melanie', 'Gregory', 'Terry', 'Zierahn', 'Ulrich', '2016', 'The', 'risk', 'of', 'automation', 'for', 'jobs', 'in', 'OECD', 'countries', 'A', 'comparative', 'analysis', 'OECD', 'Social', 'Employment', 'and', 'Migration', 'Working', 'Papers', '189', 'Asada', 'M', 'Hosoda', 'K', 'Kuniyoshi', 'Y', 'Ishiguro', 'H', 'Inui', 'T', 'Yoshikawa', 'Y', 'Ogino', 'M', 'Yoshida', 'C', '2009', 'Cognitive', 'developmental', 'robotics', 'a', 'survey', 'IEEE', 'Transactions', 'on', 'Autonomous', 'Mental', 'Development', '1', '1', '12', '34', 'doi', '10', '1109', 'tamd', '2009', '2021702', 'S2CID', '10168773', 'Ask', 'the', 'AI', 'experts', 'What', 's', 'driving', 'today', 's', 'progress', 'in', 'AI', 'McKinsey', 'Company', 'Archived', 'from', 'the', 'original', 'on', '13', 'April', '2018', 'Retrieved', '13', 'April', '2018', 'Barfield', 'Woodrow', 'Pagallo', 'Ugo', '2018', 'Research', 'handbook', 'on', 'the', 'law', 'of', 'artificial', 'intelligence', 'Cheltenham', 'UK', 'Edward', 'Elgar', 'Publishing', 'ISBN', '978', '1', '78643', '904', '8', 'OCLC', '1039480085', 'Beal', 'J', 'Winston', 'Patrick', '2009', 'The', 'New', 'Frontier', 'of', 'Human', 'Level', 'Artificial', 'Intelligence', 'IEEE', 'Intelligent', 'Systems', '24', '21', '24', 'doi', '10', '1109', 'MIS', '2009', '75', 'hdl', '1721', '1', '52357', 'S2CID', '32437713', 'Berdahl', 'Carl', 'Thomas', 'Baker', 'Lawrence', 'Mann', 'Sean', 'Osoba', 'Osonde', 'Girosi', 'Federico', '7', 'February', '2023', 'Strategies', 'to', 'Improve', 'the', 'Impact', 'of', 'Artificial', 'Intelligence', 'on', 'Health', 'Equity', 'Scoping', 'Review', 'JMIR', 'AI', '2', 'e42936', 'doi', '10', '2196', '42936', 'ISSN', '2817', '1705', 'PMC', '11041459', 'S2CID', '256681439', 'Berlinski', 'David', '2000', 'The', 'Advent', 'of', 'the', 'Algorithm', 'Harcourt', 'Books', 'ISBN', '978', '0', '15', '601391', '8', 'OCLC', '46890682', 'Archived', 'from', 'the', 'original', 'on', '26', 'July', '2020', 'Retrieved', '22', 'August', '2020', 'Berryhill', 'Jamie', 'Heang', 'Kévin', 'Kok', 'Clogher', 'Rob', 'McBride', 'Keegan', '2019', 'Hello', 'World', 'Artificial', 'Intelligence', 'and', 'its', 'Use', 'in', 'the', 'Public', 'Sector', 'PDF', 'Paris', 'OECD', 'Observatory', 'of', 'Public', 'Sector', 'Innovation', 'Archived', 'PDF', 'from', 'the', 'original', 'on', '20', 'December', '2019', 'Retrieved', '9', 'August', '2020', 'Bertini', 'M', 'Del', 'Bimbo', 'A', 'Torniai', 'C', '2006', 'Automatic', 'annotation', 'and', 'semantic', 'retrieval', 'of', 'video', 'sequences', 'using', 'multimedia', 'ontologies', 'MM', '06', 'Proceedings', 'of', 'the', '14th', 'ACM', 'international', 'conference', 'on', 'Multimedia', '14th', 'ACM', 'international', 'conference', 'on', 'Multimedia', 'Santa', 'Barbara', 'ACM', 'pp', '679', '682', 'Bostrom', 'Nick', '2014', 'Superintelligence', 'Paths', 'Dangers', 'Strategies', 'Oxford', 'University', 'Press', 'Bostrom', 'Nick', '2015', 'What', 'happens', 'when', 'our', 'computers', 'get', 'smarter', 'than', 'we', 'are', 'TED', 'conference', 'Archived', 'from', 'the', 'original', 'on', '25', 'July', '2020', 'Retrieved', '30', 'January', '2020', 'Brooks', 'Rodney', '10', 'November', '2014', 'artificial', 'intelligence', 'is', 'a', 'tool', 'not', 'a', 'threat', 'Archived', 'from', 'the', 'original', 'on', '12', 'November', '2014', 'Brooks', 'Rodney', '1990', 'Elephants', 'Don', 't', 'Play', 'Chess', 'PDF', 'Robotics', 'and', 'Autonomous', 'Systems', '6', '1', '2', '3', '15', 'CiteSeerX', '10', '1', '1', '588', '7539', 'doi', '10', '1016', 'S0921', '8890', '05', '80025', '9', 'Archived', 'PDF', 'from', 'the', 'original', 'on', '9', 'August', '2007', 'Buiten', 'Miriam', 'C', '2019', 'Towards', 'Intelligent', 'Regulation', 'of', 'Artificial', 'Intelligence', 'European', 'Journal', 'of', 'Risk', 'Regulation', '10', '1', '41', '59', 'doi', '10', '1017', 'err', '2019', '8', 'ISSN', '1867', '299X', 'Bushwick', 'Sophie', '16', 'March', '2023', 'What', 'the', 'New', 'GPT', '4', 'AI', 'Can', 'Do', 'Scientific', 'American', 'Butler', 'Samuel', '13', 'June', '1863', 'Darwin', 'among', 'the', 'Machines', 'Letters', 'to', 'the', 'Editor', 'The', 'Press', 'Christchurch', 'New', 'Zealand', 'Archived', 'from', 'the', 'original', 'on', '19', 'September', '2008', 'Retrieved', '16', 'October', '2014', 'via', 'Victoria', 'University', 'of', 'Wellington', 'Buttazzo', 'G', 'July', '2001', 'Artificial', 'consciousness', 'Utopia', 'or', 'real', 'possibility', 'Computer', '34', '7', '24', '30', 'doi', '10', '1109', '2', '933500', 'Cambria', 'Erik', 'White', 'Bebo', 'May', '2014', 'Jumping', 'NLP', 'Curves', 'A', 'Review', 'of', 'Natural', 'Language', 'Processing', 'Research', 'Review', 'Article', 'IEEE', 'Computational', 'Intelligence', 'Magazine', '9', '2', '48', '57', 'doi', '10', '1109', 'MCI', '2014', '2307227', 'S2CID', '206451986', 'Cellan', 'Jones', 'Rory', '2', 'December', '2014', 'Stephen', 'Hawking', 'warns', 'artificial', 'intelligence', 'could', 'end', 'mankind', 'BBC', 'News', 'Archived', 'from', 'the', 'original', 'on', '30', 'October', '2015', 'Retrieved', '30', 'October', '2015', 'Chalmers', 'David', '1995', 'Facing', 'up', 'to', 'the', 'problem', 'of', 'consciousness', 'Journal', 'of', 'Consciousness', 'Studies', '2', '3', '200', '219', 'Archived', 'from', 'the', 'original', 'on', '8', 'March', '2005', 'Retrieved', '11', 'October', '2018', 'Christian', 'Brian', '2020', 'The', 'Alignment', 'Problem', 'Machine', 'learning', 'and', 'human', 'values', 'W', 'W', 'Norton', 'Company', 'ISBN', '978', '0', '393', '86833', '3', 'OCLC', '1233266753', 'Ciresan', 'D', 'Meier', 'U', 'Schmidhuber', 'J', '2012', 'Multi', 'column', 'deep', 'neural', 'networks', 'for', 'image', 'classification', '2012', 'IEEE', 'Conference', 'on', 'Computer', 'Vision', 'and', 'Pattern', 'Recognition', 'pp', '3642', '3649', 'arXiv', '1202', '2745', 'doi', '10', '1109', 'cvpr', '2012', '6248110', 'ISBN', '978', '1', '4673', '1228', '8', 'S2CID', '2161592', 'Clark', 'Jack', '2015b', 'Why', '2015', 'Was', 'a', 'Breakthrough', 'Year', 'in', 'Artificial', 'Intelligence', 'Bloomberg', 'com', 'Archived', 'from', 'the', 'original', 'on', '23', 'November', '2016', 'Retrieved', '23', 'November', '2016', 'CNA', '12', 'January', '2019', 'Commentary', 'Bad', 'news', 'Artificial', 'intelligence', 'is', 'biased', 'CNA', 'Archived', 'from', 'the', 'original', 'on', '12', 'January', '2019', 'Retrieved', '19', 'June', '2020', 'Cybenko', 'G', '1988', 'Continuous', 'valued', 'neural', 'networks', 'with', 'two', 'hidden', 'layers', 'are', 'sufficient', 'Report', 'Department', 'of', 'Computer', 'Science', 'Tufts', 'University', 'Deng', 'L', 'Yu', 'D', '2014', 'Deep', 'Learning', 'Methods', 'and', 'Applications', 'PDF', 'Foundations', 'and', 'Trends', 'in', 'Signal', 'Processing', '7', '3', '4', '1', '199', 'doi', '10', '1561', '2000000039', 'Archived', 'PDF', 'from', 'the', 'original', 'on', '14', 'March', '2016', 'Retrieved', '18', 'October', '2014', 'Dennett', 'Daniel', '1991', 'Consciousness', 'Explained', 'The', 'Penguin', 'Press', 'ISBN', '978', '0', '7139', '9037', '9', 'DiFeliciantonio', 'Chase', '3', 'April', '2023', 'AI', 'has', 'already', 'changed', 'the', 'world', 'This', 'report', 'shows', 'how', 'San', 'Francisco', 'Chronicle', 'Archived', 'from', 'the', 'original', 'on', '19', 'June', '2023', 'Retrieved', '19', 'June', '2023', 'Dickson', 'Ben', '2', 'May', '2022', 'Machine', 'learning', 'What', 'is', 'the', 'transformer', 'architecture', 'TechTalks', 'Retrieved', '22', 'November', '2023', 'Dockrill', 'Peter', '27', 'June', '2022', 'Robots', 'With', 'Flawed', 'AI', 'Make', 'Sexist', 'And', 'Racist', 'Decisions', 'Experiment', 'Shows', 'Science', 'Alert', 'archived', 'from', 'the', 'original', 'on', '27', 'June', '2022', 'Domingos', 'Pedro', '2015', 'The', 'Master', 'Algorithm', 'How', 'the', 'Quest', 'for', 'the', 'Ultimate', 'Learning', 'Machine', 'Will', 'Remake', 'Our', 'World', 'Basic', 'Books', 'ISBN', '978', '0465065707', 'Dreyfus', 'Hubert', '1972', 'What', 'Computers', 'Can', 't', 'Do', 'New', 'York', 'MIT', 'Press', 'ISBN', '978', '0', '06', '011082', '6', 'Dreyfus', 'Hubert', 'Dreyfus', 'Stuart', '1986', 'Mind', 'over', 'Machine', 'The', 'Power', 'of', 'Human', 'Intuition', 'and', 'Expertise', 'in', 'the', 'Era', 'of', 'the', 'Computer', 'Oxford', 'Blackwell', 'ISBN', '978', '0', '02', '908060', '3', 'Archived', 'from', 'the', 'original', 'on', '26', 'July', '2020', 'Retrieved', '22', 'August', '2020', 'Dyson', 'George', '1998', 'Darwin', 'among', 'the', 'Machines', 'Allan', 'Lane', 'Science', 'ISBN', '978', '0', '7382', '0030', '9', 'Archived', 'from', 'the', 'original', 'on', '26', 'July', '2020', 'Retrieved', '22', 'August', '2020', 'Edelson', 'Edward', '1991', 'The', 'Nervous', 'System', 'New', 'York', 'Chelsea', 'House', 'ISBN', '978', '0', '7910', '0464', '7', 'Archived', 'from', 'the', 'original', 'on', '26', 'July', '2020', 'Retrieved', '18', 'November', '2019', 'Edwards', 'Benj', '17', 'May', '2023', 'Poll', 'AI', 'poses', 'risk', 'to', 'humanity', 'according', 'to', 'majority', 'of', 'Americans', 'Ars', 'Technica', 'Archived', 'from', 'the', 'original', 'on', '19', 'June', '2023', 'Retrieved', '19', 'June', '2023', 'Evans', 'Woody', '2015', 'Posthuman', 'Rights', 'Dimensions', 'of', 'Transhuman', 'Worlds', 'Teknokultura', '12', '2', 'doi', '10', '5209', 'rev_TK', '2015', 'v12', 'n2', '49072', 'Fearn', 'Nicholas', '2007', 'The', 'Latest', 'Answers', 'to', 'the', 'Oldest', 'Questions', 'A', 'Philosophical', 'Adventure', 'with', 'the', 'World', 's', 'Greatest', 'Thinkers', 'New', 'York', 'Grove', 'Press', 'ISBN', '978', '0', '8021', '1839', '4', 'Ford', 'Martin', 'Colvin', 'Geoff', '6', 'September', '2015', 'Will', 'robots', 'create', 'more', 'jobs', 'than', 'they', 'destroy', 'The', 'Guardian', 'Archived', 'from', 'the', 'original', 'on', '16', 'June', '2018', 'Retrieved', '13', 'January', '2018', 'Fox', 'News', '2023', 'Fox', 'News', 'Poll', 'PDF', 'Fox', 'News', 'Archived', 'PDF', 'from', 'the', 'original', 'on', '12', 'May', '2023', 'Retrieved', '19', 'June', '2023', 'Frank', 'Michael', '22', 'September', '2023', 'US', 'Leadership', 'in', 'Artificial', 'Intelligence', 'Can', 'Shape', 'the', '21st', 'Century', 'Global', 'Order', 'The', 'Diplomat', 'Retrieved', '8', 'December', '2023', 'Instead', 'the', 'United', 'States', 'has', 'developed', 'a', 'new', 'area', 'of', 'dominance', 'that', 'the', 'rest', 'of', 'the', 'world', 'views', 'with', 'a', 'mixture', 'of', 'awe', 'envy', 'and', 'resentment', 'artificial', 'intelligence', 'From', 'AI', 'models', 'and', 'research', 'to', 'cloud', 'computing', 'and', 'venture', 'capital', 'U', 'S', 'companies', 'universities', 'and', 'research', 'labs', 'and', 'their', 'affiliates', 'in', 'allied', 'countries', 'appear', 'to', 'have', 'an', 'enormous', 'lead', 'in', 'both', 'developing', 'cutting', 'edge', 'AI', 'and', 'commercializing', 'it', 'The', 'value', 'of', 'U', 'S', 'venture', 'capital', 'investments', 'in', 'AI', 'start', 'ups', 'exceeds', 'that', 'of', 'the', 'rest', 'of', 'the', 'world', 'combined', 'Frey', 'Carl', 'Benedikt', 'Osborne', 'Michael', 'A', '1', 'January', '2017', 'The', 'future', 'of', 'employment', 'How', 'susceptible', 'are', 'jobs', 'to', 'computerisation', 'Technological', 'Forecasting', 'and', 'Social', 'Change', '114', '254', '280', 'CiteSeerX', '10', '1', '1', '395', '416', 'doi', '10', '1016', 'j', 'techfore', '2016', '08', '019', 'ISSN', '0040', '1625', 'From', 'not', 'working', 'to', 'neural', 'networking', 'The', 'Economist', '2016', 'Archived', 'from', 'the', 'original', 'on', '31', 'December', '2016', 'Retrieved', '26', 'April', '2018', 'Galvan', 'Jill', '1', 'January', '1997', 'Entering', 'the', 'Posthuman', 'Collective', 'in', 'Philip', 'K', 'Dick', 's', 'Do', 'Androids', 'Dream', 'of', 'Electric', 'Sheep', 'Science', 'Fiction', 'Studies', '24', '3', '413', '429', 'JSTOR', '4240644', 'Geist', 'Edward', 'Moore', '9', 'August', '2015', 'Is', 'artificial', 'intelligence', 'really', 'an', 'existential', 'threat', 'to', 'humanity', 'Bulletin', 'of', 'the', 'Atomic', 'Scientists', 'Archived', 'from', 'the', 'original', 'on', '30', 'October', '2015', 'Retrieved', '30', 'October', '2015', 'Gertner', 'Jon', '18', 'July', '2023', 'Wikipedia', 's', 'Moment', 'of', 'Truth', 'Can', 'the', 'online', 'encyclopedia', 'help', 'teach', 'A', 'I', 'chatbots', 'to', 'get', 'their', 'facts', 'right', 'without', 'destroying', 'itself', 'in', 'the', 'process', 'comment', 'The', 'New', 'York', 'Times', 'Archived', 'from', 'the', 'original', 'on', '18', 'July', '2023', 'Retrieved', '19', 'July', '2023', 'Gibbs', 'Samuel', '27', 'October', '2014', 'Elon', 'Musk', 'artificial', 'intelligence', 'is', 'our', 'biggest', 'existential', 'threat', 'The', 'Guardian', 'Archived', 'from', 'the', 'original', 'on', '30', 'October', '2015', 'Retrieved', '30', 'October', '2015', 'Goffrey', 'Andrew', '2008', 'Algorithm', 'In', 'Fuller', 'Matthew', 'ed', 'Software', 'studies', 'a', 'lexicon', 'Cambridge', 'Mass', 'MIT', 'Press', 'pp', '15', '20', 'ISBN', '978', '1', '4356', '4787', '9', 'Goldman', 'Sharon', '14', 'September', '2022', '10', 'years', 'later', 'deep', 'learning', 'revolution', 'rages', 'on', 'say', 'AI', 'pioneers', 'Hinton', 'LeCun', 'and', 'Li', 'VentureBeat', 'Retrieved', '8', 'December', '2023', 'Good', 'I', 'J', '1965', 'Speculations', 'Concerning', 'the', 'First', 'Ultraintelligent', 'Machine', 'Goodfellow', 'Ian', 'Bengio', 'Yoshua', 'Courville', 'Aaron', '2016', 'Deep', 'Learning', 'MIT', 'Press', 'archived', 'from', 'the', 'original', 'on', '16', 'April', '2016', 'retrieved', '12', 'November', '2017', 'Goodman', 'Bryce', 'Flaxman', 'Seth', '2017', 'EU', 'regulations', 'on', 'algorithmic', 'decision', 'making', 'and', 'a', 'right', 'to', 'explanation', 'AI', 'Magazine', '38', '3', '50', 'arXiv', '1606', '08813', 'doi', '10', '1609', 'aimag', 'v38i3', '2741', 'S2CID', '7373959', 'Government', 'Accountability', 'Office', '13', 'September', '2022', 'Consumer', 'Data', 'Increasing', 'Use', 'Poses', 'Risks', 'to', 'Privacy', 'gao', 'gov', 'Report', 'Grant', 'Nico', 'Hill', 'Kashmir', '22', 'May', '2023', 'Google', 's', 'Photo', 'App', 'Still', 'Can', 't', 'Find', 'Gorillas', 'And', 'Neither', 'Can', 'Apple', 's', 'The', 'New', 'York', 'Times', 'Goswami', 'Rohan', '5', 'April', '2023', 'Here', 's', 'where', 'the', 'A', 'I', 'jobs', 'are', 'CNBC', 'Archived', 'from', 'the', 'original', 'on', '19', 'June', '2023', 'Retrieved', '19', 'June', '2023', 'Harari', 'Yuval', 'Noah', 'October', '2018', 'Why', 'Technology', 'Favors', 'Tyranny', 'The', 'Atlantic', 'Archived', 'from', 'the', 'original', 'on', '25', 'September', '2021', 'Retrieved', '23', 'September', '2021', 'Harari', 'Yuval', 'Noah', '2023', 'AI', 'and', 'the', 'future', 'of', 'humanity', 'YouTube', 'Haugeland', 'John', '1985', 'Artificial', 'Intelligence', 'The', 'Very', 'Idea', 'Cambridge', 'Mass', 'MIT', 'Press', 'ISBN', '978', '0', '262', '08153', '5', 'Henderson', 'Mark', '24', 'April', '2007', 'Human', 'rights', 'for', 'robots', 'We', 're', 'getting', 'carried', 'away', 'The', 'Times', 'Online', 'London', 'Archived', 'from', 'the', 'original', 'on', '31', 'May', '2014', 'Retrieved', '31', 'May', '2014', 'Hinton', 'G', 'Deng', 'L', 'Yu', 'D', 'Dahl', 'G', 'Mohamed', 'A', 'Jaitly', 'N', 'Senior', 'A', 'Vanhoucke', 'V', 'Nguyen', 'P', 'Sainath', 'T', 'Kingsbury', 'B', '2012', 'Deep', 'Neural', 'Networks', 'for', 'Acoustic', 'Modeling', 'in', 'Speech', 'Recognition', 'The', 'shared', 'views', 'of', 'four', 'research', 'groups', 'IEEE', 'Signal', 'Processing', 'Magazine', '29', '6', '82', '97', 'Bibcode', '2012ISPM', '29', '82H', 'doi', '10', '1109', 'msp', '2012', '2205597', 'S2CID', '206485943', 'Holley', 'Peter', '28', 'January', '2015', 'Bill', 'Gates', 'on', 'dangers', 'of', 'artificial', 'intelligence', 'I', 'don', 't', 'understand', 'why', 'some', 'people', 'are', 'not', 'concerned', 'The', 'Washington', 'Post', 'ISSN', '0190', '8286', 'Archived', 'from', 'the', 'original', 'on', '30', 'October', '2015', 'Retrieved', '30', 'October', '2015', 'Hornik', 'Kurt', 'Stinchcombe', 'Maxwell', 'White', 'Halbert', '1989', 'Multilayer', 'Feedforward', 'Networks', 'are', 'Universal', 'Approximators', 'PDF', 'Neural', 'Networks', 'Vol', '2', 'Pergamon', 'Press', 'pp', '359', '366', 'Horst', 'Steven', '2005', 'The', 'Computational', 'Theory', 'of', 'Mind', 'The', 'Stanford', 'Encyclopedia', 'of', 'Philosophy', 'Archived', 'from', 'the', 'original', 'on', '6', 'March', '2016', 'Retrieved', '7', 'March', '2016', 'Howe', 'J', 'November', '1994', 'Artificial', 'Intelligence', 'at', 'Edinburgh', 'University', 'a', 'Perspective', 'Archived', 'from', 'the', 'original', 'on', '15', 'May', '2007', 'Retrieved', '30', 'August', '2007', 'IGM', 'Chicago', '30', 'June', '2017', 'Robots', 'and', 'Artificial', 'Intelligence', 'www', 'igmchicago', 'org', 'Archived', 'from', 'the', 'original', 'on', '1', 'May', '2019', 'Retrieved', '3', 'July', '2019', 'Iphofen', 'Ron', 'Kritikos', 'Mihalis', '3', 'January', '2019', 'Regulating', 'artificial', 'intelligence', 'and', 'robotics', 'ethics', 'by', 'design', 'in', 'a', 'digital', 'society', 'Contemporary', 'Social', 'Science', '16', '2', '170', '184', 'doi', '10', '1080', '21582041', '2018', '1563803', 'ISSN', '2158', '2041', 'S2CID', '59298502', 'Jordan', 'M', 'I', 'Mitchell', 'T', 'M', '16', 'July', '2015', 'Machine', 'learning', 'Trends', 'perspectives', 'and', 'prospects', 'Science', '349', '6245', '255', '260', 'Bibcode', '2015Sci', '349', '255J', 'doi', '10', '1126', 'science', 'aaa8415', 'PMID', '26185243', 'S2CID', '677218', 'Kahneman', 'Daniel', '2011', 'Thinking', 'Fast', 'and', 'Slow', 'Macmillan', 'ISBN', '978', '1', '4299', '6935', '2', 'Archived', 'from', 'the', 'original', 'on', '15', 'March', '2023', 'Retrieved', '8', 'April', '2012', 'Kahneman', 'Daniel', 'Slovic', 'D', 'Tversky', 'Amos', '1982', 'Judgment', 'under', 'uncertainty', 'Heuristics', 'and', 'biases', 'Science', '185', '4157', 'New', 'York', 'Cambridge', 'University', 'Press', '1124', '1131', 'Bibcode', '1974Sci', '185', '1124T', 'doi', '10', '1126', 'science', '185', '4157', '1124', 'ISBN', '978', '0', '521', '28414', '1', 'PMID', '17835457', 'S2CID', '143452957', 'Kasperowicz', 'Peter', '1', 'May', '2023', 'Regulate', 'AI', 'GOP', 'much', 'more', 'skeptical', 'than', 'Dems', 'that', 'government', 'can', 'do', 'it', 'right', 'poll', 'Fox', 'News', 'Archived', 'from', 'the', 'original', 'on', '19', 'June', '2023', 'Retrieved', '19', 'June', '2023', 'Katz', 'Yarden', '1', 'November', '2012', 'Noam', 'Chomsky', 'on', 'Where', 'Artificial', 'Intelligence', 'Went', 'Wrong', 'The', 'Atlantic', 'Archived', 'from', 'the', 'original', 'on', '28', 'February', '2019', 'Retrieved', '26', 'October', '2014', 'Kismet', 'MIT', 'Artificial', 'Intelligence', 'Laboratory', 'Humanoid', 'Robotics', 'Group', 'Archived', 'from', 'the', 'original', 'on', '17', 'October', '2014', 'Retrieved', '25', 'October', '2014', 'Kissinger', 'Henry', '1', 'November', '2021', 'The', 'Challenge', 'of', 'Being', 'Human', 'in', 'the', 'Age', 'of', 'AI', 'The', 'Wall', 'Street', 'Journal', 'Archived', 'from', 'the', 'original', 'on', '4', 'November', '2021', 'Retrieved', '4', 'November', '2021', 'Kobielus', 'James', '27', 'November', '2019', 'GPUs', 'Continue', 'to', 'Dominate', 'the', 'AI', 'Accelerator', 'Market', 'for', 'Now', 'InformationWeek', 'Archived', 'from', 'the', 'original', 'on', '19', 'October', '2021', 'Retrieved', '11', 'June', '2020', 'Kuperman', 'G', 'J', 'Reichley', 'R', 'M', 'Bailey', 'T', 'C', '1', 'July', '2006', 'Using', 'Commercial', 'Knowledge', 'Bases', 'for', 'Clinical', 'Decision', 'Support', 'Opportunities', 'Hurdles', 'and', 'Recommendations', 'Journal', 'of', 'the', 'American', 'Medical', 'Informatics', 'Association', '13', '4', '369', '371', 'doi', '10', '1197', 'jamia', 'M2055', 'PMC', '1513681', 'PMID', '16622160', 'Kurzweil', 'Ray', '2005', 'The', 'Singularity', 'is', 'Near', 'Penguin', 'Books', 'ISBN', '978', '0', '670', '03384', '3', 'Langley', 'Pat', '2011', 'The', 'changing', 'science', 'of', 'machine', 'learning', 'Machine', 'Learning', '82', '3', '275', '279', 'doi', '10', '1007', 's10994', '011', '5242', 'y', 'Larson', 'Jeff', 'Angwin', 'Julia', '23', 'May', '2016', 'How', 'We', 'Analyzed', 'the', 'COMPAS', 'Recidivism', 'Algorithm', 'ProPublica', 'Archived', 'from', 'the', 'original', 'on', '29', 'April', '2019', 'Retrieved', '19', 'June', '2020', 'Laskowski', 'Nicole', 'November', '2023', 'What', 'is', 'Artificial', 'Intelligence', 'and', 'How', 'Does', 'AI', 'Work', 'TechTarget', 'Enterprise', 'AI', 'Retrieved', '30', 'October', '2023', 'Law', 'Library', 'of', 'Congress', 'U', 'S', 'Global', 'Legal', 'Research', 'Directorate', 'issuing', 'body', '2019', 'Regulation', 'of', 'artificial', 'intelligence', 'in', 'selected', 'jurisdictions', 'LCCN', '2019668143', 'OCLC', '1110727808', 'Lee', 'Timothy', 'B', '22', 'August', '2014', 'Will', 'artificial', 'intelligence', 'destroy', 'humanity', 'Here', 'are', '5', 'reasons', 'not', 'to', 'worry', 'Vox', 'Archived', 'from', 'the', 'original', 'on', '30', 'October', '2015', 'Retrieved', '30', 'October', '2015', 'Lenat', 'Douglas', 'Guha', 'R', 'V', '1989', 'Building', 'Large', 'Knowledge', 'Based', 'Systems', 'Addison', 'Wesley', 'ISBN', '978', '0', '201', '51752', '1', 'Lighthill', 'James', '1973', 'Artificial', 'Intelligence', 'A', 'General', 'Survey', 'Artificial', 'Intelligence', 'a', 'paper', 'symposium', 'Science', 'Research', 'Council', 'Lipartito', 'Kenneth', '6', 'January', '2011', 'The', 'Narrative', 'and', 'the', 'Algorithm', 'Genres', 'of', 'Credit', 'Reporting', 'from', 'the', 'Nineteenth', 'Century', 'to', 'Today', 'PDF', 'Unpublished', 'manuscript', 'doi', '10', '2139', 'ssrn', '1736283', 'S2CID', '166742927', 'archived', 'PDF', 'from', 'the', 'original', 'on', '9', 'October', '2022', 'Lohr', 'Steve', '2017', 'Robots', 'Will', 'Take', 'Jobs', 'but', 'Not', 'as', 'Fast', 'as', 'Some', 'Fear', 'New', 'Report', 'Says', 'The', 'New', 'York', 'Times', 'Archived', 'from', 'the', 'original', 'on', '14', 'January', '2018', 'Retrieved', '13', 'January', '2018', 'Lungarella', 'M', 'Metta', 'G', 'Pfeifer', 'R', 'Sandini', 'G', '2003', 'Developmental', 'robotics', 'a', 'survey', 'Connection', 'Science', '15', '4', '151', '190', 'CiteSeerX', '10', '1', '1', '83', '7615', 'doi', '10', '1080', '09540090310001655110', 'S2CID', '1452734', 'Machine', 'Ethics', 'aaai', 'org', 'Archived', 'from', 'the', 'original', 'on', '29', 'November', '2014', 'Madrigal', 'Alexis', 'C', '27', 'February', '2015', 'The', 'case', 'against', 'killer', 'robots', 'from', 'a', 'guy', 'actually', 'working', 'on', 'artificial', 'intelligence', 'Fusion', 'net', 'Archived', 'from', 'the', 'original', 'on', '4', 'February', '2016', 'Retrieved', '31', 'January', '2016', 'Mahdawi', 'Arwa', '26', 'June', '2017', 'What', 'jobs', 'will', 'still', 'be', 'around', 'in', '20', 'years', 'Read', 'this', 'to', 'prepare', 'your', 'future', 'The', 'Guardian', 'Archived', 'from', 'the', 'original', 'on', '14', 'January', '2018', 'Retrieved', '13', 'January', '2018', 'Maker', 'Meg', 'Houston', '2006', 'AI', '50', 'AI', 'Past', 'Present', 'Future', 'Dartmouth', 'College', 'Archived', 'from', 'the', 'original', 'on', '3', 'January', '2007', 'Retrieved', '16', 'October', '2008', 'Marmouyet', 'Françoise', '15', 'December', '2023', 'Google', 's', 'Gemini', 'is', 'the', 'new', 'AI', 'model', 'really', 'better', 'than', 'ChatGPT', 'The', 'Conversation', 'Retrieved', '25', 'December', '2023', 'Minsky', 'Marvin', '1986', 'The', 'Society', 'of', 'Mind', 'Simon', 'and', 'Schuster', 'Maschafilm', '2010', 'Content', 'Plug', 'Pray', 'Film', 'Artificial', 'Intelligence', 'Robots', 'plugandpray', 'film', 'de', 'Archived', 'from', 'the', 'original', 'on', '12', 'February', '2016', 'McCarthy', 'John', 'Minsky', 'Marvin', 'Rochester', 'Nathan', 'Shannon', 'Claude', '1955', 'A', 'Proposal', 'for', 'the', 'Dartmouth', 'Summer', 'Research', 'Project', 'on', 'Artificial', 'Intelligence', 'Archived', 'from', 'the', 'original', 'on', '26', 'August', '2007', 'Retrieved', '30', 'August', '2007', 'McCarthy', 'John', '2007', 'From', 'Here', 'to', 'Human', 'Level', 'AI', 'Artificial', 'Intelligence', '171', 'McCarthy', 'John', '1999', 'What', 'is', 'AI', 'archived', 'from', 'the', 'original', 'on', '4', 'December', '2022', 'retrieved', '4', 'December', '2022', 'McCauley', 'Lee', '2007', 'AI', 'armageddon', 'and', 'the', 'three', 'laws', 'of', 'robotics', 'Ethics', 'and', 'Information', 'Technology', '9', '2', '153', '164', 'CiteSeerX', '10', '1', '1', '85', '8904', 'doi', '10', '1007', 's10676', '007', '9138', '2', 'S2CID', '37272949', 'McGarry', 'Ken', '1', 'December', '2005', 'A', 'survey', 'of', 'interestingness', 'measures', 'for', 'knowledge', 'discovery', 'The', 'Knowledge', 'Engineering', 'Review', '20', '1', '39', '61', 'doi', '10', '1017', 'S0269888905000408', 'S2CID', '14987656', 'McGaughey', 'E', '2022', 'Will', 'Robots', 'Automate', 'Your', 'Job', 'Away', 'Full', 'Employment', 'Basic', 'Income', 'and', 'Economic', 'Democracy', 'p', '51', '3', 'Industrial', 'Law', 'Journal', '511', '559', 'doi', '10', '2139', 'ssrn', '3044448', 'S2CID', '219336439', 'SSRN', '3044448', 'archived', 'from', 'the', 'original', 'on', '31', 'January', '2021', 'retrieved', '27', 'May', '2023', 'Merkle', 'Daniel', 'Middendorf', 'Martin', '2013', 'Swarm', 'Intelligence', 'In', 'Burke', 'Edmund', 'K', 'Kendall', 'Graham', 'eds', 'Search', 'Methodologies', 'Introductory', 'Tutorials', 'in', 'Optimization', 'and', 'Decision', 'Support', 'Techniques', 'Springer', 'Science', 'Business', 'Media', 'ISBN', '978', '1', '4614', '6940', '7', 'Minsky', 'Marvin', '1967', 'Computation', 'Finite', 'and', 'Infinite', 'Machines', 'Englewood', 'Cliffs', 'N', 'J', 'Prentice', 'Hall', 'Moravec', 'Hans', '1988', 'Mind', 'Children', 'Harvard', 'University', 'Press', 'ISBN', '978', '0', '674', '57616', '2', 'Archived', 'from', 'the', 'original', 'on', '26', 'July', '2020', 'Retrieved', '18', 'November', '2019', 'Morgenstern', 'Michael', '9', 'May', '2015', 'Automation', 'and', 'anxiety', 'The', 'Economist', 'Archived', 'from', 'the', 'original', 'on', '12', 'January', '2018', 'Retrieved', '13', 'January', '2018', 'Müller', 'Vincent', 'C', 'Bostrom', 'Nick', '2014', 'Future', 'Progress', 'in', 'Artificial', 'Intelligence', 'A', 'Poll', 'Among', 'Experts', 'PDF', 'AI', 'Matters', '1', '1', '9', '11', 'doi', '10', '1145', '2639475', '2639478', 'S2CID', '8510016', 'Archived', 'PDF', 'from', 'the', 'original', 'on', '15', 'January', '2016', 'Neumann', 'Bernd', 'Möller', 'Ralf', 'January', '2008', 'On', 'scene', 'interpretation', 'with', 'description', 'logics', 'Image', 'and', 'Vision', 'Computing', '26', '1', '82', '101', 'doi', '10', '1016', 'j', 'imavis', '2007', '08', '013', 'S2CID', '10767011', 'Nilsson', 'Nils', '1995', 'Eyes', 'on', 'the', 'Prize', 'AI', 'Magazine', 'vol', '16', 'pp', '9', '17', 'Newell', 'Allen', 'Simon', 'H', 'A', '1976', 'Computer', 'Science', 'as', 'Empirical', 'Inquiry', 'Symbols', 'and', 'Search', 'Communications', 'of', 'the', 'ACM', '19', '3', '113', '126', 'doi', '10', '1145', '360018', '360022', 'Nicas', 'Jack', '7', 'February', '2018', 'How', 'YouTube', 'Drives', 'People', 'to', 'the', 'Internet', 's', 'Darkest', 'Corners', 'The', 'Wall', 'Street', 'Journal', 'ISSN', '0099', '9660', 'Retrieved', '16', 'June', '2018', 'Nilsson', 'Nils', '1983', 'Artificial', 'Intelligence', 'Prepares', 'for', '2001', 'PDF', 'AI', 'Magazine', '1', '1', 'Archived', 'PDF', 'from', 'the', 'original', 'on', '17', 'August', '2020', 'Retrieved', '22', 'August', '2020', 'Presidential', 'Address', 'to', 'the', 'Association', 'for', 'the', 'Advancement', 'of', 'Artificial', 'Intelligence', 'NRC', 'United', 'States', 'National', 'Research', 'Council', '1999', 'Developments', 'in', 'Artificial', 'Intelligence', 'Funding', 'a', 'Revolution', 'Government', 'Support', 'for', 'Computing', 'Research', 'National', 'Academy', 'Press', 'Omohundro', 'Steve', '2008', 'The', 'Nature', 'of', 'Self', 'Improving', 'Artificial', 'Intelligence', 'presented', 'and', 'distributed', 'at', 'the', '2007', 'Singularity', 'Summit', 'San', 'Francisco', 'CA', 'Oudeyer', 'P', 'Y', '2010', 'On', 'the', 'impact', 'of', 'robotics', 'in', 'behavioral', 'and', 'cognitive', 'sciences', 'from', 'insect', 'navigation', 'to', 'human', 'cognitive', 'development', 'PDF', 'IEEE', 'Transactions', 'on', 'Autonomous', 'Mental', 'Development', '2', '1', '2', '16', 'doi', '10', '1109', 'tamd', '2009', '2039057', 'S2CID', '6362217', 'Archived', 'PDF', 'from', 'the', 'original', 'on', '3', 'October', '2018', 'Retrieved', '4', 'June', '2013', 'Pennachin', 'C', 'Goertzel', 'B', '2007', 'Contemporary', 'Approaches', 'to', 'Artificial', 'General', 'Intelligence', 'Artificial', 'General', 'Intelligence', 'Cognitive', 'Technologies', 'Berlin', 'Heidelberg', 'Springer', 'pp', '1', '30', 'doi', '10', '1007', '978', '3', '540', '68677', '4_1', 'ISBN', '978', '3', '540', '23733', '4', 'Pinker', 'Steven', '2007', '1994', 'The', 'Language', 'Instinct', 'Perennial', 'Modern', 'Classics', 'Harper', 'ISBN', '978', '0', '06', '133646', '1', 'Poria', 'Soujanya', 'Cambria', 'Erik', 'Bajpai', 'Rajiv', 'Hussain', 'Amir', 'September', '2017', 'A', 'review', 'of', 'affective', 'computing', 'From', 'unimodal', 'analysis', 'to', 'multimodal', 'fusion', 'Information', 'Fusion', '37', '98', '125', 'doi', '10', '1016', 'j', 'inffus', '2017', '02', '003', 'hdl', '1893', '25490', 'S2CID', '205433041', 'Archived', 'from', 'the', 'original', 'on', '23', 'March', '2023', 'Retrieved', '27', 'April', '2021', 'Rawlinson', 'Kevin', '29', 'January', '2015', 'Microsoft', 's', 'Bill', 'Gates', 'insists', 'AI', 'is', 'a', 'threat', 'BBC', 'News', 'Archived', 'from', 'the', 'original', 'on', '29', 'January', '2015', 'Retrieved', '30', 'January', '2015', 'Reisner', 'Alex', '19', 'August', '2023', 'Revealed', 'The', 'Authors', 'Whose', 'Pirated', 'Books', 'are', 'Powering', 'Generative', 'AI', 'The', 'Atlantic', 'Roberts', 'Jacob', '2016', 'Thinking', 'Machines', 'The', 'Search', 'for', 'Artificial', 'Intelligence', 'Distillations', 'Vol', '2', 'no', '2', 'pp', '14', '23', 'Archived', 'from', 'the', 'original', 'on', '19', 'August', '2018', 'Retrieved', '20', 'March', '2018', 'Robitzski', 'Dan', '5', 'September', '2018', 'Five', 'experts', 'share', 'what', 'scares', 'them', 'the', 'most', 'about', 'AI', 'Archived', 'from', 'the', 'original', 'on', '8', 'December', '2019', 'Retrieved', '8', 'December', '2019', 'Robots', 'could', 'demand', 'legal', 'rights', 'BBC', 'News', '21', 'December', '2006', 'Archived', 'from', 'the', 'original', 'on', '15', 'October', '2019', 'Retrieved', '3', 'February', '2011', 'Rose', 'Steve', '11', 'July', '2023', 'AI', 'Utopia', 'or', 'dystopia', 'The', 'Guardian', 'Weekly', 'pp', '42', '43', 'Russell', 'Stuart', '2019', 'Human', 'Compatible', 'Artificial', 'Intelligence', 'and', 'the', 'Problem', 'of', 'Control', 'United', 'States', 'Viking', 'ISBN', '978', '0', '525', '55861', '3', 'OCLC', '1083694322', 'Sainato', 'Michael', '19', 'August', '2015', 'Stephen', 'Hawking', 'Elon', 'Musk', 'and', 'Bill', 'Gates', 'Warn', 'About', 'Artificial', 'Intelligence', 'Observer', 'Archived', 'from', 'the', 'original', 'on', '30', 'October', '2015', 'Retrieved', '30', 'October', '2015', 'Sample', 'Ian', '5', 'November', '2017', 'Computer', 'says', 'no', 'why', 'making', 'AIs', 'fair', 'accountable', 'and', 'transparent', 'is', 'crucial', 'The', 'Guardian', 'Retrieved', '30', 'January', '2018', 'Rothman', 'Denis', '7', 'October', '2020', 'Exploring', 'LIME', 'Explanations', 'and', 'the', 'Mathematics', 'Behind', 'It', 'Codemotion', 'Retrieved', '25', 'November', '2023', 'Scassellati', 'Brian', '2002', 'Theory', 'of', 'mind', 'for', 'a', 'humanoid', 'robot', 'Autonomous', 'Robots', '12', '1', '13', '24', 'doi', '10', '1023', 'A', '1013298507114', 'S2CID', '1979315', 'Schmidhuber', 'J', '2015', 'Deep', 'Learning', 'in', 'Neural', 'Networks', 'An', 'Overview', 'Neural', 'Networks', '61', '85', '117', 'arXiv', '1404', '7828', 'doi', '10', '1016', 'j', 'neunet', '2014', '09', '003', 'PMID', '25462637', 'S2CID', '11715509', 'Schmidhuber', 'Jürgen', '2022', 'Annotated', 'History', 'of', 'Modern', 'AI', 'and', 'Deep', 'Learning', 'Schulz', 'Hannes', 'Behnke', 'Sven', '1', 'November', '2012', 'Deep', 'Learning', 'KI', 'Künstliche', 'Intelligenz', '26', '4', '357', '363', 'doi', '10', '1007', 's13218', '012', '0198', 'z', 'ISSN', '1610', '1987', 'S2CID', '220523562', 'Searle', 'John', '1980', 'Minds', 'Brains', 'and', 'Programs', 'PDF', 'Behavioral', 'and', 'Brain', 'Sciences', '3', '3', '417', '457', 'doi', '10', '1017', 'S0140525X00005756', 'S2CID', '55303721', 'Archived', 'PDF', 'from', 'the', 'original', 'on', '17', 'March', '2019', 'Retrieved', '22', 'August', '2020', 'Searle', 'John', '1999', 'Mind', 'language', 'and', 'society', 'New', 'York', 'Basic', 'Books', 'ISBN', '978', '0', '465', '04521', '1', 'OCLC', '231867665', 'Archived', 'from', 'the', 'original', 'on', '26', 'July', '2020', 'Retrieved', '22', 'August', '2020', 'Simon', 'H', 'A', '1965', 'The', 'Shape', 'of', 'Automation', 'for', 'Men', 'and', 'Management', 'New', 'York', 'Harper', 'Row', 'Simonite', 'Tom', '31', 'March', '2016', 'How', 'Google', 'Plans', 'to', 'Solve', 'Artificial', 'Intelligence', 'MIT', 'Technology', 'Review', 'Smith', 'Craig', 'S', '15', 'March', '2023', 'ChatGPT', '4', 'Creator', 'Ilya', 'Sutskever', 'on', 'AI', 'Hallucinations', 'and', 'AI', 'Democracy', 'Forbes', 'Retrieved', '25', 'December', '2023', 'Smoliar', 'Stephen', 'W', 'Zhang', 'HongJiang', '1994', 'Content', 'based', 'video', 'indexing', 'and', 'retrieval', 'IEEE', 'MultiMedia', '1', '2', '62', '72', 'doi', '10', '1109', '93', '311653', 'S2CID', '32710913', 'Solomonoff', 'Ray', '1956', 'An', 'Inductive', 'Inference', 'Machine', 'PDF', 'Dartmouth', 'Summer', 'Research', 'Conference', 'on', 'Artificial', 'Intelligence', 'Archived', 'PDF', 'from', 'the', 'original', 'on', '26', 'April', '2011', 'Retrieved', '22', 'March', '2011', 'via', 'std', 'com', 'pdf', 'scanned', 'copy', 'of', 'the', 'original', 'Later', 'published', 'asSolomonoff', 'Ray', '1957', 'An', 'Inductive', 'Inference', 'Machine', 'IRE', 'Convention', 'Record', 'Vol', 'Section', 'on', 'Information', 'Theory', 'part', '2', 'pp', '56', '62', 'Stanford', 'University', '2023', 'Artificial', 'Intelligence', 'Index', 'Report', '2023', 'Chapter', '6', 'Policy', 'and', 'Governance', 'PDF', 'AI', 'Index', 'Archived', 'PDF', 'from', 'the', 'original', 'on', '19', 'June', '2023', 'Retrieved', '19', 'June', '2023', 'Tao', 'Jianhua', 'Tan', 'Tieniu', '2005', 'Affective', 'Computing', 'and', 'Intelligent', 'Interaction', 'Affective', 'Computing', 'A', 'Review', 'Lecture', 'Notes', 'in', 'Computer', 'Science', 'Vol', '3784', 'Springer', 'pp', '981', '995', 'doi', '10', '1007', '11573548', 'ISBN', '978', '3', '540', '29621', '8', 'Taylor', 'Josh', 'Hern', 'Alex', '2', 'May', '2023', 'Godfather', 'of', 'AI', 'Geoffrey', 'Hinton', 'quits', 'Google', 'and', 'warns', 'over', 'dangers', 'of', 'misinformation', 'The', 'Guardian', 'Thompson', 'Derek', '23', 'January', '2014', 'What', 'Jobs', 'Will', 'the', 'Robots', 'Take', 'The', 'Atlantic', 'Archived', 'from', 'the', 'original', 'on', '24', 'April', '2018', 'Retrieved', '24', 'April', '2018', 'Thro', 'Ellen', '1993', 'Robotics', 'The', 'Marriage', 'of', 'Computers', 'and', 'Machines', 'New', 'York', 'Facts', 'on', 'File', 'ISBN', '978', '0', '8160', '2628', '9', 'Archived', 'from', 'the', 'original', 'on', '26', 'July', '2020', 'Retrieved', '22', 'August', '2020', 'Toews', 'Rob', '3', 'September', '2023', 'Transformers', 'Revolutionized', 'AI', 'What', 'Will', 'Replace', 'Them', 'Forbes', 'Retrieved', '8', 'December', '2023', 'Turing', 'Alan', 'October', '1950', 'Computing', 'Machinery', 'and', 'Intelligence', 'Mind', 'LIX', '236', '433', '460', 'doi', '10', '1093', 'mind', 'LIX', '236', '433', 'ISSN', '0026', '4423', 'UNESCO', 'Science', 'Report', 'the', 'Race', 'Against', 'Time', 'for', 'Smarter', 'Development', 'Paris', 'UNESCO', '2021', 'ISBN', '978', '92', '3', '100450', '6', 'Archived', 'from', 'the', 'original', 'on', '18', 'June', '2022', 'Retrieved', '18', 'September', '2021', 'Urbina', 'Fabio', 'Lentzos', 'Filippa', 'Invernizzi', 'Cédric', 'Ekins', 'Sean', '7', 'March', '2022', 'Dual', 'use', 'of', 'artificial', 'intelligence', 'powered', 'drug', 'discovery', 'Nature', 'Machine', 'Intelligence', '4', '3', '189', '191', 'doi', '10', '1038', 's42256', '022', '00465', '9', 'PMC', '9544280', 'PMID', '36211133', 'S2CID', '247302391', 'Valance', 'Christ', '30', 'May', '2023', 'Artificial', 'intelligence', 'could', 'lead', 'to', 'extinction', 'experts', 'warn', 'BBC', 'News', 'Archived', 'from', 'the', 'original', 'on', '17', 'June', '2023', 'Retrieved', '18', 'June', '2023', 'Valinsky', 'Jordan', '11', 'April', '2019', 'Amazon', 'reportedly', 'employs', 'thousands', 'of', 'people', 'to', 'listen', 'to', 'your', 'Alexa', 'conversations', 'CNN', 'com', 'Verma', 'Yugesh', '25', 'December', '2021', 'A', 'Complete', 'Guide', 'to', 'SHAP', 'SHAPley', 'Additive', 'exPlanations', 'for', 'Practitioners', 'Analytics', 'India', 'Magazine', 'Retrieved', '25', 'November', '2023', 'Vincent', 'James', '7', 'November', '2019', 'OpenAI', 'has', 'published', 'the', 'text', 'generating', 'AI', 'it', 'said', 'was', 'too', 'dangerous', 'to', 'share', 'The', 'Verge', 'Archived', 'from', 'the', 'original', 'on', '11', 'June', '2020', 'Retrieved', '11', 'June', '2020', 'Vincent', 'James', '15', 'November', '2022', 'The', 'scary', 'truth', 'about', 'AI', 'copyright', 'is', 'nobody', 'knows', 'what', 'will', 'happen', 'next', 'The', 'Verge', 'Archived', 'from', 'the', 'original', 'on', '19', 'June', '2023', 'Retrieved', '19', 'June', '2023', 'Vincent', 'James', '3', 'April', '2023', 'AI', 'is', 'entering', 'an', 'era', 'of', 'corporate', 'control', 'The', 'Verge', 'Archived', 'from', 'the', 'original', 'on', '19', 'June', '2023', 'Retrieved', '19', 'June', '2023', 'Vinge', 'Vernor', '1993', 'The', 'Coming', 'Technological', 'Singularity', 'How', 'to', 'Survive', 'in', 'the', 'Post', 'Human', 'Era', 'Vision', '21', 'Interdisciplinary', 'Science', 'and', 'Engineering', 'in', 'the', 'Era', 'of', 'Cyberspace', '11', 'Bibcode', '1993vise', 'nasa', '11V', 'Archived', 'from', 'the', 'original', 'on', '1', 'January', '2007', 'Retrieved', '14', 'November', '2011', 'Waddell', 'Kaveh', '2018', 'Chatbots', 'Have', 'Entered', 'the', 'Uncanny', 'Valley', 'The', 'Atlantic', 'Archived', 'from', 'the', 'original', 'on', '24', 'April', '2018', 'Retrieved', '24', 'April', '2018', 'Wallach', 'Wendell', '2010', 'Moral', 'Machines', 'Oxford', 'University', 'Press', 'Wason', 'P', 'C', 'Shapiro', 'D', '1966', 'Reasoning', 'In', 'Foss', 'B', 'M', 'ed', 'New', 'horizons', 'in', 'psychology', 'Harmondsworth', 'Penguin', 'Archived', 'from', 'the', 'original', 'on', '26', 'July', '2020', 'Retrieved', '18', 'November', '2019', 'Weng', 'J', 'McClelland', 'Pentland', 'A', 'Sporns', 'O', 'Stockman', 'I', 'Sur', 'M', 'Thelen', 'E', '2001', 'Autonomous', 'mental', 'development', 'by', 'robots', 'and', 'animals', 'PDF', 'Science', '291', '5504', '599', '600', 'doi', '10', '1126', 'science', '291', '5504', '599', 'PMID', '11229402', 'S2CID', '54131797', 'Archived', 'PDF', 'from', 'the', 'original', 'on', '4', 'September', '2013', 'Retrieved', '4', 'June', '2013', 'via', 'msu', 'edu', 'What', 'is', 'fuzzy', 'logic', 'Are', 'there', 'computers', 'that', 'are', 'inherently', 'fuzzy', 'and', 'do', 'not', 'apply', 'the', 'usual', 'binary', 'logic', 'Scientific', 'American', '21', 'October', '1999', 'Archived', 'from', 'the', 'original', 'on', '6', 'May', '2018', 'Retrieved', '5', 'May', '2018', 'Williams', 'Rhiannon', '28', 'June', '2023', 'Humans', 'may', 'be', 'more', 'likely', 'to', 'believe', 'disinformation', 'generated', 'by', 'AI', 'MIT', 'Technology', 'Review', 'Wirtz', 'Bernd', 'W', 'Weyerer', 'Jan', 'C', 'Geyer', 'Carolin', '24', 'July', '2018', 'Artificial', 'Intelligence', 'and', 'the', 'Public', 'Sector', 'Applications', 'and', 'Challenges', 'International', 'Journal', 'of', 'Public', 'Administration', '42', '7', '596', '615', 'doi', '10', '1080', '01900692', '2018', '1498103', 'ISSN', '0190', '0692', 'S2CID', '158829602', 'Archived', 'from', 'the', 'original', 'on', '18', 'August', '2020', 'Retrieved', '22', 'August', '2020', 'Wong', 'Matteo', '19', 'May', '2023', 'ChatGPT', 'Is', 'Already', 'Obsolete', 'The', 'Atlantic', 'Yudkowsky', 'E', '2008', 'Artificial', 'Intelligence', 'as', 'a', 'Positive', 'and', 'Negative', 'Factor', 'in', 'Global', 'Risk', 'PDF', 'Global', 'Catastrophic', 'Risks', 'Oxford', 'University', 'Press', '2008', 'Bibcode', '2008gcr', 'book', '303Y', 'archived', 'PDF', 'from', 'the', 'original', 'on', '19', 'October', '2013', 'retrieved', '24', 'September', '2021', 'Further', 'reading', 'Ashish', 'Vaswani', 'Noam', 'Shazeer', 'Niki', 'Parmar', 'et', 'al', 'Attention', 'is', 'all', 'you', 'need', 'Advances', 'in', 'neural', 'information', 'processing', 'systems', '30', '2017', 'Seminal', 'paper', 'on', 'transformers', 'Autor', 'David', 'H', 'Why', 'Are', 'There', 'Still', 'So', 'Many', 'Jobs', 'The', 'History', 'and', 'Future', 'of', 'Workplace', 'Automation', '2015', '29', '3', 'Journal', 'of', 'Economic', 'Perspectives', '3', 'Boden', 'Margaret', 'Mind', 'As', 'Machine', 'Oxford', 'University', 'Press', '2006', 'Cukier', 'Kenneth', 'Ready', 'for', 'Robots', 'How', 'to', 'Think', 'about', 'the', 'Future', 'of', 'AI', 'Foreign', 'Affairs', 'vol', '98', 'no', '4', 'July', 'August', '2019', 'pp', '192', '98', 'George', 'Dyson', 'historian', 'of', 'computing', 'writes', 'in', 'what', 'might', 'be', 'called', 'Dyson', 's', 'Law', 'that', 'Any', 'system', 'simple', 'enough', 'to', 'be', 'understandable', 'will', 'not', 'be', 'complicated', 'enough', 'to', 'behave', 'intelligently', 'while', 'any', 'system', 'complicated', 'enough', 'to', 'behave', 'intelligently', 'will', 'be', 'too', 'complicated', 'to', 'understand', 'p', '197', 'Computer', 'scientist', 'Alex', 'Pentland', 'writes', 'Current', 'AI', 'machine', 'learning', 'algorithms', 'are', 'at', 'their', 'core', 'dead', 'simple', 'stupid', 'They', 'work', 'but', 'they', 'work', 'by', 'brute', 'force', 'p', '198', 'Gertner', 'Jon', '2023', 'Wikipedia', 's', 'Moment', 'of', 'Truth', 'Can', 'the', 'online', 'encyclopedia', 'help', 'teach', 'A', 'I', 'chatbots', 'to', 'get', 'their', 'facts', 'right', 'without', 'destroying', 'itself', 'in', 'the', 'process', 'New', 'York', 'Times', 'Magazine', 'July', '18', '2023', 'online', 'Gleick', 'James', 'The', 'Fate', 'of', 'Free', 'Will', 'review', 'of', 'Kevin', 'J', 'Mitchell', 'Free', 'Agents', 'How', 'Evolution', 'Gave', 'Us', 'Free', 'Will', 'Princeton', 'University', 'Press', '2023', '333', 'pp', 'The', 'New', 'York', 'Review', 'of', 'Books', 'vol', 'LXXI', 'no', '1', '18', 'January', '2024', 'pp', '27', '28', '30', 'Agency', 'is', 'what', 'distinguishes', 'us', 'from', 'machines', 'For', 'biological', 'creatures', 'reason', 'and', 'purpose', 'come', 'from', 'acting', 'in', 'the', 'world', 'and', 'experiencing', 'the', 'consequences', 'Artificial', 'intelligences', 'disembodied', 'strangers', 'to', 'blood', 'sweat', 'and', 'tears', 'have', 'no', 'occasion', 'for', 'that', 'p', '30', 'Hughes', 'Castleberry', 'Kenna', 'A', 'Murder', 'Mystery', 'Puzzle', 'The', 'literary', 'puzzle', 'Cain', 's', 'Jawbone', 'which', 'has', 'stumped', 'humans', 'for', 'decades', 'reveals', 'the', 'limitations', 'of', 'natural', 'language', 'processing', 'algorithms', 'Scientific', 'American', 'vol', '329', 'no', '4', 'November', '2023', 'pp', '81', '82', 'This', 'murder', 'mystery', 'competition', 'has', 'revealed', 'that', 'although', 'NLP', 'natural', 'language', 'processing', 'models', 'are', 'capable', 'of', 'incredible', 'feats', 'their', 'abilities', 'are', 'very', 'much', 'limited', 'by', 'the', 'amount', 'of', 'context', 'they', 'receive', 'This', 'could', 'cause', 'difficulties', 'for', 'researchers', 'who', 'hope', 'to', 'use', 'them', 'to', 'do', 'things', 'such', 'as', 'analyze', 'ancient', 'languages', 'In', 'some', 'cases', 'there', 'are', 'few', 'historical', 'records', 'on', 'long', 'gone', 'civilizations', 'to', 'serve', 'as', 'training', 'data', 'for', 'such', 'a', 'purpose', 'p', '82', 'Immerwahr', 'Daniel', 'Your', 'Lying', 'Eyes', 'People', 'now', 'use', 'A', 'I', 'to', 'generate', 'fake', 'videos', 'indistinguishable', 'from', 'real', 'ones', 'How', 'much', 'does', 'it', 'matter', 'The', 'New', 'Yorker', '20', 'November', '2023', 'pp', '54', '59', 'If', 'by', 'deepfakes', 'we', 'mean', 'realistic', 'videos', 'produced', 'using', 'artificial', 'intelligence', 'that', 'actually', 'deceive', 'people', 'then', 'they', 'barely', 'exist', 'The', 'fakes', 'aren', 't', 'deep', 'and', 'the', 'deeps', 'aren', 't', 'fake', 'A', 'I', 'generated', 'videos', 'are', 'not', 'in', 'general', 'operating', 'in', 'our', 'media', 'as', 'counterfeited', 'evidence', 'Their', 'role', 'better', 'resembles', 'that', 'of', 'cartoons', 'especially', 'smutty', 'ones', 'p', '59', 'Johnston', 'John', '2008', 'The', 'Allure', 'of', 'Machinic', 'Life', 'Cybernetics', 'Artificial', 'Life', 'and', 'the', 'New', 'AI', 'MIT', 'Press', 'Jumper', 'John', 'Evans', 'Richard', 'Pritzel', 'Alexander', 'et', 'al', '26', 'August', '2021', 'Highly', 'accurate', 'protein', 'structure', 'prediction', 'with', 'AlphaFold', 'Nature', '596', '7873', '583', '589', 'Bibcode', '2021Natur', '596', '583J', 'doi', '10', '1038', 's41586', '021', '03819', '2', 'PMC', '8371605', 'PMID', '34265844', 'S2CID', '235959867', 'LeCun', 'Yann', 'Bengio', 'Yoshua', 'Hinton', 'Geoffrey', '28', 'May', '2015', 'Deep', 'learning', 'Nature', '521', '7553', '436', '444', 'Bibcode', '2015Natur', '521', '436L', 'doi', '10', '1038', 'nature14539', 'PMID', '26017442', 'S2CID', '3074096', 'Archived', 'from', 'the', 'original', 'on', '5', 'June', '2023', 'Retrieved', '19', 'June', '2023', 'Marcus', 'Gary', 'Artificial', 'Confidence', 'Even', 'the', 'newest', 'buzziest', 'systems', 'of', 'artificial', 'general', 'intelligence', 'are', 'stymmied', 'by', 'the', 'same', 'old', 'problems', 'Scientific', 'American', 'vol', '327', 'no', '4', 'October', '2022', 'pp', '42', '45', 'Mitchell', 'Melanie', '2019', 'Artificial', 'intelligence', 'a', 'guide', 'for', 'thinking', 'humans', 'New', 'York', 'Farrar', 'Straus', 'and', 'Giroux', 'ISBN', '9780374257835', 'Mnih', 'Volodymyr', 'Kavukcuoglu', 'Koray', 'Silver', 'David', 'et', 'al', '26', 'February', '2015', 'Human', 'level', 'control', 'through', 'deep', 'reinforcement', 'learning', 'Nature', '518', '7540', '529', '533', 'Bibcode', '2015Natur', '518', '529M', 'doi', '10', '1038', 'nature14236', 'PMID', '25719670', 'S2CID', '205242740', 'Archived', 'from', 'the', 'original', 'on', '19', 'June', '2023', 'Retrieved', '19', 'June', '2023', 'Introduced', 'DQN', 'which', 'produced', 'human', 'level', 'performance', 'on', 'some', 'Atari', 'games', 'Press', 'Eyal', 'In', 'Front', 'of', 'Their', 'Faces', 'Does', 'facial', 'recognition', 'technology', 'lead', 'police', 'to', 'ignore', 'contradictory', 'evidence', 'The', 'New', 'Yorker', '20', 'November', '2023', 'pp', '20', '26', 'Roivainen', 'Eka', 'AI', 's', 'IQ', 'ChatGPT', 'aced', 'a', 'standard', 'intelligence', 'test', 'but', 'showed', 'that', 'intelligence', 'cannot', 'be', 'measured', 'by', 'IQ', 'alone', 'Scientific', 'American', 'vol', '329', 'no', '1', 'July', 'August', '2023', 'p', '7', 'Despite', 'its', 'high', 'IQ', 'ChatGPT', 'fails', 'at', 'tasks', 'that', 'require', 'real', 'humanlike', 'reasoning', 'or', 'an', 'understanding', 'of', 'the', 'physical', 'and', 'social', 'world', 'ChatGPT', 'seemed', 'unable', 'to', 'reason', 'logically', 'and', 'tried', 'to', 'rely', 'on', 'its', 'vast', 'database', 'of', 'facts', 'derived', 'from', 'online', 'texts', 'Serenko', 'Alexander', 'Michael', 'Dohan', '2011', 'Comparing', 'the', 'expert', 'survey', 'and', 'citation', 'impact', 'journal', 'ranking', 'methods', 'Example', 'from', 'the', 'field', 'of', 'Artificial', 'Intelligence', 'PDF', 'Journal', 'of', 'Informetrics', '5', '4', '629', '49', 'doi', '10', '1016', 'j', 'joi', '2011', '06', '002', 'Archived', 'PDF', 'from', 'the', 'original', 'on', '4', 'October', '2013', 'Retrieved', '12', 'September', '2013', 'Silver', 'David', 'Huang', 'Aja', 'Maddison', 'Chris', 'J', 'et', 'al', '28', 'January', '2016', 'Mastering', 'the', 'game', 'of', 'Go', 'with', 'deep', 'neural', 'networks', 'and', 'tree', 'search', 'Nature', '529', '7587', '484', '489', 'Bibcode', '2016Natur', '529', '484S', 'doi', '10', '1038', 'nature16961', 'PMID', '26819042', 'S2CID', '515925', 'Archived', 'from', 'the', 'original', 'on', '18', 'June', '2023', 'Retrieved', '19', 'June', '2023', 'White', 'Paper', 'On', 'Artificial', 'Intelligence', 'A', 'European', 'approach', 'to', 'excellence', 'and', 'trust', 'PDF', 'Brussels', 'European', 'Commission', '2020', 'Archived', 'PDF', 'from', 'the', 'original', 'on', '20', 'February', '2020', 'Retrieved', '20', 'February', '2020', 'External', 'links', 'Artificial', 'intelligence', 'at', 'Wikipedia', 's', 'sister', 'projects', 'Definitions', 'from', 'WiktionaryMedia', 'from', 'CommonsQuotations', 'from', 'WikiquoteTextbooks', 'from', 'WikibooksResources', 'from', 'WikiversityData', 'from', 'Wikidata', 'Artificial', 'Intelligence', 'Internet', 'Encyclopedia', 'of', 'Philosophy', 'Thomason', 'Richmond', 'Logic', 'and', 'Artificial', 'Intelligence', 'In', 'Zalta', 'Edward', 'N', 'ed', 'Stanford', 'Encyclopedia', 'of', 'Philosophy', 'Artificial', 'Intelligence', 'BBC', 'Radio', '4', 'discussion', 'with', 'John', 'Agar', 'Alison', 'Adam', 'Igor', 'Aleksander', 'In', 'Our', 'Time', '8', 'December', '2005', 'Theranostics', 'and', 'AI', 'The', 'Next', 'Advance', 'in', 'Cancer', 'Precision', 'Medicine', 'Articles', 'related', 'to', 'Artificial', 'intelligence', 'vteJohn', 'McCarthy', 'Artificial', 'intelligence', 'Circumscription', 'Dartmouth', 'workshop', 'Frame', 'problem', 'Garbage', 'collection', 'Lisp', 'ALGOL', '60', 'McCarthy', 'evaluation', 'McCarthy', 'Formalism', 'McCarthy', '91', 'function', 'Situation', 'calculus', 'Space', 'fountain', 'vtePhilosophy', 'of', 'mindPhilosophers', 'G', 'E', 'M', 'Anscombe', 'Aristotle', 'Armstrong', 'Thomas', 'Aquinas', 'J', 'L', 'Austin', 'Alexander', 'Bain', 'George', 'Berkeley', 'Henri', 'Bergson', 'Ned', 'Block', 'Franz', 'Brentano', 'C', 'D', 'Broad', 'Tyler', 'Burge', 'David', 'Chalmers', 'Patricia', 'Churchland', 'Paul', 'Churchland', 'Andy', 'Clark', 'Dharmakirti', 'Donald', 'Davidson', 'Daniel', 'Dennett', 'René', 'Descartes', 'Fred', 'Dretske', 'Fodor', 'Goldman', 'Martin', 'Heidegger', 'David', 'Hume', 'Edmund', 'Husserl', 'William', 'James', 'Frank', 'Cameron', 'Jackson', 'Immanuel', 'Kant', 'David', 'Lewis', 'philosopher', 'John', 'Locke', 'Gottfried', 'Wilhelm', 'Leibniz', 'Maurice', 'Merleau', 'Ponty', 'Marvin', 'Minsky', 'Thomas', 'Nagel', 'Alva', 'Noë', 'Derek', 'Parfit', 'Plato', 'Hilary', 'Putnam', 'Richard', 'Rorty', 'Gilbert', 'Ryle', 'John', 'Searle', 'Wilfrid', 'Sellars', 'Baruch', 'Spinoza', 'Alan', 'Turing', 'Michael', 'Tye', 'Vasubandhu', 'Ludwig', 'Wittgenstein', 'Stephen', 'Yablo', 'Zhuangzi', 'more', 'Theories', 'Behaviorism', 'Biological', 'naturalism', 'Dualism', 'Eliminative', 'materialism', 'Emergent', 'materialism', 'Epiphenomenalism', 'Functionalism', 'Interactionism', 'Naïve', 'realism', 'Neurophenomenology', 'Neutral', 'monism', 'New', 'mysterianism', 'Nondualism', 'Occasionalism', 'Parallelism', 'Phenomenalism', 'Phenomenology', 'Physicalism', 'Type', 'physicalism', 'Property', 'dualism', 'Representational', 'Solipsism', 'Substance', 'dualism', 'Concepts', 'Abstract', 'object', 'Artificial', 'intelligence', 'Chinese', 'room', 'Creativity', 'Cognition', 'Cognitive', 'closure', 'Concept', 'Consciousness', 'Hard', 'problem', 'of', 'consciousness', 'Hypostatic', 'abstraction', 'Idea', 'Identity', 'Intelligence', 'Intentionality', 'Introspection', 'Intuition', 'Language', 'of', 'thought', 'Mental', 'event', 'Mental', 'image', 'Mental', 'process', 'Mental', 'property', 'Mental', 'representation', 'Mind', 'Mind', 'body', 'problem', 'Pain', 'Problem', 'of', 'other', 'minds', 'Propositional', 'attitude', 'Qualia', 'Tabula', 'rasa', 'Understanding', 'Zombie', 'Related', 'Metaphysics', 'Philosophy', 'of', 'artificial', 'intelligence', 'information', 'perception', 'self', 'Category', 'Philosophers', 'category', 'Project', 'Task', 'Force', 'vtePhilosophy', 'of', 'scienceConcepts', 'Analysis', 'Analytic', 'synthetic', 'distinction', 'A', 'priori', 'and', 'a', 'posteriori', 'Causality', 'Commensurability', 'Consilience', 'Construct', 'Creative', 'synthesis', 'Demarcation', 'problem', 'Empirical', 'evidence', 'Explanatory', 'power', 'Fact', 'Falsifiability', 'Feminist', 'method', 'Functional', 'contextualism', 'Ignoramus', 'et', 'ignorabimus', 'Inductive', 'reasoning', 'Intertheoretic', 'reduction', 'Inquiry', 'Nature', 'Objectivity', 'Observation', 'Paradigm', 'Problem', 'of', 'induction', 'Scientific', 'evidence', 'Evidence', 'based', 'practice', 'Scientific', 'law', 'Scientific', 'method', 'Scientific', 'pluralism', 'Scientific', 'Revolution', 'Scientific', 'theory', 'Testability', 'Theory', 'choice', 'Theory', 'ladenness', 'Underdetermination', 'Unity', 'of', 'science', 'more', 'Theories', 'Coherentism', 'Confirmation', 'holism', 'Constructive', 'empiricism', 'Constructive', 'realism', 'Constructivist', 'epistemology', 'Contextualism', 'Conventionalism', 'Deductive', 'nomological', 'model', 'Epistemological', 'anarchism', 'Evolutionism', 'Fallibilism', 'Foundationalism', 'Hypothetico', 'deductive', 'model', 'Inductionism', 'Instrumentalism', 'Model', 'dependent', 'realism', 'Naturalism', 'Physicalism', 'Positivism', 'Reductionism', 'Determinism', 'Pragmatism', 'Rationalism', 'Empiricism', 'Received', 'view', 'Semantic', 'view', 'of', 'theories', 'Scientific', 'essentialism', 'Scientific', 'formalism', 'Scientific', 'realism', 'Anti', 'realism', 'Scientific', 'skepticism', 'Scientism', 'Structuralism', 'Uniformitarianism', 'Vitalism', 'Philosophy', 'of', 'Biology', 'Chemistry', 'Physics', 'Space', 'and', 'time', 'Social', 'science', 'Archaeology', 'Economics', 'Geography', 'History', 'Linguistics', 'Psychology', 'Related', 'topics', 'Criticism', 'of', 'science', 'Descriptive', 'science', 'Epistemology', 'Faith', 'and', 'rationality', 'Hard', 'and', 'soft', 'science', 'History', 'and', 'philosophy', 'of', 'science', 'Normative', 'science', 'Protoscience', 'Pseudoscience', 'Relationship', 'between', 'religion', 'and', 'science', 'Rhetoric', 'of', 'science', 'Science', 'studies', 'Sociology', 'of', 'scientific', 'ignorance', 'Sociology', 'of', 'scientific', 'knowledge', 'Philosophers', 'of', 'sciencePrecursors', 'Roger', 'Bacon', 'Francis', 'Bacon', 'Galileo', 'Galilei', 'Isaac', 'Newton', 'David', 'Hume', 'Auguste', 'Comte', 'Henri', 'Poincaré', 'Pierre', 'Duhem', 'Rudolf', 'Steiner', 'Karl', 'Pearson', 'Charles', 'Sanders', 'Peirce', 'Wilhelm', 'Windelband', 'Alfred', 'North', 'Whitehead', 'Bertrand', 'Russell', 'Otto', 'Neurath', 'C', 'D', 'Broad', 'Michael', 'Polanyi', 'Hans', 'Reichenbach', 'Rudolf', 'Carnap', 'Karl', 'Popper', 'Carl', 'Gustav', 'Hempel', 'W', 'V', 'O', 'Quine', 'Thomas', 'Kuhn', 'Imre', 'Lakatos', 'Paul', 'Feyerabend', 'Ian', 'Hacking', 'Bas', 'van', 'Fraassen', 'Larry', 'Laudan', 'Category', 'Philosophy', 'portal', 'Science', 'portal', 'vteEvolutionary', 'computationMain', 'Topics', 'Evolutionary', 'algorithm', 'Evolutionary', 'data', 'mining', 'Evolutionary', 'multimodal', 'optimization', 'Human', 'based', 'evolutionary', 'computation', 'Interactive', 'evolutionary', 'computation', 'Algorithms', 'Cellular', 'evolutionary', 'algorithm', 'Covariance', 'Matrix', 'Adaptation', 'Evolution', 'Strategy', 'CMA', 'ES', 'Cultural', 'algorithm', 'Differential', 'evolution', 'Evolutionary', 'programming', 'Genetic', 'algorithm', 'Genetic', 'programming', 'Gene', 'expression', 'programming', 'Evolution', 'strategy', 'Natural', 'evolution', 'strategy', 'Neuroevolution', 'Learning', 'classifier', 'system', 'Related', 'techniques', 'Swarm', 'intelligence', 'Ant', 'colony', 'optimization', 'Bees', 'algorithm', 'Cuckoo', 'search', 'Particle', 'swarm', 'optimization', 'Bacterial', 'Colony', 'Optimization', 'Metaheuristic', 'methods', 'Firefly', 'algorithm', 'Harmony', 'search', 'Gaussian', 'adaptation', 'Memetic', 'algorithm', 'Related', 'topics', 'Artificial', 'development', 'Artificial', 'intelligence', 'Artificial', 'life', 'Digital', 'organism', 'Evolutionary', 'robotics', 'Fitness', 'function', 'Fitness', 'landscape', 'Fitness', 'approximation', 'Genetic', 'operators', 'Interactive', 'evolutionary', 'computation', 'No', 'free', 'lunch', 'in', 'search', 'and', 'optimization', 'Machine', 'learning', 'Mating', 'pool', 'Program', 'synthesis', 'Journals', 'Evolutionary', 'Computation', 'journal', 'vteDifferentiable', 'computingGeneral', 'Differentiable', 'programming', 'Information', 'geometry', 'Statistical', 'manifold', 'Automatic', 'differentiation', 'Neuromorphic', 'engineering', 'Pattern', 'recognition', 'Tensor', 'calculus', 'Computational', 'learning', 'theory', 'Inductive', 'bias', 'Concepts', 'Gradient', 'descent', 'SGD', 'Clustering', 'Regression', 'Overfitting', 'Hallucination', 'Adversary', 'Attention', 'Convolution', 'Loss', 'functions', 'Backpropagation', 'Batchnorm', 'Activation', 'Softmax', 'Sigmoid', 'Rectifier', 'Regularization', 'Datasets', 'Augmentation', 'Diffusion', 'Autoregression', 'Applications', 'Machine', 'learning', 'In', 'context', 'learning', 'Artificial', 'neural', 'network', 'Deep', 'learning', 'Scientific', 'computing', 'Artificial', 'Intelligence', 'Language', 'model', 'Large', 'language', 'model', 'Hardware', 'IPU', 'TPU', 'VPU', 'Memristor', 'SpiNNaker', 'Software', 'libraries', 'TensorFlow', 'PyTorch', 'Keras', 'Theano', 'JAX', 'Flux', 'jl', 'MindSpore', 'ImplementationsAudio', 'visual', 'AlexNet', 'WaveNet', 'Human', 'image', 'synthesis', 'HWR', 'OCR', 'Speech', 'synthesis', 'Speech', 'recognition', 'Facial', 'recognition', 'AlphaFold', 'Text', 'to', 'image', 'models', 'DALL', 'E', 'Midjourney', 'Stable', 'Diffusion', 'Text', 'to', 'video', 'models', 'Sora', 'VideoPoet', 'Whisper', 'Verbal', 'Word2vec', 'Seq2seq', 'BERT', 'Gemini', 'LaMDA', 'Bard', 'NMT', 'Project', 'Debater', 'IBM', 'Watson', 'IBM', 'Watsonx', 'Granite', 'GPT', '1', 'GPT', '2', 'GPT', '3', 'GPT', '4', 'ChatGPT', 'GPT', 'J', 'Chinchilla', 'AI', 'PaLM', 'BLOOM', 'LLaMA', 'PanGu', 'Σ', 'Decisional', 'AlphaGo', 'AlphaZero', 'Q', 'learning', 'SARSA', 'OpenAI', 'Five', 'Self', 'driving', 'car', 'MuZero', 'Action', 'selection', 'Auto', 'GPT', 'Robot', 'control', 'People', 'Yoshua', 'Bengio', 'Alex', 'Graves', 'Ian', 'Goodfellow', 'Stephen', 'Grossberg', 'Demis', 'Hassabis', 'Geoffrey', 'Hinton', 'Yann', 'LeCun', 'Fei', 'Fei', 'Li', 'Andrew', 'Ng', 'Jürgen', 'Schmidhuber', 'David', 'Silver', 'Ilya', 'Sutskever', 'Organizations', 'Anthropic', 'EleutherAI', 'Google', 'DeepMind', 'Hugging', 'Face', 'OpenAI', 'Meta', 'AI', 'Mila', 'MIT', 'CSAIL', 'Huawei', 'Architectures', 'Neural', 'Turing', 'machine', 'Differentiable', 'neural', 'computer', 'Transformer', 'Recurrent', 'neural', 'network', 'RNN', 'Long', 'short', 'term', 'memory', 'LSTM', 'Gated', 'recurrent', 'unit', 'GRU', 'Echo', 'state', 'network', 'Multilayer', 'perceptron', 'MLP', 'Convolutional', 'neural', 'network', 'Residual', 'neural', 'network', 'Mamba', 'Autoencoder', 'Variational', 'autoencoder', 'VAE', 'Generative', 'adversarial', 'network', 'GAN', 'Graph', 'neural', 'network', 'Portals', 'Computer', 'programming', 'Technology', 'Categories', 'Artificial', 'neural', 'networks', 'Machine', 'learning', 'vteComputer', 'scienceNote', 'This', 'template', 'roughly', 'follows', 'the', '2012', 'ACM', 'Computing', 'Classification', 'System', 'Hardware', 'Printed', 'circuit', 'board', 'Peripheral', 'Integrated', 'circuit', 'Very', 'Large', 'Scale', 'Integration', 'Systems', 'on', 'Chip', 'SoCs', 'Energy', 'consumption', 'Green', 'computing', 'Electronic', 'design', 'automation', 'Hardware', 'acceleration', 'Computer', 'systems', 'organization', 'Computer', 'architecture', 'Computational', 'complexity', 'Dependability', 'Embedded', 'system', 'Real', 'time', 'computing', 'Networks', 'Network', 'architecture', 'Network', 'protocol', 'Network', 'components', 'Network', 'scheduler', 'Network', 'performance', 'evaluation', 'Network', 'service', 'Software', 'organization', 'Interpreter', 'Middleware', 'Virtual', 'machine', 'Operating', 'system', 'Software', 'quality', 'Software', 'notations', 'and', 'tools', 'Programming', 'paradigm', 'Programming', 'language', 'Compiler', 'Domain', 'specific', 'language', 'Modeling', 'language', 'Software', 'framework', 'Integrated', 'development', 'environment', 'Software', 'configuration', 'management', 'Software', 'library', 'Software', 'repository', 'Software', 'development', 'Control', 'variable', 'Software', 'development', 'process', 'Requirements', 'analysis', 'Software', 'design', 'Software', 'construction', 'Software', 'deployment', 'Software', 'engineering', 'Software', 'maintenance', 'Programming', 'team', 'Open', 'source', 'model', 'Theory', 'of', 'computation', 'Model', 'of', 'computation', 'Formal', 'language', 'Automata', 'theory', 'Computability', 'theory', 'Computational', 'complexity', 'theory', 'Logic', 'Semantics', 'Algorithms', 'Algorithm', 'design', 'Analysis', 'of', 'algorithms', 'Algorithmic', 'efficiency', 'Randomized', 'algorithm', 'Computational', 'geometry', 'Mathematics', 'of', 'computing', 'Discrete', 'mathematics', 'Probability', 'Statistics', 'Mathematical', 'software', 'Information', 'theory', 'Mathematical', 'analysis', 'Numerical', 'analysis', 'Theoretical', 'computer', 'science', 'Information', 'systems', 'Database', 'management', 'system', 'Information', 'storage', 'systems', 'Enterprise', 'information', 'system', 'Social', 'information', 'systems', 'Geographic', 'information', 'system', 'Decision', 'support', 'system', 'Process', 'control', 'system', 'Multimedia', 'information', 'system', 'Data', 'mining', 'Digital', 'library', 'Computing', 'platform', 'Digital', 'marketing', 'World', 'Wide', 'Web', 'Information', 'retrieval', 'Security', 'Cryptography', 'Formal', 'methods', 'Security', 'hacker', 'Security', 'services', 'Intrusion', 'detection', 'system', 'Hardware', 'security', 'Network', 'security', 'Information', 'security', 'Application', 'security', 'Human', 'computer', 'interaction', 'Interaction', 'design', 'Social', 'computing', 'Ubiquitous', 'computing', 'Visualization', 'Accessibility', 'Concurrency', 'Concurrent', 'computing', 'Parallel', 'computing', 'Distributed', 'computing', 'Multithreading', 'Multiprocessing', 'Artificial', 'intelligence', 'Natural', 'language', 'processing', 'Knowledge', 'representation', 'and', 'reasoning', 'Computer', 'vision', 'Automated', 'planning', 'and', 'scheduling', 'Search', 'methodology', 'Control', 'method', 'Philosophy', 'of', 'artificial', 'intelligence', 'Distributed', 'artificial', 'intelligence', 'Machine', 'learning', 'Supervised', 'learning', 'Unsupervised', 'learning', 'Reinforcement', 'learning', 'Multi', 'task', 'learning', 'Cross', 'validation', 'Graphics', 'Animation', 'Rendering', 'Photograph', 'manipulation', 'Graphics', 'processing', 'unit', 'Mixed', 'reality', 'Virtual', 'reality', 'Image', 'compression', 'Solid', 'modeling', 'Applied', 'computing', 'Quantum', 'Computing', 'E', 'commerce', 'Enterprise', 'software', 'Computational', 'mathematics', 'Computational', 'physics', 'Computational', 'chemistry', 'Computational', 'biology', 'Computational', 'social', 'science', 'Computational', 'engineering', 'Differentiable', 'computing', 'Computational', 'healthcare', 'Digital', 'art', 'Electronic', 'publishing', 'Cyberwarfare', 'Electronic', 'voting', 'Video', 'games', 'Word', 'processing', 'Operations', 'research', 'Educational', 'technology', 'Document', 'management', 'Category', 'Outline', 'WikiProject', 'Commons', 'vteEmerging', 'technologiesFieldsInformation', 'andcommunications', 'Ambient', 'intelligence', 'Internet', 'of', 'things', 'Artificial', 'intelligence', 'Applications', 'of', 'artificial', 'intelligence', 'Machine', 'translation', 'Machine', 'vision', 'Mobile', 'translation', 'Progress', 'in', 'artificial', 'intelligence', 'Semantic', 'Web', 'Speech', 'recognition', 'Atomtronics', 'Carbon', 'nanotube', 'field', 'effect', 'transistor', 'Cybermethodology', 'Fourth', 'generation', 'optical', 'discs', '3D', 'optical', 'data', 'storage', 'Holographic', 'data', 'storage', 'GPGPU', 'Memory', 'CBRAM', 'ECRAM', 'FRAM', 'Millipede', 'MRAM', 'NRAM', 'PRAM', 'Racetrack', 'memory', 'RRAM', 'SONOS', 'UltraRAM', 'Optical', 'computing', 'RFID', 'Chipless', 'RFID', 'Software', 'defined', 'radio', 'Three', 'dimensional', 'integrated', 'circuit', 'Topics', 'Automation', 'Collingridge', 'dilemma', 'Differential', 'technological', 'development', 'Disruptive', 'innovation', 'Ephemeralization', 'Ethics', 'Bioethics', 'Cyberethics', 'Neuroethics', 'Robot', 'ethics', 'Exploratory', 'engineering', 'Proactionary', 'principle', 'Technological', 'change', 'Technological', 'unemployment', 'Technological', 'convergence', 'Technological', 'evolution', 'Technological', 'paradigm', 'Technology', 'forecasting', 'Accelerating', 'change', 'Future', 'oriented', 'technology', 'analysis', 'Horizon', 'scanning', 'Moore', 's', 'law', 'Technological', 'singularity', 'Technology', 'scouting', 'Technology', 'in', 'science', 'fiction', 'Technology', 'readiness', 'level', 'Technology', 'roadmap', 'Transhumanism', 'List', 'vteRoboticsMain', 'articles', 'Outline', 'Glossary', 'Index', 'History', 'Geography', 'Hall', 'of', 'Fame', 'Ethics', 'Laws', 'Competitions', 'AI', 'competitions', 'Types', 'Aerobot', 'Anthropomorphic', 'Humanoid', 'Android', 'Cyborg', 'Gynoid', 'Claytronics', 'Companion', 'Automaton', 'Animatronic', 'Audio', 'Animatronics', 'Industrial', 'Articulated', 'arm', 'Domestic', 'Educational', 'Entertainment', 'Juggling', 'Military', 'Medical', 'Service', 'Disability', 'Agricultural', 'Food', 'service', 'Retail', 'BEAM', 'robotics', 'Soft', 'robotics', 'Classifications', 'Biorobotics', 'Cloud', 'robotics', 'Continuum', 'robot', 'Unmanned', 'vehicle', 'aerial', 'ground', 'Mobile', 'robot', 'Microbotics', 'Nanorobotics', 'Necrobotics', 'Robotic', 'spacecraft', 'Space', 'probe', 'Swarm', 'Telerobotics', 'Underwater', 'remotely', 'operated', 'Robotic', 'fish', 'Locomotion', 'Tracks', 'Walking', 'Hexapod', 'Climbing', 'Electric', 'unicycle', 'Robotic', 'fins', 'Navigation', 'and', 'mapping', 'Motion', 'planning', 'Simultaneous', 'localization', 'and', 'mapping', 'Visual', 'odometry', 'Vision', 'guided', 'robot', 'systems', 'Research', 'Evolutionary', 'Kits', 'Simulator', 'Suite', 'Open', 'source', 'Software', 'Adaptable', 'Developmental', 'Human', 'robot', 'interaction', 'Paradigms', 'Perceptual', 'Situated', 'Ubiquitous', 'Companies', 'Amazon', 'Robotics', 'Anybots', 'Barrett', 'Technology', 'Boston', 'Dynamics', 'Energid', 'Technologies', 'FarmWise', 'FANUC', 'Figure', 'AI', 'Foster', 'Miller', 'Harvest', 'Automation', 'Honeybee', 'Robotics', 'Intuitive', 'Surgical', 'IRobot', 'KUKA', 'Starship', 'Technologies', 'Symbotic', 'Universal', 'Robotics', 'Wolf', 'Robotics', 'Yaskawa', 'Related', 'Critique', 'of', 'work', 'Powered', 'exoskeleton', 'Workplace', 'robotics', 'safety', 'Robotic', 'tech', 'vest', 'Technological', 'unemployment', 'Terrainability', 'Fictional', 'robots', 'Category', 'Outline', 'vteExistential', 'risk', 'from', 'artificial', 'intelligenceConcepts', 'AGI', 'AI', 'alignment', 'AI', 'capability', 'control', 'AI', 'safety', 'AI', 'takeover', 'Consequentialism', 'Effective', 'accelerationism', 'Ethics', 'of', 'artificial', 'intelligence', 'Existential', 'risk', 'from', 'artificial', 'general', 'intelligence', 'Friendly', 'artificial', 'intelligence', 'Instrumental', 'convergence', 'Intelligence', 'explosion', 'Longtermism', 'Machine', 'ethics', 'Suffering', 'risks', 'Superintelligence', 'Technological', 'singularity', 'Organizations', 'Alignment', 'Research', 'Center', 'Center', 'for', 'AI', 'Safety', 'Center', 'for', 'Applied', 'Rationality', 'Center', 'for', 'Human', 'Compatible', 'Artificial', 'Intelligence', 'Centre', 'for', 'the', 'Study', 'of', 'Existential', 'Risk', 'EleutherAI', 'Future', 'of', 'Humanity', 'Institute', 'Future', 'of', 'Life', 'Institute', 'Google', 'DeepMind', 'Humanity', 'Institute', 'for', 'Ethics', 'and', 'Emerging', 'Technologies', 'Leverhulme', 'Centre', 'for', 'the', 'Future', 'of', 'Intelligence', 'Machine', 'Intelligence', 'Research', 'Institute', 'OpenAI', 'People', 'Scott', 'Alexander', 'Sam', 'Altman', 'Yoshua', 'Bengio', 'Nick', 'Bostrom', 'Paul', 'Christiano', 'Eric', 'Drexler', 'Sam', 'Harris', 'Stephen', 'Hawking', 'Dan', 'Hendrycks', 'Geoffrey', 'Hinton', 'Bill', 'Joy', 'Shane', 'Legg', 'Elon', 'Musk', 'Steve', 'Omohundro', 'Huw', 'Price', 'Martin', 'Rees', 'Stuart', 'J', 'Russell', 'Jaan', 'Tallinn', 'Max', 'Tegmark', 'Frank', 'Wilczek', 'Roman', 'Yampolskiy', 'Eliezer', 'Yudkowsky', 'Other', 'Statement', 'on', 'AI', 'risk', 'of', 'extinction', 'Human', 'Compatible', 'Open', 'letter', 'on', 'artificial', 'intelligence', '2015', 'Our', 'Final', 'Invention', 'The', 'Precipice', 'Superintelligence', 'Paths', 'Dangers', 'Strategies', 'Do', 'You', 'Trust', 'This', 'Computer', 'Artificial', 'Intelligence', 'Act', 'Category', 'vteSubfields', 'of', 'and', 'cyberneticians', 'involved', 'in', 'cyberneticsSubfields', 'Artificial', 'intelligence', 'Biological', 'cybernetics', 'Biomedical', 'cybernetics', 'Biorobotics', 'Biosemiotics', 'Neurocybernetics', 'Catastrophe', 'theory', 'Computational', 'neuroscience', 'Connectionism', 'Control', 'theory', 'Cybernetics', 'in', 'the', 'Soviet', 'Union', 'Decision', 'theory', 'Emergence', 'Engineering', 'cybernetics', 'Homeostasis', 'Information', 'theory', 'Management', 'cybernetics', 'Medical', 'cybernetics', 'Second', 'order', 'cybernetics', 'Semiotics', 'Sociocybernetics', 'Synergetics', 'Cyberneticians', 'Alexander', 'Lerner', 'Alexey', 'Lyapunov', 'Alfred', 'Radcliffe', 'Brown', 'Allenna', 'Leonard', 'Anthony', 'Wilden', 'Buckminster', 'Fuller', 'Charles', 'François', 'Genevieve', 'Bell', 'Margaret', 'Boden', 'Claude', 'Bernard', 'Cliff', 'Joslyn', 'Erich', 'von', 'Holst', 'Ernst', 'von', 'Glasersfeld', 'Francis', 'Heylighen', 'Francisco', 'Varela', 'Frederic', 'Vester', 'Charles', 'Geoffrey', 'Vickers', 'Gordon', 'Pask', 'Gordon', 'S', 'Brown', 'Gregory', 'Bateson', 'Heinz', 'von', 'Foerster', 'Humberto', 'Maturana', 'I', 'A', 'Richards', 'Igor', 'Aleksander', 'Jacque', 'Fresco', 'Jakob', 'von', 'Uexküll', 'Jason', 'Jixuan', 'Hu', 'Jay', 'Wright', 'Forrester', 'Jennifer', 'Wilby', 'John', 'N', 'Warfield', 'Kevin', 'Warwick', 'Ludwig', 'von', 'Bertalanffy', 'Maleyka', 'Abbaszadeh', 'Manfred', 'Clynes', 'Margaret', 'Mead', 'Marian', 'Mazur', 'N', 'Katherine', 'Hayles', 'Natalia', 'Bekhtereva', 'Niklas', 'Luhmann', 'Norbert', 'Wiener', 'Pyotr', 'Grigorenko', 'Qian', 'Xuesen', 'Ranulph', 'Glanville', 'Robert', 'Trappl', 'Sergei', 'P', 'Kurdyumov', 'Anthony', 'Stafford', 'Beer', 'Stuart', 'Kauffman', 'Stuart', 'Umpleby', 'Talcott', 'Parsons', 'Ulla', 'Mitzdorf', 'Valentin', 'Turchin', 'Valentin', 'Braitenberg', 'William', 'Ross', 'Ashby', 'Walter', 'Bradford', 'Cannon', 'Walter', 'Pitts', 'Warren', 'McCulloch', 'William', 'Grey', 'Walter', 'vteGlossaries', 'of', 'science', 'and', 'engineering', 'Aerospace', 'engineering', 'Agriculture', 'Archaeology', 'Architecture', 'Artificial', 'intelligence', 'Astronomy', 'Biology', 'Botany', 'Calculus', 'Cell', 'biology', 'Chemistry', 'Civil', 'engineering', 'Clinical', 'research', 'Computer', 'hardware', 'Computer', 'science', 'Developmental', 'and', 'reproductive', 'biology', 'Ecology', 'Economics', 'Electrical', 'and', 'electronics', 'engineering', 'Engineering', 'A', 'L', 'M', 'Z', 'Entomology', 'Environmental', 'science', 'Genetics', 'and', 'evolutionary', 'biology', 'Cellular', 'and', 'molecular', 'biology', '0', 'L', 'M', 'Z', 'Geography', 'A', 'M', 'N', 'Z', 'Arabic', 'toponyms', 'Hebrew', 'toponyms', 'Western', 'and', 'South', 'Asia', 'Geology', 'Ichthyology', 'Machine', 'vision', 'Mathematics', 'Mechanical', 'engineering', 'Medicine', 'Meteorology', 'Mycology', 'Nanotechnology', 'Ornithology', 'Physics', 'Probability', 'and', 'statistics', 'Psychiatry', 'Quantum', 'computing', 'Robotics', 'Scientific', 'naming', 'Structural', 'engineering', 'Virology', 'Authority', 'control', 'databases', 'National', 'Spain', 'France', 'BnF', 'data', 'Germany', 'Israel', 'United', 'States', 'Latvia', 'Japan', 'Czech', 'Republic', 'Retrieved', 'from', 'https', 'en', 'wikipedia', 'org', 'w', 'index', 'php', 'title', 'Artificial_intelligence', 'oldid', '1225341927', 'Categories', 'Artificial', 'intelligenceComputational', 'fields', 'of', 'studyComputational', 'neuroscienceCyberneticsData', 'scienceFormal', 'sciencesIntelligence', 'by', 'typeHidden', 'categories', 'Webarchive', 'template', 'wayback', 'linksCS1', 'maint', 'multiple', 'names', 'authors', 'listCS1', 'long', 'volume', 'valueArticles', 'with', 'short', 'descriptionShort', 'description', 'is', 'different', 'from', 'WikidataUse', 'dmy', 'dates', 'from', 'July', '2023Wikipedia', 'indefinitely', 'semi', 'protected', 'pagesPages', 'displaying', 'short', 'descriptions', 'of', 'redirect', 'targets', 'via', 'Module', 'Annotated', 'linkPages', 'using', 'Sister', 'project', 'links', 'with', 'hidden', 'wikidataArticles', 'with', 'Internet', 'Encyclopedia', 'of', 'Philosophy', 'linksArticles', 'with', 'BNE', 'identifiersArticles', 'with', 'BNF', 'identifiersArticles', 'with', 'BNFdata', 'identifiersArticles', 'with', 'GND', 'identifiersArticles', 'with', 'J9U', 'identifiersArticles', 'with', 'LCCN', 'identifiersArticles', 'with', 'LNB', 'identifiersArticles', 'with', 'NDL', 'identifiersArticles', 'with', 'NKC', 'identifiers', 'This', 'page', 'was', 'last', 'edited', 'on', '23', 'May', '2024', 'at', '20', '34', 'UTC', 'Text', 'is', 'available', 'under', 'the', 'Creative', 'Commons', 'Attribution', 'ShareAlike', 'License', '4', '0', 'additional', 'terms', 'may', 'apply', 'By', 'using', 'this', 'site', 'you', 'agree', 'to', 'the', 'Terms', 'of', 'Use', 'and', 'Privacy', 'Policy', 'Wikipedia', 'is', 'a', 'registered', 'trademark', 'of', 'the', 'Wikimedia', 'Foundation', 'Inc', 'a', 'non', 'profit', 'organization', 'Privacy', 'policy', 'About', 'Wikipedia', 'Disclaimers', 'Contact', 'Wikipedia', 'Code', 'of', 'Conduct', 'Developers', 'Statistics', 'Cookie', 'statement', 'Mobile', 'view', 'Toggle', 'limited', 'content', 'width']\n"
          ]
        }
      ]
    },
    {
      "cell_type": "markdown",
      "source": [
        "Explanation\n",
        "Initialization (__init__ Method):\n",
        "\n",
        "__init__ is a special method called a constructor. It initializes the instance attributes.\n",
        "self.name and self.age are instance attributes, which are initialized using the values passed to the constructor.\n",
        "Instance Methods (speak and birthday):\n",
        "\n",
        "The speak method uses self.name to access the instance’s name attribute.\n",
        "The birthday method modifies the instance’s age attribute using self.age.\n",
        "What Happens When You Call a Method\n",
        "When you call my_dog.speak(), Python internally translates this to Dog.speak(my_dog). This means the instance my_dog is passed as the first argument to the speak method, which is why self is needed in the method definition to receive this argument."
      ],
      "metadata": {
        "id": "BvIUiLfpUeXK"
      },
      "id": "BvIUiLfpUeXK"
    },
    {
      "cell_type": "code",
      "source": [
        "def calculate_grade(score):\n",
        "    if score >= 90:\n",
        "        return \"A\"\n",
        "    elif score >= 80:\n",
        "        return \"B\"\n",
        "    elif score >= 70:\n",
        "        return \"C\"\n",
        "    elif score >= 60:\n",
        "        return \"D\"\n",
        "    else:\n",
        "        return \"F\"\n",
        "# Example usage:\n",
        "score = float(input(\"Enter the student's score: \"))\n",
        "\n",
        "if score < 0 or score > 100:\n",
        "    print(\"Invalid score. Score must be between 0 and 100.\")\n",
        "else:\n",
        "    grade = calculate_grade(score)\n",
        "    print(\"The student's grade is:\", grade)"
      ],
      "metadata": {
        "id": "xo7tdVjWSA_J",
        "colab": {
          "base_uri": "https://localhost:8080/"
        },
        "outputId": "d8164a96-7968-4ecd-a3ee-fe3582bb3c74"
      },
      "id": "xo7tdVjWSA_J",
      "execution_count": null,
      "outputs": [
        {
          "output_type": "stream",
          "name": "stdout",
          "text": [
            "Enter the student's score: 89\n",
            "The student's grade is: B\n"
          ]
        }
      ]
    },
    {
      "cell_type": "markdown",
      "source": [
        "#Assignment 2\n",
        "Blood pressure levels can vary based on age, and there are generally accepted ranges for normal blood pressure at different ages. Here's a general guideline for blood pressure levels based on age:\n",
        "Problem Statement:\n",
        "\n",
        "Children:\n",
        "Normal blood pressure for children varies with age, height, and sex. A pediatrician can provide specific guidance based on these factors.\n",
        "\n",
        "Teenagers (13-19 years old):\n",
        "Normal blood pressure: Systolic (top number) less than 120 mm Hg and diastolic (bottom number) less than 80 mm Hg.\n",
        "Elevated blood pressure: Systolic 120-129 mm Hg and diastolic less than 80 mm Hg.\n",
        "Hypertension stage 1: Systolic 130-139 mm Hg or diastolic 80-89 mm Hg.\n",
        "Hypertension stage 2: Systolic 140 mm Hg or higher or diastolic 90 mm Hg or higher.\n",
        "\n",
        "Adults (20 years and older):\n",
        "Normal blood pressure: Systolic less than 120 mm Hg and diastolic less than 80 mm Hg.\n",
        "Elevated blood pressure: Systolic 120-129 mm Hg and diastolic less than 80 mm Hg.\n",
        "Hypertension stage 1: Systolic 130-139 mm Hg or diastolic 80-89 mm Hg.\n",
        "Hypertension stage 2: Systolic 140 mm Hg or higher or diastolic 90 mm Hg or higher.\n",
        "\n",
        "Elderly (65 years and older):\n",
        "Blood pressure goals may be different for older adults, and individualized treatment plans are recommended.\n"
      ],
      "metadata": {
        "id": "obw7eAxCsxZm"
      },
      "id": "obw7eAxCsxZm"
    },
    {
      "cell_type": "code",
      "source": [
        "\n",
        "def is_low_blood_pressure(systolic, diastolic):\n",
        "    if systolic < 90 and diastolic < 60:\n",
        "        return True\n",
        "    else:\n",
        "        return False\n",
        "def blood_pressure_category(age, systolic, diastolic):\n",
        "\n",
        "        if age < 13:\n",
        "            print(\"Blood pressure norms for children vary. Please consult a pediatrician for guidance.\")\n",
        "        elif age >= 13 and age <= 19:\n",
        "            if systolic < 120 and diastolic < 80:\n",
        "                print(\"Normal blood pressure\")\n",
        "            elif systolic >= 120  and diastolic < 80:\n",
        "                print(\"Elevated blood pressure\")\n",
        "            elif systolic >= 130 and diastolic <= 89:\n",
        "                print(\"Hypertension stage 1\")\n",
        "            else:\n",
        "                print(\"Hypertension stage 2\")\n",
        "        elif age >= 20 and age < 65:\n",
        "            if systolic < 120 and diastolic < 80:\n",
        "                print(\"Normal blood pressure\")\n",
        "            elif systolic >= 120 and diastolic < 80:\n",
        "                print(\"Elevated blood pressure\")\n",
        "            elif (systolic >= 130 or systolic <= 139) and (diastolic >= 80 and diastolic <= 89):\n",
        "                print(\"Hypertension stage 1\")\n",
        "            else:\n",
        "                print(\"Hypertension stage 2\")\n",
        "        else:\n",
        "            print(\"Blood pressure goals may be different for older adults. Individualized treatment plans are recommended.\")\n",
        "try:\n",
        "    age = int(input(\"Enter age: \"))\n",
        "    if age <=0:\n",
        "        raise Exception(\"Numbers 0 and below not accepted\")\n",
        "    elif age < 13:\n",
        "        print(\"Blood pressure norms for children vary. Please consult a pediatrician for guidance.\")\n",
        "    elif age>=13:\n",
        "        systolic = int(input(\"Enter systolic blood pressure: \"))\n",
        "        diastolic = int(input(\"Enter diastolic blood pressure: \"))\n",
        "        if systolic >=90 and diastolic >=60:\n",
        "            print(f\"Systolic: {systolic} mm Hg\")\n",
        "            print(f\"Diastolic: {diastolic} mm Hg\")\n",
        "            blood_pressure_category(age, systolic, diastolic)\n",
        "\n",
        "    if is_low_blood_pressure(systolic, diastolic):\n",
        "        print(\"The blood pressure is low and need Medical Attention\")\n",
        "    else:\n",
        "        pass\n",
        "except ValueError:\n",
        "    print(\"Enter proper value\")\n",
        "except:\n",
        "    print(\"zero or lesser not accepted\")\n",
        "    print(f\"your age is:{age} inappropriate\")\n",
        "\n",
        "finally:\n",
        "    print(\"Thank you. Have a Good Day!\")\n"
      ],
      "metadata": {
        "id": "Bq7ZdLITsWLY"
      },
      "id": "Bq7ZdLITsWLY",
      "execution_count": null,
      "outputs": []
    },
    {
      "cell_type": "code",
      "source": [
        "def is_valid_blood_pressure(systolic, diastolic):\n",
        "    # Check for negative values\n",
        "    if systolic < 0 or diastolic < 0:\n",
        "        return False, \"Negative values\"\n",
        "\n",
        "    # Check for extremely high values\n",
        "    if systolic > 200 or diastolic > 120:  # Example thresholds (adjust as needed)\n",
        "        return False, \"Extremely high values\"\n",
        "\n",
        "    # If both systolic and diastolic values pass the checks, return True\n",
        "    return True, \"Valid\"\n",
        "\n",
        "def Blood_pressure_levels(systolic,diastolic):\n",
        "    if systolic < 120 and diastolic < 80:\n",
        "        print(\"Normal blood pressure\")\n",
        "    elif systolic >= 120  and diastolic <= 80:\n",
        "        print(\"Elevated blood pressure\")\n",
        "    elif systolic >= 130 and diastolic <= 89:\n",
        "        print(\"Hypertension stage 1\")\n",
        "    else:\n",
        "        print(\"Hypertension stage 2\")\n",
        "\n",
        "def is_low_blood_pressure(systolic, diastolic):\n",
        "    if systolic < 90 and diastolic < 60:\n",
        "        return True\n",
        "    else:\n",
        "        return False\n",
        "systolic = int(input(\"Enter systolic blood pressure: \"))\n",
        "diastolic = int(input(\"Enter diastolic blood pressure: \"))\n",
        "#Validation for systolic and diastolic values\n",
        "valid, reason = is_valid_blood_pressure(systolic, diastolic)\n",
        "if valid:\n",
        "    print(\"Blood pressure values are valid.\")\n",
        "else:\n",
        "    print(\"Invalid blood pressure values. Reason:\", reason)\n",
        "\n",
        "print(f\"Systolic: {systolic} mm Hg\")\n",
        "print(f\"Diastolic: {diastolic} mm Hg\")\n",
        "\n",
        "if systolic>=90 and diastolic >=60:\n",
        "    Blood_pressure_levels(systolic,diastolic)\n",
        "else:\n",
        "    if is_low_blood_pressure(systolic, diastolic):\n",
        "        print(\"The blood pressure is low and need Medical Attention\")\n",
        "    else:\n",
        "        pass\n"
      ],
      "metadata": {
        "id": "Yq4FzEXntJ5x"
      },
      "id": "Yq4FzEXntJ5x",
      "execution_count": null,
      "outputs": []
    },
    {
      "cell_type": "code",
      "source": [
        "1/3"
      ],
      "metadata": {
        "id": "KN2C1ggbs07Q",
        "colab": {
          "base_uri": "https://localhost:8080/"
        },
        "outputId": "1a3f33e9-6d5f-45da-d092-12b1708921c8"
      },
      "id": "KN2C1ggbs07Q",
      "execution_count": null,
      "outputs": [
        {
          "output_type": "execute_result",
          "data": {
            "text/plain": [
              "0.3333333333333333"
            ]
          },
          "metadata": {},
          "execution_count": 1
        }
      ]
    },
    {
      "cell_type": "code",
      "source": [
        "4,6,2,8,9,7,-1,36,-28"
      ],
      "metadata": {
        "colab": {
          "base_uri": "https://localhost:8080/"
        },
        "id": "imfuB-fp2ARA",
        "outputId": "6133e3a3-90b9-405c-e33f-32d44d2efa8d"
      },
      "id": "imfuB-fp2ARA",
      "execution_count": null,
      "outputs": [
        {
          "output_type": "execute_result",
          "data": {
            "text/plain": [
              "(4, 6, 2, 8, 9, 7, -1, 36, -28)"
            ]
          },
          "metadata": {},
          "execution_count": 5
        }
      ]
    },
    {
      "cell_type": "code",
      "source": [
        "-28,-1,2,4,6,7,8,9,36"
      ],
      "metadata": {
        "id": "VUmjRILY2YGS"
      },
      "id": "VUmjRILY2YGS",
      "execution_count": null,
      "outputs": []
    }
  ],
  "metadata": {
    "kernelspec": {
      "display_name": "Python 3 (ipykernel)",
      "language": "python",
      "name": "python3"
    },
    "language_info": {
      "codemirror_mode": {
        "name": "ipython",
        "version": 3
      },
      "file_extension": ".py",
      "mimetype": "text/x-python",
      "name": "python",
      "nbconvert_exporter": "python",
      "pygments_lexer": "ipython3",
      "version": "3.10.9"
    },
    "colab": {
      "provenance": []
    }
  },
  "nbformat": 4,
  "nbformat_minor": 5
}