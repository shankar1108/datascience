{
  "cells": [
    {
      "cell_type": "code",
      "source": [
        "# Operators\n",
        "# Arithmetic operators\n",
        "first_num = 5\n",
        "second_num = 3\n",
        "\n",
        "print(first_num + second_num)\n",
        "print(first_num - second_num)\n",
        "print(first_num * second_num)\n",
        "print(first_num / second_num)\n",
        "print(first_num // second_num) # floor division or double division\n",
        "print(first_num % second_num)\n",
        "print(first_num ** second_num) # exponential"
      ],
      "metadata": {
        "colab": {
          "base_uri": "https://localhost:8080/"
        },
        "id": "ILcoOC_fzRoN",
        "outputId": "f9d6ee22-78bb-4a6b-d2f2-e9733db77b13"
      },
      "id": "ILcoOC_fzRoN",
      "execution_count": null,
      "outputs": [
        {
          "output_type": "stream",
          "name": "stdout",
          "text": [
            "8\n",
            "2\n",
            "15\n",
            "1.6666666666666667\n",
            "1\n",
            "2\n",
            "125\n"
          ]
        }
      ]
    },
    {
      "cell_type": "code",
      "source": [
        "# Assignment operator\n",
        "first_num = 25\n",
        "\n",
        "# first_num = first_num + 10\n",
        "print(first_num)\n",
        "first_num += 10\n",
        "print(first_num)\n",
        "first_num -= 10\n",
        "first_num *= 10\n",
        "first_num /= 10\n",
        "first_num //= 10\n",
        "first_num %= 10\n",
        "first_num **= 10\n",
        "#print(first_num)"
      ],
      "metadata": {
        "colab": {
          "base_uri": "https://localhost:8080/"
        },
        "id": "pNaIRjvQzWoQ",
        "outputId": "953c5838-662f-4dae-99f2-f6fe777e6a7d"
      },
      "id": "pNaIRjvQzWoQ",
      "execution_count": null,
      "outputs": [
        {
          "output_type": "stream",
          "name": "stdout",
          "text": [
            "25\n",
            "35\n"
          ]
        }
      ]
    },
    {
      "cell_type": "code",
      "source": [
        " #comparison operators -> Boolean(True or False)\n",
        "print(10 > 5)\n",
        "print(10 >= 5)\n",
        "print(10 < 5)\n",
        "print(10 <= 5)\n",
        "print(10 == 10)\n",
        "print(10 == '10') # data type also will be checked will comparing"
      ],
      "metadata": {
        "colab": {
          "base_uri": "https://localhost:8080/"
        },
        "id": "8jSyru_EzTCR",
        "outputId": "07b0cdfb-5b55-43e3-cd90-f56b1e764aff"
      },
      "id": "8jSyru_EzTCR",
      "execution_count": null,
      "outputs": [
        {
          "output_type": "stream",
          "name": "stdout",
          "text": [
            "True\n",
            "True\n",
            "False\n",
            "False\n",
            "True\n",
            "False\n"
          ]
        }
      ]
    },
    {
      "cell_type": "code",
      "source": [
        "# logical operators -> and, or, not\n",
        "\n",
        "age = 19\n",
        "voter_id = False\n",
        "\n",
        "# print(age >= 18 and voter_id == True) # both condition need to be satisfied\n",
        "# print(age >= 18 or voter_id == True) # any one condition need to be satisfied\n",
        "\n",
        "# True -> False or vice versa => not\n",
        "print(not(10 > 5))\n",
        "print(not(10 < 5))"
      ],
      "metadata": {
        "colab": {
          "base_uri": "https://localhost:8080/"
        },
        "id": "Ynjgar8WzjC_",
        "outputId": "b6299849-7cd3-43c2-cbde-3f0f732c1998"
      },
      "id": "Ynjgar8WzjC_",
      "execution_count": null,
      "outputs": [
        {
          "output_type": "stream",
          "name": "stdout",
          "text": [
            "False\n",
            "True\n"
          ]
        }
      ]
    },
    {
      "cell_type": "code",
      "source": [
        "# identity operators -> is, is not (address comparison)\n",
        "# num = 10.5\n",
        "# print(type(num) is int)\n",
        "# print(type(num) is not int)\n",
        "\n",
        "# in python memories are efficiently managed (upto 256 -> same address)\n",
        "a = 256\n",
        "b = 256\n",
        "print(\"address of a\", id(a))\n",
        "print('address of b', id(b))\n",
        "print (a is b)\n",
        "\n",
        "a = 1\n",
        "b = 2\n",
        "print(\"address of a\", id(a))\n",
        "print('address of b', id(b))\n",
        "print (a is b)"
      ],
      "metadata": {
        "colab": {
          "base_uri": "https://localhost:8080/"
        },
        "id": "bV3UcI5bzrc3",
        "outputId": "c518b277-dfa9-4f55-97ab-c26b45de4e35"
      },
      "id": "bV3UcI5bzrc3",
      "execution_count": null,
      "outputs": [
        {
          "output_type": "stream",
          "name": "stdout",
          "text": [
            "address of a 132284826165456\n",
            "address of b 132284826165456\n",
            "True\n",
            "address of a 132284826157296\n",
            "address of b 132284826157328\n",
            "False\n"
          ]
        }
      ]
    },
    {
      "cell_type": "code",
      "execution_count": null,
      "id": "bc460871",
      "metadata": {
        "id": "bc460871",
        "outputId": "5f447208-92db-487c-e8a4-d265fb35d1b2"
      },
      "outputs": [
        {
          "name": "stdout",
          "output_type": "stream",
          "text": [
            "False\n",
            "True\n"
          ]
        }
      ],
      "source": [
        "# logical operators -> and, or, not\n",
        "\n",
        "age = 19\n",
        "voter_id = False\n",
        "\n",
        "# print(age >= 18 and voter_id == True) # both condition need to be satisfied\n",
        "# print(age >= 18 or voter_id == True) # any one condition need to be satisfied\n",
        "\n",
        "# True -> False or vice versa => not\n",
        "print(not(10 > 5))\n",
        "print(not(10 < 5))"
      ]
    },
    {
      "cell_type": "code",
      "execution_count": null,
      "id": "e5033216",
      "metadata": {
        "id": "e5033216",
        "outputId": "4504f00d-3f97-4fbe-89e8-18923d7fa3fa"
      },
      "outputs": [
        {
          "name": "stdout",
          "output_type": "stream",
          "text": [
            "address of a 1899056425360\n",
            "address of b 1899056425360\n",
            "True\n",
            "address of a 1899056228656\n",
            "address of b 1899056228688\n",
            "False\n"
          ]
        }
      ],
      "source": [
        "# identity operators -> is, is not (address comparison)\n",
        "# num = 10.5\n",
        "# print(type(num) is int)\n",
        "# print(type(num) is not int)\n",
        "\n",
        "# in python memories are efficiently managed (upto 256 -> same address)\n",
        "a = 256\n",
        "b = 256\n",
        "print(\"address of a\", id(a))\n",
        "print('address of b', id(b))\n",
        "print (a is b)\n",
        "\n",
        "a = 1\n",
        "b = 2\n",
        "print(\"address of a\", id(a))\n",
        "print('address of b', id(b))\n",
        "print (a is b)"
      ]
    },
    {
      "cell_type": "code",
      "source": [
        "# membership operator -> in, not in\n",
        "news = 'India won the world cup 2023'\n",
        "# print('India' in news)\n",
        "# print('india' in news) # python is case sensitive\n",
        "\n",
        "print('pakistan' not in news)"
      ],
      "metadata": {
        "id": "Qc0YtNG2z7Ah"
      },
      "id": "Qc0YtNG2z7Ah",
      "execution_count": null,
      "outputs": []
    },
    {
      "cell_type": "code",
      "execution_count": null,
      "id": "eaf82b03",
      "metadata": {
        "id": "eaf82b03",
        "outputId": "0613b8d9-5363-4478-9f60-c6f5f58948b2"
      },
      "outputs": [
        {
          "name": "stdout",
          "output_type": "stream",
          "text": [
            "True\n"
          ]
        }
      ],
      "source": [
        "# membership operator -> in, not in\n",
        "news = 'India won the world cup 2023'\n",
        "# print('India' in news)\n",
        "# print('india' in news) # python is case sensitive\n",
        "\n",
        "print('pakistan' not in news)"
      ]
    },
    {
      "cell_type": "code",
      "execution_count": null,
      "id": "f0c0f32d",
      "metadata": {
        "id": "f0c0f32d",
        "outputId": "06b4561a-ceb5-48c5-cee8-01532bae990f"
      },
      "outputs": [
        {
          "name": "stdout",
          "output_type": "stream",
          "text": [
            "-11\n",
            "9\n"
          ]
        }
      ],
      "source": [
        "# bitwise operators\n",
        "\n",
        "# # bitwise and\n",
        "# print(2 & 3)\n",
        "# print(9 & 5)\n",
        "\n",
        "# # bitwise or\n",
        "# print(2 | 3)\n",
        "# print(9 | 5)\n",
        "\n",
        "# # bitwise XOR\n",
        "# print(2 ^ 3)\n",
        "# print(9 ^ 5)\n",
        "\n",
        "# bitwise left shift, << (doubling)\n",
        "# print(3 << 0) # num1 * 2^num2\n",
        "# print(3 << 1)\n",
        "# print(3 << 2)\n",
        "# print(3 << 3)\n",
        "# print(120 << 7)\n",
        "\n",
        "# bitwise right shift (reducing by half)\n",
        "# print(8 >> 0) # num1 // 2^num2\n",
        "# print(8 >> 1)\n",
        "# print(8 >> 2)\n",
        "# print(8 >> 3)\n",
        "# print(128 >> 5)\n",
        "# print(120 >> 4)\n",
        "# print(193 >> 4)\n",
        "\n",
        "# bitwise not\n",
        "print(~10)\n",
        "print(~-10)"
      ]
    },
    {
      "cell_type": "code",
      "execution_count": null,
      "id": "73237c44",
      "metadata": {
        "id": "73237c44",
        "outputId": "2d55694c-c7b2-4d91-b1a2-541df0bcc0bc"
      },
      "outputs": [
        {
          "name": "stdout",
          "output_type": "stream",
          "text": [
            "0\n",
            "0\n"
          ]
        }
      ],
      "source": [
        "# remainder\n",
        "# print(10 % 3)\n",
        "# print(-10 % 3)\n",
        "\n",
        "# remainder theorem\n",
        "# rem = number - (divisor * quotient)\n",
        "\n",
        "# floor division\n",
        "# print(-10//3)\n"
      ]
    },
    {
      "cell_type": "code",
      "execution_count": null,
      "id": "172ba498",
      "metadata": {
        "id": "172ba498",
        "outputId": "f01092e8-4a7d-4d9d-ebbc-f40897b9f7a3"
      },
      "outputs": [
        {
          "name": "stdout",
          "output_type": "stream",
          "text": [
            "4\n",
            "5\n"
          ]
        }
      ],
      "source": [
        "# python handles upto 16 decimal points\n",
        "import math\n",
        "print(math.ceil(4.0000000000000001))\n",
        "print(math.floor(4.9999999999999999))"
      ]
    },
    {
      "cell_type": "code",
      "execution_count": null,
      "id": "a2f937b6",
      "metadata": {
        "id": "a2f937b6"
      },
      "outputs": [],
      "source": [
        "a,b,c = 10,20,50\n",
        "#result = (a + b)//c\n",
        "print(\"The result is {}\".format(c))"
      ]
    },
    {
      "cell_type": "code",
      "source": [
        "a = 10\n",
        "b = 20\n",
        "c = a**2\n",
        "print(c)\n",
        "d = b**2\n",
        "print(d)\n",
        "result = d - c\n",
        "result -= 100\n",
        "print(result)"
      ],
      "metadata": {
        "id": "EZRvWJRB0GJ4"
      },
      "id": "EZRvWJRB0GJ4",
      "execution_count": null,
      "outputs": []
    },
    {
      "cell_type": "code",
      "source": [
        "# while loop -> entry controlled loop\n",
        "# 1 to 10\n",
        "\n",
        "i = 1\n",
        "while(i < 11):\n",
        "    print(i)\n",
        "    i += 1"
      ],
      "metadata": {
        "colab": {
          "base_uri": "https://localhost:8080/"
        },
        "id": "YNuddgx67-UP",
        "outputId": "2a5b3659-809d-4655-eac2-aaafb18944c7"
      },
      "id": "YNuddgx67-UP",
      "execution_count": null,
      "outputs": [
        {
          "output_type": "stream",
          "name": "stdout",
          "text": [
            "1\n",
            "2\n",
            "3\n",
            "4\n",
            "5\n",
            "6\n",
            "7\n",
            "8\n",
            "9\n",
            "10\n"
          ]
        }
      ]
    },
    {
      "cell_type": "code",
      "source": [
        "# terminal\n",
        "while (True):\n",
        "    command = input('C:/admin/user> ')\n",
        "    if (command == 'add'): print('adding')\n",
        "    elif command == 'sub': print('subtracting')\n",
        "    elif command == 'mul': print('muiltiplying')\n",
        "    elif command == 'quit':\n",
        "        print('quitting...')\n",
        "        break\n",
        "    else: print('Invalid command')"
      ],
      "metadata": {
        "colab": {
          "base_uri": "https://localhost:8080/"
        },
        "id": "lC3ZJaVr8B_-",
        "outputId": "0efe36c3-6cca-443a-8e01-1ae2a4b4c823"
      },
      "id": "lC3ZJaVr8B_-",
      "execution_count": null,
      "outputs": [
        {
          "output_type": "stream",
          "name": "stdout",
          "text": [
            "C:/admin/user> add\n",
            "adding\n",
            "C:/admin/user> jjh\n",
            "Invalid command\n",
            "C:/admin/user> hj\n",
            "Invalid command\n",
            "C:/admin/user> quit\n",
            "quitting...\n"
          ]
        }
      ]
    },
    {
      "cell_type": "code",
      "source": [
        "# function\n",
        "def get_factorial(num):\n",
        "    factorial = 1\n",
        "    for i in range(1, num+1):\n",
        "        factorial = factorial * i\n",
        "#     print(factorial)\n",
        "    return factorial\n",
        "\n",
        "factorial = get_factorial(5)\n",
        "print('factorial ->', factorial)"
      ],
      "metadata": {
        "colab": {
          "base_uri": "https://localhost:8080/"
        },
        "id": "t3H3_0kc7--B",
        "outputId": "fccaa56e-7ce6-4343-d53e-6f43892b709c"
      },
      "id": "t3H3_0kc7--B",
      "execution_count": null,
      "outputs": [
        {
          "output_type": "stream",
          "name": "stdout",
          "text": [
            "factorial -> 120\n"
          ]
        }
      ]
    },
    {
      "cell_type": "code",
      "source": [
        "def add(num1 = 0, num2 = 0):\n",
        "    return num1 + num2\n",
        "\n",
        "# print(add(20, 34))\n",
        "# print(add(20, 34, 18)) # error"
      ],
      "metadata": {
        "id": "IMLDkd0a8Xvv"
      },
      "id": "IMLDkd0a8Xvv",
      "execution_count": null,
      "outputs": []
    },
    {
      "cell_type": "code",
      "source": [
        "# *args -> arguments\n",
        "def add(*nums):\n",
        "#     print(nums, type(nums))\n",
        "    total = 0\n",
        "    for num in nums:\n",
        "        total += num\n",
        "    return total\n",
        "\n",
        "# add()\n",
        "# add(10)\n",
        "# add(10, 20)\n",
        "add(10, 20, 10, 34, 68, 189)"
      ],
      "metadata": {
        "colab": {
          "base_uri": "https://localhost:8080/"
        },
        "id": "EPAsuxfy8PfE",
        "outputId": "253a19ba-9979-4fec-c55e-272e78d483d0"
      },
      "id": "EPAsuxfy8PfE",
      "execution_count": null,
      "outputs": [
        {
          "output_type": "execute_result",
          "data": {
            "text/plain": [
              "331"
            ]
          },
          "metadata": {},
          "execution_count": 10
        }
      ]
    },
    {
      "cell_type": "code",
      "source": [
        "# **kwargs -> keyword arguments\n",
        "\n",
        "def welcome(**details):\n",
        "#     print(details, type(details))\n",
        "    print(f\"Welcome to Intellipaat {details.get('name', 'User')} and your id is {details.get('id_no', -1)}\")\n",
        "\n",
        "# welcome(id_no = 7, name = 'murali', place = 'india')\n",
        "# welcome(id_no = 7)\n",
        "welcome()"
      ],
      "metadata": {
        "colab": {
          "base_uri": "https://localhost:8080/"
        },
        "id": "rt91Ehgo8bTZ",
        "outputId": "71296209-c3a6-49ca-9069-8827c3c19b03"
      },
      "id": "rt91Ehgo8bTZ",
      "execution_count": null,
      "outputs": [
        {
          "output_type": "stream",
          "name": "stdout",
          "text": [
            "Welcome to Intellipaat User and your id is -1\n"
          ]
        }
      ]
    },
    {
      "cell_type": "code",
      "source": [
        "# first class functions or higher order functions\n",
        "\n",
        "def circle(rad):\n",
        "    return 3.14 * rad * rad\n",
        "\n",
        "def square(side):\n",
        "    return side * side\n",
        "\n",
        "def rectangle(side1, side2):\n",
        "    return side1 * side2"
      ],
      "metadata": {
        "id": "TxWN_j4A8j28"
      },
      "id": "TxWN_j4A8j28",
      "execution_count": null,
      "outputs": []
    },
    {
      "cell_type": "code",
      "source": [
        "def get_area(shape, *args): # hof\n",
        "    return shape(*args)\n",
        "\n",
        "print(get_area(circle, 5))\n",
        "# print(get_area(square, 5))\n",
        "# print(get_area(rectangle, 10, 5))"
      ],
      "metadata": {
        "id": "-xNfNf5V8ypH"
      },
      "id": "-xNfNf5V8ypH",
      "execution_count": null,
      "outputs": []
    },
    {
      "cell_type": "code",
      "source": [
        "# lambda\n",
        "# def add(n1, n2):\n",
        "#     return n1 + n2\n",
        "\n",
        "# add = lambda n1, n2: n1 + n2\n",
        "# print(add(10, 5))\n",
        "\n",
        "# odd or even\n",
        "is_even = lambda num: num % 2 == 0\n",
        "print(is_even(10))\n",
        "print(is_even(5))"
      ],
      "metadata": {
        "colab": {
          "base_uri": "https://localhost:8080/"
        },
        "id": "j0PkU5Jj82QP",
        "outputId": "e1e60b00-b191-4c6e-fa5a-797c020e4f6e"
      },
      "id": "j0PkU5Jj82QP",
      "execution_count": null,
      "outputs": [
        {
          "output_type": "stream",
          "name": "stdout",
          "text": [
            "True\n",
            "False\n"
          ]
        }
      ]
    },
    {
      "cell_type": "code",
      "source": [],
      "metadata": {
        "id": "j_1aWM3483St"
      },
      "id": "j_1aWM3483St",
      "execution_count": null,
      "outputs": []
    },
    {
      "cell_type": "code",
      "execution_count": null,
      "metadata": {
        "id": "eb338763",
        "outputId": "aa9bbc4a-8298-4f23-a9a6-e3809d1da679",
        "colab": {
          "base_uri": "https://localhost:8080/"
        }
      },
      "outputs": [
        {
          "output_type": "stream",
          "name": "stdout",
          "text": [
            "* \n",
            "\n",
            "* * \n",
            "\n",
            "* * * \n",
            "\n",
            "* * * * \n",
            "\n",
            "* * * * * \n",
            "\n"
          ]
        }
      ],
      "source": [
        "for i in range(5):\n",
        "    for j in  range(i+1):\n",
        "        print('*',end=\" \")\n",
        "    print('\\n')\n"
      ],
      "id": "eb338763"
    },
    {
      "cell_type": "code",
      "source": [
        "def num(n):\n",
        "    num = 1\n",
        "    for i in range(0, n):\n",
        "        num = 1\n",
        "        for j in range(0, i+1):\n",
        "            print(num, end=\" \")\n",
        "            num = num + 1\n",
        "        print(\"\\r\")\n",
        "n = 5\n",
        "num(n)"
      ],
      "metadata": {
        "id": "wNCC_aXy9pjS"
      },
      "id": "wNCC_aXy9pjS",
      "execution_count": null,
      "outputs": []
    },
    {
      "cell_type": "code",
      "source": [
        "def check(s1, s2):\n",
        "\n",
        "    if(sorted(s1)== sorted(s2)):\n",
        "        print(\"The strings are anagrams.\")\n",
        "    else:\n",
        "        print(\"The strings aren't anagrams.\")\n",
        "\n",
        "s1 = input(\"Enter string1: \")\n",
        "# input1: \"listen\"\n",
        "s2 = input(\"Enter string2: \")\n",
        "# input2: \"silent\"\n",
        "check(s1, s2)"
      ],
      "metadata": {
        "colab": {
          "base_uri": "https://localhost:8080/"
        },
        "id": "jbPWhKxV9tg-",
        "outputId": "4eea1813-2f63-42d4-a1ed-47c5e137bc97"
      },
      "id": "jbPWhKxV9tg-",
      "execution_count": null,
      "outputs": [
        {
          "output_type": "stream",
          "name": "stdout",
          "text": [
            "Enter string1: rty'\n",
            "Enter string2: hjkgt778\n",
            "The strings aren't anagrams.\n"
          ]
        }
      ]
    },
    {
      "cell_type": "markdown",
      "source": [
        "#1 Find the given number is Armstrong number or not\n",
        "1, 2, 3, 4, 5, 6, 7, 8, 9, 153, 370, 371, 407\n",
        "For example, let's take the number 153:\n",
        "\n",
        "1^3 + 5^3 + 3^3 = 1 + 125 + 27 = 153\n",
        "\n",
        "Here's how the process works:\n",
        "\n",
        "Take an integer.\n",
        "Break it into its individual digits.\n",
        "Raise each digit to the power of the total number of digits.\n",
        "Sum up these powered digits.\n",
        "If the sum equals the original number, then it is an Armstrong number."
      ],
      "metadata": {
        "id": "-wVVok_b98Nl"
      },
      "id": "-wVVok_b98Nl"
    },
    {
      "cell_type": "code",
      "source": [
        "num = int(input(\"Enter a number: \"))\n",
        "# Input: 407\n",
        "sum = 0\n",
        "temp = num\n",
        "while temp > 0:\n",
        "   digit = temp % 10\n",
        "   sum += digit ** 3\n",
        "   temp //= 10\n",
        "if num == sum:\n",
        "   print(num,\"is an Armstrong number\")\n",
        "else:\n",
        "   print(num,\"is not an Armstrong number\")\n",
        "# Output: 407 is an Armstrong number"
      ],
      "metadata": {
        "colab": {
          "base_uri": "https://localhost:8080/"
        },
        "id": "txaylQZx9xZ_",
        "outputId": "8a57e944-6a59-4103-c559-af13b77b69d1"
      },
      "id": "txaylQZx9xZ_",
      "execution_count": null,
      "outputs": [
        {
          "output_type": "stream",
          "name": "stdout",
          "text": [
            "Enter a number: 345\n",
            "345 is not an Armstrong number\n"
          ]
        }
      ]
    },
    {
      "cell_type": "code",
      "source": [],
      "metadata": {
        "id": "6_vd2nsK93HO"
      },
      "id": "6_vd2nsK93HO",
      "execution_count": null,
      "outputs": []
    }
  ],
  "metadata": {
    "kernelspec": {
      "display_name": "Python 3 (ipykernel)",
      "language": "python",
      "name": "python3"
    },
    "language_info": {
      "codemirror_mode": {
        "name": "ipython",
        "version": 3
      },
      "file_extension": ".py",
      "mimetype": "text/x-python",
      "name": "python",
      "nbconvert_exporter": "python",
      "pygments_lexer": "ipython3",
      "version": "3.9.12"
    },
    "colab": {
      "provenance": []
    }
  },
  "nbformat": 4,
  "nbformat_minor": 5
}