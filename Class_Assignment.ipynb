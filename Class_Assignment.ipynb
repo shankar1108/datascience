{
  "nbformat": 4,
  "nbformat_minor": 0,
  "metadata": {
    "colab": {
      "provenance": []
    },
    "kernelspec": {
      "name": "python3",
      "display_name": "Python 3"
    },
    "language_info": {
      "name": "python"
    }
  },
  "cells": [
    {
      "cell_type": "code",
      "execution_count": 1,
      "metadata": {
        "colab": {
          "base_uri": "https://localhost:8080/"
        },
        "id": "BIMTjq_m65xx",
        "outputId": "198a7b7d-a7f6-4c88-df2e-42c8315cd650"
      },
      "outputs": [
        {
          "output_type": "stream",
          "name": "stdout",
          "text": [
            "Booked: Ticket ID: 001, Passenger: Alice, Destination: New York\n",
            "Booked: Ticket ID: 002, Passenger: Bob, Destination: Los Angeles\n",
            "Ticket ID: 001, Passenger: Alice, Destination: New York\n",
            "Ticket ID: 002, Passenger: Bob, Destination: Los Angeles\n",
            "Cancelled: Ticket ID: 001, Passenger: Alice, Destination: New York\n"
          ]
        }
      ],
      "source": [
        "#Transportation Ticketing System\n",
        "class Ticket:\n",
        "    def __init__(self, ticket_id, passenger_name, destination):\n",
        "        self.ticket_id = ticket_id\n",
        "        self.passenger_name = passenger_name\n",
        "        self.destination = destination\n",
        "\n",
        "    def __str__(self):\n",
        "        return f\"Ticket ID: {self.ticket_id}, Passenger: {self.passenger_name}, Destination: {self.destination}\"\n",
        "\n",
        "class TicketingSystem:\n",
        "    def __init__(self):\n",
        "        self.tickets = []\n",
        "\n",
        "    def book_ticket(self, ticket):\n",
        "        self.tickets.append(ticket)\n",
        "        print(f\"Booked: {ticket}\")\n",
        "\n",
        "    def cancel_ticket(self, ticket_id):\n",
        "        for ticket in self.tickets:\n",
        "            if ticket.ticket_id == ticket_id:\n",
        "                self.tickets.remove(ticket)\n",
        "                print(f\"Cancelled: {ticket}\")\n",
        "                return\n",
        "        print(f\"Ticket ID {ticket_id} not found.\")\n",
        "\n",
        "    def list_tickets(self):\n",
        "        for ticket in self.tickets:\n",
        "            print(ticket)\n",
        "\n",
        "# Example usage\n",
        "system = TicketingSystem()\n",
        "system.book_ticket(Ticket(\"001\", \"Alice\", \"New York\"))\n",
        "system.book_ticket(Ticket(\"002\", \"Bob\", \"Los Angeles\"))\n",
        "system.list_tickets()\n",
        "system.cancel_ticket(\"001\")\n"
      ]
    },
    {
      "cell_type": "code",
      "source": [
        "#Inventory Management System\n",
        "class Product:\n",
        "    def __init__(self, product_id, name, quantity):\n",
        "        self.product_id = product_id\n",
        "        self.name = name\n",
        "        self.quantity = quantity\n",
        "\n",
        "    def __str__(self):\n",
        "        return f\"Product ID: {self.product_id}, Name: {self.name}, Quantity: {self.quantity}\"\n",
        "\n",
        "class Inventory:\n",
        "    def __init__(self):\n",
        "        self.products = []\n",
        "\n",
        "    def add_product(self, product):\n",
        "        self.products.append(product)\n",
        "        print(f\"Added: {product}\")\n",
        "\n",
        "    def remove_product(self, product_id):\n",
        "        for product in self.products:\n",
        "            if product.product_id == product_id:\n",
        "                self.products.remove(product)\n",
        "                print(f\"Removed: {product}\")\n",
        "                return\n",
        "        print(f\"Product ID {product_id} not found.\")\n",
        "\n",
        "    def update_product(self, product_id, quantity):\n",
        "        for product in self.products:\n",
        "            if product.product_id == product_id:\n",
        "                product.quantity = quantity\n",
        "                print(f\"Updated: {product}\")\n",
        "                return\n",
        "        print(f\"Product ID {product_id} not found.\")\n",
        "\n",
        "    def list_products(self):\n",
        "        for product in self.products:\n",
        "            print(product)\n",
        "\n",
        "# Example usage\n",
        "inventory = Inventory()\n",
        "inventory.add_product(Product(\"101\", \"Laptop\", 50))\n",
        "inventory.add_product(Product(\"102\", \"Mouse\", 200))\n",
        "inventory.update_product(\"101\", 45)\n",
        "inventory.list_products()\n",
        "inventory.remove_product(\"102\")"
      ],
      "metadata": {
        "colab": {
          "base_uri": "https://localhost:8080/"
        },
        "id": "KlCuTB4z66zT",
        "outputId": "749d3215-fd61-4ef1-c822-98a7b300b18b"
      },
      "execution_count": 2,
      "outputs": [
        {
          "output_type": "stream",
          "name": "stdout",
          "text": [
            "Added: Product ID: 101, Name: Laptop, Quantity: 50\n",
            "Added: Product ID: 102, Name: Mouse, Quantity: 200\n",
            "Updated: Product ID: 101, Name: Laptop, Quantity: 45\n",
            "Product ID: 101, Name: Laptop, Quantity: 45\n",
            "Product ID: 102, Name: Mouse, Quantity: 200\n",
            "Removed: Product ID: 102, Name: Mouse, Quantity: 200\n"
          ]
        }
      ]
    },
    {
      "cell_type": "code",
      "source": [
        "#Transportation Ticketing System\n",
        "class Ticket:\n",
        "    def __init__(self, ticket_id, passenger_name, destination):\n",
        "        self.ticket_id = ticket_id\n",
        "        self.passenger_name = passenger_name\n",
        "        self.destination = destination\n",
        "\n",
        "    def __str__(self):\n",
        "        return f\"Ticket ID: {self.ticket_id}, Passenger: {self.passenger_name}, Destination: {self.destination}\"\n",
        "\n",
        "class TicketingSystem:\n",
        "    def __init__(self):\n",
        "        self.tickets = []\n",
        "\n",
        "    def book_ticket(self, ticket):\n",
        "        self.tickets.append(ticket)\n",
        "        print(f\"Booked: {ticket}\")\n",
        "\n",
        "    def cancel_ticket(self, ticket_id):\n",
        "        for ticket in self.tickets:\n",
        "            if ticket.ticket_id == ticket_id:\n",
        "                self.tickets.remove(ticket)\n",
        "                print(f\"Cancelled: {ticket}\")\n",
        "                return\n",
        "        print(f\"Ticket ID {ticket_id} not found.\")\n",
        "\n",
        "    def list_tickets(self):\n",
        "        for ticket in self.tickets:\n",
        "            print(ticket)\n",
        "\n",
        "# Example usage\n",
        "system = TicketingSystem()\n",
        "system.book_ticket(Ticket(\"001\", \"Alice\", \"New York\"))\n",
        "system.book_ticket(Ticket(\"002\", \"Bob\", \"Los Angeles\"))\n",
        "system.list_tickets()\n",
        "system.cancel_ticket(\"001\")\n"
      ],
      "metadata": {
        "id": "YawcDqdx7O_j"
      },
      "execution_count": null,
      "outputs": []
    },
    {
      "cell_type": "code",
      "source": [
        "#Health Care Appointment System\n",
        "class Appointment:\n",
        "    def __init__(self, patient_name, doctor_name, time):\n",
        "        self.patient_name = patient_name\n",
        "        self.doctor_name = doctor_name\n",
        "        self.time = time\n",
        "\n",
        "    def __str__(self):\n",
        "        return f\"Appointment for {self.patient_name} with Dr. {self.doctor_name} at {self.time}\"\n",
        "\n",
        "class AppointmentSystem:\n",
        "    def __init__(self):\n",
        "        self.appointments = []\n",
        "\n",
        "    def book_appointment(self, appointment):\n",
        "        self.appointments.append(appointment)\n",
        "        print(f\"Booked: {appointment}\")\n",
        "\n",
        "    def cancel_appointment(self, patient_name, doctor_name):\n",
        "        for appointment in self.appointments:\n",
        "            if appointment.patient_name == patient_name and appointment.doctor_name == doctor_name:\n",
        "                self.appointments.remove(appointment)\n",
        "                print(f\"Cancelled: {appointment}\")\n",
        "                return\n",
        "        print(f\"No appointment found for {patient_name} with Dr. {doctor_name}.\")\n",
        "\n",
        "    def list_appointments(self):\n",
        "        for appointment in self.appointments:\n",
        "            print(appointment)\n",
        "\n",
        "# Example usage\n",
        "system = AppointmentSystem()\n",
        "system.book_appointment(Appointment(\"Alice\", \"Smith\", \"10:00 AM\"))\n",
        "system.book_appointment(Appointment(\"Bob\", \"Jones\", \"11:00 AM\"))\n",
        "system.list_appointments()\n",
        "system.cancel_appointment(\"Alice\", \"Smith\")\n"
      ],
      "metadata": {
        "id": "AyoUifEi7gIo"
      },
      "execution_count": null,
      "outputs": []
    },
    {
      "cell_type": "code",
      "source": [
        "#E-commerce Shopping cart System\n",
        "class Item:\n",
        "    def __init__(self, name, price):\n",
        "        self.name = name\n",
        "        self.price = price\n",
        "\n",
        "class ShoppingCart:\n",
        "    def __init__(self):\n",
        "        self.items = []\n",
        "\n",
        "    def add_item(self, item):\n",
        "        self.items.append(item)\n",
        "        print(f\"Added {item.name} to the cart.\")\n",
        "\n",
        "    def remove_item(self, item_name):\n",
        "        for item in self.items:\n",
        "            if item.name == item_name:\n",
        "                self.items.remove(item)\n",
        "                print(f\"Removed {item.name} from the cart.\")\n",
        "                return\n",
        "        print(f\"Item {item_name} not found in the cart.\")\n",
        "\n",
        "    def get_total(self):\n",
        "        total = sum(item.price for item in self.items)\n",
        "        print(f\"Total: {total}\")\n",
        "        return total\n",
        "\n",
        "# Example usage\n",
        "cart = ShoppingCart()\n",
        "cart.add_item(Item(\"Laptop\", 1200))\n",
        "cart.add_item(Item(\"Mouse\", 20))\n",
        "cart.remove_item(\"Mouse\")\n",
        "cart.get_total()\n"
      ],
      "metadata": {
        "colab": {
          "base_uri": "https://localhost:8080/"
        },
        "id": "kj72jUwQ7uu2",
        "outputId": "c76ef036-6ee5-432a-d02d-fe1526398097"
      },
      "execution_count": 3,
      "outputs": [
        {
          "output_type": "stream",
          "name": "stdout",
          "text": [
            "Added Laptop to the cart.\n",
            "Added Mouse to the cart.\n",
            "Removed Mouse from the cart.\n",
            "Total: 1200\n"
          ]
        },
        {
          "output_type": "execute_result",
          "data": {
            "text/plain": [
              "1200"
            ]
          },
          "metadata": {},
          "execution_count": 3
        }
      ]
    },
    {
      "cell_type": "code",
      "source": [
        "#Bank Account Management System\n",
        "class BankAccount:\n",
        "    def __init__(self, account_number, account_holder):\n",
        "        self.account_number = account_number\n",
        "        self.account_holder = account_holder\n",
        "        self.balance = 0\n",
        "\n",
        "    def deposit(self, amount):\n",
        "        self.balance += amount\n",
        "        print(f\"Deposited {amount}. New balance: {self.balance}\")\n",
        "\n",
        "    def withdraw(self, amount):\n",
        "        if amount > self.balance:\n",
        "            print(\"Insufficient funds.\")\n",
        "        else:\n",
        "            self.balance -= amount\n",
        "            print(f\"Withdrew {amount}. New balance: {self.balance}\")\n",
        "\n",
        "    def get_balance(self):\n",
        "        print(f\"Balance: {self.balance}\")\n",
        "        return self.balance\n",
        "\n",
        "# Example usage\n",
        "account = BankAccount(\"123456\", \"Alice\")\n",
        "account.deposit(1000)\n",
        "account.withdraw(500)\n",
        "account.get_balance()\n"
      ],
      "metadata": {
        "id": "XGd2e-og7vpb"
      },
      "execution_count": null,
      "outputs": []
    }
  ]
}